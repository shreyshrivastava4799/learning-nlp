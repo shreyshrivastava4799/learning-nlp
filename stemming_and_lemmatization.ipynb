{
 "cells": [
  {
   "cell_type": "markdown",
   "metadata": {
    "colab_type": "text",
    "id": "fk0evCZ7U9WO"
   },
   "source": [
    "# **Assignment 1 on Natural Language Processing**\n",
    "\n",
    "### Date : 4th Sept, 2020\n",
    "\n",
    "#### Instructor : Prof. Sudeshna Sarkar\n",
    "\n",
    "#### Teaching Assistants : Alapan Kuila, Aniruddha Roy, Anusha Potnuru, Uppada Vishnu\n",
    "\n",
    "#### Submitted by : Shrey Shrivastava (17CS30034)"
   ]
  },
  {
   "cell_type": "markdown",
   "metadata": {
    "colab_type": "text",
    "id": "Il_b_LFKXi8t"
   },
   "source": [
    " # NLTK Library"
   ]
  },
  {
   "cell_type": "markdown",
   "metadata": {
    "colab_type": "text",
    "id": "ss5CZjC2Xt0i"
   },
   "source": [
    "The [NLTK](https://www.nltk.org/) Python framework is generally used as an education and research tool. Tokenization, Stemming, Lemmatization, Punctuation, Character count, word count are some of these packages which will be discussed in this tutorial.\n",
    "\n",
    "**Installing Nltk** <br>\n",
    "Nltk can be installed using PIP or Conda package managers.For detailed installation instructions follow this [link](https://www.nltk.org/install.html).\n",
    "\n",
    "To ensure we are all on the same page, the coding environment will be in **python3**. We suggest downloading Anaconda3 and creating a separate environment to do this assignment. \n",
    "The link to anaconda3 for Windows and Linux is available here https://docs.anaconda.com/anaconda/install/. \n",
    "The steps to install NLTK is available on the link: \n",
    "```bash\n",
    "sudo pip3 install nltk \n",
    "python3 \n",
    "nltk.download()\n",
    "```"
   ]
  },
  {
   "cell_type": "markdown",
   "metadata": {
    "colab_type": "text",
    "id": "r4txbU5-RlMv"
   },
   "source": [
    "**Note for Question and answers:**\n",
    "\n",
    "Write your answers to the point in the text box below labelled as **Answer here**."
   ]
  },
  {
   "cell_type": "markdown",
   "metadata": {
    "colab_type": "text",
    "id": "52_aJRSqaHgC"
   },
   "source": [
    "# Tokenizing words and Sentences using Nltk"
   ]
  },
  {
   "cell_type": "markdown",
   "metadata": {
    "colab_type": "text",
    "id": "o5_ElYaeaMbR"
   },
   "source": [
    "**Tokenization** is the process by which big quantity of text is divided into smaller parts called tokens. <br>It is crucial to understand the pattern in the text in order to perform various NLP tasks.These tokens are very useful for finding such patterns.<br>\n",
    "\n",
    "Natural Language toolkit has very important module tokenize which further comprises of sub-modules\n",
    "\n",
    "1. word tokenize\n",
    "2. sentence tokenize"
   ]
  },
  {
   "cell_type": "code",
   "execution_count": 2,
   "metadata": {
    "colab": {
     "base_uri": "https://localhost:8080/",
     "height": 125
    },
    "colab_type": "code",
    "id": "sby_OS3qZ_fz",
    "outputId": "c5dbe526-b3a4-4537-bc02-80ee143296a1"
   },
   "outputs": [
    {
     "name": "stdout",
     "output_type": "stream",
     "text": [
      "[nltk_data] Downloading package punkt to /root/nltk_data...\n",
      "[nltk_data]   Unzipping tokenizers/punkt.zip.\n",
      "[nltk_data] Downloading package inaugural to /root/nltk_data...\n",
      "[nltk_data]   Unzipping corpora/inaugural.zip.\n",
      "[nltk_data] Downloading package stopwords to /root/nltk_data...\n",
      "[nltk_data]   Unzipping corpora/stopwords.zip.\n"
     ]
    }
   ],
   "source": [
    "# Importing modules\n",
    "import nltk\n",
    "nltk.download('punkt') # For tokenizers\n",
    "nltk.download('inaugural') # For dataset\n",
    "nltk.download('stopwords')\n",
    "from nltk.tokenize import word_tokenize,sent_tokenize\n",
    "from nltk.corpus import stopwords"
   ]
  },
  {
   "cell_type": "code",
   "execution_count": 3,
   "metadata": {
    "colab": {
     "base_uri": "https://localhost:8080/",
     "height": 289
    },
    "colab_type": "code",
    "id": "ew9Aq5WHXSn-",
    "outputId": "d2364325-5d47-45ab-8f70-7d88ab262f18"
   },
   "outputs": [
    {
     "name": "stdout",
     "output_type": "stream",
     "text": [
      "Fellow-Citizens of the Senate and of the House of Representatives:\n",
      "\n",
      "Among the vicissitudes incident to life no event could have filled me with greater anxieties than that of which the notification was transmitted by your order, and received on the 14th day of the present month. On the one hand, I was summoned by my Country, whose voice I can never hear but with veneration and love, from a retreat which I had chosen with the fondest predilection, and, in my flattering hopes, with an immutable decision, as the asylum of my declining years -- a retreat which was rendered every day more necessary as well as more dear to me by the addition of habit to inclination, and of frequent interruptions in my health to the gradual waste committed on it by time. On the other hand, the magnitude and difficulty of the trust to which the voice of my country called me, being sufficient to awaken in the wisest and most experienced of her citizens a distrustful scrutiny into his qualifications, could not but overwhelm with despondence one who (inheriting inferior endowments from nature and unpracticed in the duties of civil administration) ought to be peculiarly conscious of his own deficiencies. In this conflict of emotions all I dare aver is that it has been my faithful study to collect my duty from a just appreciation of every circumstance by which it might be affected. All I dare hope is that if, in executing this task, I have been too much swayed by a grateful remembrance of former instances, or by an affectionate sensibility to this transcendent proof of the confidence of my fellow citizens, and have thence too little consulted my incapacity as well as disinclination for the weighty and untried cares before me, my error will be palliated by the motives which mislead me, and its consequences be judged by my country with some share of the partiality in which they originated.\n",
      "\n",
      "Such being the impressions under which I have, in obedience to the public summons, repaired to the present station, it would be peculiarly improper to omit in this first official act my fervent supplications to that Almighty Being who rules over the universe, who presides in the councils of nations, and whose providential aids can supply every human defect, that His benediction may consecrate to the liberties and happiness of the people of the United States a Government instituted by themselves for these essential purposes, and may enable every instrument employed in its administration to execute with success the functions allotted to his charge. In tendering this homage to the Great Author of every public and private good, I assure myself that it expresses your sentiments not less than my own, nor those of my fellow citizens at large less than either. No people can be bound to acknowledge and adore the Invisible Hand which conducts the affairs of men more than those of the United States. Every step by which they have advanced to the character of an independent nation seems to have been distinguished by some token of providential agency; and in the important revolution just accomplished in the system of their united government the tranquil deliberations and voluntary consent of so many distinct communities from which the event has resulted can not be compared with the means by which most governments have been established without some return of pious gratitude, along with an humble anticipation of the future blessings which the past seem to presage. These reflections, arising out of the present crisis, have forced themselves too strongly on my mind to be suppressed. You will join with me, I trust, in thinking that there are none under the influence of which the proceedings of a new and free government can more auspiciously commence.\n",
      "\n",
      "By the article establishing the executive department it is made the duty of the President \"to recommend to your consideration such measures as he shall judge necessary and expedient.\" The circumstances under which I now meet you will acquit me from entering into that subject further than to refer to the great constitutional charter under which you are assembled, and which, in defining your powers, designates the objects to which your attention is to be given. It will be more consistent with those circumstances, and far more congenial with the feelings which actuate me, to substitute, in place of a recommendation of particular measures, the tribute that is due to the talents, the rectitude, and the patriotism which adorn the characters selected to devise and adopt them. In these honorable qualifications I behold the surest pledges that as on one side no local prejudices or attachments, no separate views nor party animosities, will misdirect the comprehensive and equal eye which ought to watch over this great assemblage of communities and interests, so, on another, that the foundation of our national policy will be laid in the pure and immutable principles of private morality, and the preeminence of free government be exemplified by all the attributes which can win the affections of its citizens and command the respect of the world. I dwell on this prospect with every satisfaction which an ardent love for my country can inspire, since there is no truth more thoroughly established than that there exists in the economy and course of nature an indissoluble union between virtue and happiness; between duty and advantage; between the genuine maxims of an honest and magnanimous policy and the solid rewards of public prosperity and felicity; since we ought to be no less persuaded that the propitious smiles of Heaven can never be expected on a nation that disregards the eternal rules of order and right which Heaven itself has ordained; and since the preservation of the sacred fire of liberty and the destiny of the republican model of government are justly considered, perhaps, as deeply, as finally, staked on the experiment entrusted to the hands of the American people.\n",
      "\n",
      "Besides the ordinary objects submitted to your care, it will remain with your judgment to decide how far an exercise of the occasional power delegated by the fifth article of the Constitution is rendered expedient at the present juncture by the nature of objections which have been urged against the system, or by the degree of inquietude which has given birth to them. Instead of undertaking particular recommendations on this subject, in which I could be guided by no lights derived from official opportunities, I shall again give way to my entire confidence in your discernment and pursuit of the public good; for I assure myself that whilst you carefully avoid every alteration which might endanger the benefits of an united and effective government, or which ought to await the future lessons of experience, a reverence for the characteristic rights of freemen and a regard for the public harmony will sufficiently influence your deliberations on the question how far the former can be impregnably fortified or the latter be safely and advantageously promoted.\n",
      "\n",
      "To the foregoing observations I have one to add, which will be most properly addressed to the House of Representatives. It concerns myself, and will therefore be as brief as possible. When I was first honored with a call into the service of my country, then on the eve of an arduous struggle for its liberties, the light in which I contemplated my duty required that I should renounce every pecuniary compensation. From this resolution I have in no instance departed; and being still under the impressions which produced it, I must decline as inapplicable to myself any share in the personal emoluments which may be indispensably included in a permanent provision for the executive department, and must accordingly pray that the pecuniary estimates for the station in which I am placed may during my continuance in it be limited to such actual expenditures as the public good may be thought to require.\n",
      "\n",
      "Having thus imparted to you my sentiments as they have been awakened by the occasion which brings us together, I shall take my present leave; but not without resorting once more to the benign Parent of the Human Race in humble supplication that, since He has been pleased to favor the American people with opportunities for deliberating in perfect tranquillity, and dispositions for deciding with unparalleled unanimity on a form of government for the security of their union and the advancement of their happiness, so His divine blessing may be equally conspicuous in the enlarged views, the temperate consultations, and the wise measures on which the success of this Government must depend. \n",
      "\n"
     ]
    }
   ],
   "source": [
    "# Sample corpus.\n",
    "from nltk.corpus import inaugural\n",
    "corpus = inaugural.raw('1789-Washington.txt')\n",
    "print(corpus)"
   ]
  },
  {
   "cell_type": "markdown",
   "metadata": {
    "colab_type": "text",
    "id": "V2wbXKzVW0GO"
   },
   "source": [
    "### **TASK**:\n",
    "\n",
    "For the given corpus, \n",
    "1. Print the number of sentences and tokens. \n",
    "2. Print the average number of tokens per sentence.\n",
    "3. Print the number of unique tokens\n",
    "4. Print the number of tokens after stopword removal using the stopwords from nltk.\n"
   ]
  },
  {
   "cell_type": "code",
   "execution_count": 4,
   "metadata": {
    "colab": {
     "base_uri": "https://localhost:8080/",
     "height": 89
    },
    "colab_type": "code",
    "id": "jrtu9HcHXFe6",
    "outputId": "a7461fb6-ee4c-4e6d-8a74-e6c365f5b9c9"
   },
   "outputs": [
    {
     "name": "stdout",
     "output_type": "stream",
     "text": [
      "The number of sentences in corpus is 23.\n",
      "The average number of tokens 66.82608695652173.\n",
      "The number of unique tokens in corpus are 626.\n",
      "The number of tokens and unique tokens after removing stopwords are 800 and 543.\n"
     ]
    }
   ],
   "source": [
    "# Print the number of sentences \n",
    "sent_list = sent_tokenize(corpus, language='english')\n",
    "print(f'The number of sentences in corpus is {len(sent_list)}.')\n",
    "\n",
    "# Print the average number of tokens per sentence\n",
    "# Calculate number of words/ number of sentences\n",
    "word_list = word_tokenize(corpus, language='english')\n",
    "print(f'The average number of tokens {len(word_list)/len(sent_list)}.')\n",
    "\n",
    "# Print unique tokens \n",
    "print(f'The number of unique tokens in corpus are {len(set(word_list))}.')\n",
    "\n",
    "# Print the number of tokens after removing stopwords\n",
    "stopword = stopwords.words('english')\n",
    "nostop_word_list = [ word for word in word_list if word not in stopword]\n",
    "print(f'The number of tokens and unique tokens after removing stopwords are {len(nostop_word_list)} and {len(set(nostop_word_list))}.') "
   ]
  },
  {
   "cell_type": "markdown",
   "metadata": {
    "colab_type": "text",
    "id": "UViYY9_3t2UE"
   },
   "source": [
    "# Stemming and Lemmatization with NLTK"
   ]
  },
  {
   "cell_type": "markdown",
   "metadata": {
    "colab_type": "text",
    "id": "g55XX9KDLgO7"
   },
   "source": [
    "**What is Stemming?** <br>\n",
    "Stemming is a kind of normalization for words. Normalization is a technique where a set of words in a sentence are converted into a sequence to shorten its lookup. The words which have the same meaning but have some variation according to the context or sentence are normalized.<br>\n",
    "Hence Stemming is a way to find the root word from any variations of respective word\n",
    "\n",
    "There are many stemmers provided by Nltk like **PorterStemmer**, **SnowballStemmer**, **LancasterStemmer**.<br>\n",
    "\n",
    "We will try and see differences between Porterstemmer and Snowballstemmer"
   ]
  },
  {
   "cell_type": "code",
   "execution_count": 6,
   "metadata": {
    "colab": {
     "base_uri": "https://localhost:8080/",
     "height": 109
    },
    "colab_type": "code",
    "id": "SS4Ij__XLfTB",
    "outputId": "5a9c40ba-4379-4709-8d33-232b6b385e6b"
   },
   "outputs": [
    {
     "name": "stdout",
     "output_type": "stream",
     "text": [
      "['grow', 'leav', 'fairli', 'cat', 'troubl', 'misunderstand', 'friendship', 'easili', 'ration', 'relat']\n",
      "['grow', 'leav', 'fair', 'cat', 'troubl', 'misunderstand', 'friendship', 'easili', 'ration', 'relat']\n",
      "(['hello', 'my', 'name', 'is', 'shrey', '.'], ['hello', 'my', 'name', 'is', 'shrey', '.'])\n",
      "(['fellow-citizen', 'of', 'the', 'senat', 'and', 'of', 'the', 'hous', 'of', 'repres', ':', 'among', 'the', 'vicissitud', 'incid', 'to', 'life', 'no', 'event', 'could', 'have', 'fill', 'me', 'with', 'greater', 'anxieti', 'than', 'that', 'of', 'which', 'the', 'notif', 'wa', 'transmit', 'by', 'your', 'order', ',', 'and', 'receiv', 'on', 'the', '14th', 'day', 'of', 'the', 'present', 'month', '.', 'On', 'the', 'one', 'hand', ',', 'I', 'wa', 'summon', 'by', 'my', 'countri', ',', 'whose', 'voic', 'I', 'can', 'never', 'hear', 'but', 'with', 'vener', 'and', 'love', ',', 'from', 'a', 'retreat', 'which', 'I', 'had', 'chosen', 'with', 'the', 'fondest', 'predilect', ',', 'and', ',', 'in', 'my', 'flatter', 'hope', ',', 'with', 'an', 'immut', 'decis', ',', 'as', 'the', 'asylum', 'of', 'my', 'declin', 'year', '--', 'a', 'retreat', 'which', 'wa', 'render', 'everi', 'day', 'more', 'necessari', 'as', 'well', 'as', 'more', 'dear', 'to', 'me', 'by', 'the', 'addit', 'of', 'habit', 'to', 'inclin', ',', 'and', 'of', 'frequent', 'interrupt', 'in', 'my', 'health', 'to', 'the', 'gradual', 'wast', 'commit', 'on', 'it', 'by', 'time', '.', 'On', 'the', 'other', 'hand', ',', 'the', 'magnitud', 'and', 'difficulti', 'of', 'the', 'trust', 'to', 'which', 'the', 'voic', 'of', 'my', 'countri', 'call', 'me', ',', 'be', 'suffici', 'to', 'awaken', 'in', 'the', 'wisest', 'and', 'most', 'experienc', 'of', 'her', 'citizen', 'a', 'distrust', 'scrutini', 'into', 'hi', 'qualif', ',', 'could', 'not', 'but', 'overwhelm', 'with', 'despond', 'one', 'who', '(', 'inherit', 'inferior', 'endow', 'from', 'natur', 'and', 'unpract', 'in', 'the', 'duti', 'of', 'civil', 'administr', ')', 'ought', 'to', 'be', 'peculiarli', 'consciou', 'of', 'hi', 'own', 'defici', '.', 'In', 'thi', 'conflict', 'of', 'emot', 'all', 'I', 'dare', 'aver', 'is', 'that', 'it', 'ha', 'been', 'my', 'faith', 'studi', 'to', 'collect', 'my', 'duti', 'from', 'a', 'just', 'appreci', 'of', 'everi', 'circumst', 'by', 'which', 'it', 'might', 'be', 'affect', '.', 'all', 'I', 'dare', 'hope', 'is', 'that', 'if', ',', 'in', 'execut', 'thi', 'task', ',', 'I', 'have', 'been', 'too', 'much', 'sway', 'by', 'a', 'grate', 'remembr', 'of', 'former', 'instanc', ',', 'or', 'by', 'an', 'affection', 'sensibl', 'to', 'thi', 'transcend', 'proof', 'of', 'the', 'confid', 'of', 'my', 'fellow', 'citizen', ',', 'and', 'have', 'thenc', 'too', 'littl', 'consult', 'my', 'incapac', 'as', 'well', 'as', 'disinclin', 'for', 'the', 'weighti', 'and', 'untri', 'care', 'befor', 'me', ',', 'my', 'error', 'will', 'be', 'palliat', 'by', 'the', 'motiv', 'which', 'mislead', 'me', ',', 'and', 'it', 'consequ', 'be', 'judg', 'by', 'my', 'countri', 'with', 'some', 'share', 'of', 'the', 'partial', 'in', 'which', 'they', 'origin', '.', 'such', 'be', 'the', 'impress', 'under', 'which', 'I', 'have', ',', 'in', 'obedi', 'to', 'the', 'public', 'summon', ',', 'repair', 'to', 'the', 'present', 'station', ',', 'it', 'would', 'be', 'peculiarli', 'improp', 'to', 'omit', 'in', 'thi', 'first', 'offici', 'act', 'my', 'fervent', 'supplic', 'to', 'that', 'almighti', 'be', 'who', 'rule', 'over', 'the', 'univers', ',', 'who', 'presid', 'in', 'the', 'council', 'of', 'nation', ',', 'and', 'whose', 'providenti', 'aid', 'can', 'suppli', 'everi', 'human', 'defect', ',', 'that', 'hi', 'benedict', 'may', 'consecr', 'to', 'the', 'liberti', 'and', 'happi', 'of', 'the', 'peopl', 'of', 'the', 'unit', 'state', 'a', 'govern', 'institut', 'by', 'themselv', 'for', 'these', 'essenti', 'purpos', ',', 'and', 'may', 'enabl', 'everi', 'instrument', 'employ', 'in', 'it', 'administr', 'to', 'execut', 'with', 'success', 'the', 'function', 'allot', 'to', 'hi', 'charg', '.', 'In', 'tender', 'thi', 'homag', 'to', 'the', 'great', 'author', 'of', 'everi', 'public', 'and', 'privat', 'good', ',', 'I', 'assur', 'myself', 'that', 'it', 'express', 'your', 'sentiment', 'not', 'less', 'than', 'my', 'own', ',', 'nor', 'those', 'of', 'my', 'fellow', 'citizen', 'at', 'larg', 'less', 'than', 'either', '.', 'No', 'peopl', 'can', 'be', 'bound', 'to', 'acknowledg', 'and', 'ador', 'the', 'invis', 'hand', 'which', 'conduct', 'the', 'affair', 'of', 'men', 'more', 'than', 'those', 'of', 'the', 'unit', 'state', '.', 'everi', 'step', 'by', 'which', 'they', 'have', 'advanc', 'to', 'the', 'charact', 'of', 'an', 'independ', 'nation', 'seem', 'to', 'have', 'been', 'distinguish', 'by', 'some', 'token', 'of', 'providenti', 'agenc', ';', 'and', 'in', 'the', 'import', 'revolut', 'just', 'accomplish', 'in', 'the', 'system', 'of', 'their', 'unit', 'govern', 'the', 'tranquil', 'deliber', 'and', 'voluntari', 'consent', 'of', 'so', 'mani', 'distinct', 'commun', 'from', 'which', 'the', 'event', 'ha', 'result', 'can', 'not', 'be', 'compar', 'with', 'the', 'mean', 'by', 'which', 'most', 'govern', 'have', 'been', 'establish', 'without', 'some', 'return', 'of', 'piou', 'gratitud', ',', 'along', 'with', 'an', 'humbl', 'anticip', 'of', 'the', 'futur', 'bless', 'which', 'the', 'past', 'seem', 'to', 'presag', '.', 'these', 'reflect', ',', 'aris', 'out', 'of', 'the', 'present', 'crisi', ',', 'have', 'forc', 'themselv', 'too', 'strongli', 'on', 'my', 'mind', 'to', 'be', 'suppress', '.', 'you', 'will', 'join', 'with', 'me', ',', 'I', 'trust', ',', 'in', 'think', 'that', 'there', 'are', 'none', 'under', 'the', 'influenc', 'of', 'which', 'the', 'proceed', 'of', 'a', 'new', 'and', 'free', 'govern', 'can', 'more', 'auspici', 'commenc', '.', 'By', 'the', 'articl', 'establish', 'the', 'execut', 'depart', 'it', 'is', 'made', 'the', 'duti', 'of', 'the', 'presid', '``', 'to', 'recommend', 'to', 'your', 'consider', 'such', 'measur', 'as', 'he', 'shall', 'judg', 'necessari', 'and', 'expedi', '.', \"''\", 'the', 'circumst', 'under', 'which', 'I', 'now', 'meet', 'you', 'will', 'acquit', 'me', 'from', 'enter', 'into', 'that', 'subject', 'further', 'than', 'to', 'refer', 'to', 'the', 'great', 'constitut', 'charter', 'under', 'which', 'you', 'are', 'assembl', ',', 'and', 'which', ',', 'in', 'defin', 'your', 'power', ',', 'design', 'the', 'object', 'to', 'which', 'your', 'attent', 'is', 'to', 'be', 'given', '.', 'It', 'will', 'be', 'more', 'consist', 'with', 'those', 'circumst', ',', 'and', 'far', 'more', 'congeni', 'with', 'the', 'feel', 'which', 'actuat', 'me', ',', 'to', 'substitut', ',', 'in', 'place', 'of', 'a', 'recommend', 'of', 'particular', 'measur', ',', 'the', 'tribut', 'that', 'is', 'due', 'to', 'the', 'talent', ',', 'the', 'rectitud', ',', 'and', 'the', 'patriot', 'which', 'adorn', 'the', 'charact', 'select', 'to', 'devis', 'and', 'adopt', 'them', '.', 'In', 'these', 'honor', 'qualif', 'I', 'behold', 'the', 'surest', 'pledg', 'that', 'as', 'on', 'one', 'side', 'no', 'local', 'prejudic', 'or', 'attach', ',', 'no', 'separ', 'view', 'nor', 'parti', 'animos', ',', 'will', 'misdirect', 'the', 'comprehens', 'and', 'equal', 'eye', 'which', 'ought', 'to', 'watch', 'over', 'thi', 'great', 'assemblag', 'of', 'commun', 'and', 'interest', ',', 'so', ',', 'on', 'anoth', ',', 'that', 'the', 'foundat', 'of', 'our', 'nation', 'polici', 'will', 'be', 'laid', 'in', 'the', 'pure', 'and', 'immut', 'principl', 'of', 'privat', 'moral', ',', 'and', 'the', 'preemin', 'of', 'free', 'govern', 'be', 'exemplifi', 'by', 'all', 'the', 'attribut', 'which', 'can', 'win', 'the', 'affect', 'of', 'it', 'citizen', 'and', 'command', 'the', 'respect', 'of', 'the', 'world', '.', 'I', 'dwell', 'on', 'thi', 'prospect', 'with', 'everi', 'satisfact', 'which', 'an', 'ardent', 'love', 'for', 'my', 'countri', 'can', 'inspir', ',', 'sinc', 'there', 'is', 'no', 'truth', 'more', 'thoroughli', 'establish', 'than', 'that', 'there', 'exist', 'in', 'the', 'economi', 'and', 'cours', 'of', 'natur', 'an', 'indissolubl', 'union', 'between', 'virtu', 'and', 'happi', ';', 'between', 'duti', 'and', 'advantag', ';', 'between', 'the', 'genuin', 'maxim', 'of', 'an', 'honest', 'and', 'magnanim', 'polici', 'and', 'the', 'solid', 'reward', 'of', 'public', 'prosper', 'and', 'felic', ';', 'sinc', 'we', 'ought', 'to', 'be', 'no', 'less', 'persuad', 'that', 'the', 'propiti', 'smile', 'of', 'heaven', 'can', 'never', 'be', 'expect', 'on', 'a', 'nation', 'that', 'disregard', 'the', 'etern', 'rule', 'of', 'order', 'and', 'right', 'which', 'heaven', 'itself', 'ha', 'ordain', ';', 'and', 'sinc', 'the', 'preserv', 'of', 'the', 'sacr', 'fire', 'of', 'liberti', 'and', 'the', 'destini', 'of', 'the', 'republican', 'model', 'of', 'govern', 'are', 'justli', 'consid', ',', 'perhap', ',', 'as', 'deepli', ',', 'as', 'final', ',', 'stake', 'on', 'the', 'experi', 'entrust', 'to', 'the', 'hand', 'of', 'the', 'american', 'peopl', '.', 'besid', 'the', 'ordinari', 'object', 'submit', 'to', 'your', 'care', ',', 'it', 'will', 'remain', 'with', 'your', 'judgment', 'to', 'decid', 'how', 'far', 'an', 'exercis', 'of', 'the', 'occasion', 'power', 'deleg', 'by', 'the', 'fifth', 'articl', 'of', 'the', 'constitut', 'is', 'render', 'expedi', 'at', 'the', 'present', 'junctur', 'by', 'the', 'natur', 'of', 'object', 'which', 'have', 'been', 'urg', 'against', 'the', 'system', ',', 'or', 'by', 'the', 'degre', 'of', 'inquietud', 'which', 'ha', 'given', 'birth', 'to', 'them', '.', 'instead', 'of', 'undertak', 'particular', 'recommend', 'on', 'thi', 'subject', ',', 'in', 'which', 'I', 'could', 'be', 'guid', 'by', 'no', 'light', 'deriv', 'from', 'offici', 'opportun', ',', 'I', 'shall', 'again', 'give', 'way', 'to', 'my', 'entir', 'confid', 'in', 'your', 'discern', 'and', 'pursuit', 'of', 'the', 'public', 'good', ';', 'for', 'I', 'assur', 'myself', 'that', 'whilst', 'you', 'care', 'avoid', 'everi', 'alter', 'which', 'might', 'endang', 'the', 'benefit', 'of', 'an', 'unit', 'and', 'effect', 'govern', ',', 'or', 'which', 'ought', 'to', 'await', 'the', 'futur', 'lesson', 'of', 'experi', ',', 'a', 'rever', 'for', 'the', 'characterist', 'right', 'of', 'freemen', 'and', 'a', 'regard', 'for', 'the', 'public', 'harmoni', 'will', 'suffici', 'influenc', 'your', 'deliber', 'on', 'the', 'question', 'how', 'far', 'the', 'former', 'can', 'be', 'impregn', 'fortifi', 'or', 'the', 'latter', 'be', 'safe', 'and', 'advantag', 'promot', '.', 'To', 'the', 'forego', 'observ', 'I', 'have', 'one', 'to', 'add', ',', 'which', 'will', 'be', 'most', 'properli', 'address', 'to', 'the', 'hous', 'of', 'repres', '.', 'It', 'concern', 'myself', ',', 'and', 'will', 'therefor', 'be', 'as', 'brief', 'as', 'possibl', '.', 'when', 'I', 'wa', 'first', 'honor', 'with', 'a', 'call', 'into', 'the', 'servic', 'of', 'my', 'countri', ',', 'then', 'on', 'the', 'eve', 'of', 'an', 'arduou', 'struggl', 'for', 'it', 'liberti', ',', 'the', 'light', 'in', 'which', 'I', 'contempl', 'my', 'duti', 'requir', 'that', 'I', 'should', 'renounc', 'everi', 'pecuniari', 'compens', '.', 'from', 'thi', 'resolut', 'I', 'have', 'in', 'no', 'instanc', 'depart', ';', 'and', 'be', 'still', 'under', 'the', 'impress', 'which', 'produc', 'it', ',', 'I', 'must', 'declin', 'as', 'inapplic', 'to', 'myself', 'ani', 'share', 'in', 'the', 'person', 'emolu', 'which', 'may', 'be', 'indispens', 'includ', 'in', 'a', 'perman', 'provis', 'for', 'the', 'execut', 'depart', ',', 'and', 'must', 'accordingli', 'pray', 'that', 'the', 'pecuniari', 'estim', 'for', 'the', 'station', 'in', 'which', 'I', 'am', 'place', 'may', 'dure', 'my', 'continu', 'in', 'it', 'be', 'limit', 'to', 'such', 'actual', 'expenditur', 'as', 'the', 'public', 'good', 'may', 'be', 'thought', 'to', 'requir', '.', 'have', 'thu', 'impart', 'to', 'you', 'my', 'sentiment', 'as', 'they', 'have', 'been', 'awaken', 'by', 'the', 'occas', 'which', 'bring', 'us', 'togeth', ',', 'I', 'shall', 'take', 'my', 'present', 'leav', ';', 'but', 'not', 'without', 'resort', 'onc', 'more', 'to', 'the', 'benign', 'parent', 'of', 'the', 'human', 'race', 'in', 'humbl', 'supplic', 'that', ',', 'sinc', 'He', 'ha', 'been', 'pleas', 'to', 'favor', 'the', 'american', 'peopl', 'with', 'opportun', 'for', 'deliber', 'in', 'perfect', 'tranquil', ',', 'and', 'disposit', 'for', 'decid', 'with', 'unparallel', 'unanim', 'on', 'a', 'form', 'of', 'govern', 'for', 'the', 'secur', 'of', 'their', 'union', 'and', 'the', 'advanc', 'of', 'their', 'happi', ',', 'so', 'hi', 'divin', 'bless', 'may', 'be', 'equal', 'conspicu', 'in', 'the', 'enlarg', 'view', ',', 'the', 'temper', 'consult', ',', 'and', 'the', 'wise', 'measur', 'on', 'which', 'the', 'success', 'of', 'thi', 'govern', 'must', 'depend', '.'], ['fellow-citizen', 'of', 'the', 'senat', 'and', 'of', 'the', 'hous', 'of', 'repres', ':', 'among', 'the', 'vicissitud', 'incid', 'to', 'life', 'no', 'event', 'could', 'have', 'fill', 'me', 'with', 'greater', 'anxieti', 'than', 'that', 'of', 'which', 'the', 'notif', 'was', 'transmit', 'by', 'your', 'order', ',', 'and', 'receiv', 'on', 'the', '14th', 'day', 'of', 'the', 'present', 'month', '.', 'on', 'the', 'one', 'hand', ',', 'i', 'was', 'summon', 'by', 'my', 'countri', ',', 'whose', 'voic', 'i', 'can', 'never', 'hear', 'but', 'with', 'vener', 'and', 'love', ',', 'from', 'a', 'retreat', 'which', 'i', 'had', 'chosen', 'with', 'the', 'fondest', 'predilect', ',', 'and', ',', 'in', 'my', 'flatter', 'hope', ',', 'with', 'an', 'immut', 'decis', ',', 'as', 'the', 'asylum', 'of', 'my', 'declin', 'year', '--', 'a', 'retreat', 'which', 'was', 'render', 'everi', 'day', 'more', 'necessari', 'as', 'well', 'as', 'more', 'dear', 'to', 'me', 'by', 'the', 'addit', 'of', 'habit', 'to', 'inclin', ',', 'and', 'of', 'frequent', 'interrupt', 'in', 'my', 'health', 'to', 'the', 'gradual', 'wast', 'commit', 'on', 'it', 'by', 'time', '.', 'on', 'the', 'other', 'hand', ',', 'the', 'magnitud', 'and', 'difficulti', 'of', 'the', 'trust', 'to', 'which', 'the', 'voic', 'of', 'my', 'countri', 'call', 'me', ',', 'be', 'suffici', 'to', 'awaken', 'in', 'the', 'wisest', 'and', 'most', 'experienc', 'of', 'her', 'citizen', 'a', 'distrust', 'scrutini', 'into', 'his', 'qualif', ',', 'could', 'not', 'but', 'overwhelm', 'with', 'despond', 'one', 'who', '(', 'inherit', 'inferior', 'endow', 'from', 'natur', 'and', 'unpract', 'in', 'the', 'duti', 'of', 'civil', 'administr', ')', 'ought', 'to', 'be', 'peculiar', 'conscious', 'of', 'his', 'own', 'defici', '.', 'in', 'this', 'conflict', 'of', 'emot', 'all', 'i', 'dare', 'aver', 'is', 'that', 'it', 'has', 'been', 'my', 'faith', 'studi', 'to', 'collect', 'my', 'duti', 'from', 'a', 'just', 'appreci', 'of', 'everi', 'circumst', 'by', 'which', 'it', 'might', 'be', 'affect', '.', 'all', 'i', 'dare', 'hope', 'is', 'that', 'if', ',', 'in', 'execut', 'this', 'task', ',', 'i', 'have', 'been', 'too', 'much', 'sway', 'by', 'a', 'grate', 'remembr', 'of', 'former', 'instanc', ',', 'or', 'by', 'an', 'affection', 'sensibl', 'to', 'this', 'transcend', 'proof', 'of', 'the', 'confid', 'of', 'my', 'fellow', 'citizen', ',', 'and', 'have', 'thenc', 'too', 'littl', 'consult', 'my', 'incapac', 'as', 'well', 'as', 'disinclin', 'for', 'the', 'weighti', 'and', 'untri', 'care', 'befor', 'me', ',', 'my', 'error', 'will', 'be', 'palliat', 'by', 'the', 'motiv', 'which', 'mislead', 'me', ',', 'and', 'it', 'consequ', 'be', 'judg', 'by', 'my', 'countri', 'with', 'some', 'share', 'of', 'the', 'partial', 'in', 'which', 'they', 'origin', '.', 'such', 'be', 'the', 'impress', 'under', 'which', 'i', 'have', ',', 'in', 'obedi', 'to', 'the', 'public', 'summon', ',', 'repair', 'to', 'the', 'present', 'station', ',', 'it', 'would', 'be', 'peculiar', 'improp', 'to', 'omit', 'in', 'this', 'first', 'offici', 'act', 'my', 'fervent', 'supplic', 'to', 'that', 'almighti', 'be', 'who', 'rule', 'over', 'the', 'univers', ',', 'who', 'presid', 'in', 'the', 'council', 'of', 'nation', ',', 'and', 'whose', 'providenti', 'aid', 'can', 'suppli', 'everi', 'human', 'defect', ',', 'that', 'his', 'benedict', 'may', 'consecr', 'to', 'the', 'liberti', 'and', 'happi', 'of', 'the', 'peopl', 'of', 'the', 'unit', 'state', 'a', 'govern', 'institut', 'by', 'themselv', 'for', 'these', 'essenti', 'purpos', ',', 'and', 'may', 'enabl', 'everi', 'instrument', 'employ', 'in', 'it', 'administr', 'to', 'execut', 'with', 'success', 'the', 'function', 'allot', 'to', 'his', 'charg', '.', 'in', 'tender', 'this', 'homag', 'to', 'the', 'great', 'author', 'of', 'everi', 'public', 'and', 'privat', 'good', ',', 'i', 'assur', 'myself', 'that', 'it', 'express', 'your', 'sentiment', 'not', 'less', 'than', 'my', 'own', ',', 'nor', 'those', 'of', 'my', 'fellow', 'citizen', 'at', 'larg', 'less', 'than', 'either', '.', 'no', 'peopl', 'can', 'be', 'bound', 'to', 'acknowledg', 'and', 'ador', 'the', 'invis', 'hand', 'which', 'conduct', 'the', 'affair', 'of', 'men', 'more', 'than', 'those', 'of', 'the', 'unit', 'state', '.', 'everi', 'step', 'by', 'which', 'they', 'have', 'advanc', 'to', 'the', 'charact', 'of', 'an', 'independ', 'nation', 'seem', 'to', 'have', 'been', 'distinguish', 'by', 'some', 'token', 'of', 'providenti', 'agenc', ';', 'and', 'in', 'the', 'import', 'revolut', 'just', 'accomplish', 'in', 'the', 'system', 'of', 'their', 'unit', 'govern', 'the', 'tranquil', 'deliber', 'and', 'voluntari', 'consent', 'of', 'so', 'mani', 'distinct', 'communiti', 'from', 'which', 'the', 'event', 'has', 'result', 'can', 'not', 'be', 'compar', 'with', 'the', 'mean', 'by', 'which', 'most', 'govern', 'have', 'been', 'establish', 'without', 'some', 'return', 'of', 'pious', 'gratitud', ',', 'along', 'with', 'an', 'humbl', 'anticip', 'of', 'the', 'futur', 'bless', 'which', 'the', 'past', 'seem', 'to', 'presag', '.', 'these', 'reflect', ',', 'aris', 'out', 'of', 'the', 'present', 'crisi', ',', 'have', 'forc', 'themselv', 'too', 'strong', 'on', 'my', 'mind', 'to', 'be', 'suppress', '.', 'you', 'will', 'join', 'with', 'me', ',', 'i', 'trust', ',', 'in', 'think', 'that', 'there', 'are', 'none', 'under', 'the', 'influenc', 'of', 'which', 'the', 'proceed', 'of', 'a', 'new', 'and', 'free', 'govern', 'can', 'more', 'auspici', 'commenc', '.', 'by', 'the', 'articl', 'establish', 'the', 'execut', 'depart', 'it', 'is', 'made', 'the', 'duti', 'of', 'the', 'presid', '``', 'to', 'recommend', 'to', 'your', 'consider', 'such', 'measur', 'as', 'he', 'shall', 'judg', 'necessari', 'and', 'expedi', '.', \"''\", 'the', 'circumst', 'under', 'which', 'i', 'now', 'meet', 'you', 'will', 'acquit', 'me', 'from', 'enter', 'into', 'that', 'subject', 'further', 'than', 'to', 'refer', 'to', 'the', 'great', 'constitut', 'charter', 'under', 'which', 'you', 'are', 'assembl', ',', 'and', 'which', ',', 'in', 'defin', 'your', 'power', ',', 'design', 'the', 'object', 'to', 'which', 'your', 'attent', 'is', 'to', 'be', 'given', '.', 'it', 'will', 'be', 'more', 'consist', 'with', 'those', 'circumst', ',', 'and', 'far', 'more', 'congeni', 'with', 'the', 'feel', 'which', 'actuat', 'me', ',', 'to', 'substitut', ',', 'in', 'place', 'of', 'a', 'recommend', 'of', 'particular', 'measur', ',', 'the', 'tribut', 'that', 'is', 'due', 'to', 'the', 'talent', ',', 'the', 'rectitud', ',', 'and', 'the', 'patriot', 'which', 'adorn', 'the', 'charact', 'select', 'to', 'devis', 'and', 'adopt', 'them', '.', 'in', 'these', 'honor', 'qualif', 'i', 'behold', 'the', 'surest', 'pledg', 'that', 'as', 'on', 'one', 'side', 'no', 'local', 'prejudic', 'or', 'attach', ',', 'no', 'separ', 'view', 'nor', 'parti', 'animos', ',', 'will', 'misdirect', 'the', 'comprehens', 'and', 'equal', 'eye', 'which', 'ought', 'to', 'watch', 'over', 'this', 'great', 'assemblag', 'of', 'communiti', 'and', 'interest', ',', 'so', ',', 'on', 'anoth', ',', 'that', 'the', 'foundat', 'of', 'our', 'nation', 'polici', 'will', 'be', 'laid', 'in', 'the', 'pure', 'and', 'immut', 'principl', 'of', 'privat', 'moral', ',', 'and', 'the', 'preemin', 'of', 'free', 'govern', 'be', 'exemplifi', 'by', 'all', 'the', 'attribut', 'which', 'can', 'win', 'the', 'affect', 'of', 'it', 'citizen', 'and', 'command', 'the', 'respect', 'of', 'the', 'world', '.', 'i', 'dwell', 'on', 'this', 'prospect', 'with', 'everi', 'satisfact', 'which', 'an', 'ardent', 'love', 'for', 'my', 'countri', 'can', 'inspir', ',', 'sinc', 'there', 'is', 'no', 'truth', 'more', 'thorough', 'establish', 'than', 'that', 'there', 'exist', 'in', 'the', 'economi', 'and', 'cours', 'of', 'natur', 'an', 'indissolubl', 'union', 'between', 'virtu', 'and', 'happi', ';', 'between', 'duti', 'and', 'advantag', ';', 'between', 'the', 'genuin', 'maxim', 'of', 'an', 'honest', 'and', 'magnanim', 'polici', 'and', 'the', 'solid', 'reward', 'of', 'public', 'prosper', 'and', 'felic', ';', 'sinc', 'we', 'ought', 'to', 'be', 'no', 'less', 'persuad', 'that', 'the', 'propiti', 'smile', 'of', 'heaven', 'can', 'never', 'be', 'expect', 'on', 'a', 'nation', 'that', 'disregard', 'the', 'etern', 'rule', 'of', 'order', 'and', 'right', 'which', 'heaven', 'itself', 'has', 'ordain', ';', 'and', 'sinc', 'the', 'preserv', 'of', 'the', 'sacr', 'fire', 'of', 'liberti', 'and', 'the', 'destini', 'of', 'the', 'republican', 'model', 'of', 'govern', 'are', 'just', 'consid', ',', 'perhap', ',', 'as', 'deepli', ',', 'as', 'final', ',', 'stake', 'on', 'the', 'experi', 'entrust', 'to', 'the', 'hand', 'of', 'the', 'american', 'peopl', '.', 'besid', 'the', 'ordinari', 'object', 'submit', 'to', 'your', 'care', ',', 'it', 'will', 'remain', 'with', 'your', 'judgment', 'to', 'decid', 'how', 'far', 'an', 'exercis', 'of', 'the', 'occasion', 'power', 'deleg', 'by', 'the', 'fifth', 'articl', 'of', 'the', 'constitut', 'is', 'render', 'expedi', 'at', 'the', 'present', 'junctur', 'by', 'the', 'natur', 'of', 'object', 'which', 'have', 'been', 'urg', 'against', 'the', 'system', ',', 'or', 'by', 'the', 'degre', 'of', 'inquietud', 'which', 'has', 'given', 'birth', 'to', 'them', '.', 'instead', 'of', 'undertak', 'particular', 'recommend', 'on', 'this', 'subject', ',', 'in', 'which', 'i', 'could', 'be', 'guid', 'by', 'no', 'light', 'deriv', 'from', 'offici', 'opportun', ',', 'i', 'shall', 'again', 'give', 'way', 'to', 'my', 'entir', 'confid', 'in', 'your', 'discern', 'and', 'pursuit', 'of', 'the', 'public', 'good', ';', 'for', 'i', 'assur', 'myself', 'that', 'whilst', 'you', 'care', 'avoid', 'everi', 'alter', 'which', 'might', 'endang', 'the', 'benefit', 'of', 'an', 'unit', 'and', 'effect', 'govern', ',', 'or', 'which', 'ought', 'to', 'await', 'the', 'futur', 'lesson', 'of', 'experi', ',', 'a', 'rever', 'for', 'the', 'characterist', 'right', 'of', 'freemen', 'and', 'a', 'regard', 'for', 'the', 'public', 'harmoni', 'will', 'suffici', 'influenc', 'your', 'deliber', 'on', 'the', 'question', 'how', 'far', 'the', 'former', 'can', 'be', 'impregn', 'fortifi', 'or', 'the', 'latter', 'be', 'safe', 'and', 'advantag', 'promot', '.', 'to', 'the', 'forego', 'observ', 'i', 'have', 'one', 'to', 'add', ',', 'which', 'will', 'be', 'most', 'proper', 'address', 'to', 'the', 'hous', 'of', 'repres', '.', 'it', 'concern', 'myself', ',', 'and', 'will', 'therefor', 'be', 'as', 'brief', 'as', 'possibl', '.', 'when', 'i', 'was', 'first', 'honor', 'with', 'a', 'call', 'into', 'the', 'servic', 'of', 'my', 'countri', ',', 'then', 'on', 'the', 'eve', 'of', 'an', 'arduous', 'struggl', 'for', 'it', 'liberti', ',', 'the', 'light', 'in', 'which', 'i', 'contempl', 'my', 'duti', 'requir', 'that', 'i', 'should', 'renounc', 'everi', 'pecuniari', 'compens', '.', 'from', 'this', 'resolut', 'i', 'have', 'in', 'no', 'instanc', 'depart', ';', 'and', 'be', 'still', 'under', 'the', 'impress', 'which', 'produc', 'it', ',', 'i', 'must', 'declin', 'as', 'inapplic', 'to', 'myself', 'ani', 'share', 'in', 'the', 'person', 'emolu', 'which', 'may', 'be', 'indispens', 'includ', 'in', 'a', 'perman', 'provis', 'for', 'the', 'execut', 'depart', ',', 'and', 'must', 'accord', 'pray', 'that', 'the', 'pecuniari', 'estim', 'for', 'the', 'station', 'in', 'which', 'i', 'am', 'place', 'may', 'dure', 'my', 'continu', 'in', 'it', 'be', 'limit', 'to', 'such', 'actual', 'expenditur', 'as', 'the', 'public', 'good', 'may', 'be', 'thought', 'to', 'requir', '.', 'have', 'thus', 'impart', 'to', 'you', 'my', 'sentiment', 'as', 'they', 'have', 'been', 'awaken', 'by', 'the', 'occas', 'which', 'bring', 'us', 'togeth', ',', 'i', 'shall', 'take', 'my', 'present', 'leav', ';', 'but', 'not', 'without', 'resort', 'onc', 'more', 'to', 'the', 'benign', 'parent', 'of', 'the', 'human', 'race', 'in', 'humbl', 'supplic', 'that', ',', 'sinc', 'he', 'has', 'been', 'pleas', 'to', 'favor', 'the', 'american', 'peopl', 'with', 'opportun', 'for', 'deliber', 'in', 'perfect', 'tranquil', ',', 'and', 'disposit', 'for', 'decid', 'with', 'unparallel', 'unanim', 'on', 'a', 'form', 'of', 'govern', 'for', 'the', 'secur', 'of', 'their', 'union', 'and', 'the', 'advanc', 'of', 'their', 'happi', ',', 'so', 'his', 'divin', 'bless', 'may', 'be', 'equal', 'conspicu', 'in', 'the', 'enlarg', 'view', ',', 'the', 'temper', 'consult', ',', 'and', 'the', 'wise', 'measur', 'on', 'which', 'the', 'success', 'of', 'this', 'govern', 'must', 'depend', '.'])\n"
     ]
    }
   ],
   "source": [
    "from nltk.stem import PorterStemmer\n",
    "from nltk.stem import SnowballStemmer # Note that SnowballStemmer has language as parameter.\n",
    "\n",
    "words = [\"grows\",\"leaves\",\"fairly\",\"cats\",\"trouble\",\"misunderstanding\",\"friendships\",\"easily\", \"rational\", \"relational\"]\n",
    "\n",
    "# TODO\n",
    "# create an instance of both the stemmers and perform stemming on above words\n",
    "porter_stemmer = PorterStemmer()\n",
    "snowball_stemmer = SnowballStemmer('english')\n",
    "\n",
    "ps_wordlist = []\n",
    "ss_wordlist = []\n",
    "for word in words:\n",
    "  ps_wordlist.append(porter_stemmer.stem(word))\n",
    "  ss_wordlist.append(snowball_stemmer.stem(word))\n",
    "\n",
    "print(ps_wordlist)\n",
    "print(ss_wordlist)\n",
    "\n",
    "# TODO\n",
    "# Complete the function which takes a sentence/corpus and gets its stemmed version.\n",
    "def stemSentence(sentence=None):\n",
    "    ps_wordlist = []\n",
    "    ss_wordlist = []\n",
    "    for sent in sent_tokenize(sentence):\n",
    "      for word in word_tokenize(sent):\n",
    "        ps_wordlist.append(porter_stemmer.stem(word))\n",
    "        ss_wordlist.append(snowball_stemmer.stem(word))\n",
    "\n",
    "    return ps_wordlist, ss_wordlist\n",
    "\n",
    "print(f'{stemSentence(\"Hello my name is Shrey.\")}')\n",
    "print(f'{stemSentence(corpus)}')\n"
   ]
  },
  {
   "cell_type": "markdown",
   "metadata": {
    "colab_type": "text",
    "id": "0JuE8CuDQSno"
   },
   "source": [
    "**What is Lemmatization?** <br>\n",
    "Lemmatization is the algorithmic process of finding the lemma of a word depending on their meaning. Lemmatization usually refers to the morphological analysis of words, which aims to remove inflectional endings. It helps in returning the base or dictionary form of a word, which is known as the lemma.<br>\n",
    "\n",
    "*The NLTK Lemmatization method is based on WorldNet's built-in morph function.*"
   ]
  },
  {
   "cell_type": "code",
   "execution_count": 8,
   "metadata": {
    "colab": {
     "base_uri": "https://localhost:8080/",
     "height": 127
    },
    "colab_type": "code",
    "id": "noyl1YNsQp98",
    "outputId": "c62fec10-a8e4-4558-8a89-8a0c87f10f7c"
   },
   "outputs": [
    {
     "name": "stdout",
     "output_type": "stream",
     "text": [
      "[nltk_data] Downloading package wordnet to /root/nltk_data...\n",
      "[nltk_data]   Package wordnet is already up-to-date!\n",
      "['grow', 'leave', 'fairly', 'cat', 'trouble', 'run', 'friendships', 'easily', 'be', 'relational', 'have']\n",
      "['What', 'I', 'talk', 'about', 'when', 'I', 'talk', 'about', 'running']\n",
      "['Fellow-Citizens', 'of', 'the', 'Senate', 'and', 'of', 'the', 'House', 'of', 'Representatives', ':', 'Among', 'the', 'vicissitude', 'incident', 'to', 'life', 'no', 'event', 'could', 'have', 'filled', 'me', 'with', 'greater', 'anxiety', 'than', 'that', 'of', 'which', 'the', 'notification', 'wa', 'transmitted', 'by', 'your', 'order', ',', 'and', 'received', 'on', 'the', '14th', 'day', 'of', 'the', 'present', 'month', '.', 'On', 'the', 'one', 'hand', ',', 'I', 'wa', 'summoned', 'by', 'my', 'Country', ',', 'whose', 'voice', 'I', 'can', 'never', 'hear', 'but', 'with', 'veneration', 'and', 'love', ',', 'from', 'a', 'retreat', 'which', 'I', 'had', 'chosen', 'with', 'the', 'fondest', 'predilection', ',', 'and', ',', 'in', 'my', 'flattering', 'hope', ',', 'with', 'an', 'immutable', 'decision', ',', 'a', 'the', 'asylum', 'of', 'my', 'declining', 'year', '--', 'a', 'retreat', 'which', 'wa', 'rendered', 'every', 'day', 'more', 'necessary', 'a', 'well', 'a', 'more', 'dear', 'to', 'me', 'by', 'the', 'addition', 'of', 'habit', 'to', 'inclination', ',', 'and', 'of', 'frequent', 'interruption', 'in', 'my', 'health', 'to', 'the', 'gradual', 'waste', 'committed', 'on', 'it', 'by', 'time', '.', 'On', 'the', 'other', 'hand', ',', 'the', 'magnitude', 'and', 'difficulty', 'of', 'the', 'trust', 'to', 'which', 'the', 'voice', 'of', 'my', 'country', 'called', 'me', ',', 'being', 'sufficient', 'to', 'awaken', 'in', 'the', 'wisest', 'and', 'most', 'experienced', 'of', 'her', 'citizen', 'a', 'distrustful', 'scrutiny', 'into', 'his', 'qualification', ',', 'could', 'not', 'but', 'overwhelm', 'with', 'despondence', 'one', 'who', '(', 'inheriting', 'inferior', 'endowment', 'from', 'nature', 'and', 'unpracticed', 'in', 'the', 'duty', 'of', 'civil', 'administration', ')', 'ought', 'to', 'be', 'peculiarly', 'conscious', 'of', 'his', 'own', 'deficiency', '.', 'In', 'this', 'conflict', 'of', 'emotion', 'all', 'I', 'dare', 'aver', 'is', 'that', 'it', 'ha', 'been', 'my', 'faithful', 'study', 'to', 'collect', 'my', 'duty', 'from', 'a', 'just', 'appreciation', 'of', 'every', 'circumstance', 'by', 'which', 'it', 'might', 'be', 'affected', '.', 'All', 'I', 'dare', 'hope', 'is', 'that', 'if', ',', 'in', 'executing', 'this', 'task', ',', 'I', 'have', 'been', 'too', 'much', 'swayed', 'by', 'a', 'grateful', 'remembrance', 'of', 'former', 'instance', ',', 'or', 'by', 'an', 'affectionate', 'sensibility', 'to', 'this', 'transcendent', 'proof', 'of', 'the', 'confidence', 'of', 'my', 'fellow', 'citizen', ',', 'and', 'have', 'thence', 'too', 'little', 'consulted', 'my', 'incapacity', 'a', 'well', 'a', 'disinclination', 'for', 'the', 'weighty', 'and', 'untried', 'care', 'before', 'me', ',', 'my', 'error', 'will', 'be', 'palliated', 'by', 'the', 'motif', 'which', 'mislead', 'me', ',', 'and', 'it', 'consequence', 'be', 'judged', 'by', 'my', 'country', 'with', 'some', 'share', 'of', 'the', 'partiality', 'in', 'which', 'they', 'originated', '.', 'Such', 'being', 'the', 'impression', 'under', 'which', 'I', 'have', ',', 'in', 'obedience', 'to', 'the', 'public', 'summons', ',', 'repaired', 'to', 'the', 'present', 'station', ',', 'it', 'would', 'be', 'peculiarly', 'improper', 'to', 'omit', 'in', 'this', 'first', 'official', 'act', 'my', 'fervent', 'supplication', 'to', 'that', 'Almighty', 'Being', 'who', 'rule', 'over', 'the', 'universe', ',', 'who', 'presides', 'in', 'the', 'council', 'of', 'nation', ',', 'and', 'whose', 'providential', 'aid', 'can', 'supply', 'every', 'human', 'defect', ',', 'that', 'His', 'benediction', 'may', 'consecrate', 'to', 'the', 'liberty', 'and', 'happiness', 'of', 'the', 'people', 'of', 'the', 'United', 'States', 'a', 'Government', 'instituted', 'by', 'themselves', 'for', 'these', 'essential', 'purpose', ',', 'and', 'may', 'enable', 'every', 'instrument', 'employed', 'in', 'it', 'administration', 'to', 'execute', 'with', 'success', 'the', 'function', 'allotted', 'to', 'his', 'charge', '.', 'In', 'tendering', 'this', 'homage', 'to', 'the', 'Great', 'Author', 'of', 'every', 'public', 'and', 'private', 'good', ',', 'I', 'assure', 'myself', 'that', 'it', 'express', 'your', 'sentiment', 'not', 'le', 'than', 'my', 'own', ',', 'nor', 'those', 'of', 'my', 'fellow', 'citizen', 'at', 'large', 'le', 'than', 'either', '.', 'No', 'people', 'can', 'be', 'bound', 'to', 'acknowledge', 'and', 'adore', 'the', 'Invisible', 'Hand', 'which', 'conduct', 'the', 'affair', 'of', 'men', 'more', 'than', 'those', 'of', 'the', 'United', 'States', '.', 'Every', 'step', 'by', 'which', 'they', 'have', 'advanced', 'to', 'the', 'character', 'of', 'an', 'independent', 'nation', 'seems', 'to', 'have', 'been', 'distinguished', 'by', 'some', 'token', 'of', 'providential', 'agency', ';', 'and', 'in', 'the', 'important', 'revolution', 'just', 'accomplished', 'in', 'the', 'system', 'of', 'their', 'united', 'government', 'the', 'tranquil', 'deliberation', 'and', 'voluntary', 'consent', 'of', 'so', 'many', 'distinct', 'community', 'from', 'which', 'the', 'event', 'ha', 'resulted', 'can', 'not', 'be', 'compared', 'with', 'the', 'mean', 'by', 'which', 'most', 'government', 'have', 'been', 'established', 'without', 'some', 'return', 'of', 'pious', 'gratitude', ',', 'along', 'with', 'an', 'humble', 'anticipation', 'of', 'the', 'future', 'blessing', 'which', 'the', 'past', 'seem', 'to', 'presage', '.', 'These', 'reflection', ',', 'arising', 'out', 'of', 'the', 'present', 'crisis', ',', 'have', 'forced', 'themselves', 'too', 'strongly', 'on', 'my', 'mind', 'to', 'be', 'suppressed', '.', 'You', 'will', 'join', 'with', 'me', ',', 'I', 'trust', ',', 'in', 'thinking', 'that', 'there', 'are', 'none', 'under', 'the', 'influence', 'of', 'which', 'the', 'proceeding', 'of', 'a', 'new', 'and', 'free', 'government', 'can', 'more', 'auspiciously', 'commence', '.', 'By', 'the', 'article', 'establishing', 'the', 'executive', 'department', 'it', 'is', 'made', 'the', 'duty', 'of', 'the', 'President', '``', 'to', 'recommend', 'to', 'your', 'consideration', 'such', 'measure', 'a', 'he', 'shall', 'judge', 'necessary', 'and', 'expedient', '.', \"''\", 'The', 'circumstance', 'under', 'which', 'I', 'now', 'meet', 'you', 'will', 'acquit', 'me', 'from', 'entering', 'into', 'that', 'subject', 'further', 'than', 'to', 'refer', 'to', 'the', 'great', 'constitutional', 'charter', 'under', 'which', 'you', 'are', 'assembled', ',', 'and', 'which', ',', 'in', 'defining', 'your', 'power', ',', 'designates', 'the', 'object', 'to', 'which', 'your', 'attention', 'is', 'to', 'be', 'given', '.', 'It', 'will', 'be', 'more', 'consistent', 'with', 'those', 'circumstance', ',', 'and', 'far', 'more', 'congenial', 'with', 'the', 'feeling', 'which', 'actuate', 'me', ',', 'to', 'substitute', ',', 'in', 'place', 'of', 'a', 'recommendation', 'of', 'particular', 'measure', ',', 'the', 'tribute', 'that', 'is', 'due', 'to', 'the', 'talent', ',', 'the', 'rectitude', ',', 'and', 'the', 'patriotism', 'which', 'adorn', 'the', 'character', 'selected', 'to', 'devise', 'and', 'adopt', 'them', '.', 'In', 'these', 'honorable', 'qualification', 'I', 'behold', 'the', 'surest', 'pledge', 'that', 'a', 'on', 'one', 'side', 'no', 'local', 'prejudice', 'or', 'attachment', ',', 'no', 'separate', 'view', 'nor', 'party', 'animosity', ',', 'will', 'misdirect', 'the', 'comprehensive', 'and', 'equal', 'eye', 'which', 'ought', 'to', 'watch', 'over', 'this', 'great', 'assemblage', 'of', 'community', 'and', 'interest', ',', 'so', ',', 'on', 'another', ',', 'that', 'the', 'foundation', 'of', 'our', 'national', 'policy', 'will', 'be', 'laid', 'in', 'the', 'pure', 'and', 'immutable', 'principle', 'of', 'private', 'morality', ',', 'and', 'the', 'preeminence', 'of', 'free', 'government', 'be', 'exemplified', 'by', 'all', 'the', 'attribute', 'which', 'can', 'win', 'the', 'affection', 'of', 'it', 'citizen', 'and', 'command', 'the', 'respect', 'of', 'the', 'world', '.', 'I', 'dwell', 'on', 'this', 'prospect', 'with', 'every', 'satisfaction', 'which', 'an', 'ardent', 'love', 'for', 'my', 'country', 'can', 'inspire', ',', 'since', 'there', 'is', 'no', 'truth', 'more', 'thoroughly', 'established', 'than', 'that', 'there', 'exists', 'in', 'the', 'economy', 'and', 'course', 'of', 'nature', 'an', 'indissoluble', 'union', 'between', 'virtue', 'and', 'happiness', ';', 'between', 'duty', 'and', 'advantage', ';', 'between', 'the', 'genuine', 'maxim', 'of', 'an', 'honest', 'and', 'magnanimous', 'policy', 'and', 'the', 'solid', 'reward', 'of', 'public', 'prosperity', 'and', 'felicity', ';', 'since', 'we', 'ought', 'to', 'be', 'no', 'le', 'persuaded', 'that', 'the', 'propitious', 'smile', 'of', 'Heaven', 'can', 'never', 'be', 'expected', 'on', 'a', 'nation', 'that', 'disregard', 'the', 'eternal', 'rule', 'of', 'order', 'and', 'right', 'which', 'Heaven', 'itself', 'ha', 'ordained', ';', 'and', 'since', 'the', 'preservation', 'of', 'the', 'sacred', 'fire', 'of', 'liberty', 'and', 'the', 'destiny', 'of', 'the', 'republican', 'model', 'of', 'government', 'are', 'justly', 'considered', ',', 'perhaps', ',', 'a', 'deeply', ',', 'a', 'finally', ',', 'staked', 'on', 'the', 'experiment', 'entrusted', 'to', 'the', 'hand', 'of', 'the', 'American', 'people', '.', 'Besides', 'the', 'ordinary', 'object', 'submitted', 'to', 'your', 'care', ',', 'it', 'will', 'remain', 'with', 'your', 'judgment', 'to', 'decide', 'how', 'far', 'an', 'exercise', 'of', 'the', 'occasional', 'power', 'delegated', 'by', 'the', 'fifth', 'article', 'of', 'the', 'Constitution', 'is', 'rendered', 'expedient', 'at', 'the', 'present', 'juncture', 'by', 'the', 'nature', 'of', 'objection', 'which', 'have', 'been', 'urged', 'against', 'the', 'system', ',', 'or', 'by', 'the', 'degree', 'of', 'inquietude', 'which', 'ha', 'given', 'birth', 'to', 'them', '.', 'Instead', 'of', 'undertaking', 'particular', 'recommendation', 'on', 'this', 'subject', ',', 'in', 'which', 'I', 'could', 'be', 'guided', 'by', 'no', 'light', 'derived', 'from', 'official', 'opportunity', ',', 'I', 'shall', 'again', 'give', 'way', 'to', 'my', 'entire', 'confidence', 'in', 'your', 'discernment', 'and', 'pursuit', 'of', 'the', 'public', 'good', ';', 'for', 'I', 'assure', 'myself', 'that', 'whilst', 'you', 'carefully', 'avoid', 'every', 'alteration', 'which', 'might', 'endanger', 'the', 'benefit', 'of', 'an', 'united', 'and', 'effective', 'government', ',', 'or', 'which', 'ought', 'to', 'await', 'the', 'future', 'lesson', 'of', 'experience', ',', 'a', 'reverence', 'for', 'the', 'characteristic', 'right', 'of', 'freeman', 'and', 'a', 'regard', 'for', 'the', 'public', 'harmony', 'will', 'sufficiently', 'influence', 'your', 'deliberation', 'on', 'the', 'question', 'how', 'far', 'the', 'former', 'can', 'be', 'impregnably', 'fortified', 'or', 'the', 'latter', 'be', 'safely', 'and', 'advantageously', 'promoted', '.', 'To', 'the', 'foregoing', 'observation', 'I', 'have', 'one', 'to', 'add', ',', 'which', 'will', 'be', 'most', 'properly', 'addressed', 'to', 'the', 'House', 'of', 'Representatives', '.', 'It', 'concern', 'myself', ',', 'and', 'will', 'therefore', 'be', 'a', 'brief', 'a', 'possible', '.', 'When', 'I', 'wa', 'first', 'honored', 'with', 'a', 'call', 'into', 'the', 'service', 'of', 'my', 'country', ',', 'then', 'on', 'the', 'eve', 'of', 'an', 'arduous', 'struggle', 'for', 'it', 'liberty', ',', 'the', 'light', 'in', 'which', 'I', 'contemplated', 'my', 'duty', 'required', 'that', 'I', 'should', 'renounce', 'every', 'pecuniary', 'compensation', '.', 'From', 'this', 'resolution', 'I', 'have', 'in', 'no', 'instance', 'departed', ';', 'and', 'being', 'still', 'under', 'the', 'impression', 'which', 'produced', 'it', ',', 'I', 'must', 'decline', 'a', 'inapplicable', 'to', 'myself', 'any', 'share', 'in', 'the', 'personal', 'emolument', 'which', 'may', 'be', 'indispensably', 'included', 'in', 'a', 'permanent', 'provision', 'for', 'the', 'executive', 'department', ',', 'and', 'must', 'accordingly', 'pray', 'that', 'the', 'pecuniary', 'estimate', 'for', 'the', 'station', 'in', 'which', 'I', 'am', 'placed', 'may', 'during', 'my', 'continuance', 'in', 'it', 'be', 'limited', 'to', 'such', 'actual', 'expenditure', 'a', 'the', 'public', 'good', 'may', 'be', 'thought', 'to', 'require', '.', 'Having', 'thus', 'imparted', 'to', 'you', 'my', 'sentiment', 'a', 'they', 'have', 'been', 'awakened', 'by', 'the', 'occasion', 'which', 'brings', 'u', 'together', ',', 'I', 'shall', 'take', 'my', 'present', 'leave', ';', 'but', 'not', 'without', 'resorting', 'once', 'more', 'to', 'the', 'benign', 'Parent', 'of', 'the', 'Human', 'Race', 'in', 'humble', 'supplication', 'that', ',', 'since', 'He', 'ha', 'been', 'pleased', 'to', 'favor', 'the', 'American', 'people', 'with', 'opportunity', 'for', 'deliberating', 'in', 'perfect', 'tranquillity', ',', 'and', 'disposition', 'for', 'deciding', 'with', 'unparalleled', 'unanimity', 'on', 'a', 'form', 'of', 'government', 'for', 'the', 'security', 'of', 'their', 'union', 'and', 'the', 'advancement', 'of', 'their', 'happiness', ',', 'so', 'His', 'divine', 'blessing', 'may', 'be', 'equally', 'conspicuous', 'in', 'the', 'enlarged', 'view', ',', 'the', 'temperate', 'consultation', ',', 'and', 'the', 'wise', 'measure', 'on', 'which', 'the', 'success', 'of', 'this', 'Government', 'must', 'depend', '.']\n"
     ]
    }
   ],
   "source": [
    "#imports\n",
    "from nltk.stem import WordNetLemmatizer\n",
    "nltk.download('wordnet') # Since Lemmatization method is based on WorldNet's built-in morph function.\n",
    "\n",
    "words = [\"grows\",\"leaves\",\"fairly\",\"cats\",\"trouble\",\"running\",\"friendships\",\"easily\", \"was\", \"relational\",\"has\"]\n",
    "\n",
    "#TODO\n",
    "# Create an instance of the Lemmatizer and perform Lemmatization on above words\n",
    "# You can also give Parts-of-speech(pos) to the Lemmatizer for example \"v\" (verb). Check the differences in the outputs.\n",
    "lemmatizer = WordNetLemmatizer()\n",
    "lemm_wordlist = [lemmatizer.lemmatize(word, pos='v') for word in words]\n",
    "print(f'{lemm_wordlist}')\n",
    "\n",
    "#TODO\n",
    "# Complete the function which takes a sentence/corpus and gets its lemmatized version.\n",
    "def lemmatizeSentence(sentence=None):\n",
    "    lemmatizer = WordNetLemmatizer()\n",
    "    lemm_wordlist = []\n",
    "    for sent in sent_tokenize(sentence):\n",
    "      for word in word_tokenize(sent):\n",
    "        lemm_wordlist.append(lemmatizer.lemmatize(word))\n",
    "\n",
    "    return lemm_wordlist\n",
    "\n",
    "print(f'{lemmatizeSentence(\"What I talk about when I talk about running\")}')\n",
    "print(f'{lemmatizeSentence(corpus)}')"
   ]
  },
  {
   "cell_type": "markdown",
   "metadata": {
    "colab_type": "text",
    "id": "VJW6HsycSAlU"
   },
   "source": [
    "**Question:** Give example of two words which have same stem but different lemma? Show the stem and lemma of both words in the code below \n",
    "\n"
   ]
  },
  {
   "cell_type": "markdown",
   "metadata": {
    "colab_type": "text",
    "id": "zcq6bUEaSAt1"
   },
   "source": [
    "**Answer here:**"
   ]
  },
  {
   "cell_type": "code",
   "execution_count": 9,
   "metadata": {
    "colab": {
     "base_uri": "https://localhost:8080/",
     "height": 53
    },
    "colab_type": "code",
    "id": "a8OtIEmFkGBM",
    "outputId": "716ee853-70d6-4953-c414-e01da74322cd"
   },
   "outputs": [
    {
     "name": "stdout",
     "output_type": "stream",
     "text": [
      "['better', 'better']\n",
      "['betters', 'good']\n"
     ]
    }
   ],
   "source": [
    "#TODO\n",
    "# Write code to print the stem and lemma of both your words\n",
    "word_list = ['betters', 'better']\n",
    "\n",
    "# Stemmed ouputs\n",
    "stem_wordlist = []\n",
    "for word in word_list:\n",
    "  stem_wordlist.append(porter_stemmer.stem(word))\n",
    "print(f'{stem_wordlist}')\n",
    "\n",
    "# Lemmatized outputs\n",
    "lemm_wordlist = []\n",
    "for word in word_list:\n",
    "  lemm_wordlist.append(lemmatizer.lemmatize(word, pos='a'))\n",
    "print(f'{lemm_wordlist}')\n"
   ]
  },
  {
   "cell_type": "markdown",
   "metadata": {
    "colab_type": "text",
    "id": "e0tz3SIGSA2b"
   },
   "source": [
    "**Question:** Write a comparison between stemming and lemmatization?"
   ]
  },
  {
   "cell_type": "markdown",
   "metadata": {
    "colab_type": "text",
    "id": "aks8QaQ_SA_N"
   },
   "source": [
    "Stemming is used to convert different forms of the same word with an affix into its base word by removing the affix (like cutting the branches of a tree to its stem) whereas Lemmatization converts a group of words unified by meaning into its base form based on its current Part of Speech. Lemmatization always leads to a dictionary word with meaning similar to the original word and takes more compuation and memory because of its search and store operations whereas Stemming is a heuristic method of rule-based removal of certain characters and is a lot more efficient but leads to character sequence which may not be an exact dictionary word. NLTK uses WordNet association of words for Lemmatization and Porter Stemmer and SnowBall Stemmer for stemming modules."
   ]
  },
  {
   "cell_type": "code",
   "execution_count": null,
   "metadata": {
    "colab": {},
    "colab_type": "code",
    "id": "WqX8sCG_4WNv"
   },
   "outputs": [],
   "source": []
  }
 ],
 "metadata": {
  "colab": {
   "collapsed_sections": [],
   "name": "NLP_Assignment_1_17CS30034.ipynb",
   "provenance": []
  },
  "kernelspec": {
   "display_name": "Python 3",
   "language": "python",
   "name": "python3"
  },
  "language_info": {
   "codemirror_mode": {
    "name": "ipython",
    "version": 3
   },
   "file_extension": ".py",
   "mimetype": "text/x-python",
   "name": "python",
   "nbconvert_exporter": "python",
   "pygments_lexer": "ipython3",
   "version": "3.8.3"
  }
 },
 "nbformat": 4,
 "nbformat_minor": 1
}
