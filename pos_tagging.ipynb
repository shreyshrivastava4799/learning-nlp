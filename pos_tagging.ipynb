{
  "nbformat": 4,
  "nbformat_minor": 0,
  "metadata": {
    "colab": {
      "name": "Assignment_4_17CS30034.ipynb",
      "provenance": [],
      "collapsed_sections": []
    },
    "kernelspec": {
      "name": "python3",
      "display_name": "Python 3"
    }
  },
  "cells": [
    {
      "cell_type": "code",
      "metadata": {
        "id": "D0jNFZ_bo06U"
      },
      "source": [
        "! pip install sklearn-crfsuite"
      ],
      "execution_count": null,
      "outputs": []
    },
    {
      "cell_type": "code",
      "metadata": {
        "id": "1k6wgS7eivya"
      },
      "source": [
        "# test data\n",
        "in_file = open('hi-ud-test.conllu', encoding=\"utf-8\")\n",
        "data = in_file.readlines()\n",
        "\n",
        "test_sent = []\n",
        "test_data = []\n",
        "for row in data[1:]:\n",
        "  if row == '\\t\\t\\n':\n",
        "    test_data.append(test_sent)\n",
        "    test_sent = []\n",
        "  elif 'PUNCT' in row:\n",
        "    _,  word, tag = row.strip().split('\\t')\n",
        "    if word == \",\":\n",
        "      train_sent.append((',', 'PUNCT'))\n",
        "    else :\n",
        "      train_sent.append((word, tag))\n",
        "  else:\n",
        "    _, word, tag = row.strip().split('\\t')\n",
        "    test_sent.append((word, tag))"
      ],
      "execution_count": null,
      "outputs": []
    },
    {
      "cell_type": "code",
      "metadata": {
        "id": "oMg8UnWSp10V"
      },
      "source": [
        "# train data\n",
        "in_file = open('hi-ud-train.conllu', encoding=\"utf-8\")\n",
        "data = in_file.readlines()\n",
        "\n",
        "train_sent = []\n",
        "train_data = []\n",
        "for row in data[1:]:\n",
        "  if row == ',,\\n':\n",
        "    train_data.append(train_sent)\n",
        "    train_sent = []\n",
        "  elif 'COMMA' in row:\n",
        "    _,  word, tag = row.strip().split(',')\n",
        "    train_sent.append((',', 'PUNCT'))\n",
        "  else:\n",
        "    _, word, tag = row.strip().split(',')\n",
        "    train_sent.append((word, tag))"
      ],
      "execution_count": null,
      "outputs": []
    },
    {
      "cell_type": "code",
      "metadata": {
        "id": "_0HVA00-zRgs",
        "outputId": "ca613c08-2885-45a6-e81e-7050d72cb89b",
        "colab": {
          "base_uri": "https://localhost:8080/",
          "height": 50
        }
      },
      "source": [
        "def word2features(sent, i):\n",
        "    word = sent[i][0]\n",
        "\n",
        "    features = {\n",
        "        'bias': 1.0,\n",
        "        'word.lower()': word.lower(),\n",
        "        'word[-3:]': word[-3:],\n",
        "        'word[-2:]': word[-2:],\n",
        "        'word[:2]': word[:2],\n",
        "        'word[:3]': word[:3],\n",
        "        'word.isupper()': word.isupper(),\n",
        "        'word.istitle()': word.istitle(),\n",
        "        'word.isdigit()': word.isdigit(),\n",
        "    }\n",
        "    if i > 0:\n",
        "        word1 = sent[i-1][0]\n",
        "        features.update({\n",
        "            '-1:word.lower()': word1.lower(),\n",
        "            '-1:word.istitle()': word1.istitle(),\n",
        "            '-1:word.isupper()': word1.isupper(),\n",
        "        })\n",
        "    else:\n",
        "        features['BOS'] = True\n",
        "\n",
        "    if i < len(sent)-1:\n",
        "        word1 = sent[i+1][0]\n",
        "        features.update({\n",
        "            '+1:word.lower()': word1.lower(),\n",
        "            '+1:word.istitle()': word1.istitle(),\n",
        "            '+1:word.isupper()': word1.isupper(),\n",
        "        })\n",
        "    else:\n",
        "        features['EOS'] = True\n",
        "\n",
        "    return features\n",
        "\n",
        "\n",
        "def sent2features(sent):\n",
        "    return [word2features(sent, i) for i in range(len(sent))]\n",
        "\n",
        "def sent2labels(sent):\n",
        "    return [postag for token, postag in sent]"
      ],
      "execution_count": null,
      "outputs": [
        {
          "output_type": "stream",
          "text": [
            "[nltk_data] Downloading package wordnet to /root/nltk_data...\n",
            "[nltk_data]   Unzipping corpora/wordnet.zip.\n"
          ],
          "name": "stdout"
        }
      ]
    },
    {
      "cell_type": "code",
      "metadata": {
        "id": "M8EYYS82myb8"
      },
      "source": [
        "X_train = [sent2features(s) for s in train_data]\n",
        "y_train = [sent2labels(s) for s in train_data]\n",
        "\n",
        "X_test = [sent2features(s) for s in test_data]\n",
        "y_test = [sent2labels(s) for s in test_data]"
      ],
      "execution_count": null,
      "outputs": []
    },
    {
      "cell_type": "code",
      "metadata": {
        "id": "-QiJl7Crzs78",
        "outputId": "3628004a-6c08-462e-c151-60b71633333f",
        "colab": {
          "base_uri": "https://localhost:8080/",
          "height": 186
        }
      },
      "source": [
        "import sklearn_crfsuite\n",
        "from sklearn_crfsuite import scorers\n",
        "from sklearn_crfsuite import metrics\n",
        "\n",
        "crf = sklearn_crfsuite.CRF(\n",
        "    algorithm='lbfgs',\n",
        "    c1=0.1,\n",
        "    c2=0.1,\n",
        "    max_iterations=100,\n",
        "    all_possible_transitions=True\n",
        ")\n",
        "crf.fit(X_train, y_train)"
      ],
      "execution_count": null,
      "outputs": [
        {
          "output_type": "stream",
          "text": [
            "/usr/local/lib/python3.6/dist-packages/sklearn/base.py:197: FutureWarning: From version 0.24, get_params will raise an AttributeError if a parameter cannot be retrieved as an instance attribute. Previously it would return None.\n",
            "  FutureWarning)\n"
          ],
          "name": "stderr"
        },
        {
          "output_type": "execute_result",
          "data": {
            "text/plain": [
              "CRF(algorithm='lbfgs', all_possible_states=None, all_possible_transitions=True,\n",
              "    averaging=None, c=None, c1=0.1, c2=0.1, calibration_candidates=None,\n",
              "    calibration_eta=None, calibration_max_trials=None, calibration_rate=None,\n",
              "    calibration_samples=None, delta=None, epsilon=None, error_sensitive=None,\n",
              "    gamma=None, keep_tempfiles=None, linesearch=None, max_iterations=100,\n",
              "    max_linesearch=None, min_freq=None, model_filename=None, num_memories=None,\n",
              "    pa_type=None, period=None, trainer_cls=None, variance=None, verbose=False)"
            ]
          },
          "metadata": {
            "tags": []
          },
          "execution_count": 98
        }
      ]
    },
    {
      "cell_type": "code",
      "metadata": {
        "id": "cE-LBGXKqnYP",
        "outputId": "05472617-fe2d-4ed3-b993-8bff559a8b76",
        "colab": {
          "base_uri": "https://localhost:8080/",
          "height": 400
        }
      },
      "source": [
        "from collections import Counter\n",
        "\n",
        "def print_transitions(trans_features):\n",
        "    for (label_from, label_to), weight in trans_features:\n",
        "        print(\"%-6s -> %-7s %0.6f\" % (label_from, label_to, weight))\n",
        "\n",
        "print(\"Top 10 most common transitions:\")\n",
        "print_transitions(Counter(crf_train.transition_features_).most_common(10))\n",
        "\n",
        "print(\"\\nTop 10 least common transitions:\")\n",
        "print_transitions(Counter(crf_train.transition_features_).most_common()[-10:])"
      ],
      "execution_count": null,
      "outputs": [
        {
          "output_type": "stream",
          "text": [
            "Top 10 most common transitions:\n",
            "VERB   -> AUX     4.033018\n",
            "PROPN  -> PROPN   2.708065\n",
            "AUX    -> AUX     2.551731\n",
            "PROPN  -> ADP     2.398286\n",
            "ADJ    -> NOUN    2.250517\n",
            "AUX    -> SCONJ   1.934415\n",
            "NUM    -> NOUN    1.864068\n",
            "PROPN  -> PUNCT   1.859276\n",
            "PRON   -> ADP     1.857447\n",
            "NOUN   -> ADP     1.846757\n",
            "\n",
            "Top 10 least common transitions:\n",
            "DET    -> CCONJ   -1.126597\n",
            "PROPN  -> AUX     -1.135531\n",
            "ADP    -> CCONJ   -1.178577\n",
            "NUM    -> PRON    -1.201640\n",
            "ADV    -> AUX     -1.202103\n",
            "PRON   -> PUNCT   -1.287442\n",
            "CCONJ  -> AUX     -1.587035\n",
            "DET    -> ADP     -1.862737\n",
            "ADJ    -> PRON    -2.011258\n",
            "ADJ    -> ADP     -2.033969\n"
          ],
          "name": "stdout"
        }
      ]
    },
    {
      "cell_type": "code",
      "metadata": {
        "id": "WEG_-FwNpFLe",
        "outputId": "80a9df3e-ea32-473b-f445-c40eb7375ed4",
        "colab": {
          "base_uri": "https://localhost:8080/",
          "height": 50
        }
      },
      "source": [
        "labels = list(crf.classes_)\n",
        "y_pred_test = crf.predict(X_test)\n",
        "y_pred_train = crf.predict(X_train)\n",
        "\n",
        "print(f'Accuracy on Test Data : {metrics.flat_accuracy_score(y_test, y_pred_test)}')\n",
        "print(f'Accuracy on Train Data: {metrics.flat_accuracy_score(y_train, y_pred_train)}')\n"
      ],
      "execution_count": null,
      "outputs": [
        {
          "output_type": "stream",
          "text": [
            "Accuracy on Test Data : 0.8519083969465648\n",
            "Accuracy on Train Data: 0.9967096604369571\n"
          ],
          "name": "stdout"
        }
      ]
    },
    {
      "cell_type": "code",
      "metadata": {
        "id": "8sjfxYztph6D",
        "outputId": "f15517c6-d7cb-4902-e778-f9d56cc14ebe",
        "colab": {
          "base_uri": "https://localhost:8080/",
          "height": 870
        }
      },
      "source": [
        "sorted_labels = sorted(labels, key=lambda name: (name, name[0]))\n",
        "print(f'Test data:\\n {metrics.flat_classification_report(y_test, y_pred_test, labels=sorted_labels, digits=3)}')\n",
        "print(f'Train data:\\n {metrics.flat_classification_report(y_train, y_pred_train, labels=sorted_labels, digits=3)}')"
      ],
      "execution_count": null,
      "outputs": [
        {
          "output_type": "stream",
          "text": [
            "Test data:\n",
            "               precision    recall  f1-score   support\n",
            "\n",
            "         ADJ      0.697     0.734     0.715        94\n",
            "         ADP      0.955     0.970     0.962       303\n",
            "         ADV      0.667     0.476     0.556        21\n",
            "         AUX      0.956     0.949     0.953       138\n",
            "       CCONJ      1.000     1.000     1.000        25\n",
            "         DET      0.842     0.889     0.865        36\n",
            "        NOUN      0.772     0.898     0.830       324\n",
            "         NUM      0.957     0.880     0.917        25\n",
            "        PART      1.000     0.939     0.969        33\n",
            "        PRON      0.915     0.831     0.871        65\n",
            "       PROPN      0.690     0.479     0.566       144\n",
            "       PUNCT      0.000     0.000     0.000         0\n",
            "       SCONJ      0.750     1.000     0.857         3\n",
            "        VERB      0.904     0.859     0.881        99\n",
            "           X      0.000     0.000     0.000         0\n",
            "\n",
            "   micro avg      0.852     0.852     0.852      1310\n",
            "   macro avg      0.740     0.727     0.729      1310\n",
            "weighted avg      0.850     0.852     0.847      1310\n",
            "\n",
            "Train data:\n",
            "               precision    recall  f1-score   support\n",
            "\n",
            "         ADJ      1.000     1.000     1.000       569\n",
            "         ADP      0.998     0.999     0.998      1384\n",
            "         ADV      0.991     0.982     0.986       110\n",
            "         AUX      0.982     1.000     0.991       728\n",
            "       CCONJ      0.993     1.000     0.997       150\n",
            "         DET      0.996     0.991     0.993       230\n",
            "        NOUN      0.998     1.000     0.999      1596\n",
            "         NUM      1.000     1.000     1.000       152\n",
            "        PART      1.000     1.000     1.000       163\n",
            "        PRON      0.995     0.995     0.995       430\n",
            "       PROPN      1.000     0.996     0.998       707\n",
            "       PUNCT      1.000     1.000     1.000       677\n",
            "       SCONJ      0.984     1.000     0.992        61\n",
            "        VERB      1.000     0.978     0.989       639\n",
            "           X      1.000     1.000     1.000         2\n",
            "\n",
            "    accuracy                          0.997      7598\n",
            "   macro avg      0.996     0.996     0.996      7598\n",
            "weighted avg      0.997     0.997     0.997      7598\n",
            "\n"
          ],
          "name": "stdout"
        },
        {
          "output_type": "stream",
          "text": [
            "/usr/local/lib/python3.6/dist-packages/sklearn/metrics/_classification.py:1272: UndefinedMetricWarning: Precision and F-score are ill-defined and being set to 0.0 in labels with no predicted samples. Use `zero_division` parameter to control this behavior.\n",
            "  _warn_prf(average, modifier, msg_start, len(result))\n",
            "/usr/local/lib/python3.6/dist-packages/sklearn/metrics/_classification.py:1272: UndefinedMetricWarning: Recall and F-score are ill-defined and being set to 0.0 in labels with no true samples. Use `zero_division` parameter to control this behavior.\n",
            "  _warn_prf(average, modifier, msg_start, len(result))\n"
          ],
          "name": "stderr"
        }
      ]
    },
    {
      "cell_type": "code",
      "metadata": {
        "id": "DJkNwQ6bvJiE"
      },
      "source": [
        ""
      ],
      "execution_count": null,
      "outputs": []
    }
  ]
}