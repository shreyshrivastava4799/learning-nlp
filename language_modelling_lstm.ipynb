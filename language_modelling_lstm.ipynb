{
  "nbformat": 4,
  "nbformat_minor": 0,
  "metadata": {
    "colab": {
      "name": "Assignment_5_NLP_17CS30034.ipynb",
      "provenance": [],
      "collapsed_sections": []
    },
    "kernelspec": {
      "name": "python3",
      "display_name": "Python 3"
    },
    "accelerator": "GPU"
  },
  "cells": [
    {
      "cell_type": "markdown",
      "metadata": {
        "id": "zyJ25uz0kSaw"
      },
      "source": [
        "\n",
        "\n",
        "\n",
        "# Assignment 5 on Natural Language Processing\n",
        "\n",
        "## Date : 3rd Nov, 2020\n",
        "\n",
        "### Instructor : Prof. Sudeshna Sarkar\n",
        "\n",
        "### Teaching Assistants : Alapan Kuila, Aniruddha Roy, Anusha Potnuru, Uppada Vishnu"
      ]
    },
    {
      "cell_type": "markdown",
      "metadata": {
        "id": "Ao1nhg9RknmF"
      },
      "source": [
        "The central idea of this assignment is to explore various language models specifically LSTM based and transformer. We will explore how the size of the model effects the sequence generated. We will see both character based and word based models.\n",
        "\n"
      ]
    },
    {
      "cell_type": "markdown",
      "metadata": {
        "id": "ONM5Q4SCe9Mr"
      },
      "source": [
        "Please submit with outputs. Submissions without predicted outputs will be penalized."
      ]
    },
    {
      "cell_type": "markdown",
      "metadata": {
        "id": "IXdkhxZAXnTW"
      },
      "source": [
        "# Word Based LSTM model"
      ]
    },
    {
      "cell_type": "code",
      "metadata": {
        "id": "FbU5DRolXseI"
      },
      "source": [
        "from keras.models import Sequential\n",
        "from keras.layers import Dense, Embedding\n",
        "from keras.layers import Dropout\n",
        "from keras.layers import LSTM\n",
        "from keras.callbacks import ModelCheckpoint\n",
        "from keras.utils import np_utils\n",
        "import numpy\n",
        "import re\n",
        "import pandas as pd\n",
        "import numpy as np\n",
        "from sklearn.model_selection import train_test_split\n",
        "from keras.preprocessing.text import Tokenizer\n",
        "from keras.preprocessing.sequence import pad_sequences\n",
        "import keras"
      ],
      "execution_count": null,
      "outputs": []
    },
    {
      "cell_type": "markdown",
      "metadata": {
        "id": "d2NR3RFFYOT8"
      },
      "source": [
        "Do basic pre processing which includes lowering etc\n",
        "Check the dataset and apply suitable preprocessing."
      ]
    },
    {
      "cell_type": "code",
      "metadata": {
        "id": "iQvfF2NjXxGj",
        "outputId": "501e28d0-1e4f-4776-d40a-91335b0427b5",
        "colab": {
          "base_uri": "https://localhost:8080/"
        }
      },
      "source": [
        "# Load the data and preprocess data and store corpus in raw_text\n",
        "import nltk\n",
        "import nltk.data\n",
        "nltk.download('punkt')\n",
        "from nltk.tokenize import word_tokenize\n",
        "\n",
        "raw_text = nltk.data.load('corpus.txt', format='raw').decode('utf-8')\n",
        "\n",
        "# converting _very_ to very\n",
        "def preprocessor(match):\n",
        "  return re.sub(r'[_]', \"\", match.group())\n",
        "\n",
        "pattern = re.compile(r'[_]*[^\\s]+[_]+|[_]+[^\\s]+[_]*')\n",
        "raw_text = pattern.sub(preprocessor, raw_text)\n",
        "raw_text = re.sub(r'[^\\w\\s]', '', raw_text)"
      ],
      "execution_count": null,
      "outputs": [
        {
          "output_type": "stream",
          "text": [
            "[nltk_data] Downloading package punkt to /root/nltk_data...\n",
            "[nltk_data]   Unzipping tokenizers/punkt.zip.\n"
          ],
          "name": "stdout"
        }
      ]
    },
    {
      "cell_type": "code",
      "metadata": {
        "id": "wNNuir6rEsc3",
        "outputId": "4da83011-368c-4e33-dca8-0a7ebf4bedcf",
        "colab": {
          "base_uri": "https://localhost:8080/"
        }
      },
      "source": [
        "tokens = []\n",
        "for sentences in re.split(\"\\n\", raw_text):\n",
        "    curr_tokens = word_tokenize(sentences, language='english')\n",
        "    tokens.extend([token.lower() for token in curr_tokens if token.isalnum()]) \n",
        "\n",
        "print(f'The number of tokens = {len(tokens)}')\n",
        "print(f'The number of unique tokens = {len(set(tokens))}')"
      ],
      "execution_count": null,
      "outputs": [
        {
          "output_type": "stream",
          "text": [
            "The number of tokens = 26381\n",
            "The number of unique tokens = 2751\n"
          ],
          "name": "stdout"
        }
      ]
    },
    {
      "cell_type": "code",
      "metadata": {
        "id": "eug68GOecM8Z"
      },
      "source": [
        "# Hyperparameters of the model\n",
        "vocab_size = 2754 # choose based on statistics\n",
        "oov_tok = '<OOV>'\n",
        "embedding_dim = 100\n",
        "padding_type='post'\n",
        "trunc_type='post'"
      ],
      "execution_count": null,
      "outputs": []
    },
    {
      "cell_type": "code",
      "metadata": {
        "id": "bWNBOlJ5cQym",
        "outputId": "88eb1097-f802-48cc-d65c-e503cfd30be8",
        "colab": {
          "base_uri": "https://localhost:8080/"
        }
      },
      "source": [
        "# tokenize sentences\n",
        "tokenizer = Tokenizer(num_words = vocab_size, lower=True, oov_token=oov_tok)\n",
        "tokenizer.fit_on_texts([raw_text])\n",
        "word_index = tokenizer.word_index\n",
        "print(word_index)"
      ],
      "execution_count": null,
      "outputs": [
        {
          "output_type": "stream",
          "text": [
            "{'<OOV>': 1, 'the': 2, 'and': 3, 'to': 4, 'a': 5, 'she': 6, 'it': 7, 'of': 8, 'said': 9, 'i': 10, 'alice': 11, 'in': 12, 'you': 13, 'was': 14, 'that': 15, 'as': 16, 'her': 17, 'at': 18, 'on': 19, 'with': 20, 'all': 21, 'had': 22, 'but': 23, 'for': 24, 'so': 25, 'be': 26, 'very': 27, 'not': 28, 'what': 29, 'this': 30, 'little': 31, 'they': 32, 'he': 33, 'out': 34, 'its': 35, 'is': 36, 'down': 37, 'one': 38, 'up': 39, 'his': 40, 'about': 41, 'if': 42, 'then': 43, 'no': 44, 'were': 45, 'like': 46, 'know': 47, 'them': 48, 'would': 49, 'went': 50, 'herself': 51, 'again': 52, 'do': 53, 'have': 54, 'when': 55, 'could': 56, 'or': 57, 'there': 58, 'thought': 59, 'off': 60, 'time': 61, 'me': 62, 'queen': 63, 'into': 64, 'see': 65, 'how': 66, 'did': 67, 'your': 68, 'who': 69, 'king': 70, 'well': 71, 'dont': 72, 'began': 73, 'my': 74, 'an': 75, 'im': 76, 'now': 77, 'by': 78, 'mock': 79, 'turtle': 80, 'quite': 81, 'hatter': 82, 'gryphon': 83, 'think': 84, 'are': 85, 'way': 86, 'their': 87, 'much': 88, 'just': 89, 'some': 90, 'say': 91, 'go': 92, 'first': 93, 'which': 94, 'only': 95, 'thing': 96, 'here': 97, 'head': 98, 'more': 99, 'voice': 100, 'get': 101, 'looked': 102, 'never': 103, 'come': 104, 'got': 105, 'must': 106, 'rabbit': 107, 'after': 108, 'such': 109, 'round': 110, 'him': 111, 'over': 112, 'came': 113, 'tone': 114, 'great': 115, 'why': 116, 'other': 117, 'any': 118, 'two': 119, 'duchess': 120, 'dormouse': 121, 'oh': 122, 'mouse': 123, 'been': 124, 'back': 125, 'before': 126, 'from': 127, 'cat': 128, 'nothing': 129, 'ive': 130, 'can': 131, 'large': 132, 'thats': 133, 'ill': 134, 'last': 135, 'march': 136, 'once': 137, 'found': 138, 'long': 139, 'put': 140, 'right': 141, 'tell': 142, 'will': 143, 'hare': 144, 'made': 145, 'white': 146, 'next': 147, 'heard': 148, 'looking': 149, 'dear': 150, 'moment': 151, 'door': 152, 'we': 153, 'replied': 154, 'look': 155, 'things': 156, 'might': 157, 'cant': 158, 'eyes': 159, 'seemed': 160, 'going': 161, 'should': 162, 'poor': 163, 'caterpillar': 164, 'make': 165, 'too': 166, 'upon': 167, 'three': 168, 'without': 169, 'day': 170, 'shall': 171, 'rather': 172, 'soon': 173, 'away': 174, 'took': 175, 'good': 176, 'than': 177, 'while': 178, 'theres': 179, 'same': 180, 'sure': 181, 'wont': 182, 'course': 183, 'youre': 184, 'felt': 185, 'added': 186, 'getting': 187, 'another': 188, 'ever': 189, 'yet': 190, 'take': 191, 'words': 192, 'wish': 193, 'half': 194, 'find': 195, 'minute': 196, 'till': 197, 'sort': 198, 'hand': 199, 'however': 200, 'cried': 201, 'feet': 202, 'tried': 203, 'anything': 204, 'please': 205, 'curious': 206, 'being': 207, 'old': 208, 'use': 209, 'wonder': 210, 'even': 211, 'house': 212, 'end': 213, 'eat': 214, 'table': 215, 'something': 216, 'soup': 217, 'court': 218, 'let': 219, 'perhaps': 220, 'talking': 221, 'question': 222, 'side': 223, 'sat': 224, 'enough': 225, 'asked': 226, 'jury': 227, 'ran': 228, 'under': 229, 'bit': 230, 'turned': 231, 'high': 232, 'indeed': 233, 'hastily': 234, 'doesnt': 235, 'spoke': 236, 'near': 237, 'idea': 238, 'cats': 239, 'saying': 240, 'garden': 241, 'knew': 242, 'because': 243, 'gave': 244, 'am': 245, 'done': 246, 'called': 247, 'hear': 248, 'itself': 249, 'ought': 250, 'seen': 251, 'saw': 252, 'through': 253, 'didnt': 254, 'air': 255, 'remember': 256, 'low': 257, 'trying': 258, 'certainly': 259, 'face': 260, 'left': 261, 'anxiously': 262, 'set': 263, 'speak': 264, 'change': 265, 'these': 266, 'suppose': 267, 'talk': 268, 'us': 269, 'better': 270, 'silence': 271, 'both': 272, 'beautiful': 273, 'mad': 274, 'beginning': 275, 'suddenly': 276, 'close': 277, 'wouldnt': 278, 'still': 279, 'yes': 280, 'people': 281, 'behind': 282, 'begin': 283, 'really': 284, 'size': 285, 'grow': 286, 'far': 287, 'kept': 288, 'sea': 289, 'dodo': 290, 'whole': 291, 'where': 292, 'room': 293, 'gone': 294, 'may': 295, 'theyre': 296, 'cook': 297, 'dance': 298, 'chapter': 299, 'many': 300, 'among': 301, 'afraid': 302, 'every': 303, 'finished': 304, 'best': 305, 'game': 306, 'hardly': 307, 'deal': 308, 'give': 309, 'try': 310, 'used': 311, 'hands': 312, 'always': 313, 'turning': 314, 'bill': 315, 'arm': 316, 'pigeon': 317, 'baby': 318, 'tea': 319, 'majesty': 320, 'whether': 321, 'hurried': 322, 'though': 323, 'heads': 324, 'glad': 325, 'ask': 326, 'dinah': 327, 'alices': 328, 'hurry': 329, 'read': 330, 'waited': 331, 'minutes': 332, 'tears': 333, 'makes': 334, 'growing': 335, 'life': 336, 'thinking': 337, 'nearly': 338, 'id': 339, 'wasnt': 340, 'keep': 341, 'sitting': 342, 'having': 343, 'own': 344, 'mind': 345, 'either': 346, 'lessons': 347, 'word': 348, 'name': 349, 'else': 350, 'sight': 351, 'walked': 352, 'small': 353, 'opened': 354, 'those': 355, 'bottle': 356, 'children': 357, 'child': 358, 'pool': 359, 'foot': 360, 'yourself': 361, 'gloves': 362, 'fan': 363, 'queer': 364, 'everything': 365, 'youd': 366, 'offended': 367, 'creatures': 368, 'explain': 369, 'rest': 370, 'mean': 371, 'mouth': 372, 'turn': 373, 'repeated': 374, 'footman': 375, 'remarked': 376, 'remark': 377, 'soldiers': 378, 'witness': 379, 'coming': 380, 'couldnt': 381, 'answer': 382, 'matter': 383, 'hall': 384, 'glass': 385, 'key': 386, 'rate': 387, 'few': 388, 'waiting': 389, 'hold': 390, 'leave': 391, 'against': 392, 'want': 393, 'help': 394, 'different': 395, 'tail': 396, 'conversation': 397, 'birds': 398, 'continued': 399, 'believe': 400, 'call': 401, 'angrily': 402, 'shook': 403, 'does': 404, 'reason': 405, 'together': 406, 'shouted': 407, 'timidly': 408, 'serpent': 409, 'puzzled': 410, 'interrupted': 411, 'knave': 412, 'join': 413, 'sister': 414, 'feel': 415, 'making': 416, 'watch': 417, 'slowly': 418, 'happen': 419, 'noticed': 420, 'top': 421, 'opportunity': 422, 'itll': 423, 'seem': 424, 'dry': 425, 'fact': 426, 'followed': 427, 'lying': 428, 'work': 429, 'ready': 430, 'hard': 431, 'changed': 432, 'mine': 433, 'five': 434, 'live': 435, 'play': 436, 'hadnt': 437, 'beg': 438, 'our': 439, 'eagerly': 440, 'sit': 441, 'party': 442, 'meaning': 443, 'running': 444, 'everybody': 445, 'exactly': 446, 'story': 447, 'nobody': 448, 'window': 449, 'least': 450, 'place': 451, 'appeared': 452, 'each': 453, 'mushroom': 454, 'havent': 455, 'most': 456, 'nose': 457, 'pig': 458, 'asleep': 459, 'hearts': 460, 'twinkle': 461, 'queens': 462, 'gardeners': 463, 'moral': 464, 'whiting': 465, 'tired': 466, 'book': 467, 'world': 468, 'deep': 469, 'somebody': 470, 'fall': 471, 'listen': 472, 'manage': 473, 'begun': 474, 'dream': 475, 'middle': 476, 'wondering': 477, 'golden': 478, 'open': 479, 'larger': 480, 'bright': 481, 'happened': 482, 'neck': 483, 'drink': 484, 'feeling': 485, 'generally': 486, 'eye': 487, 'surprised': 488, 'shoes': 489, 'myself': 490, 'kind': 491, 'nonsense': 492, 'distance': 493, 'sir': 494, 'hair': 495, 'goes': 496, 'shes': 497, 'repeat': 498, 'learn': 499, 'frightened': 500, 'chin': 501, 'william': 502, 'history': 503, 'fetch': 504, 'lory': 505, 'has': 506, 'trial': 507, 'others': 508, 'stood': 509, 'grown': 510, 'business': 511, 'wood': 512, 'trees': 513, 'isnt': 514, 'draw': 515, 'silent': 516, 'pepper': 517, 'cheshire': 518, 'pleased': 519, 'song': 520, 'hedgehog': 521, 'lobster': 522, 'lobsters': 523, 'soooop': 524, 'tarts': 525, 'slates': 526, 'evidence': 527, 'stupid': 528, 'trouble': 529, 'late': 530, 'fell': 531, 'four': 532, 'nice': 533, 'written': 534, 'leaves': 535, 'jumped': 536, 'roof': 537, 'inches': 538, 'marked': 539, 'forgotten': 540, 'almost': 541, 'ten': 542, 'croquet': 543, 'english': 544, 'shant': 545, 'stop': 546, 'himself': 547, 'times': 548, 'seven': 549, 'grin': 550, 'understand': 551, 'sentence': 552, 'pardon': 553, 'trembling': 554, 'subject': 555, 'youll': 556, 'politely': 557, 'melancholy': 558, 'liked': 559, 'chorus': 560, 'executed': 561, 'broken': 562, 'full': 563, 'write': 564, 'loud': 565, 'sharp': 566, 'puppy': 567, 'arms': 568, 'father': 569, 'stand': 570, 'youth': 571, 'sleep': 572, 'youve': 573, 'sneezing': 574, 'between': 575, 'told': 576, 'ear': 577, 'wow': 578, 'dreadfully': 579, 'sing': 580, 'exclaimed': 581, 'breadandbutter': 582, 'twice': 583, 'hot': 584, 'sleepy': 585, 'across': 586, 'curiosity': 587, 'passed': 588, 'home': 589, 'likely': 590, 'aloud': 591, 'walk': 592, 'new': 593, 'asking': 594, 'sometimes': 595, 'walking': 596, 'ears': 597, 'sadly': 598, 'along': 599, 'shut': 600, 'simple': 601, 'cut': 602, 'finger': 603, 'nervous': 604, 'altogether': 605, 'fancy': 606, 'remembered': 607, 'happens': 608, 'pair': 609, 'nine': 610, 'until': 611, 'kid': 612, 'dropped': 613, 'usual': 614, 'morning': 615, 'ah': 616, 'lets': 617, 'wrong': 618, 'sounded': 619, 'strange': 620, 'seems': 621, 'stay': 622, 'sudden': 623, 'case': 624, 'number': 625, 'swam': 626, 'nearer': 627, 'speaking': 628, 'animals': 629, 'shrill': 630, 'angry': 631, 'crowded': 632, 'important': 633, 'notice': 634, 'whats': 635, 'prizes': 636, 'pocket': 637, 'dare': 638, 'confusion': 639, 'reply': 640, 'finish': 641, 'impatiently': 642, 'sighed': 643, 'temper': 644, 'young': 645, 'moved': 646, 'swim': 647, 'doing': 648, 'direction': 649, 'interesting': 650, 'chimney': 651, 'become': 652, 'shouldnt': 653, 'taking': 654, 'shriek': 655, 'drew': 656, 'instantly': 657, 'surprise': 658, 'lizard': 659, 'height': 660, 'quietly': 661, 'hookah': 662, 'man': 663, 'often': 664, 'eggs': 665, 'tree': 666, 'meant': 667, 'waving': 668, 'treacle': 669, 'piece': 670, 'faces': 671, 'procession': 672, 'rule': 673, 'pack': 674, 'knee': 675, 'whispered': 676, 'flamingo': 677, 'executioner': 678, 'tis': 679, 'school': 680, 'adventures': 681, 'jurymen': 682, 'pictures': 683, 'worth': 684, 'natural': 685, 'sides': 686, 'fear': 687, 'managed': 688, 'theyll': 689, 'true': 690, 'fallen': 691, 'earth': 692, 'several': 693, 'sound': 694, 'girl': 695, 'miss': 696, 'bats': 697, 'passage': 698, 'except': 699, 'tiny': 700, 'alas': 701, 'second': 702, 'led': 703, 'shoulders': 704, 'paper': 705, 'taught': 706, 'deeply': 707, 'ventured': 708, 'reach': 709, 'sharply': 710, 'severely': 711, 'box': 712, 'person': 713, 'care': 714, 'boots': 715, 'savage': 716, 'violently': 717, 'today': 718, 'age': 719, 'mabel': 720, 'besides': 721, 'puzzling': 722, 'twelve': 723, 'capital': 724, 'alone': 725, 'rabbits': 726, 'shrinking': 727, 'escape': 728, 'water': 729, 'digging': 730, 'french': 731, 'paws': 732, 'dogs': 733, 'says': 734, 'pale': 735, 'duck': 736, 'tale': 737, 'uncomfortable': 738, 'argument': 739, 'wanted': 740, 'frowning': 741, 'means': 742, 'solemnly': 743, 'pointing': 744, 'confused': 745, 'thimble': 746, 'short': 747, 'bowed': 748, 'judge': 749, 'breath': 750, 'tongue': 751, 'since': 752, 'vanished': 753, 'mary': 754, 'ann': 755, 'run': 756, 'theyd': 757, 'chance': 758, 'ordered': 759, 'answered': 760, 'outside': 761, 'yer': 762, 'honour': 763, 'sounds': 764, 'hearing': 765, 'fellow': 766, 'thank': 767, 'dead': 768, 'doubt': 769, 'lay': 770, 'crowd': 771, 'held': 772, 'guineapigs': 773, 'plan': 774, 'difficulty': 775, 'stick': 776, 'grass': 777, 'perfectly': 778, 'none': 779, 'stuff': 780, 'decidedly': 781, 'thoughtfully': 782, 'green': 783, 'screamed': 784, 'indignantly': 785, 'taken': 786, 'sky': 787, 'lives': 788, 'otherwise': 789, 'ground': 790, 'dish': 791, 'days': 792, 'kitchen': 793, 'jumping': 794, 'carried': 795, 'hours': 796, 'busily': 797, 'beat': 798, 'verse': 799, 'creature': 800, 'grunted': 801, 'less': 802, 'fast': 803, 'crumbs': 804, 'shoulder': 805, 'twinkling': 806, 'sigh': 807, 'bottom': 808, 'begins': 809, 'm': 810, 'rosetree': 811, 'consider': 812, 'arches': 813, 'players': 814, 'turtles': 815, 'quadrille': 816, 'sobs': 817, 'porpoise': 818, 'beauootiful': 819, 'trials': 820, 'jurybox': 821, 'jurors': 822, 'writing': 823, 'officers': 824, 'suppressed': 825, 'verses': 826, 'rabbithole': 827, 'peeped': 828, 'reading': 829, 'considering': 830, 'nor': 831, 'dark': 832, 'filled': 833, 'stairs': 834, 'miles': 835, 'somewhere': 836, 'knowledge': 837, 'grand': 838, 'funny': 839, 'listening': 840, 'shell': 841, 'hope': 842, 'mice': 843, 'catch': 844, 'bat': 845, 'hurt': 846, 'lost': 847, 'corner': 848, 'whiskers': 849, 'longer': 850, 'hanging': 851, 'delight': 852, 'telescope': 853, 'outoftheway': 854, 'impossible': 855, 'hoping': 856, 'rules': 857, 'poison': 858, 'certain': 859, 'later': 860, 'finding': 861, 'further': 862, 'candle': 863, 'decided': 864, 'possibly': 865, 'legs': 866, 'bring': 867, 'fond': 868, 'cake': 869, 'smaller': 870, 'holding': 871, 'remained': 872, 'expecting': 873, 'dull': 874, 'opening': 875, 'dears': 876, 'directions': 877, 'love': 878, 'cry': 879, 'pattering': 880, 'muttering': 881, 'timid': 882, 'yesterday': 883, 'night': 884, 'sorts': 885, 'doth': 886, 'crossed': 887, 'hoarse': 888, 'spread': 889, 'gently': 890, 'putting': 891, 'guess': 892, 'cause': 893, 'worse': 894, 'slipped': 895, 'general': 896, 'notion': 897, 'show': 898, 'fire': 899, 'throw': 900, 'passion': 901, 'shore': 902, 'eaglet': 903, 'caucusrace': 904, 'fur': 905, 'sulky': 906, 'allow': 907, 'crown': 908, 'move': 909, 'pressed': 910, 'handed': 911, 'gravely': 912, 'speech': 913, 'cheered': 914, 'grave': 915, 'solemn': 916, 'noise': 917, 'choked': 918, 'whisper': 919, 'sad': 920, 'sighing': 921, 'fury': 922, 'met': 923, 'attending': 924, 'pleaded': 925, 'easily': 926, 'joined': 927, 'pity': 928, 'crab': 929, 'particular': 930, 'venture': 931, 'carefully': 932, 'remarking': 933, 'suit': 934, 'mentioned': 935, 'guessed': 936, 'hunting': 937, 'mistake': 938, 'plate': 939, 'knocking': 940, 'real': 941, 'floor': 942, 'effect': 943, 'elbow': 944, 'whatever': 945, 'stopped': 946, 'forgetting': 947, 'bills': 948, 'em': 949, 'below': 950, 'master': 951, 'kick': 952, 'above': 953, 'sense': 954, 'moving': 955, 'cakes': 956, 'paw': 957, 'hungry': 958, 'picked': 959, 'edge': 960, 'immediately': 961, 'folded': 962, 'confusing': 963, 'brought': 964, 'remarks': 965, 'pray': 966, 'questions': 967, 'free': 968, 'shaking': 969, 'succeeded': 970, 'serpents': 971, 'girls': 972, 'tasted': 973, 'yours': 974, 'settled': 975, 'pieces': 976, 'nibbling': 977, 'bringing': 978, 'livery': 979, 'considered': 980, 'loudly': 981, 'letter': 982, 'order': 983, 'staring': 984, 'howling': 985, 'instance': 986, 'repeating': 987, 'hes': 988, 'nursing': 989, 'courage': 990, 'grinned': 991, 'growl': 992, 'faster': 993, 'advantage': 994, 'tossing': 995, 'caught': 996, 'proper': 997, 'sobbing': 998, 'instead': 999, 'civil': 1000, 'fun': 1001, 'breathe': 1002, 'butter': 1003, 'oclock': 1004, 'cautiously': 1005, 'music': 1006, 'fly': 1007, 'lady': 1008, 'lived': 1009, 'upset': 1010, 'croquetground': 1011, 'roses': 1012, 'beheaded': 1013, 'watching': 1014, 'checked': 1015, 'themselves': 1016, 'eager': 1017, 'guests': 1018, 'kings': 1019, 'cards': 1020, 'neednt': 1021, 'unfortunate': 1022, 'hush': 1023, 'hedgehogs': 1024, 'tucked': 1025, 'turns': 1026, 'alive': 1027, 'friend': 1028, 'anxious': 1029, 'duchesss': 1030, 'hers': 1031, 'tortoise': 1032, 'week': 1033, 'advance': 1034, 'figure': 1035, 'toes': 1036, 'mark': 1037, 'snail': 1038, 'tails': 1039, 'mouths': 1040, 'obliged': 1041, 'fish': 1042, 'follows': 1043, 'around': 1044, 'owl': 1045, 'panther': 1046, 'eeevening': 1047, 'trumpet': 1048, 'spectacles': 1049, 'verdict': 1050, 'teacup': 1051, 'wrote': 1052, 'list': 1053, 'unimportant': 1054, 'fit': 1055, 'bank': 1056, 'conversations': 1057, 'pleasure': 1058, 'picking': 1059, 'remarkable': 1060, 'afterwards': 1061, 'occurred': 1062, 'waistcoatpocket': 1063, 'started': 1064, 'hedge': 1065, 'straight': 1066, 'dipped': 1067, 'falling': 1068, 'plenty': 1069, 'cupboards': 1070, 'jar': 1071, 'underneath': 1072, 'tumbling': 1073, 'thousand': 1074, 'learnt': 1075, 'showing': 1076, 'latitude': 1077, 'longitude': 1078, 'presently': 1079, 'dinahll': 1080, 'teatime': 1081, 'earnestly': 1082, 'thump': 1083, 'wind': 1084, 'row': 1085, 'doors': 1086, 'threelegged': 1087, 'locks': 1088, 'longed': 1089, 'flowers': 1090, 'cool': 1091, 'fountains': 1092, 'shutting': 1093, 'label': 1094, 'beautifully': 1095, 'wise': 1096, 'wild': 1097, 'beasts': 1098, 'unpleasant': 1099, 'friends': 1100, 'burn': 1101, 'knife': 1102, 'usually': 1103, 'sooner': 1104, 'taste': 1105, 'mixed': 1106, 'brightened': 1107, 'lovely': 1108, 'crying': 1109, 'advice': 1110, 'playing': 1111, 'ii': 1112, 'curiouser': 1113, 'forgot': 1114, 'sending': 1115, 'presents': 1116, 'ones': 1117, 'struck': 1118, 'ashamed': 1119, 'trotting': 1120, 'ringlets': 1121, 'knows': 1122, 'andoh': 1123, 'six': 1124, 'isoh': 1125, 'paris': 1126, 'lap': 1127, 'neatly': 1128, 'claws': 1129, 'smiling': 1130, 'jaws': 1131, 'rapidly': 1132, 'narrow': 1133, 'declare': 1134, 'bad': 1135, 'salt': 1136, 'railway': 1137, 'conclusion': 1138, 'wherever': 1139, 'splashing': 1140, 'o': 1141, 'swimming': 1142, 'wink': 1143, 'conqueror': 1144, 'clear': 1145, 'ago': 1146, 'ma': 1147, 'fright': 1148, 'feelings': 1149, 'quiet': 1150, 'purring': 1151, 'nicely': 1152, 'washing': 1153, 'catching': 1154, 'dog': 1155, 'brown': 1156, 'dinner': 1157, 'themand': 1158, 'belongs': 1159, 'useful': 1160, 'sorrowful': 1161, 'assembled': 1162, 'wet': 1163, 'older': 1164, 'knowing': 1165, 'authority': 1166, 'ring': 1167, 'whose': 1168, 'edwin': 1169, 'morcar': 1170, 'earls': 1171, 'mercia': 1172, 'northumbria': 1173, 'ugh': 1174, 'proceed': 1175, 'archbishop': 1176, 'advisable': 1177, 'frog': 1178, 'hurriedly': 1179, 'meet': 1180, 'offer': 1181, 'smile': 1182, 'easy': 1183, 'race': 1184, 'hour': 1185, 'panting': 1186, 'won': 1187, 'forehead': 1188, 'position': 1189, 'voices': 1190, 'comfits': 1191, 'luckily': 1192, 'absurd': 1193, 'simply': 1194, 'caused': 1195, 'law': 1196, 'wasting': 1197, 'humbly': 1198, 'bend': 1199, 'knot': 1200, 'shed': 1201, 'bird': 1202, 'sensation': 1203, 'throat': 1204, 'lonely': 1205, 'footsteps': 1206, 'ferrets': 1207, 'nowhere': 1208, 'quick': 1209, 'messages': 1210, 'directly': 1211, 'nurse': 1212, 'ordering': 1213, 'drunk': 1214, 'stoop': 1215, 'curled': 1216, 'unhappy': 1217, 'fancied': 1218, 'trembled': 1219, 'proved': 1220, 'snatch': 1221, 'crash': 1222, 'concluded': 1223, 'pat': 1224, 'apples': 1225, 'goose': 1226, 'wheres': 1227, 'feeble': 1228, 'squeaking': 1229, 'comes': 1230, 'barrowful': 1231, 'shower': 1232, 'pebbles': 1233, 'rattling': 1234, 'hit': 1235, 'delighted': 1236, 'giving': 1237, 'rush': 1238, 'safe': 1239, 'wandered': 1240, 'excellent': 1241, 'smallest': 1242, 'bark': 1243, 'stretching': 1244, 'coaxing': 1245, 'thistle': 1246, 'stretched': 1247, 'tiptoe': 1248, 'smoking': 1249, 'addressed': 1250, 'encouraging': 1251, 'contemptuously': 1252, 'anger': 1253, 'unfolded': 1254, 'busy': 1255, 'sell': 1256, 'weak': 1257, 'lasted': 1258, 'clever': 1259, 'changing': 1260, 'wretched': 1261, 'patiently': 1262, 'chose': 1263, 'yawned': 1264, 'merely': 1265, 'taller': 1266, 'shorter': 1267, 'difficult': 1268, 'broke': 1269, 'nibbled': 1270, 'righthand': 1271, 'violent': 1272, 'blow': 1273, 'lefthand': 1274, 'alarm': 1275, 'follow': 1276, 'distant': 1277, 'wandering': 1278, 'beating': 1279, 'doubtfully': 1280, 'changes': 1281, 'telling': 1282, 'matters': 1283, 'entangled': 1284, 'branches': 1285, 'fishfootman': 1286, 'invitation': 1287, 'laughed': 1288, 'secondly': 1289, 'inside': 1290, 'extraordinary': 1291, 'constant': 1292, 'dreadful': 1293, 'muttered': 1294, 'drive': 1295, 'leaning': 1296, 'stirring': 1297, 'cauldron': 1298, 'moments': 1299, 'pause': 1300, 'sneeze': 1301, 'introduce': 1302, 'throwing': 1303, 'plates': 1304, 'dishes': 1305, 'already': 1306, 'takes': 1307, 'twentyfour': 1308, 'hint': 1309, 'singing': 1310, 'line': 1311, 'boy': 1312, 'sneezes': 1313, 'sang': 1314, 'thoroughly': 1315, 'threw': 1316, 'missed': 1317, 'twist': 1318, 'also': 1319, 'extremely': 1320, 'neither': 1321, 'ugly': 1322, 'pigs': 1323, 'startled': 1324, 'explanation': 1325, 'denied': 1326, 'invited': 1327, 'became': 1328, 'appear': 1329, 'hatters': 1330, 'raving': 1331, 'giddy': 1332, 'shaped': 1333, 'raised': 1334, 'teaparty': 1335, 'front': 1336, 'using': 1337, 'cushion': 1338, 'resting': 1339, 'wine': 1340, 'laid': 1341, 'wants': 1342, 'personal': 1343, 'rude': 1344, 'wide': 1345, 'break': 1346, 'month': 1347, 'uneasily': 1348, 'meekly': 1349, 'cup': 1350, 'tells': 1351, 'year': 1352, 'clock': 1353, 'halfpast': 1354, 'spoon': 1355, 'concert': 1356, 'pinch': 1357, 'weve': 1358, 'wash': 1359, 'yawning': 1360, 'wake': 1361, 'pinched': 1362, 'sisters': 1363, 'names': 1364, 'living': 1365, 'triumphantly': 1366, 'sh': 1367, 'sulkily': 1368, 'learning': 1369, 'interrupting': 1370, 'rubbing': 1371, 'manner': 1372, 'closed': 1373, 'everythings': 1374, 'painting': 1375, 'red': 1376, 'flat': 1377, 'carrying': 1378, 'courtiers': 1379, 'ornamented': 1380, 'royal': 1381, 'mostly': 1382, 'crimson': 1383, 'doubtful': 1384, 'lie': 1385, 'smiled': 1386, 'fine': 1387, 'execution': 1388, 'scream': 1389, 'flamingoes': 1390, 'body': 1391, 'laughing': 1392, 'unrolled': 1393, 'quarrelling': 1394, 'stamping': 1395, 'shouting': 1396, 'dispute': 1397, 'removed': 1398, 'fight': 1399, 'collected': 1400, 'unless': 1401, 'entirely': 1402, 'disappeared': 1403, 'wildly': 1404, 'forget': 1405, 'hasnt': 1406, 'tut': 1407, 'keeping': 1408, 'games': 1409, 'experiment': 1410, 'bite': 1411, 'mustard': 1412, 'agree': 1413, 'imagine': 1414, 'present': 1415, 'choice': 1416, 'custody': 1417, 'executions': 1418, 'sun': 1419, 'watched': 1420, 'heart': 1421, 'sorrow': 1422, 'heavy': 1423, 'proud': 1424, 'relief': 1425, 'regular': 1426, 'uglification': 1427, 'mystery': 1428, 'recovered': 1429, 'delightful': 1430, 'dancing': 1431, 'treading': 1432, 'kindly': 1433, 'dinn': 1434, 'thoughts': 1435, 'part': 1436, 'editions': 1437, 'tones': 1438, 'persisted': 1439, 'pie': 1440, 'evening': 1441, 'cares': 1442, 'stole': 1443, 'scroll': 1444, 'parchment': 1445, 'wig': 1446, 'quickly': 1447, 'slate': 1448, 'blew': 1449, 'blasts': 1450, 'summer': 1451, 'sent': 1452, 'fashion': 1453, 'singers': 1454, 'deny': 1455, 'miserable': 1456, 'guineapig': 1457, 'crossexamine': 1458, 'undertone': 1459, 'goldfish': 1460, 'accident': 1461, 'notebook': 1462, 'mile': 1463, 'directed': 1464, 'signed': 1465, 'proves': 1466, 'returned': 1467, 'atom': 1468, 'wonderful': 1469, 'teacups': 1470, 'wonderland': 1471, 'daisychain': 1472, 'daisies': 1473, 'pink': 1474, 'wondered': 1475, 'actually': 1476, 'flashed': 1477, 'burning': 1478, 'field': 1479, 'fortunately': 1480, 'pop': 1481, 'tunnel': 1482, 'stopping': 1483, 'bookshelves': 1484, 'maps': 1485, 'hung': 1486, 'pegs': 1487, 'shelves': 1488, 'labelled': 1489, 'orange': 1490, 'marmalade': 1491, 'disappointment': 1492, 'empty': 1493, 'drop': 1494, 'killing': 1495, 'past': 1496, 'brave': 1497, 'centre': 1498, 'schoolroom': 1499, 'practice': 1500, 'distancebut': 1501, 'downward': 1502, 'antipathies': 1503, 'country': 1504, 'maam': 1505, 'zealand': 1506, 'australia': 1507, 'curtsey': 1508, 'spokefancy': 1509, 'curtseying': 1510, 'ignorant': 1511, 'tonight': 1512, 'saucer': 1513, 'milk': 1514, 'dreamy': 1515, 'dozing': 1516, 'truth': 1517, 'heap': 1518, 'sticks': 1519, 'overhead': 1520, 'hurrying': 1521, 'lit': 1522, 'lamps': 1523, 'locked': 1524, 'solid': 1525, 'belong': 1526, 'curtain': 1527, 'fifteen': 1528, 'lock': 1529, 'fitted': 1530, 'rathole': 1531, 'knelt': 1532, 'loveliest': 1533, 'wander': 1534, 'beds': 1535, 'doorway': 1536, 'lately': 1537, 'telescopes': 1538, 'printed': 1539, 'letters': 1540, 'histories': 1541, 'burnt': 1542, 'eaten': 1543, 'redhot': 1544, 'poker': 1545, 'bleeds': 1546, 'disagree': 1547, 'flavour': 1548, 'cherrytart': 1549, 'custard': 1550, 'pineapple': 1551, 'roast': 1552, 'turkey': 1553, 'toffee': 1554, 'buttered': 1555, 'toast': 1556, 'shrink': 1557, 'flame': 1558, 'blown': 1559, 'plainly': 1560, 'climb': 1561, 'slippery': 1562, 'advise': 1563, 'seldom': 1564, 'scolded': 1565, 'cheated': 1566, 'pretending': 1567, 'pretend': 1568, 'respectable': 1569, 'currants': 1570, 'creep': 1571, 'ate': 1572, 'eats': 1573, 'common': 1574, 'largest': 1575, 'goodbye': 1576, 'stockings': 1577, 'able': 1578, 'canbut': 1579, 'christmas': 1580, 'planning': 1581, 'carrier': 1582, 'odd': 1583, 'esq': 1584, 'hearthrug': 1585, 'fender': 1586, 'hopeless': 1587, 'shedding': 1588, 'gallons': 1589, 'reaching': 1590, 'dried': 1591, 'returning': 1592, 'splendidly': 1593, 'dressed': 1594, 'desperate': 1595, 'skurried': 1596, 'darkness': 1597, 'fanning': 1598, 'puzzle': 1599, 'ada': 1600, 'thirteen': 1601, 'twenty': 1602, 'multiplication': 1603, 'signify': 1604, 'geography': 1605, 'london': 1606, 'rome': 1607, 'romeno': 1608, 'crocodile': 1609, 'improve': 1610, 'shining': 1611, 'pour': 1612, 'waters': 1613, 'nile': 1614, 'scale': 1615, 'cheerfully': 1616, 'welcome': 1617, 'fishes': 1618, 'poky': 1619, 'toys': 1620, 'elsebut': 1621, 'burst': 1622, 'measure': 1623, 'avoid': 1624, 'existence': 1625, 'speed': 1626, 'splash': 1627, 'somehow': 1628, 'seaside': 1629, 'coast': 1630, 'bathing': 1631, 'machines': 1632, 'sand': 1633, 'wooden': 1634, 'spades': 1635, 'lodging': 1636, 'houses': 1637, 'station': 1638, 'wept': 1639, 'punished': 1640, 'drowned': 1641, 'walrus': 1642, 'hippopotamus': 1643, 'harm': 1644, 'brothers': 1645, 'latin': 1646, 'grammar': 1647, 'mouseof': 1648, 'mouseto': 1649, 'mousea': 1650, 'mouseo': 1651, 'inquisitively': 1652, 'daresay': 1653, 'où': 1654, 'est': 1655, 'chatte': 1656, 'lessonbook': 1657, 'leap': 1658, 'quiver': 1659, 'passionate': 1660, 'soothing': 1661, 'lazily': 1662, 'sits': 1663, 'licking': 1664, 'faceand': 1665, 'soft': 1666, 'nurseand': 1667, 'miceoh': 1668, 'bristling': 1669, 'family': 1670, 'hated': 1671, 'nasty': 1672, 'vulgar': 1673, 'youare': 1674, 'fondofof': 1675, 'brighteyed': 1676, 'terrier': 1677, 'curly': 1678, 'thingsi': 1679, 'farmer': 1680, 'hundred': 1681, 'pounds': 1682, 'kills': 1683, 'rats': 1684, 'commotion': 1685, 'softly': 1686, 'hate': 1687, 'iii': 1688, 'queerlooking': 1689, 'bankthe': 1690, 'draggled': 1691, 'feathers': 1692, 'clinging': 1693, 'dripping': 1694, 'cross': 1695, 'consultation': 1696, 'familiarly': 1697, 'known': 1698, 'positively': 1699, 'refused': 1700, 'fixed': 1701, 'cold': 1702, 'ahem': 1703, 'driest': 1704, 'favoured': 1705, 'pope': 1706, 'submitted': 1707, 'leaders': 1708, 'accustomed': 1709, 'usurpation': 1710, 'conquest': 1711, 'shiver': 1712, 'declared': 1713, 'stigand': 1714, 'patriotic': 1715, 'canterbury': 1716, 'crossly': 1717, 'worm': 1718, 'edgar': 1719, 'atheling': 1720, 'williams': 1721, 'conduct': 1722, 'moderate': 1723, 'insolence': 1724, 'normans': 1725, 'rising': 1726, 'meeting': 1727, 'adjourn': 1728, 'immediate': 1729, 'adoption': 1730, 'energetic': 1731, 'remedies': 1732, 'bent': 1733, 'hide': 1734, 'tittered': 1735, 'audibly': 1736, 'paused': 1737, 'inclined': 1738, 'winter': 1739, 'racecourse': 1740, 'circle': 1741, 'exact': 1742, 'shape': 1743, 'placed': 1744, 'shakespeare': 1745, 'calling': 1746, 'despair': 1747, 'pulled': 1748, 'apiece': 1749, 'prize': 1750, 'presented': 1751, 'acceptance': 1752, 'elegant': 1753, 'laugh': 1754, 'complained': 1755, 'theirs': 1756, 'patted': 1757, 'begged': 1758, 'promised': 1759, 'hatec': 1760, 'd': 1761, 'mouses': 1762, 'prosecute': 1763, 'youcome': 1764, 'denial': 1765, 'cur': 1766, 'cunning': 1767, 'condemn': 1768, 'death': 1769, 'fifth': 1770, 'undo': 1771, 'insult': 1772, 'growled': 1773, 'quicker': 1774, 'daughter': 1775, 'lesson': 1776, 'lose': 1777, 'snappishly': 1778, 'patience': 1779, 'oyster': 1780, 'addressing': 1781, 'pet': 1782, 'dinahs': 1783, 'magpie': 1784, 'wrapping': 1785, 'nightair': 1786, 'canary': 1787, 'bed': 1788, 'various': 1789, 'pretexts': 1790, 'lowspirited': 1791, 'iv': 1792, 'sends': 1793, 'goodnaturedly': 1794, 'seeneverything': 1795, 'completely': 1796, 'pointed': 1797, 'housemaid': 1798, 'hell': 1799, 'finds': 1800, 'glovesthat': 1801, 'neat': 1802, 'brass': 1803, 'w': 1804, 'engraved': 1805, 'upstairs': 1806, 'lest': 1807, 'fancying': 1808, 'tidy': 1809, 'hoped': 1810, 'pairs': 1811, 'lookingglass': 1812, 'nevertheless': 1813, 'uncorked': 1814, 'lips': 1815, 'whenever': 1816, 'expected': 1817, 'pressing': 1818, 'ceiling': 1819, 'save': 1820, 'enoughi': 1821, 'moreas': 1822, 'doori': 1823, 'kneel': 1824, 'resource': 1825, 'magic': 1826, 'grew': 1827, 'pleasanter': 1828, 'rabbitholeand': 1829, 'yetand': 1830, 'yetits': 1831, 'fairytales': 1832, 'onebut': 1833, 'thatll': 1834, 'comfort': 1835, 'waynever': 1836, 'womanbut': 1837, 'thenalways': 1838, 'foolish': 1839, 'lessonbooks': 1840, 'inwards': 1841, 'attempt': 1842, 'failure': 1843, 'possible': 1844, 'cucumberframe': 1845, 'voicethe': 1846, 'rabbitspat': 1847, 'pronounced': 1848, 'arrum': 1849, 'fills': 1850, 'whispers': 1851, 'coward': 1852, 'shrieks': 1853, 'cucumberframes': 1854, 'pulling': 1855, 'rumbling': 1856, 'cartwheels': 1857, 'ladderwhy': 1858, 'otherbill': 1859, 'ladhere': 1860, 'cornerno': 1861, 'tie': 1862, 'firstthey': 1863, 'yetoh': 1864, 'particularhere': 1865, 'ropewill': 1866, 'bearmind': 1867, 'loose': 1868, 'slateoh': 1869, 'crashnow': 1870, 'thatit': 1871, 'fancywhos': 1872, 'chimneynay': 1873, 'itthat': 1874, 'thenbills': 1875, 'downhere': 1876, 'shy': 1877, 'fireplace': 1878, 'animal': 1879, 'scratching': 1880, 'scrambling': 1881, 'alongcatch': 1882, 'voiceshold': 1883, 'headbrandy': 1884, 'nowdont': 1885, 'choke': 1886, 'himhow': 1887, 'knowno': 1888, 'ye': 1889, 'nowbut': 1890, 'flustered': 1891, 'youall': 1892, 'jackinthebox': 1893, 'skyrocket': 1894, 'produced': 1895, 'swallowed': 1896, 'thick': 1897, 'arranged': 1898, 'peering': 1899, 'enormous': 1900, 'feebly': 1901, 'touch': 1902, 'whistle': 1903, 'terribly': 1904, 'spite': 1905, 'whereupon': 1906, 'yelp': 1907, 'rushed': 1908, 'worry': 1909, 'dodged': 1910, 'tumbled': 1911, 'heels': 1912, 'carthorse': 1913, 'trampled': 1914, 'series': 1915, 'charges': 1916, 'forwards': 1917, 'barking': 1918, 'hoarsely': 1919, 'puppys': 1920, 'faint': 1921, 'leant': 1922, 'buttercup': 1923, 'fanned': 1924, 'teaching': 1925, 'tricks': 1926, 'ifif': 1927, 'seehow': 1928, 'blades': 1929, 'circumstances': 1930, 'v': 1931, 'languid': 1932, 'shyly': 1933, 'presentat': 1934, 'sternly': 1935, 'clearly': 1936, 'sizes': 1937, 'chrysalisyou': 1938, 'knowand': 1939, 'butterfly': 1940, 'irritated': 1941, 'caterpillars': 1942, 'state': 1943, 'promising': 1944, 'swallowing': 1945, 'wait': 1946, 'puffed': 1947, 'usedand': 1948, 'bee': 1949, 'incessantly': 1950, 'son': 1951, 'feared': 1952, 'injure': 1953, 'brain': 1954, 'uncommonly': 1955, 'fat': 1956, 'backsomersault': 1957, 'sage': 1958, 'grey': 1959, 'limbs': 1960, 'supple': 1961, 'ointmentone': 1962, 'shilling': 1963, 'couple': 1964, 'tougher': 1965, 'suet': 1966, 'bones': 1967, 'beak': 1968, 'argued': 1969, 'wife': 1970, 'muscular': 1971, 'strength': 1972, 'jaw': 1973, 'steady': 1974, 'balanced': 1975, 'eel': 1976, 'awfully': 1977, 'airs': 1978, 'altered': 1979, 'contradicted': 1980, 'losing': 1981, 'content': 1982, 'rearing': 1983, 'upright': 1984, 'piteous': 1985, 'crawled': 1986, 'closely': 1987, 'swallow': 1988, 'morsel': 1989, 'immense': 1990, 'length': 1991, 'rise': 1992, 'stalk': 1993, 'result': 1994, 'curving': 1995, 'graceful': 1996, 'zigzag': 1997, 'dive': 1998, 'tops': 1999, 'hiss': 2000, 'flown': 2001, 'wings': 2002, 'subdued': 2003, 'sob': 2004, 'roots': 2005, 'banks': 2006, 'hedges': 2007, 'pleasing': 2008, 'hatching': 2009, 'lookout': 2010, 'weeks': 2011, 'sorry': 2012, 'annoyed': 2013, 'highest': 2014, 'raising': 2015, 'needs': 2016, 'wriggling': 2017, 'aim': 2018, 'invent': 2019, 'iim': 2020, 'deepest': 2021, 'contempt': 2022, 'denying': 2023, 'egg': 2024, 'truthful': 2025, 'adding': 2026, 'raw': 2027, 'nest': 2028, 'crouched': 2029, 'untwist': 2030, 'gardenhow': 2031, 'whoever': 2032, 'frighten': 2033, 'wits': 2034, 'vi': 2035, 'woodshe': 2036, 'judging': 2037, 'fishand': 2038, 'rapped': 2039, 'knuckles': 2040, 'footmen': 2041, 'powdered': 2042, 'crept': 2043, 'producing': 2044, 'frogfootman': 2045, 'curls': 2046, 'stupidly': 2047, 'knocked': 2048, 'reasons': 2049, 'withina': 2050, 'kettle': 2051, 'knock': 2052, 'uncivil': 2053, 'questionshow': 2054, 'tomorrow': 2055, 'skimming': 2056, 'footmans': 2057, 'grazed': 2058, 'maybe': 2059, 'louder': 2060, 'argue': 2061, 'crazy': 2062, 'variations': 2063, 'whistling': 2064, 'desperately': 2065, 'idiotic': 2066, 'smoke': 2067, 'stool': 2068, 'sneezed': 2069, 'occasionally': 2070, 'alternately': 2071, 'hearth': 2072, 'grinning': 2073, 'manners': 2074, 'grins': 2075, 'violence': 2076, 'fix': 2077, 'within': 2078, 'babythe': 2079, 'fireirons': 2080, 'saucepans': 2081, 'blows': 2082, 'agony': 2083, 'terror': 2084, 'precious': 2085, 'unusually': 2086, 'saucepan': 2087, 'flew': 2088, 'minded': 2089, 'axis': 2090, 'axes': 2091, 'chop': 2092, 'glanced': 2093, 'bother': 2094, 'abide': 2095, 'figures': 2096, 'lullaby': 2097, 'shake': 2098, 'roughly': 2099, 'annoy': 2100, 'teases': 2101, 'howled': 2102, 'enjoy': 2103, 'pleases': 2104, 'flinging': 2105, 'fryingpan': 2106, 'queershaped': 2107, 'starfish': 2108, 'snorting': 2109, 'steamengine': 2110, 'doubling': 2111, 'straightening': 2112, 'tight': 2113, 'prevent': 2114, 'undoing': 2115, 'kill': 2116, 'murder': 2117, 'grunt': 2118, 'expressing': 2119, 'turnup': 2120, 'snout': 2121, 'seriously': 2122, 'sobbed': 2123, 'carry': 2124, 'relieved': 2125, 'trot': 2126, 'handsome': 2127, 'seeing': 2128, 'bough': 2129, 'yards': 2130, 'goodnatured': 2131, 'teeth': 2132, 'treated': 2133, 'respect': 2134, 'puss': 2135, 'wider': 2136, 'depends': 2137, 'visit': 2138, 'grant': 2139, 'growls': 2140, 'wags': 2141, 'wag': 2142, 'therefore': 2143, 'growling': 2144, 'happening': 2145, 'bythebye': 2146, 'madat': 2147, 'branch': 2148, 'fig': 2149, 'appearing': 2150, 'vanishing': 2151, 'ending': 2152, 'farther': 2153, 'chimneys': 2154, 'thatched': 2155, 'towards': 2156, 'vii': 2157, 'elbows': 2158, 'armchair': 2159, 'cutting': 2160, 'severity': 2161, 'raven': 2162, 'writingdesk': 2163, 'theyve': 2164, 'riddlesi': 2165, 'leastat': 2166, 'saythats': 2167, 'ravens': 2168, 'writingdesks': 2169, 'fourth': 2170, 'works': 2171, 'grumbled': 2172, 'breadknife': 2173, 'gloomily': 2174, 'readily': 2175, 'stays': 2176, 'poured': 2177, 'riddle': 2178, 'slightest': 2179, 'wearily': 2180, 'waste': 2181, 'riddles': 2182, 'answers': 2183, 'accounts': 2184, 'terms': 2185, 'hed': 2186, 'theni': 2187, 'mournfully': 2188, 'quarrelled': 2189, 'marchjust': 2190, 'given': 2191, 'teatray': 2192, 'bawled': 2193, 'murdering': 2194, 'mournful': 2195, 'teathings': 2196, 'whiles': 2197, 'vote': 2198, 'alarmed': 2199, 'proposal': 2200, 'fellows': 2201, 'elsie': 2202, 'lacie': 2203, 'tillie': 2204, 'interest': 2205, 'eating': 2206, 'drinking': 2207, 'ways': 2208, 'opinion': 2209, 'whos': 2210, 'helped': 2211, 'treaclewell': 2212, 'interrupt': 2213, 'consented': 2214, 'sistersthey': 2215, 'promise': 2216, 'clean': 2217, 'dormouses': 2218, 'unwillingly': 2219, 'milkjug': 2220, 'offend': 2221, 'waterwell': 2222, 'treaclewelleh': 2223, 'choosing': 2224, 'thingseverything': 2225, 'doze': 2226, 'woke': 2227, 'mousetraps': 2228, 'moon': 2229, 'memory': 2230, 'muchnessyou': 2231, 'muchnessdid': 2232, 'drawing': 2233, 'muchness': 2234, 'rudeness': 2235, 'bear': 2236, 'disgust': 2237, 'teapot': 2238, 'stupidest': 2239, 'leading': 2240, 'unlocking': 2241, 'thenshe': 2242, 'flowerbeds': 2243, 'viii': 2244, 'entrance': 2245, 'paint': 2246, 'jogged': 2247, 'blame': 2248, 'deserved': 2249, 'spoken': 2250, 'himit': 2251, 'tuliproots': 2252, 'onions': 2253, 'flung': 2254, 'brush': 2255, 'unjust': 2256, 'chanced': 2257, 'afore': 2258, 'clubs': 2259, 'oblong': 2260, 'corners': 2261, 'diamonds': 2262, 'merrily': 2263, 'couples': 2264, 'recognised': 2265, 'noticing': 2266, 'velvet': 2267, 'processions': 2268, 'opposite': 2269, 'idiot': 2270, 'pattern': 2271, 'backs': 2272, 'glaring': 2273, 'beast': 2274, 'bowing': 2275, 'humble': 2276, 'meanwhile': 2277, 'examining': 2278, 'remaining': 2279, 'execute': 2280, 'protection': 2281, 'flowerpot': 2282, 'marched': 2283, 'evidently': 2284, 'roared': 2285, 'itsits': 2286, 'peeping': 2287, 'boxed': 2288, 'laughter': 2289, 'places': 2290, 'thunder': 2291, 'ridges': 2292, 'furrows': 2293, 'balls': 2294, 'mallets': 2295, 'double': 2296, 'chief': 2297, 'managing': 2298, 'comfortably': 2299, 'straightened': 2300, 'expression': 2301, 'bursting': 2302, 'provoking': 2303, 'act': 2304, 'crawling': 2305, 'ridge': 2306, 'furrow': 2307, 'send': 2308, 'doubledup': 2309, 'parts': 2310, 'played': 2311, 'fighting': 2312, 'furious': 2313, 'uneasy': 2314, 'beheading': 2315, 'appearance': 2316, 'nodded': 2317, 'account': 2318, 'someone': 2319, 'fairly': 2320, 'complaining': 2321, 'quarrel': 2322, 'oneself': 2323, 'speakand': 2324, 'attends': 2325, 'arch': 2326, 'groundand': 2327, 'croqueted': 2328, 'win': 2329, 'finishing': 2330, 'minea': 2331, 'kiss': 2332, 'likes': 2333, 'impertinent': 2334, 'passing': 2335, 'settling': 2336, 'difficulties': 2337, 'screaming': 2338, 'search': 2339, 'engaged': 2340, 'croqueting': 2341, 'helpless': 2342, 'appealed': 2343, 'settle': 2344, 'arguments': 2345, 'executioners': 2346, 'werent': 2347, 'prison': 2348, 'arrow': 2349, 'fading': 2350, 'ix': 2351, 'affectionately': 2352, 'pleasant': 2353, 'hopeful': 2354, 'withoutmaybe': 2355, 'hottempered': 2356, 'vinegar': 2357, 'sourand': 2358, 'camomile': 2359, 'bitterandand': 2360, 'barleysugar': 2361, 'sweettempered': 2362, 'stingy': 2363, 'squeezed': 2364, 'closer': 2365, 'uncomfortably': 2366, 'bore': 2367, 'minding': 2368, 'istake': 2369, 'morals': 2370, 'waist': 2371, 'isbirds': 2372, 'feather': 2373, 'flock': 2374, 'mineral': 2375, 'mustardmine': 2376, 'isthe': 2377, 'attended': 2378, 'vegetable': 2379, 'isbe': 2380, 'beor': 2381, 'simplynever': 2382, 'cheap': 2383, 'birthday': 2384, 'dig': 2385, 'worried': 2386, 'died': 2387, 'favourite': 2388, 'linked': 2389, 'tremble': 2390, 'thunderstorm': 2391, 'fair': 2392, 'warning': 2393, 'absence': 2394, 'shade': 2395, 'delay': 2396, 'cost': 2397, 'whom': 2398, 'sentenced': 2399, 'company': 2400, 'pardoned': 2401, 'picture': 2402, 'lazy': 2403, 'leaving': 2404, 'rubbed': 2405, 'chuckled': 2406, 'executes': 2407, 'ledge': 2408, 'rock': 2409, 'pitied': 2410, 'hollow': 2411, 'occasional': 2412, 'exclamation': 2413, 'hjckrrh': 2414, 'calmly': 2415, 'turtlewe': 2416, 'sink': 2417, 'maynt': 2418, 'educationsin': 2419, 'dayschool': 2420, 'extras': 2421, 'learned': 2422, 'ours': 2423, 'washingextra': 2424, 'afford': 2425, 'inquired': 2426, 'reeling': 2427, 'writhing': 2428, 'arithmeticambition': 2429, 'distraction': 2430, 'derision': 2431, 'lifted': 2432, 'uglifying': 2433, 'beautify': 2434, 'meanstomakeanythingprettier': 2435, 'uglify': 2436, 'simpleton': 2437, 'encouraged': 2438, 'counting': 2439, 'subjects': 2440, 'flappers': 2441, 'ancient': 2442, 'modern': 2443, 'seaography': 2444, 'drawlingthe': 2445, 'drawlingmaster': 2446, 'congereel': 2447, 'drawling': 2448, 'fainting': 2449, 'coils': 2450, 'stiff': 2451, 'classics': 2452, 'grief': 2453, 'hid': 2454, 'lessen': 2455, 'eleventh': 2456, 'holiday': 2457, 'twelfth': 2458, 'x': 2459, 'flapper': 2460, 'bone': 2461, 'punching': 2462, 'cheeks': 2463, 'aliceand': 2464, 'introduced': 2465, 'form': 2466, 'seashore': 2467, 'lines': 2468, 'seals': 2469, 'salmon': 2470, 'cleared': 2471, 'jellyfish': 2472, 'partner': 2473, 'partners': 2474, 'retire': 2475, 'bound': 2476, 'somersault': 2477, 'capering': 2478, 'yelled': 2479, 'land': 2480, 'dropping': 2481, 'pretty': 2482, 'forepaws': 2483, 'shinglewill': 2484, 'askance': 2485, 'thanked': 2486, 'scaly': 2487, 'england': 2488, 'france': 2489, 'beloved': 2490, 'theyyouve': 2491, 'mouthsand': 2492, 'eyestell': 2493, 'thrown': 2494, 'shiny': 2495, 'blacking': 2496, 'soles': 2497, 'eels': 2498, 'shrimp': 2499, 'anywhere': 2500, 'journey': 2501, 'purpose': 2502, 'adventuresbeginning': 2503, 'impatient': 2504, 'explanations': 2505, 'gained': 2506, 'listeners': 2507, 'sluggard': 2508, 'baked': 2509, 'sugar': 2510, 'eyelids': 2511, 'trims': 2512, 'belt': 2513, 'buttons': 2514, 'sands': 2515, 'gay': 2516, 'lark': 2517, 'contemptuous': 2518, 'shark': 2519, 'tide': 2520, 'rises': 2521, 'sharks': 2522, 'tremulous': 2523, 'uncommon': 2524, 'explained': 2525, 'disobey': 2526, 'sharing': 2527, 'piecrust': 2528, 'gravy': 2529, 'meat': 2530, 'share': 2531, 'treat': 2532, 'boon': 2533, 'permitted': 2534, 'received': 2535, 'fork': 2536, 'banquet': 2537, 'hm': 2538, 'accounting': 2539, 'tastes': 2540, 'rich': 2541, 'tureen': 2542, 'dainties': 2543, 'p': 2544, 'ennyworth': 2545, 'pennyworth': 2546, 'panted': 2547, 'faintly': 2548, 'breeze': 2549, 'xi': 2550, 'seated': 2551, 'throne': 2552, 'arrived': 2553, 'themall': 2554, 'standing': 2555, 'chains': 2556, 'soldier': 2557, 'guard': 2558, 'themi': 2559, 'refreshments': 2560, 'pass': 2561, 'justice': 2562, 'books': 2563, 'wore': 2564, 'frontispiece': 2565, 'comfortable': 2566, 'becoming': 2567, 'rightly': 2568, 'indignant': 2569, 'spell': 2570, 'neighbour': 2571, 'muddle': 2572, 'slatesll': 2573, 'pencil': 2574, 'squeaked': 2575, 'juror': 2576, 'herald': 2577, 'accusation': 2578, 'arminarm': 2579, 'fourteenth': 2580, 'fifteenth': 2581, 'sixteenth': 2582, 'dates': 2583, 'reduced': 2584, 'shillings': 2585, 'pence': 2586, 'hat': 2587, 'stolen': 2588, 'memorandum': 2589, 'fidgeted': 2590, 'spot': 2591, 'encourage': 2592, 'shifting': 2593, 'remain': 2594, 'squeeze': 2595, 'boldly': 2596, 'reasonable': 2597, 'pace': 2598, 'ridiculous': 2599, 'teanot': 2600, 'soand': 2601, 'thinand': 2602, 't': 2603, 'dunce': 2604, 'twinkled': 2605, 'thatonly': 2606, 'denies': 2607, 'speaker': 2608, 'canvas': 2609, 'bag': 2610, 'tied': 2611, 'strings': 2612, 'newspapers': 2613, 'attempts': 2614, 'applause': 2615, 'understood': 2616, 'lower': 2617, 'officer': 2618, 'pepperbox': 2619, 'folding': 2620, 'collar': 2621, 'shrieked': 2622, 'behead': 2623, 'suppress': 2624, 'ache': 2625, 'fumbled': 2626, 'xii': 2627, 'flurry': 2628, 'tipped': 2629, 'skirt': 2630, 'upsetting': 2631, 'sprawling': 2632, 'reminding': 2633, 'globe': 2634, 'accidentally': 2635, 'dismay': 2636, 'vague': 2637, 'die': 2638, 'cannot': 2639, 'placesall': 2640, 'emphasis': 2641, 'haste': 2642, 'downwards': 2643, 'unable': 2644, 'signifies': 2645, 'shock': 2646, 'pencils': 2647, 'diligently': 2648, 'overcome': 2649, 'gazing': 2650, 'respectful': 2651, 'importantunimportantunimportantimportant': 2652, 'cackled': 2653, 'fortytwo': 2654, 'persons': 2655, 'invented': 2656, 'oldest': 2657, 'prisoner': 2658, 'toto': 2659, 'prisoners': 2660, 'handwriting': 2661, 'queerest': 2662, 'imitated': 2663, 'elses': 2664, 'prove': 2665, 'sign': 2666, 'mischief': 2667, 'honest': 2668, 'clapping': 2669, 'guilt': 2670, 'character': 2671, 'push': 2672, 'involved': 2673, 'affair': 2674, 'trusts': 2675, 'obstacle': 2676, 'ourselves': 2677, 'secret': 2678, 'sixpence': 2679, 'attempted': 2680, 'saves': 2681, 'spreading': 2682, 'cardboard': 2683, 'coursei': 2684, 'clearer': 2685, 'againbefore': 2686, 'fits': 2687, 'furiously': 2688, 'inkstand': 2689, 'ink': 2690, 'trickling': 2691, 'pun': 2692, 'twentieth': 2693, 'firstverdict': 2694, 'purple': 2695, 'rose': 2696, 'flying': 2697, 'brushing': 2698, 'fluttered': 2699, 'kissed': 2700, 'setting': 2701, 'dreaming': 2702, 'dreamed': 2703, 'clasped': 2704, 'hersshe': 2705, 'toss': 2706, 'eyesand': 2707, 'listened': 2708, 'rustled': 2709, 'bythe': 2710, 'splashed': 2711, 'neighbouring': 2712, 'poolshe': 2713, 'rattle': 2714, 'shared': 2715, 'neverending': 2716, 'meal': 2717, 'executiononce': 2718, 'pigbaby': 2719, 'crashed': 2720, 'itonce': 2721, 'lizards': 2722, 'slatepencil': 2723, 'choking': 2724, 'believed': 2725, 'realitythe': 2726, 'rustling': 2727, 'rippling': 2728, 'reedsthe': 2729, 'tinkling': 2730, 'sheepbells': 2731, 'cries': 2732, 'shepherd': 2733, 'boyand': 2734, 'noises': 2735, 'clamour': 2736, 'farmyardwhile': 2737, 'lowing': 2738, 'cattle': 2739, 'lastly': 2740, 'pictured': 2741, 'aftertime': 2742, 'woman': 2743, 'riper': 2744, 'years': 2745, 'loving': 2746, 'childhood': 2747, 'gather': 2748, 'sorrows': 2749, 'joys': 2750, 'remembering': 2751, 'childlife': 2752, 'happy': 2753}\n"
          ],
          "name": "stdout"
        }
      ]
    },
    {
      "cell_type": "code",
      "metadata": {
        "id": "LNRJDbFcdHbO",
        "outputId": "4f7468d1-b5c5-4362-8221-4656bb855358",
        "colab": {
          "base_uri": "https://localhost:8080/"
        }
      },
      "source": [
        "seq_length = 50\n",
        "tokens = tokenizer.texts_to_sequences([raw_text])[0]\n",
        "print(tokens)"
      ],
      "execution_count": null,
      "outputs": [
        {
          "output_type": "stream",
          "text": [
            "[299, 10, 37, 2, 827, 11, 14, 275, 4, 101, 27, 466, 8, 342, 78, 17, 414, 19, 2, 1056, 3, 8, 343, 129, 4, 53, 137, 57, 583, 6, 22, 828, 64, 2, 467, 17, 414, 14, 829, 23, 7, 22, 44, 683, 57, 1057, 12, 7, 3, 29, 36, 2, 209, 8, 5, 467, 59, 11, 169, 683, 57, 1057, 25, 6, 14, 830, 12, 17, 344, 345, 16, 71, 16, 6, 56, 24, 2, 584, 170, 145, 17, 415, 27, 585, 3, 528, 321, 2, 1058, 8, 416, 5, 1472, 49, 26, 684, 2, 529, 8, 187, 39, 3, 1059, 2, 1473, 55, 276, 5, 146, 107, 20, 1474, 159, 228, 277, 78, 17, 58, 14, 129, 25, 27, 1060, 12, 15, 831, 67, 11, 84, 7, 25, 27, 88, 34, 8, 2, 86, 4, 248, 2, 107, 91, 4, 249, 122, 150, 122, 150, 10, 171, 26, 530, 55, 6, 59, 7, 112, 1061, 7, 1062, 4, 17, 15, 6, 250, 4, 54, 1475, 18, 30, 23, 18, 2, 61, 7, 21, 160, 81, 685, 23, 55, 2, 107, 1476, 175, 5, 417, 34, 8, 35, 1063, 3, 102, 18, 7, 3, 43, 322, 19, 11, 1064, 4, 17, 202, 24, 7, 1477, 586, 17, 345, 15, 6, 22, 103, 126, 251, 5, 107, 20, 346, 5, 1063, 57, 5, 417, 4, 191, 34, 8, 7, 3, 1478, 20, 587, 6, 228, 586, 2, 1479, 108, 7, 3, 1480, 14, 89, 12, 61, 4, 65, 7, 1481, 37, 5, 132, 827, 229, 2, 1065, 12, 188, 151, 37, 50, 11, 108, 7, 103, 137, 830, 66, 12, 2, 468, 6, 14, 4, 101, 34, 52, 2, 827, 50, 1066, 19, 46, 5, 1482, 24, 90, 86, 3, 43, 1067, 276, 37, 25, 276, 15, 11, 22, 28, 5, 151, 4, 84, 41, 1483, 51, 126, 6, 138, 51, 1068, 37, 5, 27, 469, 71, 346, 2, 71, 14, 27, 469, 57, 6, 531, 27, 418, 24, 6, 22, 1069, 8, 61, 16, 6, 50, 37, 4, 155, 41, 17, 3, 4, 210, 29, 14, 161, 4, 419, 147, 93, 6, 203, 4, 155, 37, 3, 165, 34, 29, 6, 14, 380, 4, 23, 7, 14, 166, 832, 4, 65, 204, 43, 6, 102, 18, 2, 686, 8, 2, 71, 3, 420, 15, 32, 45, 833, 20, 1070, 3, 1484, 97, 3, 58, 6, 252, 1485, 3, 683, 1486, 167, 1487, 6, 175, 37, 5, 1071, 127, 38, 8, 2, 1488, 16, 6, 588, 7, 14, 1489, 1490, 1491, 23, 4, 17, 115, 1492, 7, 14, 1493, 6, 67, 28, 46, 4, 1494, 2, 1071, 24, 687, 8, 1495, 470, 1072, 25, 688, 4, 140, 7, 64, 38, 8, 2, 1070, 16, 6, 531, 1496, 7, 71, 59, 11, 4, 51, 108, 109, 5, 471, 16, 30, 10, 171, 84, 129, 8, 1073, 37, 834, 66, 1497, 689, 21, 84, 62, 18, 589, 116, 10, 278, 91, 204, 41, 7, 211, 42, 10, 531, 60, 2, 421, 8, 2, 212, 94, 14, 27, 590, 690, 37, 37, 37, 49, 2, 471, 103, 104, 4, 75, 213, 10, 210, 66, 300, 835, 130, 691, 78, 30, 61, 6, 9, 591, 10, 106, 26, 187, 836, 237, 2, 1498, 8, 2, 692, 219, 62, 65, 15, 49, 26, 532, 1074, 835, 37, 10, 84, 24, 13, 65, 11, 22, 1075, 693, 156, 8, 30, 198, 12, 17, 347, 12, 2, 1499, 3, 323, 30, 14, 28, 5, 27, 176, 422, 24, 1076, 60, 17, 837, 16, 58, 14, 44, 38, 4, 472, 4, 17, 279, 7, 14, 176, 1500, 4, 91, 7, 112, 280, 133, 41, 2, 141, 1501, 43, 10, 210, 29, 1077, 57, 1078, 130, 105, 4, 11, 22, 44, 238, 29, 1077, 14, 57, 1078, 346, 23, 59, 32, 45, 533, 838, 192, 4, 91, 1079, 6, 73, 52, 10, 210, 42, 10, 171, 471, 141, 253, 2, 692, 66, 839, 423, 424, 4, 104, 34, 301, 2, 281, 15, 592, 20, 87, 324, 1502, 2, 1503, 10, 84, 6, 14, 172, 325, 58, 14, 44, 38, 840, 30, 61, 16, 7, 254, 694, 18, 21, 2, 141, 348, 23, 10, 171, 54, 4, 326, 48, 29, 2, 349, 8, 2, 1504, 36, 13, 47, 205, 1505, 36, 30, 593, 1506, 57, 1507, 3, 6, 203, 4, 1508, 16, 6, 1509, 1510, 16, 184, 1068, 253, 2, 255, 53, 13, 84, 13, 56, 473, 7, 3, 29, 75, 1511, 31, 695, 841, 84, 62, 24, 594, 44, 423, 103, 53, 4, 326, 220, 10, 171, 65, 7, 534, 39, 836, 37, 37, 37, 58, 14, 129, 350, 4, 53, 25, 11, 173, 73, 221, 52, 1080, 696, 62, 27, 88, 1512, 10, 162, 84, 327, 14, 2, 128, 10, 842, 689, 256, 17, 1513, 8, 1514, 18, 1081, 327, 74, 150, 10, 193, 13, 45, 37, 97, 20, 62, 58, 85, 44, 843, 12, 2, 255, 76, 302, 23, 13, 157, 844, 5, 845, 3, 133, 27, 46, 5, 123, 13, 47, 23, 53, 239, 214, 697, 10, 210, 3, 97, 11, 73, 4, 101, 172, 585, 3, 50, 19, 240, 4, 51, 12, 5, 1515, 198, 8, 86, 53, 239, 214, 697, 53, 239, 214, 697, 3, 595, 53, 697, 214, 239, 24, 13, 65, 16, 6, 381, 382, 346, 222, 7, 254, 88, 383, 94, 86, 6, 140, 7, 6, 185, 15, 6, 14, 1516, 60, 3, 22, 89, 474, 4, 475, 15, 6, 14, 596, 199, 12, 199, 20, 327, 3, 240, 4, 17, 27, 1082, 77, 327, 142, 62, 2, 1517, 67, 13, 189, 214, 5, 845, 55, 276, 1083, 1083, 37, 6, 113, 167, 5, 1518, 8, 1519, 3, 425, 535, 3, 2, 471, 14, 112, 11, 14, 28, 5, 230, 846, 3, 6, 536, 39, 19, 4, 17, 202, 12, 5, 151, 6, 102, 39, 23, 7, 14, 21, 832, 1520, 126, 17, 14, 188, 139, 698, 3, 2, 146, 107, 14, 279, 12, 351, 1521, 37, 7, 58, 14, 28, 5, 151, 4, 26, 847, 174, 50, 11, 46, 2, 1084, 3, 14, 89, 12, 61, 4, 248, 7, 91, 16, 7, 231, 5, 848, 122, 74, 597, 3, 849, 66, 530, 35, 187, 6, 14, 277, 282, 7, 55, 6, 231, 2, 848, 23, 2, 107, 14, 44, 850, 4, 26, 251, 6, 138, 51, 12, 5, 139, 257, 384, 94, 14, 1522, 39, 78, 5, 1085, 8, 1523, 851, 127, 2, 537, 58, 45, 1086, 21, 110, 2, 384, 23, 32, 45, 21, 1524, 3, 55, 11, 22, 124, 21, 2, 86, 37, 38, 223, 3, 39, 2, 117, 258, 303, 152, 6, 352, 598, 37, 2, 476, 477, 66, 6, 14, 189, 4, 101, 34, 52, 276, 6, 113, 167, 5, 31, 1087, 215, 21, 145, 8, 1525, 385, 58, 14, 129, 19, 7, 699, 5, 700, 478, 386, 3, 328, 93, 59, 14, 15, 7, 157, 1526, 4, 38, 8, 2, 1086, 8, 2, 384, 23, 701, 346, 2, 1088, 45, 166, 132, 57, 2, 386, 14, 166, 353, 23, 18, 118, 387, 7, 49, 28, 479, 118, 8, 48, 200, 19, 2, 702, 61, 110, 6, 113, 167, 5, 257, 1527, 6, 22, 28, 420, 126, 3, 282, 7, 14, 5, 31, 152, 41, 1528, 538, 232, 6, 203, 2, 31, 478, 386, 12, 2, 1529, 3, 4, 17, 115, 852, 7, 1530, 11, 354, 2, 152, 3, 138, 15, 7, 703, 64, 5, 353, 698, 28, 88, 480, 177, 5, 1531, 6, 1532, 37, 3, 102, 599, 2, 698, 64, 2, 1533, 241, 13, 189, 252, 66, 6, 1089, 4, 101, 34, 8, 15, 832, 384, 3, 1534, 41, 301, 355, 1535, 8, 481, 1090, 3, 355, 1091, 1092, 23, 6, 56, 28, 211, 101, 17, 98, 253, 2, 1536, 3, 211, 42, 74, 98, 49, 92, 253, 59, 163, 11, 7, 49, 26, 8, 27, 31, 209, 169, 74, 704, 122, 66, 10, 193, 10, 56, 600, 39, 46, 5, 853, 10, 84, 10, 56, 42, 10, 95, 242, 66, 4, 283, 24, 13, 65, 25, 300, 854, 156, 22, 482, 1537, 15, 11, 22, 474, 4, 84, 15, 27, 388, 156, 233, 45, 284, 855, 58, 160, 4, 26, 44, 209, 12, 389, 78, 2, 31, 152, 25, 6, 50, 125, 4, 2, 215, 194, 856, 6, 157, 195, 188, 386, 19, 7, 57, 18, 118, 387, 5, 467, 8, 857, 24, 1093, 281, 39, 46, 1538, 30, 61, 6, 138, 5, 31, 356, 19, 7, 94, 259, 14, 28, 97, 126, 9, 11, 3, 110, 2, 483, 8, 2, 356, 14, 5, 705, 1094, 20, 2, 192, 484, 62, 1095, 1539, 19, 7, 12, 132, 1540, 7, 14, 21, 27, 71, 4, 91, 484, 62, 23, 2, 1096, 31, 11, 14, 28, 161, 4, 53, 15, 12, 5, 329, 44, 134, 155, 93, 6, 9, 3, 65, 321, 35, 539, 858, 57, 28, 24, 6, 22, 330, 693, 533, 31, 1541, 41, 357, 69, 22, 105, 1542, 3, 1543, 39, 78, 1097, 1098, 3, 117, 1099, 156, 21, 243, 32, 49, 28, 256, 2, 601, 857, 87, 1100, 22, 706, 48, 109, 16, 15, 5, 1544, 1545, 143, 1101, 13, 42, 13, 390, 7, 166, 139, 3, 15, 42, 13, 602, 68, 603, 27, 707, 20, 5, 1102, 7, 1103, 1546, 3, 6, 22, 103, 540, 15, 42, 13, 484, 88, 127, 5, 356, 539, 858, 7, 36, 541, 859, 4, 1547, 20, 13, 1104, 57, 860, 200, 30, 356, 14, 28, 539, 858, 25, 11, 708, 4, 1105, 7, 3, 861, 7, 27, 533, 7, 22, 12, 426, 5, 198, 8, 1106, 1548, 8, 1549, 1550, 1551, 1552, 1553, 1554, 3, 584, 1555, 1556, 6, 27, 173, 304, 7, 60, 29, 5, 206, 485, 9, 11, 10, 106, 26, 1093, 39, 46, 5, 853, 3, 25, 7, 14, 233, 6, 14, 77, 95, 542, 538, 232, 3, 17, 260, 1107, 39, 18, 2, 59, 15, 6, 14, 77, 2, 141, 285, 24, 161, 253, 2, 31, 152, 64, 15, 1108, 241, 93, 200, 6, 331, 24, 5, 388, 332, 4, 65, 42, 6, 14, 161, 4, 1557, 118, 862, 6, 185, 5, 31, 604, 41, 30, 24, 7, 157, 213, 13, 47, 9, 11, 4, 51, 12, 74, 161, 34, 605, 46, 5, 863, 10, 210, 29, 10, 162, 26, 46, 43, 3, 6, 203, 4, 606, 29, 2, 1558, 8, 5, 863, 36, 46, 108, 2, 863, 36, 1559, 34, 24, 6, 56, 28, 256, 189, 343, 251, 109, 5, 96, 108, 5, 178, 861, 15, 129, 99, 482, 6, 864, 19, 161, 64, 2, 241, 18, 137, 23, 701, 24, 163, 11, 55, 6, 105, 4, 2, 152, 6, 138, 6, 22, 540, 2, 31, 478, 386, 3, 55, 6, 50, 125, 4, 2, 215, 24, 7, 6, 138, 6, 56, 28, 865, 709, 7, 6, 56, 65, 7, 81, 1560, 253, 2, 385, 3, 6, 203, 17, 305, 4, 1561, 39, 38, 8, 2, 866, 8, 2, 215, 23, 7, 14, 166, 1562, 3, 55, 6, 22, 466, 51, 34, 20, 258, 2, 163, 31, 96, 224, 37, 3, 201, 104, 179, 44, 209, 12, 1109, 46, 15, 9, 11, 4, 51, 172, 710, 10, 1563, 13, 4, 391, 60, 30, 196, 6, 486, 244, 51, 27, 176, 1110, 323, 6, 27, 1564, 427, 7, 3, 595, 6, 1565, 51, 25, 711, 16, 4, 867, 333, 64, 17, 159, 3, 137, 6, 607, 258, 4, 712, 17, 344, 597, 24, 343, 1566, 51, 12, 5, 306, 8, 543, 6, 14, 1111, 392, 51, 24, 30, 206, 358, 14, 27, 868, 8, 1567, 4, 26, 119, 281, 23, 35, 44, 209, 77, 59, 163, 11, 4, 1568, 4, 26, 119, 281, 116, 179, 307, 225, 8, 62, 261, 4, 165, 38, 1569, 713, 173, 17, 487, 531, 19, 5, 31, 385, 712, 15, 14, 428, 229, 2, 215, 6, 354, 7, 3, 138, 12, 7, 5, 27, 353, 869, 19, 94, 2, 192, 214, 62, 45, 1095, 539, 12, 1570, 71, 134, 214, 7, 9, 11, 3, 42, 7, 334, 62, 286, 480, 10, 131, 709, 2, 386, 3, 42, 7, 334, 62, 286, 870, 10, 131, 1571, 229, 2, 152, 25, 346, 86, 134, 101, 64, 2, 241, 3, 10, 72, 714, 94, 608, 6, 1572, 5, 31, 230, 3, 9, 262, 4, 51, 94, 86, 94, 86, 871, 17, 199, 19, 2, 421, 8, 17, 98, 4, 415, 94, 86, 7, 14, 335, 3, 6, 14, 81, 488, 4, 195, 15, 6, 872, 2, 180, 285, 4, 26, 181, 30, 486, 608, 55, 38, 1573, 869, 23, 11, 22, 105, 25, 88, 64, 2, 86, 8, 873, 129, 23, 854, 156, 4, 419, 15, 7, 160, 81, 874, 3, 528, 24, 336, 4, 92, 19, 12, 2, 1574, 86, 25, 6, 263, 4, 429, 3, 27, 173, 304, 60, 2, 869, 299, 1112, 2, 359, 8, 333, 1113, 3, 1113, 201, 11, 6, 14, 25, 88, 488, 15, 24, 2, 151, 6, 81, 1114, 66, 4, 264, 176, 544, 77, 76, 875, 34, 46, 2, 1575, 853, 15, 189, 14, 1576, 202, 24, 55, 6, 102, 37, 18, 17, 202, 32, 160, 4, 26, 541, 34, 8, 351, 32, 45, 187, 25, 287, 60, 122, 74, 163, 31, 202, 10, 210, 69, 143, 140, 19, 68, 489, 3, 1577, 24, 13, 77, 876, 76, 181, 10, 545, 26, 1578, 10, 171, 26, 5, 115, 308, 166, 287, 60, 4, 529, 490, 41, 13, 13, 106, 473, 2, 305, 86, 13, 1579, 10, 106, 26, 491, 4, 48, 59, 11, 57, 220, 32, 182, 592, 2, 86, 10, 393, 4, 92, 219, 62, 65, 134, 309, 48, 5, 593, 609, 8, 715, 303, 1580, 3, 6, 50, 19, 1581, 4, 51, 66, 6, 49, 473, 7, 32, 106, 92, 78, 2, 1582, 6, 59, 3, 66, 839, 423, 424, 1115, 1116, 4, 1117, 344, 202, 3, 66, 1583, 2, 877, 143, 155, 328, 141, 360, 1584, 1585, 237, 2, 1586, 20, 328, 878, 122, 150, 29, 492, 76, 221, 89, 43, 17, 98, 1118, 392, 2, 537, 8, 2, 384, 12, 426, 6, 14, 77, 99, 177, 610, 202, 232, 3, 6, 18, 137, 175, 39, 2, 31, 478, 386, 3, 322, 60, 4, 2, 241, 152, 163, 11, 7, 14, 16, 88, 16, 6, 56, 53, 428, 37, 19, 38, 223, 4, 155, 253, 64, 2, 241, 20, 38, 487, 23, 4, 101, 253, 14, 99, 1587, 177, 189, 6, 224, 37, 3, 73, 4, 879, 52, 13, 250, 4, 26, 1119, 8, 361, 9, 11, 5, 115, 695, 46, 13, 6, 157, 71, 91, 30, 4, 92, 19, 1109, 12, 30, 86, 546, 30, 151, 10, 142, 13, 23, 6, 50, 19, 21, 2, 180, 1588, 1589, 8, 333, 611, 58, 14, 5, 132, 359, 21, 110, 17, 41, 532, 538, 469, 3, 1590, 194, 37, 2, 384, 108, 5, 61, 6, 148, 5, 31, 880, 8, 202, 12, 2, 493, 3, 6, 234, 1591, 17, 159, 4, 65, 29, 14, 380, 7, 14, 2, 146, 107, 1592, 1593, 1594, 20, 5, 609, 8, 146, 612, 362, 12, 38, 199, 3, 5, 132, 363, 12, 2, 117, 33, 113, 1120, 599, 12, 5, 115, 329, 881, 4, 547, 16, 33, 113, 122, 2, 120, 2, 120, 122, 182, 6, 26, 716, 42, 130, 288, 17, 389, 11, 185, 25, 1595, 15, 6, 14, 430, 4, 326, 394, 8, 118, 38, 25, 55, 2, 107, 113, 237, 17, 6, 73, 12, 5, 257, 882, 100, 42, 13, 205, 494, 2, 107, 1064, 717, 613, 2, 146, 612, 362, 3, 2, 363, 3, 1596, 174, 64, 2, 1597, 16, 431, 16, 33, 56, 92, 11, 175, 39, 2, 363, 3, 362, 3, 16, 2, 384, 14, 27, 584, 6, 288, 1598, 51, 21, 2, 61, 6, 50, 19, 221, 150, 150, 66, 364, 365, 36, 718, 3, 883, 156, 50, 19, 89, 16, 614, 10, 210, 42, 130, 124, 432, 12, 2, 884, 219, 62, 84, 14, 10, 2, 180, 55, 10, 105, 39, 30, 615, 10, 541, 84, 10, 131, 256, 485, 5, 31, 395, 23, 42, 76, 28, 2, 180, 2, 147, 222, 36, 69, 12, 2, 468, 245, 10, 616, 133, 2, 115, 1599, 3, 6, 73, 337, 112, 21, 2, 357, 6, 242, 15, 45, 8, 2, 180, 719, 16, 51, 4, 65, 42, 6, 56, 54, 124, 432, 24, 118, 8, 48, 76, 181, 76, 28, 1600, 6, 9, 24, 17, 495, 496, 12, 109, 139, 1121, 3, 433, 235, 92, 12, 1121, 18, 21, 3, 76, 181, 10, 158, 26, 720, 24, 10, 47, 21, 885, 8, 156, 3, 6, 122, 6, 1122, 109, 5, 27, 31, 721, 497, 6, 3, 76, 10, 1123, 150, 66, 722, 7, 21, 36, 134, 310, 42, 10, 47, 21, 2, 156, 10, 311, 4, 47, 219, 62, 65, 532, 548, 434, 36, 723, 3, 532, 548, 1124, 36, 1601, 3, 532, 548, 549, 1125, 150, 10, 171, 103, 101, 4, 1602, 18, 15, 387, 200, 2, 1603, 215, 235, 1604, 617, 310, 1605, 1606, 36, 2, 724, 8, 1126, 3, 1126, 36, 2, 724, 8, 1607, 3, 1608, 133, 21, 618, 76, 859, 10, 106, 54, 124, 432, 24, 720, 134, 310, 3, 91, 66, 886, 2, 31, 3, 6, 887, 17, 312, 19, 17, 1127, 16, 42, 6, 45, 240, 347, 3, 73, 4, 498, 7, 23, 17, 100, 619, 888, 3, 620, 3, 2, 192, 67, 28, 104, 2, 180, 16, 32, 311, 4, 53, 66, 886, 2, 31, 1609, 1610, 40, 1611, 396, 3, 1612, 2, 1613, 8, 2, 1614, 19, 303, 478, 1615, 66, 1616, 33, 621, 4, 550, 66, 1128, 889, 40, 1129, 3, 1617, 31, 1618, 12, 20, 890, 1130, 1131, 76, 181, 355, 85, 28, 2, 141, 192, 9, 163, 11, 3, 17, 159, 833, 20, 333, 52, 16, 6, 50, 19, 10, 106, 26, 720, 108, 21, 3, 10, 171, 54, 4, 92, 3, 435, 12, 15, 1619, 31, 212, 3, 54, 147, 4, 44, 1620, 4, 436, 20, 3, 122, 189, 25, 300, 347, 4, 499, 44, 130, 145, 39, 74, 345, 41, 7, 42, 76, 720, 134, 622, 37, 97, 423, 26, 44, 209, 87, 891, 87, 324, 37, 3, 240, 104, 39, 52, 150, 10, 171, 95, 155, 39, 3, 91, 69, 245, 10, 43, 142, 62, 15, 93, 3, 43, 42, 10, 46, 207, 15, 713, 134, 104, 39, 42, 28, 134, 622, 37, 97, 197, 76, 470, 1621, 122, 150, 201, 11, 20, 5, 623, 1622, 8, 333, 10, 53, 193, 32, 49, 140, 87, 324, 37, 10, 245, 25, 27, 466, 8, 207, 21, 725, 97, 16, 6, 9, 30, 6, 102, 37, 18, 17, 312, 3, 14, 488, 4, 65, 15, 6, 22, 140, 19, 38, 8, 2, 726, 31, 146, 612, 362, 178, 6, 14, 221, 66, 131, 10, 54, 246, 15, 6, 59, 10, 106, 26, 335, 353, 52, 6, 105, 39, 3, 50, 4, 2, 215, 4, 1623, 51, 78, 7, 3, 138, 15, 16, 338, 16, 6, 56, 892, 6, 14, 77, 41, 119, 202, 232, 3, 14, 161, 19, 727, 1132, 6, 173, 138, 34, 15, 2, 893, 8, 30, 14, 2, 363, 6, 14, 871, 3, 6, 613, 7, 234, 89, 12, 61, 4, 1624, 727, 174, 605, 15, 14, 5, 1133, 728, 9, 11, 5, 176, 308, 500, 18, 2, 623, 265, 23, 27, 325, 4, 195, 51, 279, 12, 1625, 3, 77, 24, 2, 241, 3, 6, 228, 20, 21, 1626, 125, 4, 2, 31, 152, 23, 701, 2, 31, 152, 14, 600, 52, 3, 2, 31, 478, 386, 14, 428, 19, 2, 385, 215, 16, 126, 3, 156, 85, 894, 177, 189, 59, 2, 163, 358, 24, 10, 103, 14, 25, 353, 16, 30, 126, 103, 3, 10, 1134, 35, 166, 1135, 15, 7, 36, 16, 6, 9, 266, 192, 17, 360, 895, 3, 12, 188, 151, 1627, 6, 14, 39, 4, 17, 501, 12, 1136, 729, 17, 93, 238, 14, 15, 6, 22, 1628, 691, 64, 2, 289, 3, 12, 15, 624, 10, 131, 92, 125, 78, 1137, 6, 9, 4, 51, 11, 22, 124, 4, 2, 1629, 137, 12, 17, 336, 3, 22, 104, 4, 2, 896, 1138, 15, 1139, 13, 92, 4, 19, 2, 544, 1630, 13, 195, 5, 625, 8, 1631, 1632, 12, 2, 289, 90, 357, 730, 12, 2, 1633, 20, 1634, 1635, 43, 5, 1085, 8, 1636, 1637, 3, 282, 48, 5, 1137, 1638, 200, 6, 173, 145, 34, 15, 6, 14, 12, 2, 359, 8, 333, 94, 6, 22, 1639, 55, 6, 14, 610, 202, 232, 10, 193, 10, 437, 201, 25, 88, 9, 11, 16, 6, 626, 41, 258, 4, 195, 17, 86, 34, 10, 171, 26, 1640, 24, 7, 77, 10, 267, 78, 207, 1641, 12, 74, 344, 333, 15, 143, 26, 5, 364, 96, 4, 26, 181, 200, 365, 36, 364, 718, 89, 43, 6, 148, 216, 1140, 41, 12, 2, 359, 5, 31, 86, 60, 3, 6, 626, 627, 4, 165, 34, 29, 7, 14, 18, 93, 6, 59, 7, 106, 26, 5, 1642, 57, 1643, 23, 43, 6, 607, 66, 353, 6, 14, 77, 3, 6, 173, 145, 34, 15, 7, 14, 95, 5, 123, 15, 22, 895, 12, 46, 51, 49, 7, 26, 8, 118, 209, 77, 59, 11, 4, 264, 4, 30, 123, 365, 36, 25, 854, 37, 97, 15, 10, 162, 84, 27, 590, 7, 131, 268, 18, 118, 387, 179, 44, 1644, 12, 258, 25, 6, 73, 1141, 123, 53, 13, 47, 2, 86, 34, 8, 30, 359, 10, 245, 27, 466, 8, 1142, 41, 97, 1141, 123, 11, 59, 30, 106, 26, 2, 141, 86, 8, 628, 4, 5, 123, 6, 22, 103, 246, 109, 5, 96, 126, 23, 6, 607, 343, 251, 12, 17, 1645, 1646, 1647, 5, 1648, 5, 1649, 5, 1650, 1651, 123, 2, 123, 102, 18, 17, 172, 1652, 3, 160, 4, 17, 4, 1143, 20, 38, 8, 35, 31, 159, 23, 7, 9, 129, 220, 7, 235, 551, 544, 59, 11, 10, 1653, 35, 5, 731, 123, 104, 112, 20, 502, 2, 1144, 24, 20, 21, 17, 837, 8, 503, 11, 22, 44, 27, 1145, 897, 66, 139, 1146, 204, 22, 482, 25, 6, 73, 52, 1654, 1655, 1147, 1656, 94, 14, 2, 93, 552, 12, 17, 731, 1657, 2, 123, 244, 5, 623, 1658, 34, 8, 2, 729, 3, 160, 4, 1659, 21, 112, 20, 1148, 122, 10, 438, 68, 553, 201, 11, 234, 302, 15, 6, 22, 846, 2, 163, 629, 1149, 10, 81, 1114, 13, 254, 46, 239, 28, 46, 239, 201, 2, 123, 12, 5, 630, 1660, 100, 49, 13, 46, 239, 42, 13, 45, 62, 71, 220, 28, 9, 11, 12, 5, 1661, 114, 72, 26, 631, 41, 7, 3, 190, 10, 193, 10, 56, 898, 13, 439, 128, 327, 10, 84, 366, 191, 5, 606, 4, 239, 42, 13, 56, 95, 65, 17, 6, 36, 109, 5, 150, 1150, 96, 11, 50, 19, 194, 4, 51, 16, 6, 626, 1662, 41, 12, 2, 359, 3, 6, 1663, 1151, 25, 1152, 78, 2, 899, 1664, 17, 732, 3, 1153, 17, 1665, 6, 36, 109, 5, 533, 1666, 96, 4, 1667, 497, 109, 5, 724, 38, 24, 1154, 1668, 10, 438, 68, 553, 201, 11, 52, 24, 30, 61, 2, 123, 14, 1669, 21, 112, 3, 6, 185, 859, 7, 106, 26, 284, 367, 153, 182, 268, 41, 17, 118, 99, 42, 366, 172, 28, 153, 233, 201, 2, 123, 69, 14, 554, 37, 4, 2, 213, 8, 40, 396, 16, 42, 10, 49, 268, 19, 109, 5, 555, 439, 1670, 313, 1671, 239, 1672, 257, 1673, 156, 72, 219, 62, 248, 2, 349, 52, 10, 182, 233, 9, 11, 12, 5, 115, 329, 4, 265, 2, 555, 8, 397, 85, 1674, 13, 1675, 733, 2, 123, 67, 28, 382, 25, 11, 50, 19, 440, 58, 36, 109, 5, 533, 31, 1155, 237, 439, 212, 10, 162, 46, 4, 898, 13, 5, 31, 1676, 1677, 13, 47, 20, 122, 109, 139, 1678, 1156, 495, 3, 423, 504, 156, 55, 13, 900, 48, 3, 423, 441, 39, 3, 438, 24, 35, 1157, 3, 21, 885, 8, 1679, 158, 256, 194, 8, 1158, 7, 1159, 4, 5, 1680, 13, 47, 3, 33, 734, 35, 25, 1160, 35, 684, 5, 1681, 1682, 33, 734, 7, 1683, 21, 2, 1684, 1123, 150, 201, 11, 12, 5, 1161, 114, 76, 302, 130, 367, 7, 52, 24, 2, 123, 14, 1142, 174, 127, 17, 16, 431, 16, 7, 56, 92, 3, 416, 81, 5, 1685, 12, 2, 359, 16, 7, 50, 25, 6, 247, 1686, 108, 7, 123, 150, 53, 104, 125, 52, 3, 153, 182, 268, 41, 239, 57, 733, 346, 42, 13, 72, 46, 48, 55, 2, 123, 148, 30, 7, 231, 110, 3, 626, 418, 125, 4, 17, 35, 260, 14, 81, 735, 20, 901, 11, 59, 3, 7, 9, 12, 5, 257, 554, 100, 219, 269, 101, 4, 2, 902, 3, 43, 134, 142, 13, 74, 503, 3, 556, 551, 116, 7, 36, 10, 1687, 239, 3, 733, 7, 14, 232, 61, 4, 92, 24, 2, 359, 14, 187, 81, 632, 20, 2, 398, 3, 629, 15, 22, 691, 64, 7, 58, 45, 5, 736, 3, 5, 290, 5, 505, 3, 75, 903, 3, 693, 117, 206, 368, 11, 703, 2, 86, 3, 2, 291, 442, 626, 4, 2, 902, 299, 1688, 5, 904, 3, 5, 139, 737, 32, 45, 233, 5, 1689, 442, 15, 1162, 19, 2, 1690, 398, 20, 1691, 1692, 2, 629, 20, 87, 905, 1693, 277, 4, 48, 3, 21, 1694, 1163, 1695, 3, 738, 2, 93, 222, 8, 183, 14, 66, 4, 101, 425, 52, 32, 22, 5, 1696, 41, 30, 3, 108, 5, 388, 332, 7, 160, 81, 685, 4, 11, 4, 195, 51, 221, 1697, 20, 48, 16, 42, 6, 22, 1698, 48, 21, 17, 336, 233, 6, 22, 81, 5, 139, 739, 20, 2, 505, 69, 18, 135, 231, 906, 3, 49, 95, 91, 10, 245, 1164, 177, 13, 3, 106, 47, 270, 3, 30, 11, 49, 28, 907, 169, 1165, 66, 208, 7, 14, 3, 16, 2, 505, 1699, 1700, 4, 142, 35, 719, 58, 14, 44, 99, 4, 26, 9, 18, 135, 2, 123, 69, 160, 4, 26, 5, 713, 8, 1166, 301, 48, 247, 34, 441, 37, 21, 8, 13, 3, 472, 4, 62, 134, 173, 165, 13, 425, 225, 32, 21, 224, 37, 18, 137, 12, 5, 132, 1167, 20, 2, 123, 12, 2, 476, 11, 288, 17, 159, 262, 1701, 19, 7, 24, 6, 185, 181, 6, 49, 844, 5, 1135, 1702, 42, 6, 67, 28, 101, 425, 27, 173, 1703, 9, 2, 123, 20, 75, 633, 255, 85, 13, 21, 430, 30, 36, 2, 1704, 96, 10, 47, 271, 21, 110, 42, 13, 205, 502, 2, 1144, 1168, 893, 14, 1705, 78, 2, 1706, 14, 173, 1707, 4, 78, 2, 544, 69, 740, 1708, 3, 22, 124, 8, 530, 88, 1709, 4, 1710, 3, 1711, 1169, 3, 1170, 2, 1171, 8, 1172, 3, 1173, 1174, 9, 2, 505, 20, 5, 1712, 10, 438, 68, 553, 9, 2, 123, 741, 23, 27, 557, 67, 13, 264, 28, 10, 9, 2, 505, 234, 10, 59, 13, 67, 9, 2, 123, 10, 1175, 1169, 3, 1170, 2, 1171, 8, 1172, 3, 1173, 1713, 24, 111, 3, 211, 1714, 2, 1715, 1176, 8, 1716, 138, 7, 1177, 138, 29, 9, 2, 736, 138, 7, 2, 123, 154, 172, 1717, 8, 183, 13, 47, 29, 7, 742, 10, 47, 29, 7, 742, 71, 225, 55, 10, 195, 5, 96, 9, 2, 736, 35, 486, 5, 1178, 57, 5, 1718, 2, 222, 36, 29, 67, 2, 1176, 195, 2, 123, 67, 28, 634, 30, 222, 23, 1179, 50, 19, 138, 7, 1177, 4, 92, 20, 1719, 1720, 4, 1180, 502, 3, 1181, 111, 2, 908, 1721, 1722, 18, 93, 14, 1723, 23, 2, 1724, 8, 40, 1725, 66, 85, 13, 187, 19, 77, 74, 150, 7, 399, 314, 4, 11, 16, 7, 236, 16, 1163, 16, 189, 9, 11, 12, 5, 558, 114, 7, 235, 424, 4, 425, 62, 18, 21, 12, 15, 624, 9, 2, 290, 743, 1726, 4, 35, 202, 10, 909, 15, 2, 1727, 1728, 24, 2, 1729, 1730, 8, 99, 1731, 1732, 264, 544, 9, 2, 903, 10, 72, 47, 2, 443, 8, 194, 355, 139, 192, 3, 635, 99, 10, 72, 400, 13, 53, 346, 3, 2, 903, 1733, 37, 35, 98, 4, 1734, 5, 1182, 90, 8, 2, 117, 398, 1735, 1736, 29, 10, 14, 161, 4, 91, 9, 2, 290, 12, 75, 367, 114, 14, 15, 2, 305, 96, 4, 101, 269, 425, 49, 26, 5, 904, 29, 36, 5, 904, 9, 11, 28, 15, 6, 740, 88, 4, 47, 23, 2, 290, 22, 1737, 16, 42, 7, 59, 15, 470, 250, 4, 264, 3, 44, 38, 350, 160, 1738, 4, 91, 204, 116, 9, 2, 290, 2, 305, 86, 4, 369, 7, 36, 4, 53, 7, 3, 16, 13, 157, 46, 4, 310, 2, 96, 361, 90, 1739, 170, 10, 143, 142, 13, 66, 2, 290, 688, 7, 93, 7, 539, 34, 5, 1740, 12, 5, 198, 8, 1741, 2, 1742, 1743, 235, 383, 7, 9, 3, 43, 21, 2, 442, 45, 1744, 599, 2, 183, 97, 3, 58, 58, 14, 44, 38, 119, 168, 3, 174, 23, 32, 73, 444, 55, 32, 559, 3, 261, 60, 55, 32, 559, 25, 15, 7, 14, 28, 1183, 4, 47, 55, 2, 1184, 14, 112, 200, 55, 32, 22, 124, 444, 194, 75, 1185, 57, 25, 3, 45, 81, 425, 52, 2, 290, 276, 247, 34, 2, 1184, 36, 112, 3, 32, 21, 632, 110, 7, 1186, 3, 594, 23, 69, 506, 1187, 30, 222, 2, 290, 56, 28, 382, 169, 5, 115, 308, 8, 59, 3, 7, 224, 24, 5, 139, 61, 20, 38, 603, 910, 167, 35, 1188, 2, 1189, 12, 94, 13, 1103, 65, 1745, 12, 2, 683, 8, 111, 178, 2, 370, 331, 12, 271, 18, 135, 2, 290, 9, 445, 506, 1187, 3, 21, 106, 54, 636, 23, 69, 36, 4, 309, 2, 636, 81, 5, 560, 8, 1190, 226, 116, 6, 8, 183, 9, 2, 290, 744, 4, 11, 20, 38, 603, 3, 2, 291, 442, 18, 137, 632, 110, 17, 1746, 34, 12, 5, 745, 86, 636, 636, 11, 22, 44, 238, 29, 4, 53, 3, 12, 1747, 6, 140, 17, 199, 12, 17, 637, 3, 1748, 34, 5, 712, 8, 1191, 1192, 2, 1136, 729, 22, 28, 105, 64, 7, 3, 911, 48, 110, 16, 636, 58, 14, 446, 38, 1749, 21, 110, 23, 6, 106, 54, 5, 1750, 51, 13, 47, 9, 2, 123, 8, 183, 2, 290, 154, 27, 912, 29, 350, 54, 13, 105, 12, 68, 637, 33, 50, 19, 314, 4, 11, 95, 5, 746, 9, 11, 598, 199, 7, 112, 97, 9, 2, 290, 43, 32, 21, 632, 110, 17, 137, 99, 178, 2, 290, 743, 1751, 2, 746, 240, 153, 438, 68, 1752, 8, 30, 1753, 746, 3, 55, 7, 22, 304, 30, 747, 913, 32, 21, 914, 11, 59, 2, 291, 96, 27, 1193, 23, 32, 21, 102, 25, 915, 15, 6, 67, 28, 638, 4, 1754, 3, 16, 6, 56, 28, 84, 8, 204, 4, 91, 6, 1194, 748, 3, 175, 2, 746, 149, 16, 916, 16, 6, 56, 2, 147, 96, 14, 4, 214, 2, 1191, 30, 1195, 90, 917, 3, 639, 16, 2, 132, 398, 1755, 15, 32, 56, 28, 1105, 1756, 3, 2, 353, 1117, 918, 3, 22, 4, 26, 1757, 19, 2, 125, 200, 7, 14, 112, 18, 135, 3, 32, 224, 37, 52, 12, 5, 1167, 3, 1758, 2, 123, 4, 142, 48, 216, 99, 13, 1759, 4, 142, 62, 68, 503, 13, 47, 9, 11, 3, 116, 7, 36, 13, 1760, 3, 1761, 6, 186, 12, 5, 919, 194, 302, 15, 7, 49, 26, 367, 52, 433, 36, 5, 139, 3, 5, 920, 737, 9, 2, 123, 314, 4, 11, 3, 921, 7, 36, 5, 139, 396, 259, 9, 11, 149, 37, 20, 210, 18, 2, 1762, 396, 23, 116, 53, 13, 401, 7, 920, 3, 6, 288, 19, 722, 41, 7, 178, 2, 123, 14, 628, 25, 15, 17, 238, 8, 2, 737, 14, 216, 46, 30, 922, 9, 4, 5, 123, 15, 33, 923, 12, 2, 212, 219, 269, 272, 92, 4, 1196, 10, 143, 1763, 1764, 134, 191, 44, 1765, 153, 106, 54, 5, 507, 24, 284, 30, 615, 130, 129, 4, 53, 9, 2, 123, 4, 2, 1766, 109, 5, 507, 150, 494, 20, 44, 227, 57, 749, 49, 26, 1197, 439, 750, 134, 26, 749, 134, 26, 227, 9, 1767, 208, 922, 134, 310, 2, 291, 893, 3, 1768, 13, 4, 1769, 13, 85, 28, 924, 9, 2, 123, 4, 11, 711, 29, 85, 13, 337, 8, 10, 438, 68, 553, 9, 11, 27, 1198, 13, 22, 105, 4, 2, 1770, 1199, 10, 84, 10, 22, 28, 201, 2, 123, 710, 3, 27, 402, 5, 1200, 9, 11, 313, 430, 4, 165, 51, 1160, 3, 149, 262, 41, 17, 122, 53, 219, 62, 394, 4, 1771, 7, 10, 171, 53, 129, 8, 2, 198, 9, 2, 123, 187, 39, 3, 596, 174, 13, 1772, 62, 78, 221, 109, 492, 10, 254, 371, 7, 925, 163, 11, 23, 184, 25, 926, 367, 13, 47, 2, 123, 95, 1773, 12, 640, 205, 104, 125, 3, 641, 68, 447, 11, 247, 108, 7, 3, 2, 508, 21, 927, 12, 560, 280, 205, 53, 23, 2, 123, 95, 403, 35, 98, 642, 3, 352, 5, 31, 1774, 29, 5, 928, 7, 278, 622, 643, 2, 505, 16, 173, 16, 7, 14, 81, 34, 8, 351, 3, 75, 208, 929, 175, 2, 422, 8, 240, 4, 17, 1775, 616, 74, 150, 219, 30, 26, 5, 1776, 4, 13, 103, 4, 1777, 68, 644, 390, 68, 751, 1147, 9, 2, 645, 929, 5, 31, 1778, 184, 225, 4, 310, 2, 1779, 8, 75, 1780, 10, 193, 10, 22, 439, 327, 97, 10, 47, 10, 53, 9, 11, 591, 1781, 448, 12, 930, 1201, 173, 504, 7, 125, 3, 69, 36, 327, 42, 10, 157, 931, 4, 326, 2, 222, 9, 2, 505, 11, 154, 440, 24, 6, 14, 313, 430, 4, 268, 41, 17, 1782, 1783, 439, 128, 3, 497, 109, 5, 724, 38, 24, 1154, 843, 13, 158, 84, 3, 122, 10, 193, 13, 56, 65, 17, 108, 2, 398, 116, 841, 214, 5, 31, 1202, 16, 173, 16, 155, 18, 7, 30, 913, 1195, 5, 1060, 1203, 301, 2, 442, 90, 8, 2, 398, 322, 60, 18, 137, 38, 208, 1784, 73, 1785, 249, 39, 27, 932, 933, 10, 284, 106, 26, 187, 589, 2, 1786, 235, 934, 74, 1204, 3, 5, 1787, 247, 34, 12, 5, 554, 100, 4, 35, 357, 104, 174, 74, 876, 35, 232, 61, 13, 45, 21, 12, 1788, 19, 1789, 1790, 32, 21, 646, 60, 3, 11, 14, 173, 261, 725, 10, 193, 10, 437, 935, 327, 6, 9, 4, 51, 12, 5, 558, 114, 448, 621, 4, 46, 17, 37, 97, 3, 76, 181, 497, 2, 305, 128, 12, 2, 468, 122, 74, 150, 327, 10, 210, 42, 10, 171, 189, 65, 13, 118, 99, 3, 97, 163, 11, 73, 4, 879, 52, 24, 6, 185, 27, 1205, 3, 1791, 12, 5, 31, 178, 200, 6, 52, 148, 5, 31, 880, 8, 1206, 12, 2, 493, 3, 6, 102, 39, 440, 194, 856, 15, 2, 123, 22, 432, 40, 345, 3, 14, 380, 125, 4, 641, 40, 447, 299, 1792, 2, 107, 1793, 12, 5, 31, 315, 7, 14, 2, 146, 107, 1120, 418, 125, 52, 3, 149, 262, 41, 16, 7, 50, 16, 42, 7, 22, 847, 216, 3, 6, 148, 7, 881, 4, 249, 2, 120, 2, 120, 122, 74, 150, 732, 122, 74, 905, 3, 849, 841, 101, 62, 561, 16, 181, 16, 1207, 85, 1207, 292, 131, 10, 54, 613, 48, 10, 210, 11, 936, 12, 5, 151, 15, 7, 14, 149, 24, 2, 363, 3, 2, 609, 8, 146, 612, 362, 3, 6, 27, 1794, 73, 937, 41, 24, 48, 23, 32, 45, 1208, 4, 26, 1795, 160, 4, 54, 432, 752, 17, 647, 12, 2, 359, 3, 2, 115, 384, 20, 2, 385, 215, 3, 2, 31, 152, 22, 753, 1796, 27, 173, 2, 107, 420, 11, 16, 6, 50, 937, 41, 3, 247, 34, 4, 17, 12, 75, 631, 114, 116, 754, 755, 29, 85, 13, 648, 34, 97, 756, 589, 30, 151, 3, 504, 62, 5, 609, 8, 362, 3, 5, 363, 1209, 77, 3, 11, 14, 25, 88, 500, 15, 6, 228, 60, 18, 137, 12, 2, 649, 7, 1797, 4, 169, 258, 4, 369, 2, 938, 7, 22, 145, 33, 175, 62, 24, 40, 1798, 6, 9, 4, 51, 16, 6, 228, 66, 488, 1799, 26, 55, 33, 1800, 34, 69, 10, 245, 23, 339, 270, 191, 111, 40, 363, 3, 1801, 36, 42, 10, 131, 195, 48, 16, 6, 9, 30, 6, 113, 167, 5, 1802, 31, 212, 19, 2, 152, 8, 94, 14, 5, 481, 1803, 939, 20, 2, 349, 1804, 107, 1805, 167, 7, 6, 50, 12, 169, 940, 3, 322, 1806, 12, 115, 687, 1807, 6, 162, 1180, 2, 941, 754, 755, 3, 26, 231, 34, 8, 2, 212, 126, 6, 22, 138, 2, 363, 3, 362, 66, 364, 7, 621, 11, 9, 4, 51, 4, 26, 161, 1210, 24, 5, 107, 10, 267, 1080, 26, 1115, 62, 19, 1210, 147, 3, 6, 73, 1808, 2, 198, 8, 96, 15, 49, 419, 696, 11, 104, 97, 1211, 3, 101, 430, 24, 68, 592, 380, 12, 5, 196, 1212, 23, 130, 105, 4, 65, 15, 2, 123, 235, 101, 34, 95, 10, 72, 84, 11, 50, 19, 15, 757, 219, 327, 546, 12, 2, 212, 42, 7, 73, 1213, 281, 41, 46, 15, 78, 30, 61, 6, 22, 138, 17, 86, 64, 5, 1809, 31, 293, 20, 5, 215, 12, 2, 449, 3, 19, 7, 16, 6, 22, 1810, 5, 363, 3, 119, 57, 168, 1811, 8, 700, 146, 612, 362, 6, 175, 39, 2, 363, 3, 5, 609, 8, 2, 362, 3, 14, 89, 161, 4, 391, 2, 293, 55, 17, 487, 531, 167, 5, 31, 356, 15, 509, 237, 2, 1812, 58, 14, 44, 1094, 30, 61, 20, 2, 192, 484, 62, 23, 1813, 6, 1814, 7, 3, 140, 7, 4, 17, 1815, 10, 47, 216, 650, 36, 181, 4, 419, 6, 9, 4, 51, 1816, 10, 214, 57, 484, 204, 25, 134, 89, 65, 29, 30, 356, 404, 10, 53, 842, 423, 165, 62, 286, 132, 52, 24, 284, 76, 81, 466, 8, 207, 109, 5, 700, 31, 96, 7, 67, 25, 233, 3, 88, 1104, 177, 6, 22, 1817, 126, 6, 22, 1214, 194, 2, 356, 6, 138, 17, 98, 1818, 392, 2, 1819, 3, 22, 4, 1215, 4, 1820, 17, 483, 127, 207, 562, 6, 234, 140, 37, 2, 356, 240, 4, 51, 133, 81, 1821, 842, 10, 545, 286, 118, 1822, 7, 36, 10, 158, 101, 34, 18, 2, 1823, 53, 193, 10, 437, 1214, 81, 25, 88, 701, 7, 14, 166, 530, 4, 193, 15, 6, 50, 19, 335, 3, 335, 3, 27, 173, 22, 4, 1824, 37, 19, 2, 942, 12, 188, 196, 58, 14, 28, 211, 293, 24, 30, 3, 6, 203, 2, 943, 8, 428, 37, 20, 38, 944, 392, 2, 152, 3, 2, 117, 316, 1216, 110, 17, 98, 279, 6, 50, 19, 335, 3, 16, 5, 135, 1825, 6, 140, 38, 316, 34, 8, 2, 449, 3, 38, 360, 39, 2, 651, 3, 9, 4, 51, 77, 10, 131, 53, 44, 99, 945, 608, 29, 143, 652, 8, 62, 1192, 24, 11, 2, 31, 1826, 356, 22, 77, 22, 35, 563, 943, 3, 6, 1827, 44, 480, 279, 7, 14, 27, 738, 3, 16, 58, 160, 4, 26, 44, 198, 8, 758, 8, 17, 189, 187, 34, 8, 2, 293, 52, 44, 210, 6, 185, 1217, 7, 14, 88, 1828, 18, 589, 59, 163, 11, 55, 38, 340, 313, 335, 480, 3, 870, 3, 207, 759, 41, 78, 843, 3, 726, 10, 541, 193, 10, 437, 294, 37, 15, 1829, 1830, 1831, 172, 206, 13, 47, 30, 198, 8, 336, 10, 53, 210, 29, 131, 54, 482, 4, 62, 55, 10, 311, 4, 330, 1832, 10, 1218, 15, 491, 8, 96, 103, 482, 3, 77, 97, 10, 245, 12, 2, 476, 8, 38, 58, 250, 4, 26, 5, 467, 534, 41, 62, 15, 58, 250, 3, 55, 10, 286, 39, 134, 564, 1833, 76, 510, 39, 77, 6, 186, 12, 5, 1161, 114, 18, 450, 179, 44, 293, 4, 286, 39, 118, 99, 97, 23, 43, 59, 11, 171, 10, 103, 101, 118, 1164, 177, 10, 245, 77, 1834, 26, 5, 1835, 38, 1836, 4, 26, 75, 208, 1837, 1838, 4, 54, 347, 4, 499, 122, 10, 653, 46, 15, 122, 13, 1839, 11, 6, 760, 51, 66, 131, 13, 499, 347, 12, 97, 116, 179, 307, 293, 24, 13, 3, 44, 293, 18, 21, 24, 118, 1840, 3, 25, 6, 50, 19, 654, 93, 38, 223, 3, 43, 2, 117, 3, 416, 81, 5, 397, 8, 7, 605, 23, 108, 5, 388, 332, 6, 148, 5, 100, 761, 3, 946, 4, 472, 754, 755, 754, 755, 9, 2, 100, 504, 62, 74, 362, 30, 151, 43, 113, 5, 31, 880, 8, 202, 19, 2, 834, 11, 242, 7, 14, 2, 107, 380, 4, 155, 24, 17, 3, 6, 1219, 197, 6, 403, 2, 212, 81, 947, 15, 6, 14, 77, 41, 5, 1074, 548, 16, 132, 16, 2, 107, 3, 22, 44, 405, 4, 26, 302, 8, 7, 1079, 2, 107, 113, 39, 4, 2, 152, 3, 203, 4, 479, 7, 23, 16, 2, 152, 354, 1841, 3, 328, 944, 14, 910, 431, 392, 7, 15, 1842, 1220, 5, 1843, 11, 148, 7, 91, 4, 249, 43, 134, 92, 110, 3, 101, 12, 18, 2, 449, 15, 13, 182, 59, 11, 3, 108, 389, 197, 6, 1218, 6, 148, 2, 107, 89, 229, 2, 449, 6, 276, 889, 34, 17, 199, 3, 145, 5, 1221, 12, 2, 255, 6, 67, 28, 101, 390, 8, 204, 23, 6, 148, 5, 31, 655, 3, 5, 471, 3, 5, 1222, 8, 562, 385, 127, 94, 6, 1223, 15, 7, 14, 89, 1844, 7, 22, 691, 64, 5, 1845, 57, 216, 8, 2, 198, 147, 113, 75, 631, 1846, 1847, 1224, 292, 85, 13, 3, 43, 5, 100, 6, 22, 103, 148, 126, 181, 43, 76, 97, 730, 24, 1225, 762, 763, 730, 24, 1225, 233, 9, 2, 107, 402, 97, 104, 3, 394, 62, 34, 8, 30, 764, 8, 99, 562, 385, 77, 142, 62, 1224, 635, 15, 12, 2, 449, 181, 35, 75, 316, 762, 763, 33, 1848, 7, 1849, 75, 316, 13, 1226, 69, 189, 252, 38, 15, 285, 116, 7, 1850, 2, 291, 449, 181, 7, 404, 762, 763, 23, 35, 75, 316, 24, 21, 15, 71, 35, 105, 44, 511, 58, 18, 118, 387, 92, 3, 191, 7, 174, 58, 14, 5, 139, 271, 108, 30, 3, 11, 56, 95, 248, 1851, 77, 3, 43, 109, 16, 181, 10, 72, 46, 7, 762, 763, 18, 21, 18, 21, 53, 16, 10, 142, 13, 13, 1852, 3, 18, 135, 6, 889, 34, 17, 199, 52, 3, 145, 188, 1221, 12, 2, 255, 30, 61, 58, 45, 119, 31, 1853, 3, 99, 764, 8, 562, 385, 29, 5, 625, 8, 1854, 58, 106, 26, 59, 11, 10, 210, 29, 689, 53, 147, 16, 24, 1855, 62, 34, 8, 2, 449, 10, 95, 193, 32, 56, 76, 181, 10, 72, 393, 4, 622, 12, 97, 118, 850, 6, 331, 24, 90, 61, 169, 765, 204, 99, 18, 135, 113, 5, 1856, 8, 31, 1857, 3, 2, 694, 8, 5, 176, 300, 1190, 21, 221, 406, 6, 145, 34, 2, 192, 1227, 2, 117, 1858, 10, 437, 4, 867, 23, 38, 948, 105, 2, 1859, 504, 7, 97, 1860, 140, 949, 39, 18, 30, 1861, 1862, 949, 406, 1863, 72, 709, 194, 232, 225, 1864, 689, 53, 71, 225, 72, 26, 1865, 315, 844, 390, 8, 30, 1866, 2, 537, 1867, 15, 1868, 1869, 35, 380, 37, 324, 950, 5, 565, 1870, 69, 67, 1871, 14, 315, 10, 1872, 4, 92, 37, 2, 1873, 10, 545, 13, 53, 1874, 10, 182, 1875, 4, 92, 1876, 315, 2, 951, 734, 184, 4, 92, 37, 2, 651, 122, 25, 948, 105, 4, 104, 37, 2, 651, 506, 33, 9, 11, 4, 51, 1877, 32, 424, 4, 140, 365, 167, 315, 10, 278, 26, 12, 948, 451, 24, 5, 176, 308, 30, 1878, 36, 1133, 4, 26, 181, 23, 10, 84, 10, 131, 952, 5, 31, 6, 656, 17, 360, 16, 287, 37, 2, 651, 16, 6, 56, 3, 331, 197, 6, 148, 5, 31, 1879, 6, 381, 892, 8, 29, 198, 7, 14, 1880, 3, 1881, 41, 12, 2, 651, 277, 953, 17, 43, 240, 4, 51, 30, 36, 315, 6, 244, 38, 566, 952, 3, 331, 4, 65, 29, 49, 419, 147, 2, 93, 96, 6, 148, 14, 5, 896, 560, 8, 58, 496, 315, 43, 2, 726, 100, 1882, 111, 13, 78, 2, 1065, 43, 271, 3, 43, 188, 639, 8, 1883, 39, 40, 1884, 1885, 1886, 1887, 14, 7, 208, 766, 29, 482, 4, 13, 142, 269, 21, 41, 7, 135, 113, 5, 31, 1228, 1229, 100, 133, 315, 59, 11, 71, 10, 307, 1888, 99, 767, 1889, 76, 270, 1890, 76, 5, 308, 166, 1891, 4, 142, 1892, 10, 47, 36, 216, 1230, 18, 62, 46, 5, 1893, 3, 39, 10, 496, 46, 5, 1894, 25, 13, 67, 208, 766, 9, 2, 508, 153, 106, 1101, 2, 212, 37, 9, 2, 726, 100, 3, 11, 247, 34, 16, 565, 16, 6, 56, 42, 13, 53, 134, 263, 327, 18, 13, 58, 14, 5, 768, 271, 657, 3, 11, 59, 4, 51, 10, 210, 29, 32, 143, 53, 147, 42, 32, 22, 118, 954, 757, 191, 2, 537, 60, 108, 5, 196, 57, 119, 32, 73, 955, 41, 52, 3, 11, 148, 2, 107, 91, 5, 1231, 143, 53, 4, 283, 20, 5, 1231, 8, 29, 59, 11, 23, 6, 22, 28, 139, 4, 769, 24, 2, 147, 151, 5, 1232, 8, 31, 1233, 113, 1234, 12, 18, 2, 449, 3, 90, 8, 48, 1235, 17, 12, 2, 260, 134, 140, 5, 546, 4, 30, 6, 9, 4, 51, 3, 407, 34, 366, 270, 28, 53, 15, 52, 94, 1895, 188, 768, 271, 11, 420, 20, 90, 658, 15, 2, 1233, 45, 21, 314, 64, 31, 956, 16, 32, 770, 19, 2, 942, 3, 5, 481, 238, 113, 64, 17, 98, 42, 10, 214, 38, 8, 266, 956, 6, 59, 35, 181, 4, 165, 90, 265, 12, 74, 285, 3, 16, 7, 158, 865, 165, 62, 480, 7, 106, 165, 62, 870, 10, 267, 25, 6, 1896, 38, 8, 2, 956, 3, 14, 1236, 4, 195, 15, 6, 73, 727, 1211, 16, 173, 16, 6, 14, 353, 225, 4, 101, 253, 2, 152, 6, 228, 34, 8, 2, 212, 3, 138, 81, 5, 771, 8, 31, 629, 3, 398, 389, 761, 2, 163, 31, 659, 315, 14, 12, 2, 476, 207, 772, 39, 78, 119, 773, 69, 45, 1237, 7, 216, 34, 8, 5, 356, 32, 21, 145, 5, 1238, 18, 11, 2, 151, 6, 452, 23, 6, 228, 60, 16, 431, 16, 6, 56, 3, 173, 138, 51, 1239, 12, 5, 1897, 512, 2, 93, 96, 130, 105, 4, 53, 9, 11, 4, 51, 16, 6, 1240, 41, 12, 2, 512, 36, 4, 286, 4, 74, 141, 285, 52, 3, 2, 702, 96, 36, 4, 195, 74, 86, 64, 15, 1108, 241, 10, 84, 15, 143, 26, 2, 305, 774, 7, 619, 75, 1241, 774, 44, 769, 3, 27, 1128, 3, 1194, 1898, 2, 95, 775, 14, 15, 6, 22, 28, 2, 1242, 238, 66, 4, 263, 41, 7, 3, 178, 6, 14, 1899, 41, 262, 301, 2, 513, 5, 31, 566, 1243, 89, 112, 17, 98, 145, 17, 155, 39, 12, 5, 115, 329, 75, 1900, 567, 14, 149, 37, 18, 17, 20, 132, 110, 159, 3, 1901, 1244, 34, 38, 957, 258, 4, 1902, 17, 163, 31, 96, 9, 11, 12, 5, 1245, 114, 3, 6, 203, 431, 4, 1903, 4, 7, 23, 6, 14, 1904, 500, 21, 2, 61, 18, 2, 59, 15, 7, 157, 26, 958, 12, 94, 624, 7, 49, 26, 27, 590, 4, 214, 17, 39, 12, 1905, 8, 21, 17, 1245, 307, 1165, 29, 6, 67, 6, 959, 39, 5, 31, 230, 8, 776, 3, 772, 7, 34, 4, 2, 567, 1906, 2, 567, 536, 64, 2, 255, 60, 21, 35, 202, 18, 137, 20, 5, 1907, 8, 852, 3, 1908, 18, 2, 776, 3, 145, 400, 4, 1909, 7, 43, 11, 1910, 282, 5, 115, 1246, 4, 341, 51, 127, 207, 756, 112, 3, 2, 151, 6, 452, 19, 2, 117, 223, 2, 567, 145, 188, 1238, 18, 2, 776, 3, 1911, 98, 112, 1912, 12, 35, 329, 4, 101, 390, 8, 7, 43, 11, 337, 7, 14, 27, 46, 343, 5, 306, 8, 436, 20, 5, 1913, 3, 873, 303, 151, 4, 26, 1914, 229, 35, 202, 228, 110, 2, 1246, 52, 43, 2, 567, 73, 5, 1915, 8, 747, 1916, 18, 2, 776, 444, 5, 27, 31, 86, 1917, 453, 61, 3, 5, 139, 86, 125, 3, 1918, 1919, 21, 2, 178, 197, 18, 135, 7, 224, 37, 5, 176, 86, 60, 1186, 20, 35, 751, 851, 34, 8, 35, 372, 3, 35, 115, 159, 194, 600, 30, 160, 4, 11, 5, 176, 422, 24, 416, 17, 728, 25, 6, 263, 60, 18, 137, 3, 228, 197, 6, 14, 81, 466, 3, 34, 8, 750, 3, 197, 2, 1920, 1243, 619, 81, 1921, 12, 2, 493, 3, 190, 29, 5, 150, 31, 567, 7, 14, 9, 11, 16, 6, 1922, 392, 5, 1923, 4, 370, 51, 3, 1924, 51, 20, 38, 8, 2, 535, 10, 162, 54, 559, 1925, 7, 1926, 27, 88, 1927, 339, 95, 124, 2, 141, 285, 4, 53, 7, 122, 150, 339, 338, 540, 15, 130, 105, 4, 286, 39, 52, 219, 62, 1928, 36, 7, 4, 26, 688, 10, 267, 10, 250, 4, 214, 57, 484, 216, 57, 117, 23, 2, 115, 222, 36, 29, 2, 115, 222, 259, 14, 29, 11, 102, 21, 110, 17, 18, 2, 1090, 3, 2, 1929, 8, 777, 23, 6, 67, 28, 65, 204, 15, 102, 46, 2, 141, 96, 4, 214, 57, 484, 229, 2, 1930, 58, 14, 5, 132, 454, 335, 237, 17, 41, 2, 180, 660, 16, 51, 3, 55, 6, 22, 102, 229, 7, 3, 19, 272, 686, 8, 7, 3, 282, 7, 7, 1062, 4, 17, 15, 6, 157, 16, 71, 155, 3, 65, 29, 14, 19, 2, 421, 8, 7, 6, 1247, 51, 39, 19, 1248, 3, 828, 112, 2, 960, 8, 2, 454, 3, 17, 159, 961, 923, 355, 8, 5, 132, 164, 15, 14, 342, 19, 2, 421, 20, 35, 568, 962, 661, 1249, 5, 139, 662, 3, 654, 28, 2, 1242, 634, 8, 17, 57, 8, 204, 350, 299, 1931, 1110, 127, 5, 164, 2, 164, 3, 11, 102, 18, 453, 117, 24, 90, 61, 12, 271, 18, 135, 2, 164, 175, 2, 662, 34, 8, 35, 372, 3, 1250, 17, 12, 5, 1932, 585, 100, 69, 85, 13, 9, 2, 164, 30, 14, 28, 75, 1251, 875, 24, 5, 397, 11, 154, 172, 1933, 1112, 307, 47, 494, 89, 18, 1934, 450, 10, 47, 69, 10, 14, 55, 10, 105, 39, 30, 615, 23, 10, 84, 10, 106, 54, 124, 432, 693, 548, 752, 43, 29, 53, 13, 371, 78, 15, 9, 2, 164, 1935, 369, 361, 10, 158, 369, 490, 76, 302, 494, 9, 11, 243, 76, 28, 490, 13, 65, 10, 72, 65, 9, 2, 164, 76, 302, 10, 158, 140, 7, 99, 1936, 11, 154, 27, 557, 24, 10, 158, 551, 7, 490, 4, 283, 20, 3, 207, 25, 300, 395, 1937, 12, 5, 170, 36, 27, 963, 7, 514, 9, 2, 164, 71, 220, 13, 455, 138, 7, 25, 190, 9, 11, 23, 55, 13, 54, 4, 373, 64, 5, 1938, 143, 90, 170, 13, 1939, 43, 108, 15, 64, 5, 1940, 10, 162, 84, 556, 415, 7, 5, 31, 364, 182, 13, 28, 5, 230, 9, 2, 164, 71, 220, 68, 1149, 295, 26, 395, 9, 11, 21, 10, 47, 36, 7, 49, 415, 27, 364, 4, 62, 13, 9, 2, 164, 1252, 69, 85, 13, 94, 964, 48, 125, 52, 4, 2, 275, 8, 2, 397, 11, 185, 5, 31, 1941, 18, 2, 1942, 416, 109, 27, 747, 965, 3, 6, 656, 51, 39, 3, 9, 27, 912, 10, 84, 13, 250, 4, 142, 62, 69, 13, 85, 93, 116, 9, 2, 164, 97, 14, 188, 722, 222, 3, 16, 11, 56, 28, 84, 8, 118, 176, 405, 3, 16, 2, 164, 160, 4, 26, 12, 5, 27, 1099, 1943, 8, 345, 6, 231, 174, 104, 125, 2, 164, 247, 108, 17, 130, 216, 633, 4, 91, 30, 619, 1944, 259, 11, 231, 3, 113, 125, 52, 341, 68, 644, 9, 2, 164, 36, 15, 21, 9, 11, 1945, 37, 17, 1253, 16, 71, 16, 6, 56, 44, 9, 2, 164, 11, 59, 6, 157, 16, 71, 1946, 16, 6, 22, 129, 350, 4, 53, 3, 220, 108, 21, 7, 157, 142, 17, 216, 684, 765, 24, 90, 332, 7, 1947, 174, 169, 628, 23, 18, 135, 7, 1254, 35, 568, 175, 2, 662, 34, 8, 35, 372, 52, 3, 9, 25, 13, 84, 184, 432, 53, 13, 76, 302, 10, 245, 494, 9, 11, 10, 158, 256, 156, 16, 10, 1948, 10, 72, 341, 2, 180, 285, 24, 542, 332, 406, 158, 256, 29, 156, 9, 2, 164, 71, 130, 203, 4, 91, 66, 886, 2, 31, 1255, 1949, 23, 7, 21, 113, 395, 11, 154, 12, 5, 27, 558, 100, 498, 13, 85, 208, 569, 502, 9, 2, 164, 11, 962, 17, 312, 3, 73, 13, 85, 208, 569, 502, 2, 645, 663, 9, 3, 68, 495, 506, 652, 27, 146, 3, 190, 13, 1950, 570, 19, 68, 98, 53, 13, 84, 18, 68, 719, 7, 36, 141, 12, 74, 571, 569, 502, 154, 4, 40, 1951, 10, 1952, 7, 157, 1953, 2, 1954, 23, 77, 15, 76, 778, 181, 10, 54, 779, 116, 10, 53, 7, 52, 3, 52, 13, 85, 208, 9, 2, 571, 16, 10, 935, 126, 3, 54, 510, 456, 1955, 1956, 190, 13, 231, 5, 1957, 12, 18, 2, 152, 966, 29, 36, 2, 405, 8, 15, 12, 74, 571, 9, 2, 1958, 16, 33, 403, 40, 1959, 1088, 10, 288, 21, 74, 1960, 27, 1961, 78, 2, 209, 8, 30, 1962, 1963, 2, 712, 907, 62, 4, 1256, 13, 5, 1964, 13, 85, 208, 9, 2, 571, 3, 68, 1131, 85, 166, 1257, 24, 204, 1965, 177, 1966, 190, 13, 304, 2, 1226, 20, 2, 1967, 3, 2, 1968, 966, 66, 67, 13, 473, 4, 53, 7, 12, 74, 571, 9, 40, 569, 10, 175, 4, 2, 1196, 3, 1969, 453, 624, 20, 74, 1970, 3, 2, 1971, 1972, 94, 7, 244, 4, 74, 1973, 506, 1258, 2, 370, 8, 74, 336, 13, 85, 208, 9, 2, 571, 38, 49, 307, 267, 15, 68, 487, 14, 16, 1974, 16, 189, 190, 13, 1975, 75, 1976, 19, 2, 213, 8, 68, 457, 29, 145, 13, 25, 1977, 1259, 10, 54, 760, 168, 967, 3, 15, 36, 225, 9, 40, 569, 72, 309, 361, 1978, 53, 13, 84, 10, 131, 472, 21, 170, 4, 109, 780, 26, 60, 57, 134, 952, 13, 37, 834, 15, 36, 28, 9, 141, 9, 2, 164, 28, 81, 141, 76, 302, 9, 11, 408, 90, 8, 2, 192, 54, 105, 1979, 7, 36, 618, 127, 275, 4, 213, 9, 2, 164, 781, 3, 58, 14, 271, 24, 90, 332, 2, 164, 14, 2, 93, 4, 264, 29, 285, 53, 13, 393, 4, 26, 7, 226, 122, 76, 28, 930, 16, 4, 285, 11, 234, 154, 95, 38, 235, 46, 1260, 25, 664, 13, 47, 10, 72, 47, 9, 2, 164, 11, 9, 129, 6, 22, 103, 124, 25, 88, 1980, 12, 17, 336, 126, 3, 6, 185, 15, 6, 14, 1981, 17, 644, 85, 13, 1982, 77, 9, 2, 164, 71, 10, 162, 46, 4, 26, 5, 31, 480, 494, 42, 13, 278, 345, 9, 11, 168, 538, 36, 109, 5, 1261, 660, 4, 26, 7, 36, 5, 27, 176, 660, 233, 9, 2, 164, 402, 1983, 249, 1984, 16, 7, 236, 7, 14, 446, 168, 538, 232, 23, 76, 28, 311, 4, 7, 925, 163, 11, 12, 5, 1985, 114, 3, 6, 59, 8, 51, 10, 193, 2, 368, 278, 26, 25, 926, 367, 556, 101, 311, 4, 7, 12, 61, 9, 2, 164, 3, 7, 140, 2, 662, 64, 35, 372, 3, 73, 1249, 52, 30, 61, 11, 331, 1262, 611, 7, 1263, 4, 264, 52, 12, 5, 196, 57, 119, 2, 164, 175, 2, 662, 34, 8, 35, 372, 3, 1264, 137, 57, 583, 3, 403, 249, 43, 7, 105, 37, 60, 2, 454, 3, 1986, 174, 12, 2, 777, 1265, 933, 16, 7, 50, 38, 223, 143, 165, 13, 286, 1266, 3, 2, 117, 223, 143, 165, 13, 286, 1267, 38, 223, 8, 29, 2, 117, 223, 8, 29, 59, 11, 4, 51, 8, 2, 454, 9, 2, 164, 89, 16, 42, 6, 22, 226, 7, 591, 3, 12, 188, 151, 7, 14, 34, 8, 351, 11, 872, 149, 782, 18, 2, 454, 24, 5, 196, 258, 4, 165, 34, 94, 45, 2, 119, 686, 8, 7, 3, 16, 7, 14, 778, 110, 6, 138, 30, 5, 27, 1268, 222, 200, 18, 135, 6, 1247, 17, 568, 110, 7, 16, 287, 16, 32, 49, 92, 3, 1269, 60, 5, 230, 8, 2, 960, 20, 453, 199, 3, 77, 94, 36, 94, 6, 9, 4, 51, 3, 1270, 5, 31, 8, 2, 1271, 230, 4, 310, 2, 943, 2, 147, 151, 6, 185, 5, 1272, 1273, 1072, 17, 501, 7, 22, 1118, 17, 360, 6, 14, 5, 176, 308, 500, 78, 30, 27, 623, 265, 23, 6, 185, 15, 58, 14, 44, 61, 4, 26, 847, 16, 6, 14, 727, 1132, 25, 6, 263, 4, 429, 18, 137, 4, 214, 90, 8, 2, 117, 230, 17, 501, 14, 910, 25, 1987, 392, 17, 360, 15, 58, 14, 307, 293, 4, 479, 17, 372, 23, 6, 67, 7, 18, 135, 3, 688, 4, 1988, 5, 1989, 8, 2, 1274, 230, 104, 74, 324, 968, 18, 135, 9, 11, 12, 5, 114, 8, 852, 94, 432, 64, 1275, 12, 188, 151, 55, 6, 138, 15, 17, 704, 45, 1208, 4, 26, 138, 21, 6, 56, 65, 55, 6, 102, 37, 14, 75, 1990, 1991, 8, 483, 94, 160, 4, 1992, 46, 5, 1993, 34, 8, 5, 289, 8, 783, 535, 15, 770, 287, 950, 17, 29, 131, 21, 15, 783, 780, 26, 9, 11, 3, 292, 54, 74, 704, 105, 4, 3, 122, 74, 163, 312, 66, 36, 7, 10, 158, 65, 13, 6, 14, 955, 48, 41, 16, 6, 236, 23, 44, 1994, 160, 4, 1276, 699, 5, 31, 969, 301, 2, 1277, 783, 535, 16, 58, 160, 4, 26, 44, 758, 8, 187, 17, 312, 39, 4, 17, 98, 6, 203, 4, 101, 17, 98, 37, 4, 48, 3, 14, 1236, 4, 195, 15, 17, 483, 49, 1199, 41, 926, 12, 118, 649, 46, 5, 409, 6, 22, 89, 970, 12, 1995, 7, 37, 64, 5, 1996, 1997, 3, 14, 161, 4, 1998, 12, 301, 2, 535, 94, 6, 138, 4, 26, 129, 23, 2, 1999, 8, 2, 513, 229, 94, 6, 22, 124, 1278, 55, 5, 566, 2000, 145, 17, 515, 125, 12, 5, 329, 5, 132, 317, 22, 2001, 64, 17, 260, 3, 14, 1279, 17, 717, 20, 35, 2002, 409, 784, 2, 317, 76, 28, 5, 409, 9, 11, 785, 219, 62, 725, 409, 10, 91, 52, 374, 2, 317, 23, 12, 5, 99, 2003, 114, 3, 186, 20, 5, 491, 8, 2004, 130, 203, 303, 86, 3, 129, 621, 4, 934, 48, 10, 455, 2, 450, 238, 29, 184, 221, 41, 9, 11, 130, 203, 2, 2005, 8, 513, 3, 130, 203, 2006, 3, 130, 203, 2007, 2, 317, 50, 19, 169, 924, 4, 17, 23, 355, 971, 179, 44, 2008, 48, 11, 14, 99, 3, 99, 410, 23, 6, 59, 58, 14, 44, 209, 12, 240, 204, 99, 197, 2, 317, 22, 304, 16, 42, 7, 340, 529, 225, 2009, 2, 665, 9, 2, 317, 23, 10, 106, 26, 19, 2, 2010, 24, 971, 884, 3, 170, 116, 10, 455, 22, 5, 1143, 8, 572, 266, 168, 2011, 76, 27, 2012, 573, 124, 2013, 9, 11, 69, 14, 275, 4, 65, 35, 443, 3, 89, 16, 339, 786, 2, 2014, 666, 12, 2, 512, 399, 2, 317, 2015, 35, 100, 4, 5, 655, 3, 89, 16, 10, 14, 337, 10, 162, 26, 968, 8, 48, 18, 135, 32, 106, 2016, 104, 2017, 37, 127, 2, 787, 1174, 409, 23, 76, 28, 5, 409, 10, 142, 13, 9, 11, 76, 2018, 5, 71, 29, 85, 13, 9, 2, 317, 10, 131, 65, 184, 258, 4, 2019, 216, 2020, 5, 31, 695, 9, 11, 172, 1280, 16, 6, 607, 2, 625, 8, 1281, 6, 22, 294, 253, 15, 170, 5, 590, 447, 233, 9, 2, 317, 12, 5, 114, 8, 2, 2021, 2022, 130, 251, 5, 176, 300, 31, 972, 12, 74, 61, 23, 103, 38, 20, 109, 5, 483, 16, 15, 44, 44, 184, 5, 409, 3, 179, 44, 209, 2023, 7, 10, 267, 556, 26, 1282, 62, 147, 15, 13, 103, 973, 75, 2024, 10, 54, 973, 665, 259, 9, 11, 69, 14, 5, 27, 2025, 358, 23, 31, 972, 214, 665, 81, 16, 88, 16, 971, 53, 13, 47, 10, 72, 400, 7, 9, 2, 317, 23, 42, 32, 53, 116, 43, 296, 5, 491, 8, 409, 133, 21, 10, 131, 91, 30, 14, 109, 5, 593, 238, 4, 11, 15, 6, 14, 81, 516, 24, 5, 196, 57, 119, 94, 244, 2, 317, 2, 422, 8, 2026, 184, 149, 24, 665, 10, 47, 15, 71, 225, 3, 29, 404, 7, 383, 4, 62, 321, 184, 5, 31, 695, 57, 5, 409, 7, 1283, 5, 176, 308, 4, 62, 9, 11, 234, 23, 76, 28, 149, 24, 665, 16, 7, 608, 3, 42, 10, 14, 10, 653, 393, 974, 10, 72, 46, 48, 2027, 71, 26, 60, 43, 9, 2, 317, 12, 5, 906, 114, 16, 7, 975, 37, 52, 64, 35, 2028, 11, 2029, 37, 301, 2, 513, 16, 71, 16, 6, 56, 24, 17, 483, 288, 187, 1284, 301, 2, 1285, 3, 303, 77, 3, 43, 6, 22, 4, 546, 3, 2030, 7, 108, 5, 178, 6, 607, 15, 6, 279, 772, 2, 976, 8, 454, 12, 17, 312, 3, 6, 263, 4, 429, 27, 932, 977, 93, 18, 38, 3, 43, 18, 2, 117, 3, 335, 595, 1266, 3, 595, 1267, 611, 6, 22, 970, 12, 978, 51, 37, 4, 17, 614, 660, 7, 14, 25, 139, 752, 6, 22, 124, 204, 237, 2, 141, 285, 15, 7, 185, 81, 620, 18, 93, 23, 6, 105, 311, 4, 7, 12, 5, 388, 332, 3, 73, 221, 4, 51, 16, 614, 104, 179, 194, 74, 774, 246, 77, 66, 722, 21, 266, 1281, 85, 76, 103, 181, 29, 76, 161, 4, 26, 127, 38, 196, 4, 188, 200, 130, 105, 125, 4, 74, 141, 285, 2, 147, 96, 36, 4, 101, 64, 15, 273, 2031, 36, 15, 4, 26, 246, 10, 210, 16, 6, 9, 30, 6, 113, 276, 167, 75, 479, 451, 20, 5, 31, 212, 12, 7, 41, 532, 202, 232, 2032, 788, 58, 59, 11, 423, 103, 53, 4, 104, 167, 48, 30, 285, 116, 10, 162, 2033, 48, 34, 8, 87, 2034, 25, 6, 73, 977, 18, 2, 1271, 230, 52, 3, 67, 28, 931, 4, 92, 237, 2, 212, 197, 6, 22, 964, 51, 37, 4, 610, 538, 232, 299, 2035, 458, 3, 517, 24, 5, 196, 57, 119, 6, 509, 149, 18, 2, 212, 3, 477, 29, 4, 53, 147, 55, 276, 5, 375, 12, 979, 113, 444, 34, 8, 2, 2036, 980, 111, 4, 26, 5, 375, 243, 33, 14, 12, 979, 789, 2037, 78, 40, 260, 95, 6, 49, 54, 247, 111, 5, 2038, 2039, 981, 18, 2, 152, 20, 40, 2040, 7, 14, 354, 78, 188, 375, 12, 979, 20, 5, 110, 260, 3, 132, 159, 46, 5, 1178, 3, 272, 2041, 11, 420, 22, 2042, 495, 15, 1216, 21, 112, 87, 324, 6, 185, 27, 206, 4, 47, 29, 7, 14, 21, 41, 3, 2043, 5, 31, 86, 34, 8, 2, 512, 4, 472, 2, 1286, 73, 78, 2044, 127, 229, 40, 316, 5, 115, 982, 338, 16, 132, 16, 547, 3, 30, 33, 911, 112, 4, 2, 117, 240, 12, 5, 916, 114, 24, 2, 120, 75, 1287, 127, 2, 63, 4, 436, 543, 2, 2045, 374, 12, 2, 180, 916, 114, 95, 1260, 2, 983, 8, 2, 192, 5, 31, 127, 2, 63, 75, 1287, 24, 2, 120, 4, 436, 543, 43, 32, 272, 748, 257, 3, 87, 2046, 105, 1284, 406, 11, 1288, 25, 88, 18, 30, 15, 6, 22, 4, 756, 125, 64, 2, 512, 24, 687, 8, 87, 765, 17, 3, 55, 6, 147, 828, 34, 2, 1286, 14, 294, 3, 2, 117, 14, 342, 19, 2, 790, 237, 2, 152, 984, 2047, 39, 64, 2, 787, 11, 50, 408, 39, 4, 2, 152, 3, 2048, 179, 44, 198, 8, 209, 12, 940, 9, 2, 375, 3, 15, 24, 119, 2049, 93, 243, 76, 19, 2, 180, 223, 8, 2, 152, 16, 13, 85, 1289, 243, 296, 416, 109, 5, 917, 1290, 44, 38, 56, 865, 248, 13, 3, 259, 58, 14, 5, 456, 1291, 917, 161, 19, 2050, 1292, 985, 3, 574, 3, 303, 77, 3, 43, 5, 115, 1222, 16, 42, 5, 791, 57, 2051, 22, 124, 562, 4, 976, 205, 43, 9, 11, 66, 245, 10, 4, 101, 12, 58, 157, 26, 90, 954, 12, 68, 940, 2, 375, 50, 19, 169, 924, 4, 17, 42, 153, 22, 2, 152, 575, 269, 24, 986, 42, 13, 45, 1290, 13, 157, 2052, 3, 10, 56, 219, 13, 34, 13, 47, 33, 14, 149, 39, 64, 2, 787, 21, 2, 61, 33, 14, 628, 3, 30, 11, 59, 781, 2053, 23, 220, 33, 158, 394, 7, 6, 9, 4, 51, 40, 159, 85, 25, 27, 338, 18, 2, 421, 8, 40, 98, 23, 18, 118, 387, 33, 157, 382, 2054, 245, 10, 4, 101, 12, 6, 374, 591, 10, 171, 441, 97, 2, 375, 376, 197, 2055, 18, 30, 151, 2, 152, 8, 2, 212, 354, 3, 5, 132, 939, 113, 2056, 34, 1066, 18, 2, 2057, 98, 7, 89, 2058, 40, 457, 3, 1269, 4, 976, 392, 38, 8, 2, 513, 282, 111, 57, 147, 170, 2059, 2, 375, 399, 12, 2, 180, 114, 446, 16, 42, 129, 22, 482, 66, 245, 10, 4, 101, 12, 226, 11, 52, 12, 5, 2060, 114, 85, 13, 4, 101, 12, 18, 21, 9, 2, 375, 133, 2, 93, 222, 13, 47, 7, 14, 44, 769, 95, 11, 67, 28, 46, 4, 26, 576, 25, 35, 284, 1293, 6, 1294, 4, 51, 2, 86, 21, 2, 368, 2061, 35, 225, 4, 1295, 38, 2062, 2, 375, 160, 4, 84, 30, 5, 176, 422, 24, 987, 40, 377, 20, 2063, 10, 171, 441, 97, 33, 9, 19, 3, 60, 24, 792, 3, 792, 23, 29, 245, 10, 4, 53, 9, 11, 204, 13, 46, 9, 2, 375, 3, 73, 2064, 122, 179, 44, 209, 12, 221, 4, 111, 9, 11, 2065, 988, 778, 2066, 3, 6, 354, 2, 152, 3, 50, 12, 2, 152, 703, 141, 64, 5, 132, 793, 94, 14, 563, 8, 2067, 127, 38, 213, 4, 2, 117, 2, 120, 14, 342, 19, 5, 1087, 2068, 12, 2, 476, 989, 5, 318, 2, 297, 14, 1296, 112, 2, 899, 1297, 5, 132, 1298, 94, 160, 4, 26, 563, 8, 217, 179, 259, 166, 88, 517, 12, 15, 217, 11, 9, 4, 51, 16, 71, 16, 6, 56, 24, 574, 58, 14, 259, 166, 88, 8, 7, 12, 2, 255, 211, 2, 120, 2069, 2070, 3, 16, 24, 2, 318, 7, 14, 574, 3, 985, 2071, 169, 5, 1299, 1300, 2, 95, 156, 12, 2, 793, 15, 67, 28, 1301, 45, 2, 297, 3, 5, 132, 128, 94, 14, 342, 19, 2, 2072, 3, 2073, 127, 577, 4, 577, 205, 49, 13, 142, 62, 9, 11, 5, 31, 408, 24, 6, 14, 28, 81, 181, 321, 7, 14, 176, 2074, 24, 17, 4, 264, 93, 116, 68, 128, 2075, 46, 15, 35, 5, 518, 128, 9, 2, 120, 3, 133, 116, 458, 6, 9, 2, 135, 348, 20, 109, 623, 2076, 15, 11, 81, 536, 23, 6, 252, 12, 188, 151, 15, 7, 14, 1250, 4, 2, 318, 3, 28, 4, 17, 25, 6, 175, 990, 3, 50, 19, 52, 10, 254, 47, 15, 518, 239, 313, 991, 12, 426, 10, 254, 47, 15, 239, 56, 550, 32, 21, 131, 9, 2, 120, 3, 456, 8, 949, 53, 10, 72, 47, 8, 118, 15, 53, 11, 9, 27, 557, 485, 81, 519, 4, 54, 105, 64, 5, 397, 13, 72, 47, 88, 9, 2, 120, 3, 133, 5, 426, 11, 67, 28, 18, 21, 46, 2, 114, 8, 30, 377, 3, 59, 7, 49, 26, 16, 71, 4, 1302, 90, 117, 555, 8, 397, 178, 6, 14, 258, 4, 2077, 19, 38, 2, 297, 175, 2, 1298, 8, 217, 60, 2, 899, 3, 18, 137, 263, 4, 429, 1303, 365, 2078, 17, 709, 18, 2, 120, 3, 2, 2079, 2080, 113, 93, 43, 427, 5, 1232, 8, 2081, 1304, 3, 1305, 2, 120, 175, 44, 634, 8, 48, 211, 55, 32, 1235, 17, 3, 2, 318, 14, 985, 25, 88, 1306, 15, 7, 14, 81, 855, 4, 91, 321, 2, 2082, 846, 7, 57, 28, 122, 205, 345, 29, 184, 648, 201, 11, 794, 39, 3, 37, 12, 75, 2083, 8, 2084, 122, 58, 496, 40, 2085, 457, 16, 75, 2086, 132, 2087, 2088, 277, 78, 7, 3, 27, 338, 795, 7, 60, 42, 445, 2089, 87, 344, 511, 2, 120, 9, 12, 5, 888, 992, 2, 468, 49, 92, 110, 5, 308, 993, 177, 7, 404, 94, 49, 28, 26, 75, 994, 9, 11, 69, 185, 27, 325, 4, 101, 75, 422, 8, 1076, 60, 5, 31, 8, 17, 837, 89, 84, 8, 29, 429, 7, 49, 165, 20, 2, 170, 3, 884, 13, 65, 2, 692, 1307, 1308, 796, 4, 373, 110, 19, 35, 2090, 221, 8, 2091, 9, 2, 120, 2092, 60, 17, 98, 11, 2093, 172, 262, 18, 2, 297, 4, 65, 42, 6, 667, 4, 191, 2, 1309, 23, 2, 297, 14, 797, 1297, 2, 217, 3, 160, 28, 4, 26, 840, 25, 6, 50, 19, 52, 1308, 796, 10, 84, 57, 36, 7, 723, 10, 122, 72, 2094, 62, 9, 2, 120, 10, 103, 56, 2095, 2096, 3, 20, 15, 6, 73, 989, 17, 358, 52, 1310, 5, 198, 8, 2097, 4, 7, 16, 6, 67, 25, 3, 1237, 7, 5, 1272, 2098, 18, 2, 213, 8, 303, 1311, 264, 2099, 4, 68, 31, 1312, 3, 798, 111, 55, 33, 1313, 33, 95, 404, 7, 4, 2100, 243, 33, 1122, 7, 2101, 560, 12, 94, 2, 297, 3, 2, 318, 927, 578, 578, 578, 178, 2, 120, 1314, 2, 702, 799, 8, 2, 520, 6, 288, 995, 2, 318, 717, 39, 3, 37, 3, 2, 163, 31, 96, 2102, 25, 15, 11, 56, 307, 248, 2, 192, 10, 264, 711, 4, 74, 1312, 10, 798, 111, 55, 33, 1313, 24, 33, 131, 1315, 2103, 2, 517, 55, 33, 2104, 560, 578, 578, 578, 97, 13, 295, 1212, 7, 5, 230, 42, 13, 46, 2, 120, 9, 4, 11, 2105, 2, 318, 18, 17, 16, 6, 236, 10, 106, 92, 3, 101, 430, 4, 436, 543, 20, 2, 63, 3, 6, 322, 34, 8, 2, 293, 2, 297, 1316, 5, 2106, 108, 17, 16, 6, 50, 34, 23, 7, 89, 1317, 17, 11, 996, 2, 318, 20, 90, 775, 16, 7, 14, 5, 2107, 31, 800, 3, 772, 34, 35, 568, 3, 866, 12, 21, 877, 89, 46, 5, 2108, 59, 11, 2, 163, 31, 96, 14, 2109, 46, 5, 2110, 55, 6, 996, 7, 3, 288, 2111, 249, 39, 3, 2112, 249, 34, 52, 25, 15, 605, 24, 2, 93, 196, 57, 119, 7, 14, 16, 88, 16, 6, 56, 53, 4, 390, 7, 16, 173, 16, 6, 22, 145, 34, 2, 997, 86, 8, 989, 7, 94, 14, 4, 1318, 7, 39, 64, 5, 198, 8, 1200, 3, 43, 341, 2113, 390, 8, 35, 141, 577, 3, 261, 360, 25, 16, 4, 2114, 35, 2115, 249, 6, 795, 7, 34, 64, 2, 479, 255, 42, 10, 72, 191, 30, 358, 174, 20, 62, 59, 11, 296, 181, 4, 2116, 7, 12, 5, 170, 57, 119, 278, 7, 26, 2117, 4, 391, 7, 282, 6, 9, 2, 135, 192, 34, 565, 3, 2, 31, 96, 801, 12, 640, 7, 22, 261, 60, 574, 78, 30, 61, 72, 2118, 9, 11, 133, 28, 18, 21, 5, 997, 86, 8, 2119, 361, 2, 318, 801, 52, 3, 11, 102, 27, 262, 64, 35, 260, 4, 65, 29, 14, 2, 383, 20, 7, 58, 56, 26, 44, 769, 15, 7, 22, 5, 27, 2120, 457, 88, 99, 46, 5, 2121, 177, 5, 941, 457, 1319, 35, 159, 45, 187, 1320, 353, 24, 5, 318, 605, 11, 67, 28, 46, 2, 155, 8, 2, 96, 18, 21, 23, 220, 7, 14, 95, 998, 6, 59, 3, 102, 64, 35, 159, 52, 4, 65, 42, 58, 45, 118, 333, 44, 58, 45, 44, 333, 42, 184, 161, 4, 373, 64, 5, 458, 74, 150, 9, 11, 2122, 134, 54, 129, 99, 4, 53, 20, 13, 345, 77, 2, 163, 31, 96, 2123, 52, 57, 801, 7, 14, 855, 4, 91, 94, 3, 32, 50, 19, 24, 90, 178, 12, 271, 11, 14, 89, 275, 4, 84, 4, 51, 77, 29, 245, 10, 4, 53, 20, 30, 800, 55, 10, 101, 7, 589, 55, 7, 801, 52, 25, 717, 15, 6, 102, 37, 64, 35, 260, 12, 90, 1275, 30, 61, 58, 56, 26, 44, 938, 41, 7, 7, 14, 1321, 99, 831, 802, 177, 5, 458, 3, 6, 185, 15, 7, 49, 26, 81, 1193, 24, 17, 4, 2124, 7, 862, 25, 6, 263, 2, 31, 800, 37, 3, 185, 81, 2125, 4, 65, 7, 2126, 174, 661, 64, 2, 512, 42, 7, 22, 510, 39, 6, 9, 4, 51, 7, 49, 54, 145, 5, 579, 1322, 358, 23, 7, 334, 172, 5, 2127, 458, 10, 84, 3, 6, 73, 337, 112, 117, 357, 6, 242, 69, 157, 53, 27, 71, 16, 1323, 3, 14, 89, 240, 4, 51, 42, 38, 95, 242, 2, 141, 86, 4, 265, 48, 55, 6, 14, 5, 31, 1324, 78, 2128, 2, 518, 128, 342, 19, 5, 2129, 8, 5, 666, 5, 388, 2130, 60, 2, 128, 95, 991, 55, 7, 252, 11, 7, 102, 2131, 6, 59, 279, 7, 22, 27, 139, 1129, 3, 5, 115, 300, 2132, 25, 6, 185, 15, 7, 250, 4, 26, 2133, 20, 2134, 518, 2135, 6, 73, 172, 408, 16, 6, 67, 28, 18, 21, 47, 321, 7, 49, 46, 2, 349, 200, 7, 95, 991, 5, 31, 2136, 104, 35, 519, 25, 287, 59, 11, 3, 6, 50, 19, 49, 13, 142, 62, 205, 94, 86, 10, 250, 4, 92, 127, 97, 15, 2137, 5, 176, 308, 19, 292, 13, 393, 4, 101, 4, 9, 2, 128, 10, 72, 88, 714, 292, 9, 11, 43, 7, 235, 383, 94, 86, 13, 92, 9, 2, 128, 25, 139, 16, 10, 101, 836, 11, 186, 16, 75, 1325, 122, 184, 181, 4, 53, 15, 9, 2, 128, 42, 13, 95, 592, 139, 225, 11, 185, 15, 30, 56, 28, 26, 1326, 25, 6, 203, 188, 222, 29, 198, 8, 281, 435, 41, 97, 12, 15, 649, 2, 128, 9, 668, 35, 141, 957, 110, 788, 5, 82, 3, 12, 15, 649, 668, 2, 117, 957, 788, 5, 136, 144, 2138, 346, 13, 46, 296, 272, 274, 23, 10, 72, 393, 4, 92, 301, 274, 281, 11, 376, 122, 13, 158, 394, 15, 9, 2, 128, 45, 21, 274, 97, 76, 274, 184, 274, 66, 53, 13, 47, 76, 274, 9, 11, 13, 106, 26, 9, 2, 128, 57, 13, 278, 54, 104, 97, 11, 254, 84, 15, 1220, 7, 18, 21, 200, 6, 50, 19, 3, 66, 53, 13, 47, 15, 184, 274, 4, 283, 20, 9, 2, 128, 5, 733, 28, 274, 13, 2139, 15, 10, 267, 25, 9, 11, 71, 43, 2, 128, 50, 19, 13, 65, 5, 1155, 2140, 55, 35, 631, 3, 2141, 35, 396, 55, 35, 519, 77, 10, 992, 55, 76, 519, 3, 2142, 74, 396, 55, 76, 631, 2143, 76, 274, 10, 401, 7, 1151, 28, 2144, 9, 11, 401, 7, 29, 13, 46, 9, 2, 128, 53, 13, 436, 543, 20, 2, 63, 718, 10, 162, 46, 7, 27, 88, 9, 11, 23, 10, 455, 124, 1327, 190, 556, 65, 62, 58, 9, 2, 128, 3, 753, 11, 14, 28, 88, 488, 18, 30, 6, 14, 187, 25, 311, 4, 364, 156, 2145, 178, 6, 14, 149, 18, 2, 451, 292, 7, 22, 124, 7, 276, 452, 52, 2146, 29, 1328, 8, 2, 318, 9, 2, 128, 339, 338, 540, 4, 326, 7, 231, 64, 5, 458, 11, 661, 9, 89, 16, 42, 7, 22, 104, 125, 12, 5, 685, 86, 10, 59, 7, 49, 9, 2, 128, 3, 753, 52, 11, 331, 5, 31, 194, 873, 4, 65, 7, 52, 23, 7, 67, 28, 1329, 3, 108, 5, 196, 57, 119, 6, 352, 19, 12, 2, 649, 12, 94, 2, 136, 144, 14, 9, 4, 435, 130, 251, 1330, 126, 6, 9, 4, 51, 2, 136, 144, 143, 26, 88, 2, 456, 650, 3, 220, 16, 30, 36, 295, 7, 182, 26, 1331, 2147, 450, 28, 25, 274, 16, 7, 14, 12, 136, 16, 6, 9, 30, 6, 102, 39, 3, 58, 14, 2, 128, 52, 342, 19, 5, 2148, 8, 5, 666, 67, 13, 91, 458, 57, 2149, 9, 2, 128, 10, 9, 458, 154, 11, 3, 10, 193, 13, 278, 341, 2150, 3, 2151, 25, 276, 13, 165, 38, 81, 1332, 21, 141, 9, 2, 128, 3, 30, 61, 7, 753, 81, 418, 275, 20, 2, 213, 8, 2, 396, 3, 2152, 20, 2, 550, 94, 872, 90, 61, 108, 2, 370, 8, 7, 22, 294, 71, 130, 664, 251, 5, 128, 169, 5, 550, 59, 11, 23, 5, 550, 169, 5, 128, 35, 2, 456, 206, 96, 10, 189, 252, 12, 74, 336, 6, 22, 28, 294, 88, 2153, 126, 6, 113, 12, 351, 8, 2, 212, 8, 2, 136, 144, 6, 59, 7, 106, 26, 2, 141, 212, 243, 2, 2154, 45, 1333, 46, 597, 3, 2, 537, 14, 2155, 20, 905, 7, 14, 25, 132, 5, 212, 15, 6, 67, 28, 46, 4, 92, 627, 197, 6, 22, 1270, 90, 99, 8, 2, 1274, 230, 8, 454, 3, 1334, 51, 4, 41, 119, 202, 232, 211, 43, 6, 352, 39, 2156, 7, 172, 408, 240, 4, 51, 267, 7, 162, 26, 1331, 274, 108, 21, 10, 541, 193, 339, 294, 4, 65, 2, 82, 999, 299, 2157, 5, 274, 1335, 58, 14, 5, 215, 263, 34, 229, 5, 666, 12, 1336, 8, 2, 212, 3, 2, 136, 144, 3, 2, 82, 45, 343, 319, 18, 7, 5, 121, 14, 342, 575, 48, 803, 459, 3, 2, 117, 119, 45, 1337, 7, 16, 5, 1338, 1339, 87, 2158, 19, 7, 3, 221, 112, 35, 98, 27, 738, 24, 2, 121, 59, 11, 95, 16, 35, 459, 10, 267, 7, 235, 345, 2, 215, 14, 5, 132, 38, 23, 2, 168, 45, 21, 632, 406, 18, 38, 848, 8, 7, 44, 293, 44, 293, 32, 201, 34, 55, 32, 252, 11, 380, 179, 1069, 8, 293, 9, 11, 785, 3, 6, 224, 37, 12, 5, 132, 2159, 18, 38, 213, 8, 2, 215, 54, 90, 1340, 2, 136, 144, 9, 12, 75, 1251, 114, 11, 102, 21, 110, 2, 215, 23, 58, 14, 129, 19, 7, 23, 319, 10, 72, 65, 118, 1340, 6, 376, 58, 514, 118, 9, 2, 136, 144, 43, 7, 340, 27, 1000, 8, 13, 4, 1181, 7, 9, 11, 402, 7, 340, 27, 1000, 8, 13, 4, 441, 37, 169, 207, 1327, 9, 2, 136, 144, 10, 254, 47, 7, 14, 68, 215, 9, 11, 35, 1341, 24, 5, 115, 300, 99, 177, 168, 68, 495, 1342, 2160, 9, 2, 82, 33, 22, 124, 149, 18, 11, 24, 90, 61, 20, 115, 587, 3, 30, 14, 40, 93, 913, 13, 162, 499, 28, 4, 165, 1343, 965, 11, 9, 20, 90, 2161, 35, 27, 1344, 2, 82, 354, 40, 159, 27, 1345, 19, 765, 30, 23, 21, 33, 9, 14, 116, 36, 5, 2162, 46, 5, 2163, 104, 153, 171, 54, 90, 1001, 77, 59, 11, 76, 325, 2164, 474, 594, 2165, 400, 10, 131, 892, 15, 6, 186, 591, 53, 13, 371, 15, 13, 84, 13, 131, 195, 34, 2, 382, 4, 7, 9, 2, 136, 144, 446, 25, 9, 11, 43, 13, 162, 91, 29, 13, 371, 2, 136, 144, 50, 19, 10, 53, 11, 234, 154, 18, 2166, 450, 10, 371, 29, 10, 2167, 2, 180, 96, 13, 47, 28, 2, 180, 96, 5, 230, 9, 2, 82, 13, 157, 89, 16, 71, 91, 15, 10, 65, 29, 10, 214, 36, 2, 180, 96, 16, 10, 214, 29, 10, 65, 13, 157, 89, 16, 71, 91, 186, 2, 136, 144, 15, 10, 46, 29, 10, 101, 36, 2, 180, 96, 16, 10, 101, 29, 10, 46, 13, 157, 89, 16, 71, 91, 186, 2, 121, 69, 160, 4, 26, 221, 12, 40, 572, 15, 10, 1002, 55, 10, 572, 36, 2, 180, 96, 16, 10, 572, 55, 10, 1002, 7, 36, 2, 180, 96, 20, 13, 9, 2, 82, 3, 97, 2, 397, 613, 3, 2, 442, 224, 516, 24, 5, 196, 178, 11, 59, 112, 21, 6, 56, 256, 41, 2168, 3, 2169, 94, 340, 88, 2, 82, 14, 2, 93, 4, 1346, 2, 271, 29, 170, 8, 2, 1347, 36, 7, 33, 9, 314, 4, 11, 33, 22, 786, 40, 417, 34, 8, 40, 637, 3, 14, 149, 18, 7, 1348, 969, 7, 303, 77, 3, 43, 3, 871, 7, 4, 40, 577, 11, 980, 5, 31, 3, 43, 9, 2, 2170, 119, 792, 618, 643, 2, 82, 10, 576, 13, 1003, 278, 934, 2, 2171, 33, 186, 149, 402, 18, 2, 136, 144, 7, 14, 2, 305, 1003, 2, 136, 144, 1349, 154, 280, 23, 90, 804, 106, 54, 105, 12, 16, 71, 2, 82, 2172, 13, 653, 54, 140, 7, 12, 20, 2, 2173, 2, 136, 144, 175, 2, 417, 3, 102, 18, 7, 2174, 43, 33, 1067, 7, 64, 40, 1350, 8, 319, 3, 102, 18, 7, 52, 23, 33, 56, 84, 8, 129, 270, 4, 91, 177, 40, 93, 377, 7, 14, 2, 305, 1003, 13, 47, 11, 22, 124, 149, 112, 40, 805, 20, 90, 587, 29, 5, 839, 417, 6, 376, 7, 1351, 2, 170, 8, 2, 1347, 3, 235, 142, 29, 1004, 7, 36, 116, 162, 7, 1294, 2, 82, 404, 68, 417, 142, 13, 29, 1352, 7, 36, 8, 183, 28, 11, 154, 27, 2175, 23, 133, 243, 7, 2176, 2, 180, 1352, 24, 109, 5, 139, 61, 406, 94, 36, 89, 2, 624, 20, 433, 9, 2, 82, 11, 185, 579, 410, 2, 1330, 377, 160, 4, 54, 44, 198, 8, 443, 12, 7, 3, 190, 7, 14, 259, 544, 10, 72, 81, 551, 13, 6, 9, 16, 557, 16, 6, 56, 2, 121, 36, 459, 52, 9, 2, 82, 3, 33, 2177, 5, 31, 584, 319, 167, 35, 457, 2, 121, 403, 35, 98, 642, 3, 9, 169, 875, 35, 159, 8, 183, 8, 183, 89, 29, 10, 14, 161, 4, 377, 490, 54, 13, 936, 2, 2178, 190, 2, 82, 9, 314, 4, 11, 52, 44, 10, 309, 7, 39, 11, 154, 635, 2, 382, 10, 455, 2, 2179, 238, 9, 2, 82, 831, 10, 9, 2, 136, 144, 11, 643, 2180, 10, 84, 13, 157, 53, 216, 270, 20, 2, 61, 6, 9, 177, 2181, 7, 12, 594, 2182, 15, 54, 44, 2183, 42, 13, 242, 61, 16, 71, 16, 10, 53, 9, 2, 82, 13, 278, 268, 41, 1197, 7, 35, 111, 10, 72, 47, 29, 13, 371, 9, 11, 8, 183, 13, 72, 2, 82, 9, 995, 40, 98, 1252, 10, 638, 91, 13, 103, 211, 236, 4, 61, 220, 28, 11, 1005, 154, 23, 10, 47, 10, 54, 4, 798, 61, 55, 10, 499, 1006, 616, 15, 2184, 24, 7, 9, 2, 82, 33, 182, 570, 1279, 77, 42, 13, 95, 288, 19, 176, 2185, 20, 111, 2186, 53, 541, 204, 13, 559, 20, 2, 1353, 24, 986, 267, 7, 45, 610, 1004, 12, 2, 615, 89, 61, 4, 283, 347, 366, 95, 54, 4, 919, 5, 1309, 4, 61, 3, 110, 496, 2, 1353, 12, 5, 806, 1354, 38, 61, 24, 1157, 10, 95, 193, 7, 14, 2, 136, 144, 9, 4, 249, 12, 5, 919, 15, 49, 26, 838, 259, 9, 11, 782, 23, 2187, 653, 26, 958, 24, 7, 13, 47, 28, 18, 93, 220, 9, 2, 82, 23, 13, 56, 341, 7, 4, 1354, 38, 16, 139, 16, 13, 559, 36, 15, 2, 86, 13, 473, 11, 226, 2, 82, 403, 40, 98, 2188, 28, 10, 33, 154, 153, 2189, 135, 2190, 126, 33, 50, 274, 13, 47, 744, 20, 40, 319, 1355, 18, 2, 136, 144, 7, 14, 18, 2, 115, 1356, 2191, 78, 2, 63, 8, 460, 3, 10, 22, 4, 580, 461, 461, 31, 845, 66, 10, 210, 29, 184, 18, 13, 47, 2, 520, 220, 130, 148, 216, 46, 7, 9, 11, 7, 496, 19, 13, 47, 2, 82, 399, 12, 30, 86, 39, 953, 2, 468, 13, 1007, 46, 5, 2192, 12, 2, 787, 461, 461, 97, 2, 121, 403, 249, 3, 73, 1310, 12, 35, 572, 461, 461, 461, 461, 3, 50, 19, 25, 139, 15, 32, 22, 4, 1357, 7, 4, 165, 7, 546, 71, 339, 307, 304, 2, 93, 799, 9, 2, 82, 55, 2, 63, 536, 39, 3, 2193, 34, 988, 2194, 2, 61, 60, 20, 40, 98, 66, 579, 716, 581, 11, 3, 189, 752, 15, 2, 82, 50, 19, 12, 5, 2195, 114, 33, 182, 53, 5, 96, 10, 326, 35, 313, 1124, 1004, 77, 5, 481, 238, 113, 64, 328, 98, 36, 15, 2, 405, 25, 300, 2196, 85, 140, 34, 97, 6, 226, 280, 133, 7, 9, 2, 82, 20, 5, 807, 35, 313, 1081, 3, 1358, 44, 61, 4, 1359, 2, 156, 575, 2197, 43, 13, 341, 955, 110, 10, 267, 9, 11, 446, 25, 9, 2, 82, 16, 2, 156, 101, 311, 39, 23, 29, 608, 55, 13, 104, 4, 2, 275, 52, 11, 708, 4, 326, 267, 153, 265, 2, 555, 2, 136, 144, 411, 1360, 76, 187, 466, 8, 30, 10, 2198, 2, 645, 1008, 1351, 269, 5, 447, 76, 302, 10, 72, 47, 38, 9, 11, 172, 2199, 18, 2, 2200, 43, 2, 121, 171, 32, 272, 201, 1361, 39, 121, 3, 32, 1362, 7, 19, 272, 686, 18, 137, 2, 121, 418, 354, 40, 159, 10, 340, 459, 33, 9, 12, 5, 888, 1228, 100, 10, 148, 303, 348, 13, 2201, 45, 240, 142, 269, 5, 447, 9, 2, 136, 144, 280, 205, 53, 925, 11, 3, 26, 1209, 41, 7, 186, 2, 82, 57, 556, 26, 459, 52, 126, 35, 246, 137, 167, 5, 61, 58, 45, 168, 31, 1363, 2, 121, 73, 12, 5, 115, 329, 3, 87, 1364, 45, 2202, 2203, 3, 2204, 3, 32, 1009, 18, 2, 808, 8, 5, 71, 29, 67, 32, 435, 19, 9, 11, 69, 313, 175, 5, 115, 2205, 12, 967, 8, 2206, 3, 2207, 32, 1009, 19, 669, 9, 2, 121, 108, 337, 5, 196, 57, 119, 32, 381, 54, 246, 15, 13, 47, 11, 890, 376, 757, 54, 124, 134, 25, 32, 45, 9, 2, 121, 27, 134, 11, 203, 4, 606, 4, 51, 29, 109, 75, 1291, 2208, 8, 1365, 49, 26, 46, 23, 7, 410, 17, 166, 88, 25, 6, 50, 19, 23, 116, 67, 32, 435, 18, 2, 808, 8, 5, 71, 191, 90, 99, 319, 2, 136, 144, 9, 4, 11, 27, 1082, 130, 22, 129, 190, 11, 154, 12, 75, 367, 114, 25, 10, 158, 191, 99, 13, 371, 13, 158, 191, 802, 9, 2, 82, 35, 27, 1183, 4, 191, 99, 177, 129, 448, 226, 68, 2209, 9, 11, 2210, 416, 1343, 965, 77, 2, 82, 226, 1366, 11, 67, 28, 81, 47, 29, 4, 91, 4, 30, 25, 6, 2211, 51, 4, 90, 319, 3, 582, 3, 43, 231, 4, 2, 121, 3, 374, 17, 222, 116, 67, 32, 435, 18, 2, 808, 8, 5, 71, 2, 121, 52, 175, 5, 196, 57, 119, 4, 84, 41, 7, 3, 43, 9, 7, 14, 5, 2212, 179, 44, 109, 96, 11, 14, 275, 27, 402, 23, 2, 82, 3, 2, 136, 144, 50, 1367, 1367, 3, 2, 121, 1368, 376, 42, 13, 158, 26, 1000, 366, 270, 641, 2, 447, 24, 361, 44, 205, 92, 19, 11, 9, 27, 1198, 10, 182, 2213, 52, 10, 638, 91, 58, 295, 26, 38, 38, 233, 9, 2, 121, 785, 200, 33, 2214, 4, 92, 19, 3, 25, 266, 168, 31, 2215, 45, 1369, 4, 515, 13, 47, 29, 67, 32, 515, 9, 11, 81, 947, 17, 2216, 669, 9, 2, 121, 169, 830, 18, 21, 30, 61, 10, 393, 5, 2217, 1350, 411, 2, 82, 617, 21, 909, 38, 451, 19, 33, 646, 19, 16, 33, 236, 3, 2, 121, 427, 111, 2, 136, 144, 646, 64, 2, 2218, 451, 3, 11, 172, 2219, 175, 2, 451, 8, 2, 136, 144, 2, 82, 14, 2, 95, 38, 69, 105, 118, 994, 127, 2, 265, 3, 11, 14, 5, 176, 308, 894, 60, 177, 126, 16, 2, 136, 144, 22, 89, 1010, 2, 2220, 64, 40, 939, 11, 67, 28, 193, 4, 2221, 2, 121, 52, 25, 6, 73, 27, 1005, 23, 10, 72, 551, 292, 67, 32, 515, 2, 669, 127, 13, 131, 515, 729, 34, 8, 5, 2222, 9, 2, 82, 25, 10, 162, 84, 13, 56, 515, 669, 34, 8, 5, 2223, 528, 23, 32, 45, 12, 2, 71, 11, 9, 4, 2, 121, 28, 2224, 4, 634, 30, 135, 377, 8, 183, 32, 45, 9, 2, 121, 71, 12, 30, 382, 25, 745, 163, 11, 15, 6, 219, 2, 121, 92, 19, 24, 90, 61, 169, 1370, 7, 32, 45, 1369, 4, 515, 2, 121, 50, 19, 1360, 3, 1371, 35, 159, 24, 7, 14, 187, 27, 585, 3, 32, 656, 21, 1372, 8, 2225, 15, 809, 20, 75, 810, 116, 20, 75, 810, 9, 11, 116, 28, 9, 2, 136, 144, 11, 14, 516, 2, 121, 22, 1373, 35, 159, 78, 30, 61, 3, 14, 161, 60, 64, 5, 2226, 23, 19, 207, 1362, 78, 2, 82, 7, 2227, 39, 52, 20, 5, 31, 655, 3, 50, 19, 15, 809, 20, 75, 810, 109, 16, 2228, 3, 2, 2229, 3, 2230, 3, 2231, 47, 13, 91, 156, 85, 88, 8, 5, 2232, 13, 189, 65, 109, 5, 96, 16, 5, 2233, 8, 5, 2234, 284, 77, 13, 326, 62, 9, 11, 27, 88, 745, 10, 72, 84, 43, 13, 653, 268, 9, 2, 82, 30, 670, 8, 2235, 14, 99, 177, 11, 56, 2236, 6, 105, 39, 12, 115, 2237, 3, 352, 60, 2, 121, 531, 459, 657, 3, 1321, 8, 2, 508, 175, 2, 450, 634, 8, 17, 161, 323, 6, 102, 125, 137, 57, 583, 194, 856, 15, 32, 49, 401, 108, 17, 2, 135, 61, 6, 252, 48, 32, 45, 258, 4, 140, 2, 121, 64, 2, 2238, 18, 118, 387, 134, 103, 92, 58, 52, 9, 11, 16, 6, 959, 17, 86, 253, 2, 512, 35, 2, 2239, 1335, 10, 189, 14, 18, 12, 21, 74, 336, 89, 16, 6, 9, 30, 6, 420, 15, 38, 8, 2, 513, 22, 5, 152, 2240, 141, 64, 7, 133, 27, 206, 6, 59, 23, 1374, 206, 718, 10, 84, 10, 295, 16, 71, 92, 12, 18, 137, 3, 12, 6, 50, 137, 99, 6, 138, 51, 12, 2, 139, 384, 3, 277, 4, 2, 31, 385, 215, 77, 134, 473, 270, 30, 61, 6, 9, 4, 51, 3, 73, 78, 654, 2, 31, 478, 386, 3, 2241, 2, 152, 15, 703, 64, 2, 241, 43, 6, 50, 4, 429, 977, 18, 2, 454, 6, 22, 288, 5, 670, 8, 7, 12, 17, 637, 197, 6, 14, 41, 5, 360, 232, 43, 6, 352, 37, 2, 31, 698, 3, 2242, 138, 51, 18, 135, 12, 2, 273, 241, 301, 2, 481, 2243, 3, 2, 1091, 1092, 299, 2244, 2, 462, 1011, 5, 132, 811, 509, 237, 2, 2245, 8, 2, 241, 2, 1012, 335, 19, 7, 45, 146, 23, 58, 45, 168, 463, 18, 7, 797, 1375, 48, 1376, 11, 59, 30, 5, 27, 206, 96, 3, 6, 50, 627, 4, 417, 48, 3, 89, 16, 6, 113, 39, 4, 48, 6, 148, 38, 8, 48, 91, 155, 34, 77, 434, 72, 92, 1140, 2246, 112, 62, 46, 15, 10, 381, 394, 7, 9, 434, 12, 5, 906, 114, 549, 2247, 74, 944, 19, 94, 549, 102, 39, 3, 9, 133, 141, 434, 313, 770, 2, 2248, 19, 508, 366, 270, 28, 268, 9, 434, 10, 148, 2, 63, 91, 95, 883, 13, 2249, 4, 26, 1013, 29, 24, 9, 2, 38, 69, 22, 2250, 93, 133, 779, 8, 68, 511, 119, 9, 549, 280, 7, 36, 40, 511, 9, 434, 3, 134, 142, 2251, 14, 24, 978, 2, 297, 2252, 999, 8, 2253, 549, 2254, 37, 40, 2255, 3, 22, 89, 474, 71, 8, 21, 2, 2256, 156, 55, 40, 487, 2257, 4, 471, 167, 11, 16, 6, 509, 1014, 48, 3, 33, 1015, 547, 276, 2, 508, 102, 110, 1319, 3, 21, 8, 48, 748, 257, 49, 13, 142, 62, 9, 11, 5, 31, 408, 116, 13, 85, 1375, 355, 1012, 434, 3, 549, 9, 129, 23, 102, 18, 119, 119, 73, 12, 5, 257, 100, 116, 2, 426, 36, 13, 65, 696, 30, 97, 250, 4, 54, 124, 5, 1376, 811, 3, 153, 140, 5, 146, 38, 12, 78, 938, 3, 42, 2, 63, 14, 4, 195, 7, 34, 153, 162, 21, 54, 439, 324, 602, 60, 13, 47, 25, 13, 65, 696, 45, 648, 439, 305, 2258, 6, 1230, 4, 18, 30, 151, 434, 69, 22, 124, 262, 149, 586, 2, 241, 247, 34, 2, 63, 2, 63, 3, 2, 168, 463, 657, 1316, 1016, 1377, 167, 87, 671, 58, 14, 5, 694, 8, 300, 1206, 3, 11, 102, 110, 1017, 4, 65, 2, 63, 93, 113, 542, 378, 1378, 2259, 266, 45, 21, 1333, 46, 2, 168, 463, 2260, 3, 1377, 20, 87, 312, 3, 202, 18, 2, 2261, 147, 2, 542, 1379, 266, 45, 1380, 21, 112, 20, 2262, 3, 352, 119, 3, 119, 16, 2, 378, 67, 108, 266, 113, 2, 1381, 357, 58, 45, 542, 8, 48, 3, 2, 31, 876, 113, 794, 2263, 599, 199, 12, 199, 12, 2264, 32, 45, 21, 1380, 20, 460, 147, 113, 2, 1018, 1382, 1019, 3, 462, 3, 301, 48, 11, 2265, 2, 146, 107, 7, 14, 221, 12, 5, 322, 604, 1372, 1130, 18, 365, 15, 14, 9, 3, 50, 78, 169, 2266, 17, 43, 427, 2, 412, 8, 460, 1378, 2, 1019, 908, 19, 5, 1383, 2267, 1338, 3, 135, 8, 21, 30, 838, 672, 113, 2, 70, 3, 63, 8, 460, 11, 14, 172, 1384, 321, 6, 250, 28, 4, 1385, 37, 19, 17, 260, 46, 2, 168, 463, 23, 6, 56, 28, 256, 189, 343, 148, 8, 109, 5, 673, 18, 2268, 3, 721, 29, 49, 26, 2, 209, 8, 5, 672, 59, 6, 42, 281, 22, 21, 4, 1385, 37, 167, 87, 671, 25, 15, 32, 381, 65, 7, 25, 6, 509, 279, 292, 6, 14, 3, 331, 55, 2, 672, 113, 2269, 4, 11, 32, 21, 946, 3, 102, 18, 17, 3, 2, 63, 9, 711, 69, 36, 30, 6, 9, 7, 4, 2, 412, 8, 460, 69, 95, 748, 3, 1386, 12, 640, 2270, 9, 2, 63, 995, 17, 98, 642, 3, 314, 4, 11, 6, 50, 19, 635, 68, 349, 358, 74, 349, 36, 11, 25, 205, 68, 320, 9, 11, 27, 557, 23, 6, 186, 4, 51, 116, 296, 95, 5, 674, 8, 1020, 108, 21, 10, 1021, 26, 302, 8, 48, 3, 69, 85, 266, 9, 2, 63, 744, 4, 2, 168, 463, 69, 45, 428, 110, 2, 811, 24, 13, 65, 16, 32, 45, 428, 19, 87, 671, 3, 2, 2271, 19, 87, 2272, 14, 2, 180, 16, 2, 370, 8, 2, 674, 6, 56, 28, 142, 321, 32, 45, 463, 57, 378, 57, 1379, 57, 168, 8, 17, 344, 357, 66, 162, 10, 47, 9, 11, 488, 18, 17, 344, 990, 35, 44, 511, 8, 433, 2, 63, 231, 1383, 20, 922, 3, 108, 2273, 18, 17, 24, 5, 151, 46, 5, 1097, 2274, 784, 60, 20, 17, 98, 60, 492, 9, 11, 27, 981, 3, 781, 3, 2, 63, 14, 516, 2, 70, 1341, 40, 199, 167, 17, 316, 3, 408, 9, 812, 74, 150, 6, 36, 95, 5, 358, 2, 63, 231, 402, 174, 127, 111, 3, 9, 4, 2, 412, 373, 48, 112, 2, 412, 67, 25, 27, 932, 20, 38, 360, 101, 39, 9, 2, 63, 12, 5, 630, 565, 100, 3, 2, 168, 463, 657, 536, 39, 3, 73, 2275, 4, 2, 70, 2, 63, 2, 1381, 357, 3, 445, 350, 391, 60, 15, 784, 2, 63, 13, 165, 62, 1332, 3, 43, 314, 4, 2, 811, 6, 50, 19, 29, 54, 13, 124, 648, 97, 295, 7, 205, 68, 320, 9, 119, 12, 5, 27, 2276, 114, 161, 37, 19, 38, 675, 16, 33, 236, 153, 45, 258, 10, 65, 9, 2, 63, 69, 22, 2277, 124, 2278, 2, 1012, 60, 20, 87, 324, 3, 2, 672, 646, 19, 168, 8, 2, 378, 2279, 282, 4, 2280, 2, 1022, 463, 69, 228, 4, 11, 24, 2281, 13, 545, 26, 1013, 9, 11, 3, 6, 140, 48, 64, 5, 132, 2282, 15, 509, 237, 2, 168, 378, 1240, 41, 24, 5, 196, 57, 119, 149, 24, 48, 3, 43, 661, 2283, 60, 108, 2, 508, 85, 87, 324, 60, 407, 2, 63, 87, 324, 85, 294, 42, 7, 205, 68, 320, 2, 378, 407, 12, 640, 133, 141, 407, 2, 63, 131, 13, 436, 543, 2, 378, 45, 516, 3, 102, 18, 11, 16, 2, 222, 14, 2284, 667, 24, 17, 280, 407, 11, 104, 19, 43, 2285, 2, 63, 3, 11, 927, 2, 672, 477, 27, 88, 29, 49, 419, 147, 2286, 5, 27, 1387, 170, 9, 5, 882, 100, 18, 17, 223, 6, 14, 596, 78, 2, 146, 107, 69, 14, 2287, 262, 64, 17, 260, 27, 9, 11, 1227, 2, 120, 1023, 1023, 9, 2, 107, 12, 5, 257, 322, 114, 33, 102, 262, 112, 40, 805, 16, 33, 236, 3, 43, 1334, 547, 167, 1248, 140, 40, 372, 277, 4, 17, 577, 3, 676, 497, 229, 552, 8, 1388, 29, 24, 9, 11, 67, 13, 91, 29, 5, 928, 2, 107, 226, 44, 10, 254, 9, 11, 10, 72, 84, 35, 18, 21, 5, 928, 10, 9, 29, 24, 6, 2288, 2, 462, 597, 2, 107, 73, 11, 244, 5, 31, 1389, 8, 2289, 122, 1023, 2, 107, 676, 12, 5, 500, 114, 2, 63, 143, 248, 13, 13, 65, 6, 113, 172, 530, 3, 2, 63, 9, 101, 4, 68, 2290, 407, 2, 63, 12, 5, 100, 8, 2291, 3, 281, 73, 444, 41, 12, 21, 877, 1073, 39, 392, 453, 117, 200, 32, 105, 975, 37, 12, 5, 196, 57, 119, 3, 2, 306, 73, 11, 59, 6, 22, 103, 251, 109, 5, 206, 1011, 12, 17, 336, 7, 14, 21, 2292, 3, 2293, 2, 2294, 45, 435, 1024, 2, 2295, 435, 1390, 3, 2, 378, 22, 4, 2296, 1016, 39, 3, 4, 570, 19, 87, 312, 3, 202, 4, 165, 2, 813, 2, 2297, 775, 11, 138, 18, 93, 14, 12, 2298, 17, 677, 6, 970, 12, 187, 35, 1391, 1025, 174, 2299, 225, 229, 17, 316, 20, 35, 866, 851, 37, 23, 486, 89, 16, 6, 22, 105, 35, 483, 1152, 2300, 34, 3, 14, 161, 4, 309, 2, 521, 5, 1273, 20, 35, 98, 7, 49, 1318, 249, 110, 3, 155, 39, 12, 17, 260, 20, 109, 5, 410, 2301, 15, 6, 56, 28, 394, 2302, 34, 1392, 3, 55, 6, 22, 105, 35, 98, 37, 3, 14, 161, 4, 283, 52, 7, 14, 27, 2303, 4, 195, 15, 2, 521, 22, 1393, 249, 3, 14, 12, 2, 2304, 8, 2305, 174, 721, 21, 30, 58, 14, 486, 5, 2306, 57, 2307, 12, 2, 86, 1139, 6, 740, 4, 2308, 2, 521, 4, 3, 16, 2, 2309, 378, 45, 313, 187, 39, 3, 596, 60, 4, 117, 2310, 8, 2, 790, 11, 173, 113, 4, 2, 1138, 15, 7, 14, 5, 27, 1268, 306, 233, 2, 814, 21, 2311, 18, 137, 169, 389, 24, 1026, 1394, 21, 2, 178, 3, 2312, 24, 2, 1024, 3, 12, 5, 27, 747, 61, 2, 63, 14, 12, 5, 2313, 901, 3, 50, 1395, 41, 3, 1396, 60, 20, 40, 98, 57, 60, 20, 17, 98, 41, 137, 12, 5, 196, 11, 73, 4, 415, 27, 2314, 4, 26, 181, 6, 22, 28, 16, 190, 22, 118, 1397, 20, 2, 63, 23, 6, 242, 15, 7, 157, 419, 118, 196, 3, 43, 59, 6, 29, 49, 652, 8, 62, 296, 579, 868, 8, 2315, 281, 97, 2, 115, 210, 36, 15, 179, 118, 38, 261, 1027, 6, 14, 149, 41, 24, 90, 86, 8, 728, 3, 477, 321, 6, 56, 101, 174, 169, 207, 251, 55, 6, 420, 5, 206, 2316, 12, 2, 255, 7, 410, 17, 27, 88, 18, 93, 23, 108, 1014, 7, 5, 196, 57, 119, 6, 145, 7, 34, 4, 26, 5, 550, 3, 6, 9, 4, 51, 35, 2, 518, 128, 77, 10, 171, 54, 470, 4, 268, 4, 66, 85, 13, 187, 19, 9, 2, 128, 16, 173, 16, 58, 14, 372, 225, 24, 7, 4, 264, 20, 11, 331, 197, 2, 159, 452, 3, 43, 2317, 35, 44, 209, 628, 4, 7, 6, 59, 197, 35, 597, 54, 104, 57, 18, 450, 38, 8, 48, 12, 188, 196, 2, 291, 98, 452, 3, 43, 11, 140, 37, 17, 677, 3, 73, 75, 2318, 8, 2, 306, 485, 27, 325, 6, 22, 2319, 4, 472, 4, 17, 2, 128, 160, 4, 84, 15, 58, 14, 225, 8, 7, 77, 12, 351, 3, 44, 99, 8, 7, 452, 10, 72, 84, 32, 436, 18, 21, 2320, 11, 73, 12, 172, 5, 2321, 114, 3, 32, 21, 2322, 25, 579, 38, 158, 248, 2323, 2324, 32, 72, 424, 4, 54, 118, 857, 12, 930, 18, 450, 42, 58, 85, 448, 2325, 4, 1158, 573, 44, 238, 66, 963, 7, 36, 21, 2, 156, 207, 1027, 24, 986, 179, 2, 2326, 130, 105, 4, 92, 253, 147, 596, 41, 18, 2, 117, 213, 8, 2, 2327, 10, 162, 54, 2328, 2, 462, 521, 89, 77, 95, 7, 228, 174, 55, 7, 252, 433, 380, 66, 53, 13, 46, 2, 63, 9, 2, 128, 12, 5, 257, 100, 28, 18, 21, 9, 11, 497, 25, 1320, 89, 43, 6, 420, 15, 2, 63, 14, 277, 282, 17, 840, 25, 6, 50, 19, 590, 4, 2329, 15, 35, 307, 684, 178, 2330, 2, 306, 2, 63, 1386, 3, 588, 19, 69, 85, 13, 221, 4, 9, 2, 70, 161, 39, 4, 11, 3, 149, 18, 2, 239, 98, 20, 115, 587, 35, 5, 1028, 8, 2331, 518, 128, 9, 11, 907, 62, 4, 1302, 7, 10, 72, 46, 2, 155, 8, 7, 18, 21, 9, 2, 70, 200, 7, 295, 2332, 74, 199, 42, 7, 2333, 339, 172, 28, 2, 128, 376, 72, 26, 2334, 9, 2, 70, 3, 72, 155, 18, 62, 46, 15, 33, 105, 282, 11, 16, 33, 236, 5, 128, 295, 155, 18, 5, 70, 9, 11, 130, 330, 15, 12, 90, 467, 23, 10, 72, 256, 292, 71, 7, 106, 26, 1398, 9, 2, 70, 27, 781, 3, 33, 247, 2, 63, 69, 14, 2335, 18, 2, 151, 74, 150, 10, 193, 13, 49, 54, 30, 128, 1398, 2, 63, 22, 95, 38, 86, 8, 2336, 21, 2337, 115, 57, 353, 60, 20, 40, 98, 6, 9, 169, 211, 149, 110, 134, 504, 2, 678, 490, 9, 2, 70, 440, 3, 33, 322, 60, 11, 59, 6, 157, 16, 71, 92, 125, 3, 65, 66, 2, 306, 14, 161, 19, 16, 6, 148, 2, 462, 100, 12, 2, 493, 2338, 20, 901, 6, 22, 1306, 148, 17, 552, 168, 8, 2, 814, 4, 26, 561, 24, 343, 1317, 87, 1026, 3, 6, 67, 28, 46, 2, 155, 8, 156, 18, 21, 16, 2, 306, 14, 12, 109, 639, 15, 6, 103, 242, 321, 7, 14, 17, 373, 57, 28, 25, 6, 50, 12, 2339, 8, 17, 521, 2, 521, 14, 2340, 12, 5, 1399, 20, 188, 521, 94, 160, 4, 11, 75, 1241, 422, 24, 2341, 38, 8, 48, 20, 2, 117, 2, 95, 775, 14, 15, 17, 677, 14, 294, 586, 4, 2, 117, 223, 8, 2, 241, 292, 11, 56, 65, 7, 258, 12, 5, 2342, 198, 8, 86, 4, 1007, 39, 64, 5, 666, 78, 2, 61, 6, 22, 996, 2, 677, 3, 964, 7, 125, 2, 1399, 14, 112, 3, 272, 2, 1024, 45, 34, 8, 351, 23, 7, 235, 383, 88, 59, 11, 16, 21, 2, 813, 85, 294, 127, 30, 223, 8, 2, 790, 25, 6, 1025, 7, 174, 229, 17, 316, 15, 7, 157, 28, 728, 52, 3, 50, 125, 24, 5, 31, 99, 397, 20, 17, 1028, 55, 6, 105, 125, 4, 2, 518, 128, 6, 14, 488, 4, 195, 81, 5, 132, 771, 1400, 110, 7, 58, 14, 5, 1397, 161, 19, 575, 2, 678, 2, 70, 3, 2, 63, 69, 45, 21, 221, 18, 137, 178, 21, 2, 370, 45, 81, 516, 3, 102, 27, 738, 2, 151, 11, 452, 6, 14, 2343, 4, 78, 21, 168, 4, 2344, 2, 222, 3, 32, 374, 87, 2345, 4, 17, 323, 16, 32, 21, 236, 18, 137, 6, 138, 7, 27, 431, 233, 4, 165, 34, 446, 29, 32, 9, 2, 2346, 739, 14, 15, 13, 381, 602, 60, 5, 98, 1401, 58, 14, 5, 1391, 4, 602, 7, 60, 127, 15, 33, 22, 103, 22, 4, 53, 109, 5, 96, 126, 3, 33, 340, 161, 4, 283, 18, 40, 61, 8, 336, 2, 1019, 739, 14, 15, 204, 15, 22, 5, 98, 56, 26, 1013, 3, 15, 13, 2347, 4, 268, 492, 2, 462, 739, 14, 15, 42, 216, 340, 246, 41, 7, 12, 802, 177, 44, 61, 1201, 54, 445, 561, 21, 110, 7, 14, 30, 135, 377, 15, 22, 145, 2, 291, 442, 155, 25, 915, 3, 1029, 11, 56, 84, 8, 129, 350, 4, 91, 23, 7, 1159, 4, 2, 120, 366, 270, 326, 17, 41, 7, 497, 12, 2348, 2, 63, 9, 4, 2, 678, 504, 17, 97, 3, 2, 678, 50, 60, 46, 75, 2349, 2, 239, 98, 73, 2350, 174, 2, 151, 33, 14, 294, 3, 78, 2, 61, 33, 22, 104, 125, 20, 2, 120, 7, 22, 1402, 1403, 25, 2, 70, 3, 2, 678, 228, 1404, 39, 3, 37, 149, 24, 7, 178, 2, 370, 8, 2, 442, 50, 125, 4, 2, 306, 299, 2351, 2, 79, 815, 447, 13, 158, 84, 66, 325, 10, 245, 4, 65, 13, 52, 13, 150, 208, 96, 9, 2, 120, 16, 6, 1025, 17, 316, 2352, 64, 328, 3, 32, 352, 60, 406, 11, 14, 27, 325, 4, 195, 17, 12, 109, 5, 2353, 644, 3, 59, 4, 51, 15, 220, 7, 14, 95, 2, 517, 15, 22, 145, 17, 25, 716, 55, 32, 923, 12, 2, 793, 55, 76, 5, 120, 6, 9, 4, 51, 28, 12, 5, 27, 2354, 114, 323, 10, 182, 54, 118, 517, 12, 74, 793, 18, 21, 217, 404, 27, 71, 2355, 35, 313, 517, 15, 334, 281, 2356, 6, 50, 19, 27, 88, 519, 18, 343, 138, 34, 5, 593, 491, 8, 673, 3, 2357, 15, 334, 48, 2358, 2359, 15, 334, 48, 2360, 2361, 3, 109, 156, 15, 165, 357, 2362, 10, 95, 193, 281, 242, 15, 43, 32, 278, 26, 25, 2363, 41, 7, 13, 47, 6, 22, 81, 540, 2, 120, 78, 30, 61, 3, 14, 5, 31, 1324, 55, 6, 148, 17, 100, 277, 4, 17, 577, 184, 337, 41, 216, 74, 150, 3, 15, 334, 13, 1405, 4, 268, 10, 158, 142, 13, 89, 77, 29, 2, 464, 8, 15, 36, 23, 10, 171, 256, 7, 12, 5, 230, 220, 7, 1406, 38, 11, 708, 4, 377, 1407, 1407, 358, 9, 2, 120, 1374, 105, 5, 464, 42, 95, 13, 131, 195, 7, 3, 6, 2364, 51, 39, 2365, 4, 328, 223, 16, 6, 236, 11, 67, 28, 88, 46, 1408, 25, 277, 4, 17, 93, 243, 2, 120, 14, 27, 1322, 3, 1289, 243, 6, 14, 446, 2, 141, 660, 4, 370, 17, 501, 167, 328, 805, 3, 7, 14, 75, 2366, 566, 501, 200, 6, 67, 28, 46, 4, 26, 1344, 25, 6, 2367, 7, 16, 71, 16, 6, 56, 2, 1409, 161, 19, 172, 270, 77, 6, 9, 78, 86, 8, 1408, 39, 2, 397, 5, 31, 679, 25, 9, 2, 120, 3, 2, 464, 8, 15, 1125, 679, 878, 679, 878, 15, 334, 2, 468, 92, 110, 470, 9, 11, 676, 15, 35, 246, 78, 445, 2368, 87, 344, 511, 616, 71, 7, 742, 88, 2, 180, 96, 9, 2, 120, 730, 17, 566, 31, 501, 64, 328, 805, 16, 6, 186, 3, 2, 464, 8, 15, 2369, 714, 8, 2, 954, 3, 2, 764, 143, 191, 714, 8, 1016, 66, 868, 6, 36, 8, 861, 2370, 12, 156, 11, 59, 4, 51, 10, 638, 91, 184, 477, 116, 10, 72, 140, 74, 316, 110, 68, 2371, 2, 120, 9, 108, 5, 1300, 2, 405, 36, 15, 76, 1384, 41, 2, 644, 8, 68, 677, 171, 10, 310, 2, 1410, 33, 157, 1411, 11, 1005, 154, 28, 485, 18, 21, 1029, 4, 54, 2, 1410, 203, 27, 690, 9, 2, 120, 1390, 3, 1412, 272, 1411, 3, 2, 464, 8, 15, 2372, 8, 5, 2373, 2374, 406, 95, 1412, 514, 5, 1202, 11, 376, 141, 16, 614, 9, 2, 120, 29, 5, 1145, 86, 13, 54, 8, 891, 156, 35, 5, 2375, 10, 84, 9, 11, 8, 183, 7, 36, 9, 2, 120, 69, 160, 430, 4, 1413, 4, 365, 15, 11, 9, 179, 5, 132, 2376, 237, 97, 3, 2, 464, 8, 15, 2377, 99, 58, 36, 8, 433, 2, 802, 58, 36, 8, 974, 122, 10, 47, 581, 11, 69, 22, 28, 2378, 4, 30, 135, 377, 35, 5, 2379, 7, 235, 155, 46, 38, 23, 7, 36, 10, 81, 1413, 20, 13, 9, 2, 120, 3, 2, 464, 8, 15, 2380, 29, 13, 49, 424, 4, 2381, 42, 366, 46, 7, 140, 99, 2382, 1414, 361, 28, 4, 26, 789, 177, 29, 7, 157, 1329, 4, 508, 15, 29, 13, 45, 57, 157, 54, 124, 14, 28, 789, 177, 29, 13, 22, 124, 49, 54, 452, 4, 48, 4, 26, 789, 10, 84, 10, 162, 551, 15, 270, 11, 9, 27, 557, 42, 10, 22, 7, 534, 37, 23, 10, 158, 81, 1276, 7, 16, 13, 91, 7, 133, 129, 4, 29, 10, 56, 91, 42, 10, 1263, 2, 120, 154, 12, 5, 519, 114, 966, 72, 529, 361, 4, 91, 7, 118, 850, 177, 15, 9, 11, 122, 72, 268, 41, 529, 9, 2, 120, 10, 165, 13, 5, 1415, 8, 365, 130, 9, 16, 190, 5, 2383, 198, 8, 1415, 59, 11, 76, 325, 32, 72, 309, 2384, 1116, 46, 15, 23, 6, 67, 28, 931, 4, 91, 7, 34, 565, 337, 52, 2, 120, 226, 20, 188, 2385, 8, 17, 566, 31, 501, 130, 5, 141, 4, 84, 9, 11, 710, 24, 6, 14, 275, 4, 415, 5, 31, 2386, 89, 41, 16, 88, 141, 9, 2, 120, 16, 1323, 54, 4, 1007, 3, 2, 810, 23, 97, 4, 328, 115, 658, 2, 1030, 100, 2387, 174, 211, 12, 2, 476, 8, 17, 2388, 348, 464, 3, 2, 316, 15, 14, 2389, 64, 1031, 73, 4, 2390, 11, 102, 39, 3, 58, 509, 2, 63, 12, 1336, 8, 48, 20, 17, 568, 962, 741, 46, 5, 2391, 5, 1387, 170, 68, 320, 2, 120, 73, 12, 5, 257, 1257, 100, 77, 10, 309, 13, 2392, 2393, 407, 2, 63, 1395, 19, 2, 790, 16, 6, 236, 346, 13, 57, 68, 98, 106, 26, 60, 3, 15, 12, 41, 194, 44, 61, 191, 68, 1416, 2, 120, 175, 17, 1416, 3, 14, 294, 12, 5, 151, 617, 92, 19, 20, 2, 306, 2, 63, 9, 4, 11, 3, 11, 14, 166, 88, 500, 4, 91, 5, 348, 23, 418, 427, 17, 125, 4, 2, 1011, 2, 117, 1018, 22, 786, 994, 8, 2, 462, 2394, 3, 45, 1339, 12, 2, 2395, 200, 2, 151, 32, 252, 17, 32, 322, 125, 4, 2, 306, 2, 63, 1265, 933, 15, 5, 1299, 2396, 49, 2397, 48, 87, 788, 21, 2, 61, 32, 45, 1111, 2, 63, 103, 261, 60, 1394, 20, 2, 117, 814, 3, 1396, 60, 20, 40, 98, 57, 60, 20, 17, 98, 355, 2398, 6, 2399, 45, 786, 64, 1417, 78, 2, 378, 69, 8, 183, 22, 4, 391, 60, 207, 813, 4, 53, 30, 25, 15, 78, 2, 213, 8, 194, 75, 1185, 57, 25, 58, 45, 44, 813, 261, 3, 21, 2, 814, 699, 2, 70, 2, 63, 3, 11, 45, 12, 1417, 3, 229, 552, 8, 1388, 43, 2, 63, 261, 60, 81, 34, 8, 750, 3, 9, 4, 11, 54, 13, 251, 2, 79, 80, 190, 44, 9, 11, 10, 72, 211, 47, 29, 5, 79, 80, 36, 35, 2, 96, 79, 80, 217, 36, 145, 127, 9, 2, 63, 10, 103, 252, 38, 57, 148, 8, 38, 9, 11, 104, 19, 43, 9, 2, 63, 3, 33, 171, 142, 13, 40, 503, 16, 32, 352, 60, 406, 11, 148, 2, 70, 91, 12, 5, 257, 100, 4, 2, 2400, 486, 13, 85, 21, 2401, 104, 133, 5, 176, 96, 6, 9, 4, 51, 24, 6, 22, 185, 81, 1217, 18, 2, 625, 8, 1418, 2, 63, 22, 759, 32, 27, 173, 113, 167, 5, 83, 428, 803, 459, 12, 2, 1419, 42, 13, 72, 47, 29, 5, 83, 36, 155, 18, 2, 2402, 39, 2403, 96, 9, 2, 63, 3, 191, 30, 645, 1008, 4, 65, 2, 79, 80, 3, 4, 248, 40, 503, 10, 106, 92, 125, 3, 65, 108, 90, 1418, 10, 54, 759, 3, 6, 352, 60, 2404, 11, 725, 20, 2, 83, 11, 67, 28, 81, 46, 2, 155, 8, 2, 800, 23, 19, 2, 291, 6, 59, 7, 49, 26, 81, 16, 1239, 4, 622, 20, 7, 16, 4, 92, 108, 15, 716, 63, 25, 6, 331, 2, 83, 224, 39, 3, 2405, 35, 159, 43, 7, 1420, 2, 63, 197, 6, 14, 34, 8, 351, 43, 7, 2406, 29, 1001, 9, 2, 83, 194, 4, 249, 194, 4, 11, 29, 36, 2, 1001, 9, 11, 116, 6, 9, 2, 83, 35, 21, 17, 606, 15, 32, 103, 2407, 448, 13, 47, 104, 19, 445, 734, 104, 19, 97, 59, 11, 16, 6, 50, 418, 108, 7, 10, 103, 14, 25, 759, 41, 12, 21, 74, 336, 103, 32, 22, 28, 294, 287, 126, 32, 252, 2, 79, 80, 12, 2, 493, 342, 920, 3, 1205, 19, 5, 31, 2408, 8, 2409, 3, 16, 32, 113, 627, 11, 56, 248, 111, 921, 16, 42, 40, 1421, 49, 1346, 6, 2410, 111, 707, 29, 36, 40, 1422, 6, 226, 2, 83, 3, 2, 83, 760, 27, 338, 12, 2, 180, 192, 16, 126, 35, 21, 40, 606, 15, 33, 1406, 105, 44, 1422, 13, 47, 104, 19, 25, 32, 50, 39, 4, 2, 79, 80, 69, 102, 18, 48, 20, 132, 159, 563, 8, 333, 23, 9, 129, 30, 97, 645, 1008, 9, 2, 83, 6, 1342, 24, 4, 47, 68, 503, 6, 53, 134, 142, 7, 17, 9, 2, 79, 80, 12, 5, 469, 2411, 114, 441, 37, 272, 8, 13, 3, 72, 264, 5, 348, 197, 130, 304, 25, 32, 224, 37, 3, 448, 236, 24, 90, 332, 11, 59, 4, 51, 10, 72, 65, 66, 33, 131, 189, 641, 42, 33, 235, 283, 23, 6, 331, 1262, 137, 9, 2, 79, 80, 18, 135, 20, 5, 469, 807, 10, 14, 5, 941, 80, 266, 192, 45, 427, 78, 5, 27, 139, 271, 562, 95, 78, 75, 2412, 2413, 8, 2414, 127, 2, 83, 3, 2, 1292, 1423, 998, 8, 2, 79, 80, 11, 14, 27, 338, 187, 39, 3, 240, 767, 13, 494, 24, 68, 650, 447, 23, 6, 56, 28, 394, 337, 58, 106, 26, 99, 4, 104, 25, 6, 224, 279, 3, 9, 129, 55, 153, 45, 31, 2, 79, 80, 50, 19, 18, 135, 99, 2415, 323, 279, 998, 5, 31, 77, 3, 43, 153, 50, 4, 680, 12, 2, 289, 2, 951, 14, 75, 208, 2416, 311, 4, 401, 111, 1032, 116, 67, 13, 401, 111, 1032, 42, 33, 340, 38, 11, 226, 153, 247, 111, 1032, 243, 33, 706, 269, 9, 2, 79, 80, 402, 284, 13, 85, 27, 874, 13, 250, 4, 26, 1119, 8, 361, 24, 594, 109, 5, 601, 222, 186, 2, 83, 3, 43, 32, 272, 224, 516, 3, 102, 18, 163, 11, 69, 185, 430, 4, 2417, 64, 2, 692, 18, 135, 2, 83, 9, 4, 2, 79, 80, 1295, 19, 208, 766, 72, 26, 21, 170, 41, 7, 3, 33, 50, 19, 12, 266, 192, 280, 153, 50, 4, 680, 12, 2, 289, 323, 13, 2418, 400, 7, 10, 103, 9, 10, 254, 411, 11, 13, 67, 9, 2, 79, 80, 390, 68, 751, 186, 2, 83, 126, 11, 56, 264, 52, 2, 79, 80, 50, 19, 153, 22, 2, 305, 8, 2419, 426, 153, 50, 4, 680, 303, 170, 130, 124, 4, 5, 2420, 166, 9, 11, 13, 1021, 26, 25, 1424, 16, 21, 15, 20, 2421, 226, 2, 79, 80, 5, 31, 262, 280, 9, 11, 153, 2422, 731, 3, 1006, 3, 1153, 9, 2, 79, 80, 259, 28, 9, 11, 785, 616, 43, 974, 340, 5, 284, 176, 680, 9, 2, 79, 80, 12, 5, 114, 8, 115, 1425, 77, 18, 2423, 32, 22, 18, 2, 213, 8, 2, 315, 731, 1006, 3, 2424, 13, 381, 54, 740, 7, 88, 9, 11, 1365, 18, 2, 808, 8, 2, 289, 10, 381, 2425, 4, 499, 7, 9, 2, 79, 80, 20, 5, 807, 10, 95, 175, 2, 1426, 183, 29, 14, 15, 2426, 11, 2427, 3, 2428, 8, 183, 4, 283, 20, 2, 79, 80, 154, 3, 43, 2, 395, 1285, 8, 2429, 2430, 1427, 3, 2431, 10, 103, 148, 8, 1427, 11, 708, 4, 91, 29, 36, 7, 2, 83, 2432, 39, 272, 35, 732, 12, 658, 29, 103, 148, 8, 2433, 7, 581, 13, 47, 29, 4, 2434, 36, 10, 267, 280, 9, 11, 1280, 7, 2435, 71, 43, 2, 83, 50, 19, 42, 13, 72, 47, 29, 4, 2436, 36, 13, 85, 5, 2437, 11, 67, 28, 415, 2438, 4, 326, 118, 99, 967, 41, 7, 25, 6, 231, 4, 2, 79, 80, 3, 9, 29, 350, 22, 13, 4, 499, 71, 58, 14, 1428, 2, 79, 80, 154, 2439, 60, 2, 2440, 19, 40, 2441, 1428, 2442, 3, 2443, 20, 2444, 43, 2445, 2446, 14, 75, 208, 2447, 15, 311, 4, 104, 137, 5, 1033, 33, 706, 269, 2448, 1244, 3, 2449, 12, 2450, 29, 14, 15, 46, 9, 11, 71, 10, 158, 898, 7, 13, 490, 2, 79, 80, 9, 76, 166, 2451, 3, 2, 83, 103, 1075, 7, 437, 61, 9, 2, 83, 10, 50, 4, 2, 2452, 951, 323, 33, 14, 75, 208, 929, 33, 14, 10, 103, 50, 4, 111, 2, 79, 80, 9, 20, 5, 807, 33, 706, 1392, 3, 2453, 32, 311, 4, 91, 25, 33, 67, 25, 33, 67, 9, 2, 83, 921, 12, 40, 373, 3, 272, 368, 2454, 87, 671, 12, 87, 732, 3, 66, 300, 796, 5, 170, 67, 13, 53, 347, 9, 11, 12, 5, 329, 4, 265, 2, 555, 542, 796, 2, 93, 170, 9, 2, 79, 80, 610, 2, 147, 3, 25, 19, 29, 5, 206, 774, 581, 11, 133, 2, 405, 296, 247, 347, 2, 83, 376, 243, 32, 2455, 127, 170, 4, 170, 30, 14, 81, 5, 593, 238, 4, 11, 3, 6, 59, 7, 112, 5, 31, 126, 6, 145, 17, 147, 377, 43, 2, 2456, 170, 106, 54, 124, 5, 2457, 8, 183, 7, 14, 9, 2, 79, 80, 3, 66, 67, 13, 473, 19, 2, 2458, 11, 50, 19, 440, 133, 225, 41, 347, 2, 83, 411, 12, 5, 27, 864, 114, 142, 17, 216, 41, 2, 1409, 77, 299, 2459, 2, 522, 816, 2, 79, 80, 643, 707, 3, 656, 2, 125, 8, 38, 2460, 586, 40, 159, 33, 102, 18, 11, 3, 203, 4, 264, 23, 24, 5, 196, 57, 119, 817, 918, 40, 100, 180, 16, 42, 33, 22, 5, 2461, 12, 40, 1204, 9, 2, 83, 3, 7, 263, 4, 429, 969, 111, 3, 2462, 111, 12, 2, 125, 18, 135, 2, 79, 80, 1429, 40, 100, 3, 20, 333, 444, 37, 40, 2463, 33, 50, 19, 52, 13, 295, 28, 54, 1009, 88, 229, 2, 289, 10, 455, 9, 2464, 220, 13, 45, 103, 211, 2465, 4, 5, 522, 11, 73, 4, 91, 10, 137, 973, 23, 1015, 51, 234, 3, 9, 44, 103, 25, 13, 131, 54, 44, 238, 29, 5, 1430, 96, 5, 522, 816, 36, 44, 233, 9, 11, 29, 198, 8, 5, 298, 36, 7, 116, 9, 2, 83, 13, 93, 2466, 64, 5, 1311, 599, 2, 2467, 119, 2468, 201, 2, 79, 80, 2469, 815, 2470, 3, 25, 19, 43, 55, 573, 2471, 21, 2, 2472, 34, 8, 2, 86, 15, 486, 1307, 90, 61, 411, 2, 83, 13, 1034, 583, 453, 20, 5, 522, 16, 5, 2473, 201, 2, 83, 8, 183, 2, 79, 80, 9, 1034, 583, 263, 4, 2474, 265, 523, 3, 2475, 12, 180, 983, 399, 2, 83, 43, 13, 47, 2, 79, 80, 50, 19, 13, 900, 2, 2, 523, 407, 2, 83, 20, 5, 2476, 64, 2, 255, 16, 287, 34, 4, 289, 16, 13, 131, 647, 108, 48, 784, 2, 83, 373, 5, 2477, 12, 2, 289, 201, 2, 79, 80, 2478, 1404, 41, 265, 523, 52, 2479, 2, 83, 18, 2, 421, 8, 35, 100, 125, 4, 2480, 52, 3, 133, 21, 2, 93, 1035, 9, 2, 79, 80, 276, 2481, 40, 100, 3, 2, 119, 368, 69, 22, 124, 794, 41, 46, 274, 156, 21, 30, 61, 224, 37, 52, 27, 598, 3, 661, 3, 102, 18, 11, 7, 106, 26, 5, 27, 2482, 298, 9, 11, 408, 49, 13, 46, 4, 65, 5, 31, 8, 7, 9, 2, 79, 80, 27, 88, 233, 9, 11, 104, 617, 310, 2, 93, 1035, 9, 2, 79, 80, 4, 2, 83, 153, 131, 53, 169, 523, 13, 47, 94, 171, 580, 122, 13, 580, 9, 2, 83, 130, 540, 2, 192, 25, 32, 73, 743, 1431, 110, 3, 110, 11, 303, 77, 3, 43, 1432, 19, 17, 1036, 55, 32, 588, 166, 277, 3, 668, 87, 2483, 4, 1037, 2, 61, 178, 2, 79, 80, 1314, 30, 27, 418, 3, 598, 143, 13, 592, 5, 31, 993, 9, 5, 465, 4, 5, 1038, 179, 5, 818, 277, 282, 269, 3, 988, 1432, 19, 74, 396, 65, 66, 440, 2, 523, 3, 2, 815, 21, 1034, 32, 85, 389, 19, 2, 2484, 13, 104, 3, 413, 2, 298, 143, 13, 182, 13, 143, 13, 182, 13, 143, 13, 413, 2, 298, 143, 13, 182, 13, 143, 13, 182, 13, 182, 13, 413, 2, 298, 13, 131, 284, 54, 44, 897, 66, 1430, 7, 143, 26, 55, 32, 191, 269, 39, 3, 900, 269, 20, 2, 523, 34, 4, 289, 23, 2, 1038, 154, 166, 287, 166, 287, 3, 244, 5, 155, 2485, 9, 33, 2486, 2, 465, 1433, 23, 33, 49, 28, 413, 2, 298, 49, 28, 56, 28, 49, 28, 56, 28, 49, 28, 413, 2, 298, 49, 28, 56, 28, 49, 28, 56, 28, 56, 28, 413, 2, 298, 29, 1283, 7, 66, 287, 153, 92, 40, 2487, 1028, 154, 58, 36, 188, 902, 13, 47, 167, 2, 117, 223, 2, 862, 60, 127, 2488, 2, 627, 36, 4, 2489, 43, 373, 28, 735, 2490, 1038, 23, 104, 3, 413, 2, 298, 143, 13, 182, 13, 143, 13, 182, 13, 143, 13, 413, 2, 298, 143, 13, 182, 13, 143, 13, 182, 13, 182, 13, 413, 2, 298, 767, 13, 35, 5, 27, 650, 298, 4, 417, 9, 11, 485, 27, 325, 15, 7, 14, 112, 18, 135, 3, 10, 53, 25, 46, 15, 206, 520, 41, 2, 465, 122, 16, 4, 2, 465, 9, 2, 79, 80, 2491, 251, 48, 8, 183, 280, 9, 11, 130, 664, 251, 48, 18, 1434, 6, 1015, 51, 234, 10, 72, 47, 292, 1434, 295, 26, 9, 2, 79, 80, 23, 42, 573, 251, 48, 25, 664, 8, 183, 13, 47, 29, 296, 46, 10, 400, 25, 11, 154, 782, 32, 54, 87, 1039, 12, 87, 2492, 296, 21, 112, 804, 184, 618, 41, 2, 804, 9, 2, 79, 80, 804, 49, 21, 1359, 60, 12, 2, 289, 23, 32, 54, 87, 1039, 12, 87, 1040, 3, 2, 405, 36, 97, 2, 79, 80, 1264, 3, 600, 40, 2493, 17, 41, 2, 405, 3, 21, 15, 33, 9, 4, 2, 83, 2, 405, 36, 9, 2, 83, 15, 32, 49, 92, 20, 2, 523, 4, 2, 298, 25, 32, 105, 2494, 34, 4, 289, 25, 32, 22, 4, 471, 5, 139, 86, 25, 32, 105, 87, 1039, 803, 12, 87, 1040, 25, 32, 381, 101, 48, 34, 52, 133, 21, 767, 13, 9, 11, 35, 27, 650, 10, 103, 242, 25, 88, 41, 5, 465, 126, 10, 131, 142, 13, 99, 177, 15, 42, 13, 46, 9, 2, 83, 53, 13, 47, 116, 35, 247, 5, 465, 10, 103, 59, 41, 7, 9, 11, 116, 7, 404, 2, 715, 3, 489, 2, 83, 154, 27, 743, 11, 14, 1315, 410, 404, 2, 715, 3, 489, 6, 374, 12, 5, 477, 114, 116, 29, 85, 68, 489, 246, 20, 9, 2, 83, 10, 371, 29, 334, 48, 25, 2495, 11, 102, 37, 18, 48, 3, 980, 5, 31, 126, 6, 244, 17, 382, 296, 246, 20, 2496, 10, 400, 715, 3, 489, 229, 2, 289, 2, 83, 50, 19, 12, 5, 469, 100, 85, 246, 20, 5, 465, 77, 13, 47, 3, 29, 85, 32, 145, 8, 11, 226, 12, 5, 114, 8, 115, 587, 2497, 3, 2498, 8, 183, 2, 83, 154, 172, 642, 118, 2499, 56, 54, 576, 13, 15, 42, 339, 124, 2, 465, 9, 11, 1168, 1435, 45, 279, 444, 19, 2, 520, 339, 54, 9, 4, 2, 818, 341, 125, 205, 153, 72, 393, 13, 20, 269, 32, 45, 1041, 4, 54, 111, 20, 48, 2, 79, 80, 9, 44, 1096, 1042, 49, 92, 2500, 169, 5, 818, 278, 7, 284, 9, 11, 12, 5, 114, 8, 115, 658, 8, 183, 28, 9, 2, 79, 80, 116, 42, 5, 1042, 113, 4, 62, 3, 576, 62, 33, 14, 161, 5, 2501, 10, 162, 91, 20, 29, 818, 72, 13, 371, 2502, 9, 11, 10, 371, 29, 10, 91, 2, 79, 80, 154, 12, 75, 367, 114, 3, 2, 83, 186, 104, 617, 248, 90, 8, 68, 681, 10, 56, 142, 13, 74, 2503, 127, 30, 615, 9, 11, 5, 31, 408, 23, 35, 44, 209, 161, 125, 4, 883, 243, 10, 14, 5, 395, 713, 43, 369, 21, 15, 9, 2, 79, 80, 44, 44, 2, 681, 93, 9, 2, 83, 12, 75, 2504, 114, 2505, 191, 109, 5, 1293, 61, 25, 11, 73, 1282, 48, 17, 681, 127, 2, 61, 55, 6, 93, 252, 2, 146, 107, 6, 14, 5, 31, 604, 41, 7, 89, 18, 93, 2, 119, 368, 105, 25, 277, 4, 17, 38, 19, 453, 223, 3, 354, 87, 159, 3, 1040, 25, 27, 1345, 23, 6, 2506, 990, 16, 6, 50, 19, 17, 2507, 45, 778, 1150, 197, 6, 105, 4, 2, 1436, 41, 17, 987, 13, 85, 208, 569, 502, 4, 2, 164, 3, 2, 192, 21, 380, 395, 3, 43, 2, 79, 80, 656, 5, 139, 750, 3, 9, 133, 27, 206, 35, 21, 41, 16, 206, 16, 7, 131, 26, 9, 2, 83, 7, 21, 113, 395, 2, 79, 80, 374, 782, 10, 162, 46, 4, 248, 17, 310, 3, 498, 216, 77, 142, 17, 4, 283, 33, 102, 18, 2, 83, 16, 42, 33, 59, 7, 22, 90, 491, 8, 1166, 112, 11, 570, 39, 3, 498, 679, 2, 100, 8, 2, 2508, 9, 2, 83, 66, 2, 368, 983, 38, 41, 3, 165, 38, 498, 347, 59, 11, 10, 157, 16, 71, 26, 18, 680, 18, 137, 200, 6, 105, 39, 3, 73, 4, 498, 7, 23, 17, 98, 14, 25, 563, 8, 2, 522, 816, 15, 6, 307, 242, 29, 6, 14, 240, 3, 2, 192, 113, 27, 364, 233, 679, 2, 100, 8, 2, 522, 10, 148, 111, 1134, 13, 54, 2509, 62, 166, 1156, 10, 106, 2510, 74, 495, 16, 5, 736, 20, 35, 2511, 25, 33, 20, 40, 457, 2512, 40, 2513, 3, 40, 2514, 3, 1026, 34, 40, 1036, 860, 1437, 399, 16, 1043, 55, 2, 2515, 85, 21, 425, 33, 36, 2516, 16, 5, 2517, 3, 143, 268, 12, 2518, 1438, 8, 2, 2519, 23, 55, 2, 2520, 2521, 3, 2522, 85, 1044, 40, 100, 506, 5, 882, 3, 2523, 694, 133, 395, 127, 29, 10, 311, 4, 91, 55, 10, 14, 5, 358, 9, 2, 83, 71, 10, 103, 148, 7, 126, 9, 2, 79, 80, 23, 7, 764, 2524, 492, 11, 9, 129, 6, 22, 224, 37, 20, 17, 260, 12, 17, 312, 477, 42, 204, 49, 189, 419, 12, 5, 685, 86, 52, 10, 162, 46, 4, 54, 7, 2525, 9, 2, 79, 80, 6, 158, 369, 7, 9, 2, 83, 234, 92, 19, 20, 2, 147, 799, 23, 41, 40, 1036, 2, 79, 80, 1439, 66, 56, 33, 373, 48, 34, 20, 40, 457, 13, 47, 35, 2, 93, 1189, 12, 1431, 11, 9, 23, 14, 579, 410, 78, 2, 291, 96, 3, 1089, 4, 265, 2, 555, 92, 19, 20, 2, 147, 799, 2, 83, 374, 642, 7, 809, 10, 588, 78, 40, 241, 11, 67, 28, 638, 4, 2526, 323, 6, 185, 181, 7, 49, 21, 104, 618, 3, 6, 50, 19, 12, 5, 554, 100, 10, 588, 78, 40, 241, 3, 539, 20, 38, 487, 66, 2, 1045, 3, 2, 1046, 45, 2527, 5, 1440, 860, 1437, 399, 16, 1043, 2, 1046, 175, 2528, 3, 2529, 3, 2530, 178, 2, 1045, 22, 2, 791, 16, 35, 2531, 8, 2, 2532, 55, 2, 1440, 14, 21, 304, 2, 1045, 16, 5, 2533, 14, 1433, 2534, 4, 637, 2, 1355, 178, 2, 1046, 2535, 1102, 3, 2536, 20, 5, 992, 3, 1223, 2, 2537, 29, 36, 2, 209, 8, 987, 21, 15, 780, 2, 79, 80, 411, 42, 13, 72, 369, 7, 16, 13, 92, 19, 35, 78, 287, 2, 456, 963, 96, 10, 189, 148, 280, 10, 84, 366, 270, 391, 60, 9, 2, 83, 3, 11, 14, 95, 166, 325, 4, 53, 25, 171, 153, 310, 188, 1035, 8, 2, 522, 816, 2, 83, 50, 19, 57, 49, 13, 46, 2, 79, 80, 4, 580, 13, 5, 520, 122, 5, 520, 205, 42, 2, 79, 80, 49, 26, 25, 491, 11, 154, 25, 440, 15, 2, 83, 9, 12, 5, 172, 367, 114, 2538, 44, 2539, 24, 2540, 580, 17, 80, 217, 143, 13, 208, 766, 2, 79, 80, 643, 707, 3, 73, 12, 5, 100, 595, 918, 20, 817, 4, 580, 30, 273, 217, 25, 2541, 3, 783, 389, 12, 5, 584, 2542, 69, 24, 109, 2543, 49, 28, 1215, 217, 8, 2, 1441, 273, 217, 217, 8, 2, 1441, 273, 217, 819, 524, 819, 524, 524, 8, 2, 1047, 273, 273, 217, 273, 217, 69, 1442, 24, 1042, 306, 57, 118, 117, 791, 69, 49, 28, 309, 21, 350, 24, 119, 2544, 2545, 95, 8, 273, 217, 2546, 95, 8, 273, 217, 819, 524, 819, 524, 524, 8, 2, 1047, 273, 273, 217, 560, 52, 201, 2, 83, 3, 2, 79, 80, 22, 89, 474, 4, 498, 7, 55, 5, 879, 8, 2, 820, 275, 14, 148, 12, 2, 493, 104, 19, 201, 2, 83, 3, 654, 11, 78, 2, 199, 7, 322, 60, 169, 389, 24, 2, 213, 8, 2, 520, 29, 507, 36, 7, 11, 2547, 16, 6, 228, 23, 2, 83, 95, 760, 104, 19, 3, 228, 2, 993, 178, 99, 3, 99, 2548, 113, 795, 19, 2, 2549, 15, 427, 48, 2, 558, 192, 524, 8, 2, 1047, 273, 273, 217, 299, 2550, 69, 1443, 2, 525, 2, 70, 3, 63, 8, 460, 45, 2551, 19, 87, 2552, 55, 32, 2553, 20, 5, 115, 771, 1162, 41, 2554, 885, 8, 31, 398, 3, 1098, 16, 71, 16, 2, 291, 674, 8, 1020, 2, 412, 14, 2555, 126, 48, 12, 2556, 20, 5, 2557, 19, 453, 223, 4, 2558, 111, 3, 237, 2, 70, 14, 2, 146, 107, 20, 5, 1048, 12, 38, 199, 3, 5, 1444, 8, 1445, 12, 2, 117, 12, 2, 27, 476, 8, 2, 218, 14, 5, 215, 20, 5, 132, 791, 8, 525, 167, 7, 32, 102, 25, 176, 15, 7, 145, 11, 81, 958, 4, 155, 18, 2559, 193, 757, 101, 2, 507, 246, 6, 59, 3, 199, 110, 2, 2560, 23, 58, 160, 4, 26, 44, 758, 8, 30, 25, 6, 73, 149, 18, 365, 41, 17, 4, 2561, 174, 2, 61, 11, 22, 103, 124, 12, 5, 218, 8, 2562, 126, 23, 6, 22, 330, 41, 48, 12, 2563, 3, 6, 14, 81, 519, 4, 195, 15, 6, 242, 2, 349, 8, 338, 365, 58, 133, 2, 749, 6, 9, 4, 51, 243, 8, 40, 115, 1446, 2, 749, 78, 2, 86, 14, 2, 70, 3, 16, 33, 2564, 40, 908, 112, 2, 1446, 155, 18, 2, 2565, 42, 13, 393, 4, 65, 66, 33, 67, 7, 33, 67, 28, 155, 18, 21, 2566, 3, 7, 14, 259, 28, 2567, 3, 133, 2, 821, 59, 11, 3, 355, 723, 368, 6, 14, 1041, 4, 91, 368, 13, 65, 243, 90, 8, 48, 45, 629, 3, 90, 45, 398, 10, 267, 32, 85, 2, 822, 6, 9, 30, 135, 348, 119, 57, 168, 548, 112, 4, 51, 207, 172, 1424, 8, 7, 24, 6, 59, 3, 2568, 166, 15, 27, 388, 31, 972, 8, 17, 719, 242, 2, 443, 8, 7, 18, 21, 200, 682, 49, 54, 246, 89, 16, 71, 2, 723, 822, 45, 21, 823, 27, 797, 19, 526, 29, 85, 32, 648, 11, 676, 4, 2, 83, 32, 158, 54, 204, 4, 140, 37, 190, 126, 2, 820, 474, 296, 891, 37, 87, 1364, 2, 83, 676, 12, 640, 24, 687, 32, 162, 1405, 48, 126, 2, 213, 8, 2, 507, 528, 156, 11, 73, 12, 5, 565, 2569, 100, 23, 6, 946, 234, 24, 2, 146, 107, 201, 34, 271, 12, 2, 218, 3, 2, 70, 140, 19, 40, 1049, 3, 102, 262, 110, 4, 165, 34, 69, 14, 221, 11, 56, 65, 16, 71, 16, 42, 6, 45, 149, 112, 87, 704, 15, 21, 2, 822, 45, 823, 37, 528, 156, 19, 87, 526, 3, 6, 56, 211, 165, 34, 15, 38, 8, 48, 254, 47, 66, 4, 2570, 528, 3, 15, 33, 22, 4, 326, 40, 2571, 4, 142, 111, 5, 533, 2572, 87, 2573, 26, 12, 126, 2, 820, 112, 59, 11, 38, 8, 2, 822, 22, 5, 2574, 15, 2575, 30, 8, 183, 11, 56, 28, 570, 3, 6, 50, 110, 2, 218, 3, 105, 282, 111, 3, 27, 173, 138, 75, 422, 8, 654, 7, 174, 6, 67, 7, 25, 1447, 15, 2, 163, 31, 2576, 7, 14, 315, 2, 659, 56, 28, 165, 34, 18, 21, 29, 22, 652, 8, 7, 25, 108, 937, 21, 41, 24, 7, 33, 14, 1041, 4, 564, 20, 38, 603, 24, 2, 370, 8, 2, 170, 3, 30, 14, 8, 27, 31, 209, 16, 7, 261, 44, 1037, 19, 2, 1448, 2577, 330, 2, 2578, 9, 2, 70, 19, 30, 2, 146, 107, 1449, 168, 1450, 19, 2, 1048, 3, 43, 1393, 2, 1445, 1444, 3, 330, 16, 1043, 2, 63, 8, 460, 6, 145, 90, 525, 21, 19, 5, 1451, 170, 2, 412, 8, 460, 33, 1443, 355, 525, 3, 175, 48, 81, 174, 812, 68, 1050, 2, 70, 9, 4, 2, 227, 28, 190, 28, 190, 2, 107, 234, 411, 179, 5, 115, 308, 4, 104, 126, 15, 401, 2, 93, 379, 9, 2, 70, 3, 2, 146, 107, 1449, 168, 1450, 19, 2, 1048, 3, 247, 34, 93, 379, 2, 93, 379, 14, 2, 82, 33, 113, 12, 20, 5, 1051, 12, 38, 199, 3, 5, 670, 8, 582, 12, 2, 117, 10, 438, 553, 68, 320, 33, 73, 24, 978, 266, 12, 23, 10, 437, 81, 304, 74, 319, 55, 10, 14, 1452, 24, 13, 250, 4, 54, 304, 9, 2, 70, 55, 67, 13, 283, 2, 82, 102, 18, 2, 136, 144, 69, 22, 427, 111, 64, 2, 218, 2579, 20, 2, 121, 2580, 8, 136, 10, 84, 7, 14, 33, 9, 2581, 9, 2, 136, 144, 2582, 186, 2, 121, 564, 15, 37, 2, 70, 9, 4, 2, 227, 3, 2, 227, 440, 1052, 37, 21, 168, 2583, 19, 87, 526, 3, 43, 186, 48, 39, 3, 2584, 2, 382, 4, 2585, 3, 2586, 191, 60, 68, 2587, 2, 70, 9, 4, 2, 82, 7, 514, 433, 9, 2, 82, 2588, 2, 70, 581, 314, 4, 2, 227, 69, 657, 145, 5, 2589, 8, 2, 426, 10, 341, 48, 4, 1256, 2, 82, 186, 16, 75, 1325, 130, 779, 8, 74, 344, 76, 5, 82, 97, 2, 63, 140, 19, 17, 1049, 3, 73, 984, 18, 2, 82, 69, 231, 735, 3, 2590, 309, 68, 527, 9, 2, 70, 3, 72, 26, 604, 57, 134, 54, 13, 561, 19, 2, 2591, 30, 67, 28, 424, 4, 2592, 2, 379, 18, 21, 33, 288, 2593, 127, 38, 360, 4, 2, 117, 149, 1348, 18, 2, 63, 3, 12, 40, 639, 33, 230, 5, 132, 670, 34, 8, 40, 1051, 999, 8, 2, 582, 89, 18, 30, 151, 11, 185, 5, 27, 206, 1203, 94, 410, 17, 5, 176, 308, 611, 6, 145, 34, 29, 7, 14, 6, 14, 275, 4, 286, 480, 52, 3, 6, 59, 18, 93, 6, 49, 101, 39, 3, 391, 2, 218, 23, 19, 702, 1435, 6, 864, 4, 2594, 292, 6, 14, 16, 139, 16, 58, 14, 293, 24, 17, 10, 193, 13, 278, 2595, 25, 9, 2, 121, 69, 14, 342, 147, 4, 17, 10, 131, 307, 1002, 10, 158, 394, 7, 9, 11, 27, 1349, 76, 335, 573, 44, 141, 4, 286, 97, 9, 2, 121, 72, 268, 492, 9, 11, 99, 2596, 13, 47, 184, 335, 166, 280, 23, 10, 286, 18, 5, 2597, 2598, 9, 2, 121, 28, 12, 15, 2599, 1453, 3, 33, 105, 39, 27, 1368, 3, 887, 112, 4, 2, 117, 223, 8, 2, 218, 21, 30, 61, 2, 63, 22, 103, 261, 60, 984, 18, 2, 82, 3, 89, 16, 2, 121, 887, 2, 218, 6, 9, 4, 38, 8, 2, 824, 8, 2, 218, 867, 62, 2, 1053, 8, 2, 1454, 12, 2, 135, 1356, 19, 94, 2, 1261, 82, 1219, 25, 15, 33, 403, 272, 40, 489, 60, 309, 68, 527, 2, 70, 374, 402, 57, 134, 54, 13, 561, 321, 184, 604, 57, 28, 76, 5, 163, 663, 68, 320, 2, 82, 73, 12, 5, 554, 100, 3, 10, 437, 474, 74, 2600, 953, 5, 1033, 57, 2601, 29, 20, 2, 582, 187, 25, 2602, 2, 806, 8, 2, 319, 2, 806, 8, 2, 29, 9, 2, 70, 7, 73, 20, 2, 319, 2, 82, 154, 8, 183, 806, 809, 20, 5, 2603, 9, 2, 70, 710, 53, 13, 191, 62, 24, 5, 2604, 92, 19, 76, 5, 163, 663, 2, 82, 50, 19, 3, 456, 156, 2605, 108, 2606, 2, 136, 144, 9, 10, 254, 2, 136, 144, 411, 12, 5, 115, 329, 13, 67, 9, 2, 82, 10, 1455, 7, 9, 2, 136, 144, 33, 2607, 7, 9, 2, 70, 391, 34, 15, 1436, 71, 18, 118, 387, 2, 121, 9, 2, 82, 50, 19, 149, 262, 110, 4, 65, 42, 33, 49, 1455, 7, 166, 23, 2, 121, 1326, 129, 207, 803, 459, 108, 15, 399, 2, 82, 10, 602, 90, 99, 582, 23, 29, 67, 2, 121, 91, 38, 8, 2, 227, 226, 15, 10, 158, 256, 9, 2, 82, 13, 106, 256, 376, 2, 70, 57, 134, 54, 13, 561, 2, 1456, 82, 613, 40, 1051, 3, 582, 3, 50, 37, 19, 38, 675, 76, 5, 163, 663, 68, 320, 33, 73, 184, 5, 27, 163, 2608, 9, 2, 70, 97, 38, 8, 2, 773, 914, 3, 14, 961, 825, 78, 2, 824, 8, 2, 218, 16, 15, 36, 172, 5, 431, 348, 10, 143, 89, 369, 4, 13, 66, 7, 14, 246, 32, 22, 5, 132, 2609, 2610, 94, 2611, 39, 18, 2, 372, 20, 2612, 64, 30, 32, 895, 2, 1457, 98, 93, 3, 43, 224, 167, 7, 76, 325, 130, 251, 15, 246, 59, 11, 130, 25, 664, 330, 12, 2, 2613, 18, 2, 213, 8, 820, 58, 14, 90, 2614, 18, 2615, 94, 14, 961, 825, 78, 2, 824, 8, 2, 218, 3, 10, 103, 2616, 29, 7, 667, 197, 77, 42, 133, 21, 13, 47, 41, 7, 13, 295, 570, 37, 399, 2, 70, 10, 158, 92, 44, 2617, 9, 2, 82, 76, 19, 2, 942, 16, 7, 36, 43, 13, 295, 441, 37, 2, 70, 154, 97, 2, 117, 1457, 914, 3, 14, 825, 104, 15, 304, 2, 773, 59, 11, 77, 153, 171, 101, 19, 270, 339, 172, 641, 74, 319, 9, 2, 82, 20, 75, 1029, 155, 18, 2, 63, 69, 14, 829, 2, 1053, 8, 1454, 13, 295, 92, 9, 2, 70, 3, 2, 82, 1179, 261, 2, 218, 169, 211, 389, 4, 140, 40, 489, 19, 3, 89, 191, 40, 98, 60, 761, 2, 63, 186, 4, 38, 8, 2, 824, 23, 2, 82, 14, 34, 8, 351, 126, 2, 2618, 56, 101, 4, 2, 152, 401, 2, 147, 379, 9, 2, 70, 2, 147, 379, 14, 2, 1030, 297, 6, 795, 2, 2619, 12, 17, 199, 3, 11, 936, 69, 7, 14, 211, 126, 6, 105, 64, 2, 218, 78, 2, 86, 2, 281, 237, 2, 152, 73, 574, 21, 18, 137, 309, 68, 527, 9, 2, 70, 545, 9, 2, 297, 2, 70, 102, 262, 18, 2, 146, 107, 69, 9, 12, 5, 257, 100, 68, 320, 106, 1458, 30, 379, 71, 42, 10, 106, 10, 106, 2, 70, 9, 20, 5, 558, 255, 3, 108, 2620, 40, 568, 3, 741, 18, 2, 297, 197, 40, 159, 45, 338, 34, 8, 351, 33, 9, 12, 5, 469, 100, 29, 85, 525, 145, 8, 517, 1382, 9, 2, 297, 669, 9, 5, 585, 100, 282, 17, 2621, 15, 121, 2, 63, 2622, 34, 2623, 15, 121, 373, 15, 121, 34, 8, 218, 2624, 111, 1357, 111, 60, 20, 40, 849, 24, 90, 332, 2, 291, 218, 14, 12, 639, 187, 2, 121, 231, 34, 3, 78, 2, 61, 32, 22, 975, 37, 52, 2, 297, 22, 1403, 103, 345, 9, 2, 70, 20, 75, 255, 8, 115, 1425, 401, 2, 147, 379, 3, 33, 186, 12, 75, 1459, 4, 2, 63, 284, 74, 150, 13, 106, 1458, 2, 147, 379, 7, 81, 334, 74, 1188, 2625, 11, 1420, 2, 146, 107, 16, 33, 2626, 112, 2, 1053, 485, 27, 206, 4, 65, 29, 2, 147, 379, 49, 26, 46, 24, 32, 455, 105, 88, 527, 190, 6, 9, 4, 51, 1414, 17, 658, 55, 2, 146, 107, 330, 34, 18, 2, 421, 8, 40, 630, 31, 100, 2, 349, 11, 299, 2627, 328, 527, 97, 201, 11, 81, 947, 12, 2, 2628, 8, 2, 151, 66, 132, 6, 22, 510, 12, 2, 135, 388, 332, 3, 6, 536, 39, 12, 109, 5, 329, 15, 6, 2629, 112, 2, 821, 20, 2, 960, 8, 17, 2630, 2631, 21, 2, 682, 19, 4, 2, 324, 8, 2, 771, 950, 3, 58, 32, 770, 2632, 41, 2633, 17, 27, 88, 8, 5, 2634, 8, 1460, 6, 22, 2635, 1010, 2, 1033, 126, 122, 10, 438, 68, 553, 6, 581, 12, 5, 114, 8, 115, 2636, 3, 73, 1059, 48, 39, 52, 16, 1447, 16, 6, 56, 24, 2, 1461, 8, 2, 1460, 288, 444, 12, 17, 98, 3, 6, 22, 5, 2637, 198, 8, 238, 15, 32, 106, 26, 1400, 18, 137, 3, 140, 125, 64, 2, 821, 57, 32, 49, 2638, 2, 507, 2639, 1175, 9, 2, 70, 12, 5, 27, 915, 100, 611, 21, 2, 682, 85, 125, 12, 87, 997, 2640, 33, 374, 20, 115, 2641, 149, 431, 18, 11, 16, 33, 9, 25, 11, 102, 18, 2, 821, 3, 252, 15, 12, 17, 2642, 6, 22, 140, 2, 659, 12, 98, 2643, 3, 2, 163, 31, 96, 14, 668, 35, 396, 41, 12, 5, 558, 86, 207, 81, 2644, 4, 909, 6, 173, 105, 7, 34, 52, 3, 140, 7, 141, 28, 15, 7, 2645, 88, 6, 9, 4, 51, 10, 162, 84, 7, 49, 26, 81, 16, 88, 209, 12, 2, 507, 38, 86, 39, 16, 2, 117, 16, 173, 16, 2, 227, 22, 5, 31, 1429, 127, 2, 2646, 8, 207, 1010, 3, 87, 526, 3, 2647, 22, 124, 138, 3, 911, 125, 4, 48, 32, 263, 4, 429, 27, 2648, 4, 564, 34, 5, 503, 8, 2, 1461, 21, 699, 2, 659, 69, 160, 166, 88, 2649, 4, 53, 204, 23, 441, 20, 35, 372, 479, 2650, 39, 64, 2, 537, 8, 2, 218, 29, 53, 13, 47, 41, 30, 511, 2, 70, 9, 4, 11, 129, 9, 11, 129, 945, 1439, 2, 70, 129, 945, 9, 11, 133, 27, 633, 2, 70, 9, 314, 4, 2, 227, 32, 45, 89, 275, 4, 564, 30, 37, 19, 87, 526, 55, 2, 146, 107, 411, 1054, 68, 320, 742, 8, 183, 33, 9, 12, 5, 27, 2651, 114, 23, 741, 3, 416, 671, 18, 111, 16, 33, 236, 1054, 8, 183, 10, 667, 2, 70, 234, 9, 3, 50, 19, 4, 547, 12, 75, 1459, 2652, 16, 42, 33, 45, 258, 94, 348, 619, 305, 90, 8, 2, 227, 1052, 7, 37, 633, 3, 90, 1054, 11, 56, 65, 30, 16, 6, 14, 237, 225, 4, 155, 112, 87, 526, 23, 7, 235, 383, 5, 230, 6, 59, 4, 51, 18, 30, 151, 2, 70, 69, 22, 124, 24, 90, 61, 797, 823, 12, 40, 1462, 2653, 34, 271, 3, 330, 34, 127, 40, 467, 673, 2654, 21, 2655, 99, 177, 5, 1463, 232, 4, 391, 2, 218, 445, 102, 18, 11, 76, 28, 5, 1463, 232, 9, 11, 13, 85, 9, 2, 70, 338, 119, 835, 232, 186, 2, 63, 71, 10, 545, 92, 18, 118, 387, 9, 11, 721, 133, 28, 5, 1426, 673, 13, 2656, 7, 89, 77, 35, 2, 2657, 673, 12, 2, 467, 9, 2, 70, 43, 7, 250, 4, 26, 625, 38, 9, 11, 2, 70, 231, 735, 3, 600, 40, 1462, 234, 812, 68, 1050, 33, 9, 4, 2, 227, 12, 5, 257, 554, 100, 179, 99, 527, 4, 104, 190, 205, 68, 320, 9, 2, 146, 107, 794, 39, 12, 5, 115, 329, 30, 705, 506, 89, 124, 959, 39, 635, 12, 7, 9, 2, 63, 10, 455, 354, 7, 190, 9, 2, 146, 107, 23, 7, 621, 4, 26, 5, 982, 534, 78, 2, 2658, 2659, 470, 7, 106, 54, 124, 15, 9, 2, 70, 1401, 7, 14, 534, 4, 448, 94, 514, 614, 13, 47, 69, 36, 7, 1464, 4, 9, 38, 8, 2, 682, 7, 514, 1464, 18, 21, 9, 2, 146, 107, 12, 426, 179, 129, 534, 19, 2, 761, 33, 1254, 2, 705, 16, 33, 236, 3, 186, 7, 514, 5, 982, 108, 21, 35, 5, 263, 8, 826, 85, 32, 12, 2, 2660, 2661, 226, 188, 8, 2, 682, 44, 296, 28, 9, 2, 146, 107, 3, 133, 2, 2662, 96, 41, 7, 2, 227, 21, 102, 410, 33, 106, 54, 2663, 470, 2664, 199, 9, 2, 70, 2, 227, 21, 1107, 39, 52, 205, 68, 320, 9, 2, 412, 10, 254, 564, 7, 3, 32, 158, 2665, 10, 67, 179, 44, 349, 1465, 18, 2, 213, 42, 13, 254, 2666, 7, 9, 2, 70, 15, 95, 334, 2, 383, 894, 13, 106, 54, 667, 90, 2667, 57, 350, 366, 54, 1465, 68, 349, 46, 75, 2668, 663, 58, 14, 5, 896, 2669, 8, 312, 18, 30, 7, 14, 2, 93, 284, 1259, 96, 2, 70, 22, 9, 15, 170, 15, 1466, 40, 2670, 9, 2, 63, 7, 1466, 129, 8, 2, 198, 9, 11, 116, 13, 72, 211, 47, 29, 296, 41, 330, 48, 9, 2, 70, 2, 146, 107, 140, 19, 40, 1049, 292, 171, 10, 283, 205, 68, 320, 33, 226, 283, 18, 2, 275, 2, 70, 9, 912, 3, 92, 19, 197, 13, 104, 4, 2, 213, 43, 546, 266, 45, 2, 826, 2, 146, 107, 330, 32, 576, 62, 13, 22, 124, 4, 17, 3, 935, 62, 4, 111, 6, 244, 62, 5, 176, 2671, 23, 9, 10, 56, 28, 647, 33, 1452, 48, 348, 10, 22, 28, 294, 153, 47, 7, 4, 26, 690, 42, 6, 162, 2672, 2, 383, 19, 29, 49, 652, 8, 13, 10, 244, 17, 38, 32, 244, 111, 119, 13, 244, 269, 168, 57, 99, 32, 21, 1467, 127, 111, 4, 13, 323, 32, 45, 433, 126, 42, 10, 57, 6, 162, 758, 4, 26, 2673, 12, 30, 2674, 33, 2675, 4, 13, 4, 263, 48, 968, 446, 16, 153, 45, 74, 897, 14, 15, 13, 22, 124, 126, 6, 22, 30, 1055, 75, 2676, 15, 113, 575, 111, 3, 2677, 3, 7, 72, 219, 111, 47, 6, 559, 48, 305, 24, 30, 106, 189, 26, 5, 2678, 288, 127, 21, 2, 370, 575, 361, 3, 62, 133, 2, 456, 633, 670, 8, 527, 1358, 148, 190, 9, 2, 70, 1371, 40, 312, 25, 77, 219, 2, 227, 42, 118, 38, 8, 48, 131, 369, 7, 9, 11, 6, 22, 510, 25, 132, 12, 2, 135, 388, 332, 15, 6, 340, 5, 230, 302, 8, 1370, 111, 134, 309, 111, 2679, 10, 72, 400, 179, 75, 1468, 8, 443, 12, 7, 2, 227, 21, 1052, 37, 19, 87, 526, 6, 235, 400, 179, 75, 1468, 8, 443, 12, 7, 23, 779, 8, 48, 2680, 4, 369, 2, 705, 42, 179, 44, 443, 12, 7, 9, 2, 70, 15, 2681, 5, 468, 8, 529, 13, 47, 16, 153, 1021, 310, 4, 195, 118, 3, 190, 10, 72, 47, 33, 50, 19, 2682, 34, 2, 826, 19, 40, 675, 3, 149, 18, 48, 20, 38, 487, 10, 424, 4, 65, 90, 443, 12, 48, 108, 21, 9, 10, 56, 28, 647, 13, 158, 647, 131, 13, 33, 186, 314, 4, 2, 412, 2, 412, 403, 40, 98, 598, 53, 10, 155, 46, 7, 33, 9, 94, 33, 259, 67, 28, 207, 145, 1402, 8, 2683, 21, 141, 25, 287, 9, 2, 70, 3, 33, 50, 19, 881, 112, 2, 826, 4, 547, 153, 47, 7, 4, 26, 690, 133, 2, 227, 8, 2684, 244, 17, 38, 32, 244, 111, 119, 116, 15, 106, 26, 29, 33, 67, 20, 2, 525, 13, 47, 23, 7, 496, 19, 32, 21, 1467, 127, 111, 4, 13, 9, 11, 116, 58, 32, 85, 9, 2, 70, 1366, 744, 4, 2, 525, 19, 2, 215, 129, 131, 26, 2685, 177, 15, 43, 2686, 6, 22, 30, 1055, 13, 103, 22, 2687, 74, 150, 10, 84, 33, 9, 4, 2, 63, 103, 9, 2, 63, 2688, 1303, 75, 2689, 18, 2, 659, 16, 6, 236, 2, 1022, 31, 315, 22, 261, 60, 823, 19, 40, 1448, 20, 38, 603, 16, 33, 138, 7, 145, 44, 1037, 23, 33, 77, 234, 73, 52, 1337, 2, 2690, 15, 14, 2691, 37, 40, 260, 16, 139, 16, 7, 1258, 43, 2, 192, 72, 1055, 13, 9, 2, 70, 149, 110, 2, 218, 20, 5, 1182, 58, 14, 5, 768, 271, 35, 5, 2692, 2, 70, 186, 12, 75, 367, 114, 3, 445, 1288, 219, 2, 227, 812, 87, 1050, 2, 70, 9, 24, 41, 2, 2693, 61, 15, 170, 44, 44, 9, 2, 63, 552, 2694, 1061, 780, 3, 492, 9, 11, 981, 2, 238, 8, 343, 2, 552, 93, 390, 68, 751, 9, 2, 63, 314, 2695, 10, 182, 9, 11, 60, 20, 17, 98, 2, 63, 407, 18, 2, 421, 8, 17, 100, 448, 646, 69, 1442, 24, 13, 9, 11, 6, 22, 510, 4, 17, 563, 285, 78, 30, 61, 184, 129, 23, 5, 674, 8, 1020, 18, 30, 2, 291, 674, 2696, 39, 64, 2, 255, 3, 113, 2697, 37, 167, 17, 6, 244, 5, 31, 1389, 194, 8, 1148, 3, 194, 8, 1253, 3, 203, 4, 798, 48, 60, 3, 138, 51, 428, 19, 2, 1056, 20, 17, 98, 12, 2, 1127, 8, 17, 414, 69, 14, 890, 2698, 174, 90, 768, 535, 15, 22, 2699, 37, 127, 2, 513, 167, 17, 260, 1361, 39, 11, 150, 9, 17, 414, 116, 29, 5, 139, 572, 573, 22, 122, 130, 22, 109, 5, 206, 475, 9, 11, 3, 6, 576, 17, 414, 16, 71, 16, 6, 56, 256, 48, 21, 266, 620, 681, 8, 1031, 15, 13, 54, 89, 124, 829, 41, 3, 55, 6, 22, 304, 17, 414, 2700, 17, 3, 9, 7, 14, 5, 206, 475, 150, 259, 23, 77, 756, 12, 4, 68, 319, 35, 187, 530, 25, 11, 105, 39, 3, 228, 60, 337, 178, 6, 228, 16, 71, 6, 157, 29, 5, 1469, 475, 7, 22, 124, 23, 17, 414, 224, 279, 89, 16, 6, 261, 17, 1296, 17, 98, 19, 17, 199, 1014, 2, 2701, 1419, 3, 337, 8, 31, 11, 3, 21, 17, 1469, 681, 197, 6, 166, 73, 2702, 108, 5, 1453, 3, 30, 14, 17, 475, 93, 6, 2703, 8, 31, 11, 51, 3, 137, 52, 2, 700, 312, 45, 2704, 167, 17, 675, 3, 2, 481, 1017, 159, 45, 149, 39, 64, 2705, 56, 248, 2, 27, 1438, 8, 17, 100, 3, 65, 15, 364, 31, 2706, 8, 17, 98, 4, 341, 125, 2, 1278, 495, 15, 49, 313, 101, 64, 17, 2707, 279, 16, 6, 2708, 57, 160, 4, 472, 2, 291, 451, 1044, 17, 1328, 1027, 20, 2, 620, 368, 8, 17, 31, 1363, 475, 2, 139, 777, 2709, 18, 17, 202, 16, 2, 146, 107, 322, 2710, 500, 123, 2711, 40, 86, 253, 2, 2712, 2713, 56, 248, 2, 2714, 8, 2, 1470, 16, 2, 136, 144, 3, 40, 1100, 2715, 87, 2716, 2717, 3, 2, 630, 100, 8, 2, 63, 1213, 60, 17, 1022, 1018, 4, 2718, 99, 2, 2719, 14, 574, 19, 2, 1030, 675, 178, 1304, 3, 1305, 2720, 1044, 2721, 99, 2, 655, 8, 2, 83, 2, 1229, 8, 2, 2722, 2723, 3, 2, 2724, 8, 2, 825, 773, 833, 2, 255, 1106, 39, 20, 2, 1277, 817, 8, 2, 1456, 79, 80, 25, 6, 224, 19, 20, 1373, 159, 3, 194, 2725, 51, 12, 1471, 323, 6, 242, 6, 22, 23, 4, 479, 48, 52, 3, 21, 49, 265, 4, 874, 2726, 777, 49, 26, 95, 2727, 12, 2, 1084, 3, 2, 359, 2728, 4, 2, 668, 8, 2, 2729, 1234, 1470, 49, 265, 4, 2730, 2731, 3, 2, 462, 630, 2732, 4, 2, 100, 8, 2, 2733, 2734, 2, 1301, 8, 2, 318, 2, 655, 8, 2, 83, 3, 21, 2, 117, 364, 2735, 49, 265, 6, 242, 4, 2, 745, 2736, 8, 2, 1255, 2737, 2, 2738, 8, 2, 2739, 12, 2, 493, 49, 191, 2, 451, 8, 2, 79, 815, 1423, 817, 2740, 6, 2741, 4, 51, 66, 30, 180, 31, 414, 8, 1031, 49, 12, 2, 2742, 26, 51, 5, 510, 2743, 3, 66, 6, 49, 341, 253, 21, 17, 2744, 2745, 2, 601, 3, 2746, 1421, 8, 17, 2747, 3, 66, 6, 49, 2748, 41, 17, 117, 31, 357, 3, 165, 87, 159, 481, 3, 1017, 20, 300, 5, 620, 737, 220, 211, 20, 2, 475, 8, 1471, 8, 139, 1146, 3, 66, 6, 49, 415, 20, 21, 87, 601, 2749, 3, 195, 5, 1058, 12, 21, 87, 601, 2750, 2751, 17, 344, 2752, 3, 2, 2753, 1451, 792, 2, 213]\n"
          ],
          "name": "stdout"
        }
      ]
    },
    {
      "cell_type": "code",
      "metadata": {
        "id": "ykfI4FrwdyJe",
        "outputId": "4ecfc8d7-8367-4d59-c1e9-99d71885261b",
        "colab": {
          "base_uri": "https://localhost:8080/"
        }
      },
      "source": [
        "dataX = []\n",
        "dataY = []\n",
        "\n",
        "for i in range(0, len(tokens) - seq_length-1 , 1):\n",
        "  seq_in = tokens[i:i + seq_length]\n",
        "  seq_out = tokens[i + seq_length]\n",
        "\n",
        "  if seq_out==1: #Skip samples where target word is OOV\n",
        "    continue\n",
        "    \n",
        "  dataX.append(seq_in)\n",
        "  dataY.append(seq_out)\n",
        " \n",
        "N = len(dataX)\n",
        "print (\"Total training data size: \", N)"
      ],
      "execution_count": null,
      "outputs": [
        {
          "output_type": "stream",
          "text": [
            "Total training data size:  26329\n"
          ],
          "name": "stdout"
        }
      ]
    },
    {
      "cell_type": "code",
      "metadata": {
        "id": "cJmGr1xId8cO",
        "outputId": "9eb707ab-4331-4043-d86c-1f6da41db357",
        "colab": {
          "base_uri": "https://localhost:8080/"
        }
      },
      "source": [
        "X = numpy.array(dataX)\n",
        "\n",
        "# one hot encode the output variable\n",
        "y = numpy.array(dataY)\n",
        "print(y)\n",
        "y = np_utils.to_categorical(dataY)\n",
        "print(y.shape)"
      ],
      "execution_count": null,
      "outputs": [
        {
          "output_type": "stream",
          "text": [
            "[  36    2  209 ... 1451  792    2]\n",
            "(26329, 2754)\n"
          ],
          "name": "stdout"
        }
      ]
    },
    {
      "cell_type": "code",
      "metadata": {
        "id": "8QPApRA-d9JV",
        "outputId": "8343cf09-ef42-4f00-868a-eb3ad2126045",
        "colab": {
          "base_uri": "https://localhost:8080/"
        }
      },
      "source": [
        "from keras.callbacks import ModelCheckpoint\n",
        "\n",
        "# with embedding\n",
        "model = keras.Sequential([\n",
        "    keras.layers.Embedding(vocab_size, embedding_dim, input_length=seq_length),\n",
        "    keras.layers.Bidirectional(keras.layers.LSTM(64)),\n",
        "    keras.layers.Dense(vocab_size, activation='softmax')\n",
        "])\n",
        "# compile model\n",
        "model.compile(loss='categorical_crossentropy',\n",
        "              optimizer='adam',\n",
        "              metrics=['accuracy'])\n",
        "\n",
        "# model summary\n",
        "model.summary()\n",
        "\n",
        "# saving the best model based on validation loss\n",
        "mcp_save = ModelCheckpoint('word_lstm.hdf5', save_best_only=True, monitor='val_loss', mode='min')"
      ],
      "execution_count": null,
      "outputs": [
        {
          "output_type": "stream",
          "text": [
            "Model: \"sequential\"\n",
            "_________________________________________________________________\n",
            "Layer (type)                 Output Shape              Param #   \n",
            "=================================================================\n",
            "embedding_1 (Embedding)      (None, 50, 100)           275400    \n",
            "_________________________________________________________________\n",
            "bidirectional (Bidirectional (None, 128)               84480     \n",
            "_________________________________________________________________\n",
            "dense (Dense)                (None, 2754)              355266    \n",
            "=================================================================\n",
            "Total params: 715,146\n",
            "Trainable params: 715,146\n",
            "Non-trainable params: 0\n",
            "_________________________________________________________________\n"
          ],
          "name": "stdout"
        }
      ]
    },
    {
      "cell_type": "code",
      "metadata": {
        "id": "14ClAAYpeCVO",
        "outputId": "c730eeec-057f-46fd-d279-3cec40867b4e",
        "colab": {
          "base_uri": "https://localhost:8080/"
        }
      },
      "source": [
        "# Use validation split of 0.2 while training\n",
        "model.fit(X, y, epochs=50, batch_size=128, validation_split=0.2, callbacks=mcp_save, validation_freq=1) "
      ],
      "execution_count": null,
      "outputs": [
        {
          "output_type": "stream",
          "text": [
            "Epoch 1/50\n",
            "165/165 [==============================] - 4s 21ms/step - loss: 6.4372 - accuracy: 0.0544 - val_loss: 6.2512 - val_accuracy: 0.0849\n",
            "Epoch 2/50\n",
            "165/165 [==============================] - 3s 17ms/step - loss: 5.9594 - accuracy: 0.0560 - val_loss: 6.1831 - val_accuracy: 0.0849\n",
            "Epoch 3/50\n",
            "165/165 [==============================] - 3s 16ms/step - loss: 5.8385 - accuracy: 0.0590 - val_loss: 6.1917 - val_accuracy: 0.0900\n",
            "Epoch 4/50\n",
            "165/165 [==============================] - 3s 16ms/step - loss: 5.7349 - accuracy: 0.0671 - val_loss: 6.1810 - val_accuracy: 0.0894\n",
            "Epoch 5/50\n",
            "165/165 [==============================] - 3s 17ms/step - loss: 5.6456 - accuracy: 0.0701 - val_loss: 6.1712 - val_accuracy: 0.0934\n",
            "Epoch 6/50\n",
            "165/165 [==============================] - 3s 17ms/step - loss: 5.5567 - accuracy: 0.0770 - val_loss: 6.1651 - val_accuracy: 0.1003\n",
            "Epoch 7/50\n",
            "165/165 [==============================] - 3s 16ms/step - loss: 5.4541 - accuracy: 0.0902 - val_loss: 6.1349 - val_accuracy: 0.1033\n",
            "Epoch 8/50\n",
            "165/165 [==============================] - 3s 16ms/step - loss: 5.3465 - accuracy: 0.1015 - val_loss: 6.1476 - val_accuracy: 0.1005\n",
            "Epoch 9/50\n",
            "165/165 [==============================] - 3s 16ms/step - loss: 5.2404 - accuracy: 0.1081 - val_loss: 6.1327 - val_accuracy: 0.1058\n",
            "Epoch 10/50\n",
            "165/165 [==============================] - 3s 16ms/step - loss: 5.1399 - accuracy: 0.1141 - val_loss: 6.1144 - val_accuracy: 0.1071\n",
            "Epoch 11/50\n",
            "165/165 [==============================] - 3s 15ms/step - loss: 5.0422 - accuracy: 0.1251 - val_loss: 6.1265 - val_accuracy: 0.1092\n",
            "Epoch 12/50\n",
            "165/165 [==============================] - 3s 15ms/step - loss: 4.9486 - accuracy: 0.1317 - val_loss: 6.1374 - val_accuracy: 0.1094\n",
            "Epoch 13/50\n",
            "165/165 [==============================] - 3s 15ms/step - loss: 4.8570 - accuracy: 0.1388 - val_loss: 6.1411 - val_accuracy: 0.1134\n",
            "Epoch 14/50\n",
            "165/165 [==============================] - 2s 15ms/step - loss: 4.7687 - accuracy: 0.1466 - val_loss: 6.1580 - val_accuracy: 0.1160\n",
            "Epoch 15/50\n",
            "165/165 [==============================] - 2s 14ms/step - loss: 4.6801 - accuracy: 0.1536 - val_loss: 6.1830 - val_accuracy: 0.1179\n",
            "Epoch 16/50\n",
            "165/165 [==============================] - 3s 16ms/step - loss: 4.5915 - accuracy: 0.1571 - val_loss: 6.2071 - val_accuracy: 0.1172\n",
            "Epoch 17/50\n",
            "165/165 [==============================] - 3s 16ms/step - loss: 4.5023 - accuracy: 0.1656 - val_loss: 6.2208 - val_accuracy: 0.1223\n",
            "Epoch 18/50\n",
            "165/165 [==============================] - 3s 16ms/step - loss: 4.4101 - accuracy: 0.1709 - val_loss: 6.2449 - val_accuracy: 0.1240\n",
            "Epoch 19/50\n",
            "165/165 [==============================] - 3s 15ms/step - loss: 4.3176 - accuracy: 0.1780 - val_loss: 6.2645 - val_accuracy: 0.1242\n",
            "Epoch 20/50\n",
            "165/165 [==============================] - 3s 15ms/step - loss: 4.2251 - accuracy: 0.1834 - val_loss: 6.3014 - val_accuracy: 0.1215\n",
            "Epoch 21/50\n",
            "165/165 [==============================] - 3s 15ms/step - loss: 4.1341 - accuracy: 0.1906 - val_loss: 6.3288 - val_accuracy: 0.1200\n",
            "Epoch 22/50\n",
            "165/165 [==============================] - 2s 15ms/step - loss: 4.0420 - accuracy: 0.1984 - val_loss: 6.3575 - val_accuracy: 0.1210\n",
            "Epoch 23/50\n",
            "165/165 [==============================] - 3s 15ms/step - loss: 3.9513 - accuracy: 0.2065 - val_loss: 6.3924 - val_accuracy: 0.1219\n",
            "Epoch 24/50\n",
            "165/165 [==============================] - 3s 16ms/step - loss: 3.8608 - accuracy: 0.2134 - val_loss: 6.4336 - val_accuracy: 0.1204\n",
            "Epoch 25/50\n",
            "165/165 [==============================] - 3s 15ms/step - loss: 3.7703 - accuracy: 0.2258 - val_loss: 6.4782 - val_accuracy: 0.1193\n",
            "Epoch 26/50\n",
            "165/165 [==============================] - 3s 16ms/step - loss: 3.6801 - accuracy: 0.2388 - val_loss: 6.4967 - val_accuracy: 0.1174\n",
            "Epoch 27/50\n",
            "165/165 [==============================] - 3s 15ms/step - loss: 3.5915 - accuracy: 0.2530 - val_loss: 6.5256 - val_accuracy: 0.1198\n",
            "Epoch 28/50\n",
            "165/165 [==============================] - 2s 15ms/step - loss: 3.5030 - accuracy: 0.2655 - val_loss: 6.5642 - val_accuracy: 0.1170\n",
            "Epoch 29/50\n",
            "165/165 [==============================] - 3s 16ms/step - loss: 3.4169 - accuracy: 0.2804 - val_loss: 6.6047 - val_accuracy: 0.1130\n",
            "Epoch 30/50\n",
            "165/165 [==============================] - 3s 16ms/step - loss: 3.3330 - accuracy: 0.2977 - val_loss: 6.6404 - val_accuracy: 0.1174\n",
            "Epoch 31/50\n",
            "165/165 [==============================] - 3s 16ms/step - loss: 3.2493 - accuracy: 0.3140 - val_loss: 6.6840 - val_accuracy: 0.1145\n",
            "Epoch 32/50\n",
            "165/165 [==============================] - 2s 15ms/step - loss: 3.1676 - accuracy: 0.3297 - val_loss: 6.7298 - val_accuracy: 0.1156\n",
            "Epoch 33/50\n",
            "165/165 [==============================] - 2s 15ms/step - loss: 3.0870 - accuracy: 0.3441 - val_loss: 6.7688 - val_accuracy: 0.1155\n",
            "Epoch 34/50\n",
            "165/165 [==============================] - 3s 17ms/step - loss: 3.0074 - accuracy: 0.3612 - val_loss: 6.8031 - val_accuracy: 0.1153\n",
            "Epoch 35/50\n",
            "165/165 [==============================] - 3s 16ms/step - loss: 2.9307 - accuracy: 0.3784 - val_loss: 6.8490 - val_accuracy: 0.1128\n",
            "Epoch 36/50\n",
            "165/165 [==============================] - 2s 15ms/step - loss: 2.8582 - accuracy: 0.3914 - val_loss: 6.8971 - val_accuracy: 0.1107\n",
            "Epoch 37/50\n",
            "165/165 [==============================] - 2s 15ms/step - loss: 2.7859 - accuracy: 0.4063 - val_loss: 6.9378 - val_accuracy: 0.1082\n",
            "Epoch 38/50\n",
            "165/165 [==============================] - 3s 15ms/step - loss: 2.7164 - accuracy: 0.4218 - val_loss: 6.9948 - val_accuracy: 0.1075\n",
            "Epoch 39/50\n",
            "165/165 [==============================] - 2s 15ms/step - loss: 2.6486 - accuracy: 0.4360 - val_loss: 7.0307 - val_accuracy: 0.1035\n",
            "Epoch 40/50\n",
            "165/165 [==============================] - 2s 15ms/step - loss: 2.5828 - accuracy: 0.4473 - val_loss: 7.0807 - val_accuracy: 0.1022\n",
            "Epoch 41/50\n",
            "165/165 [==============================] - 3s 15ms/step - loss: 2.5200 - accuracy: 0.4594 - val_loss: 7.1242 - val_accuracy: 0.1010\n",
            "Epoch 42/50\n",
            "165/165 [==============================] - 3s 15ms/step - loss: 2.4583 - accuracy: 0.4723 - val_loss: 7.1859 - val_accuracy: 0.1010\n",
            "Epoch 43/50\n",
            "165/165 [==============================] - 3s 15ms/step - loss: 2.3979 - accuracy: 0.4844 - val_loss: 7.2192 - val_accuracy: 0.0997\n",
            "Epoch 44/50\n",
            "165/165 [==============================] - 2s 15ms/step - loss: 2.3399 - accuracy: 0.4948 - val_loss: 7.2550 - val_accuracy: 0.1022\n",
            "Epoch 45/50\n",
            "165/165 [==============================] - 3s 16ms/step - loss: 2.2816 - accuracy: 0.5092 - val_loss: 7.3198 - val_accuracy: 0.0961\n",
            "Epoch 46/50\n",
            "165/165 [==============================] - 3s 16ms/step - loss: 2.2265 - accuracy: 0.5211 - val_loss: 7.3648 - val_accuracy: 0.1012\n",
            "Epoch 47/50\n",
            "165/165 [==============================] - 3s 16ms/step - loss: 2.1724 - accuracy: 0.5321 - val_loss: 7.4166 - val_accuracy: 0.0991\n",
            "Epoch 48/50\n",
            "165/165 [==============================] - 3s 15ms/step - loss: 2.1192 - accuracy: 0.5443 - val_loss: 7.4699 - val_accuracy: 0.0961\n",
            "Epoch 49/50\n",
            "165/165 [==============================] - 2s 15ms/step - loss: 2.0683 - accuracy: 0.5532 - val_loss: 7.4898 - val_accuracy: 0.0989\n",
            "Epoch 50/50\n",
            "165/165 [==============================] - 2s 15ms/step - loss: 2.0201 - accuracy: 0.5631 - val_loss: 7.5750 - val_accuracy: 0.0944\n"
          ],
          "name": "stdout"
        },
        {
          "output_type": "execute_result",
          "data": {
            "text/plain": [
              "<tensorflow.python.keras.callbacks.History at 0x7f24d4d64f28>"
            ]
          },
          "metadata": {
            "tags": []
          },
          "execution_count": 12
        }
      ]
    },
    {
      "cell_type": "code",
      "metadata": {
        "id": "Rb9cyU0OOazD"
      },
      "source": [
        "model.load_weights('word_lstm.hdf5')"
      ],
      "execution_count": null,
      "outputs": []
    },
    {
      "cell_type": "code",
      "metadata": {
        "id": "mg9WSEwYeMAH"
      },
      "source": [
        "# list out keys and values separately \n",
        "key_list = list(word_index.keys()) \n",
        "val_list = list(word_index.values()) \n",
        "\n",
        "reverse_word_map = dict()\n",
        "for i in range(len(val_list)):\n",
        "  reverse_word_map[val_list[i]] = key_list[i]"
      ],
      "execution_count": null,
      "outputs": []
    },
    {
      "cell_type": "code",
      "metadata": {
        "id": "JGS7N0DiTabW"
      },
      "source": [
        "import heapq\n",
        "\n",
        "def fix_p(prediction):\n",
        "  number = 1\n",
        "  while (sum(prediction)>1.0):\n",
        "    number = 10+number\n",
        "    prediction[heapq.nsmallest(number, range(len(prediction)), prediction.take)] = 0\n",
        "  return prediction.tolist()"
      ],
      "execution_count": null,
      "outputs": []
    },
    {
      "cell_type": "code",
      "metadata": {
        "id": "A_mhL0J0eQku"
      },
      "source": [
        "# Complete the code to return next n words greedily\n",
        "def next_tokens(input_str, n): \n",
        "\tprint (\"Seed: \\n\", input_str)\n",
        "\t\n",
        "\ttokens = tokenizer.texts_to_sequences([input_str])\n",
        "\tfinal_tokens = []\n",
        "\tfor i in range(n):\n",
        "\t\tprediction = model.predict(tokens, verbose=0)\n",
        "\n",
        "\t\tpred = fix_p(prediction[0])\n",
        "\t\tnext_token = np.argmax(np.random.multinomial(1, pred))\n",
        "\n",
        "\t\tdel tokens[0][0]\n",
        "\t\ttokens[0].append(next_token)\n",
        "\t\tfinal_tokens.append(next_token)\n",
        "\n",
        "\treturn input_str + ' ' + ' '.join([reverse_word_map[value+1] for value in final_tokens])"
      ],
      "execution_count": null,
      "outputs": []
    },
    {
      "cell_type": "code",
      "metadata": {
        "id": "gZ_NTQezeWYO",
        "outputId": "a1f911e8-7620-4328-bcd6-f1f2ca3d54bd",
        "colab": {
          "base_uri": "https://localhost:8080/"
        }
      },
      "source": [
        "# pick a random seed\n",
        "seed = 10\n",
        "np.random.seed(seed)\n",
        "\n",
        "start = np.random.randint(0, len(dataX)-1)\n",
        "pattern = dataX[start]\n",
        "input_str = ' '.join([reverse_word_map[value] for value in pattern])\n",
        "\n",
        "print(next_tokens(input_str, 10))"
      ],
      "execution_count": null,
      "outputs": [
        {
          "output_type": "stream",
          "text": [
            "Seed: \n",
            " not so she went in search of her hedgehog the hedgehog was engaged in a fight with another hedgehog which seemed to alice an excellent opportunity for croqueting one of them with the other the only difficulty was that her flamingo was gone across to the other side of the\n",
            "not so she went in search of her hedgehog the hedgehog was engaged in a fight with another hedgehog which seemed to alice an excellent opportunity for croqueting one of them with the other the only difficulty was that her flamingo was gone across to the other side of the rosetree and just as she tried one and no sort\n"
          ],
          "name": "stdout"
        }
      ]
    },
    {
      "cell_type": "code",
      "metadata": {
        "id": "u-x8W-OSVgNi",
        "outputId": "afc43c4d-6d56-47fd-b6e9-e46a1fa41689",
        "colab": {
          "base_uri": "https://localhost:8080/"
        }
      },
      "source": [
        "input_str = \"The boy laughed at the fright he had caused. This time, the villagers left angrily. The third day, as the boy went up\\\n",
        " the small hill, he suddenly saw a wolf attacking his sheep. He cried as hard as he could, “Wolf! Wolf! Wolf!”, but not \\\n",
        " a single villager came to help him. The villagers thought that he was trying to fool them again and did not come to rescue \\\n",
        " him or his sheep.\"\n",
        "\n",
        "# Use first 50 tokens from given input_str as input.(Use tokenizer to split to take first 50)\n",
        "input_str = ' '.join([reverse_word_map[value] for value in tokenizer.texts_to_sequences([input_str])[0]])\n",
        "print(next_tokens(input_str , 10))"
      ],
      "execution_count": null,
      "outputs": [
        {
          "output_type": "stream",
          "text": [
            "Seed: \n",
            " the boy laughed at the fright he had caused this time the <OOV> left angrily the <OOV> day as the boy went up the small <OOV> he suddenly saw a <OOV> <OOV> his <OOV> he cried as hard as he could <OOV> <OOV> <OOV> <OOV> but not a <OOV> <OOV> came to help him the <OOV> thought that he was trying to <OOV> them again and did not come to <OOV> him or his <OOV>\n",
            "WARNING:tensorflow:Model was constructed with shape (None, 50) for input Tensor(\"embedding_1_input:0\", shape=(None, 50), dtype=float32), but it was called on an input with incompatible shape (None, 75).\n",
            "the boy laughed at the fright he had caused this time the <OOV> left angrily the <OOV> day as the boy went up the small <OOV> he suddenly saw a <OOV> <OOV> his <OOV> he cried as hard as he could <OOV> <OOV> <OOV> <OOV> but not a <OOV> <OOV> came to help him the <OOV> thought that he was trying to <OOV> them again and did not come to <OOV> him or his <OOV> certainly said the duchess thats a little golden key and\n"
          ],
          "name": "stdout"
        }
      ]
    },
    {
      "cell_type": "markdown",
      "metadata": {
        "id": "B5_R5Tngo3_D"
      },
      "source": [
        "# Character based LSTM Model 1"
      ]
    },
    {
      "cell_type": "code",
      "metadata": {
        "id": "2zZaHsejo57p"
      },
      "source": [
        "# User the preprocess data and create raw_text\n",
        "raw_text = nltk.data.load('corpus.txt', format='raw').decode('utf-8')\n",
        "\n",
        "# converting _very_ to very\n",
        "def preprocessor(match):\n",
        "  return re.sub(r'[_]', \"\", match.group())\n",
        "\n",
        "pattern = re.compile(r'[_]*[^\\s]+[_]+|[_]+[^\\s]+[_]*')\n",
        "raw_text = pattern.sub(preprocessor, raw_text)\n",
        "raw_text = re.sub(r'[^\\w\\s,.]', '', raw_text)\n",
        "# create mapping of unique characters to integers\n",
        "chars = sorted(list(set(raw_text)))\n",
        "char_to_int = dict((c, i) for i, c in enumerate(chars))"
      ],
      "execution_count": null,
      "outputs": []
    },
    {
      "cell_type": "code",
      "metadata": {
        "id": "lkVVDbump0Wg",
        "outputId": "77d43b6d-c4b5-4413-ea9d-aff1adf0f240",
        "colab": {
          "base_uri": "https://localhost:8080/"
        }
      },
      "source": [
        "# Print the total characters and character vacob size\n",
        "n_chars = len(raw_text)\n",
        "n_vocab = len(chars)\n",
        "print(n_vocab)"
      ],
      "execution_count": null,
      "outputs": [
        {
          "output_type": "stream",
          "text": [
            "57\n"
          ],
          "name": "stdout"
        }
      ]
    },
    {
      "cell_type": "code",
      "metadata": {
        "id": "2aVserymqE1b",
        "outputId": "455073c2-b988-4ae1-ce04-8ffabc7513c7",
        "colab": {
          "base_uri": "https://localhost:8080/"
        }
      },
      "source": [
        "'''\n",
        "Prepare dataset where the input is sequence of 100 characters and target is next character.\n",
        "'''\n",
        "seq_length = 100\n",
        "dataX = []\n",
        "dataY = []\n",
        "for i in range(0, n_chars - seq_length, 1):\n",
        "\tseq_in = raw_text[i:i + seq_length]\n",
        "\tseq_out = raw_text[i + seq_length]\n",
        "\tdataX.append([char_to_int[char] for char in seq_in])\n",
        "\tdataY.append(char_to_int[seq_out])\n",
        "n_patterns = len(dataX)\n",
        "print (\"Total Patterns: \", n_patterns)"
      ],
      "execution_count": null,
      "outputs": [
        {
          "output_type": "stream",
          "text": [
            "Total Patterns:  137356\n"
          ],
          "name": "stdout"
        }
      ]
    },
    {
      "cell_type": "code",
      "metadata": {
        "id": "Ic4yf4hNqc7T"
      },
      "source": [
        "# reshape X to be [samples, time steps, features]\n",
        "X = numpy.reshape(dataX, (n_patterns, seq_length, 1))\n",
        "\n",
        "# one hot encode the output variable\n",
        "dataY = numpy.array(dataY)\n",
        "y = np_utils.to_categorical(dataY)"
      ],
      "execution_count": null,
      "outputs": []
    },
    {
      "cell_type": "code",
      "metadata": {
        "id": "XvawnjFVqhMi"
      },
      "source": [
        "embedding_dim =100\n",
        "max_length =100"
      ],
      "execution_count": null,
      "outputs": []
    },
    {
      "cell_type": "code",
      "metadata": {
        "id": "ek5DqNeTqkAZ",
        "outputId": "fa87af8c-147d-48f9-ed36-6d4e993b3c6e",
        "colab": {
          "base_uri": "https://localhost:8080/"
        }
      },
      "source": [
        "model2 = Sequential()\n",
        "model2.add(Embedding(n_vocab, embedding_dim, input_length=max_length))\n",
        "model2.add(LSTM(256))\n",
        "model2.add(Dropout(0.2))\n",
        "model2.add(Dense(y.shape[1], activation='softmax'))\n",
        "model2.compile(loss='categorical_crossentropy', optimizer='adam', metrics=['accuracy'])\n",
        "model2.summary()\n",
        "\n",
        "# saving the best model based on validation loss\n",
        "checkpoint_filepath = 'char1-lstm.hdf5'\n",
        "mcp_save = ModelCheckpoint(checkpoint_filepath, save_best_only=True, monitor='val_loss', mode='min')"
      ],
      "execution_count": null,
      "outputs": [
        {
          "output_type": "stream",
          "text": [
            "Model: \"sequential_1\"\n",
            "_________________________________________________________________\n",
            "Layer (type)                 Output Shape              Param #   \n",
            "=================================================================\n",
            "embedding_2 (Embedding)      (None, 100, 100)          5700      \n",
            "_________________________________________________________________\n",
            "lstm_1 (LSTM)                (None, 256)               365568    \n",
            "_________________________________________________________________\n",
            "dropout (Dropout)            (None, 256)               0         \n",
            "_________________________________________________________________\n",
            "dense_1 (Dense)              (None, 57)                14649     \n",
            "=================================================================\n",
            "Total params: 385,917\n",
            "Trainable params: 385,917\n",
            "Non-trainable params: 0\n",
            "_________________________________________________________________\n"
          ],
          "name": "stdout"
        }
      ]
    },
    {
      "cell_type": "code",
      "metadata": {
        "id": "gFoStJIOqpM6",
        "outputId": "a2603995-48ed-4077-a530-fae1a54c51a5",
        "colab": {
          "base_uri": "https://localhost:8080/"
        }
      },
      "source": [
        "model2.fit(X, y, epochs=20, batch_size=128, validation_split=0.2, callbacks=mcp_save, validation_freq=1)\n",
        "# model.load_weights(checkpoint_filepath)"
      ],
      "execution_count": null,
      "outputs": [
        {
          "output_type": "stream",
          "text": [
            "Epoch 1/20\n",
            "859/859 [==============================] - 18s 21ms/step - loss: 2.3342 - accuracy: 0.3468 - val_loss: 1.9851 - val_accuracy: 0.4346\n",
            "Epoch 2/20\n",
            "859/859 [==============================] - 17s 20ms/step - loss: 1.8461 - accuracy: 0.4656 - val_loss: 1.7543 - val_accuracy: 0.4944\n",
            "Epoch 3/20\n",
            "859/859 [==============================] - 18s 20ms/step - loss: 1.6508 - accuracy: 0.5152 - val_loss: 1.6244 - val_accuracy: 0.5290\n",
            "Epoch 4/20\n",
            "859/859 [==============================] - 18s 20ms/step - loss: 1.5234 - accuracy: 0.5474 - val_loss: 1.5362 - val_accuracy: 0.5525\n",
            "Epoch 5/20\n",
            "859/859 [==============================] - 17s 20ms/step - loss: 1.4335 - accuracy: 0.5718 - val_loss: 1.4845 - val_accuracy: 0.5634\n",
            "Epoch 6/20\n",
            "859/859 [==============================] - 18s 20ms/step - loss: 1.3638 - accuracy: 0.5897 - val_loss: 1.4539 - val_accuracy: 0.5747\n",
            "Epoch 7/20\n",
            "859/859 [==============================] - 18s 20ms/step - loss: 1.3048 - accuracy: 0.6054 - val_loss: 1.4373 - val_accuracy: 0.5783\n",
            "Epoch 8/20\n",
            "859/859 [==============================] - 18s 21ms/step - loss: 1.2554 - accuracy: 0.6184 - val_loss: 1.4298 - val_accuracy: 0.5834\n",
            "Epoch 9/20\n",
            "859/859 [==============================] - 18s 20ms/step - loss: 1.2130 - accuracy: 0.6309 - val_loss: 1.4210 - val_accuracy: 0.5852\n",
            "Epoch 10/20\n",
            "859/859 [==============================] - 17s 20ms/step - loss: 1.1721 - accuracy: 0.6425 - val_loss: 1.4239 - val_accuracy: 0.5873\n",
            "Epoch 11/20\n",
            "859/859 [==============================] - 18s 20ms/step - loss: 1.1354 - accuracy: 0.6539 - val_loss: 1.4290 - val_accuracy: 0.5846\n",
            "Epoch 12/20\n",
            "859/859 [==============================] - 17s 20ms/step - loss: 1.1008 - accuracy: 0.6618 - val_loss: 1.4314 - val_accuracy: 0.5868\n",
            "Epoch 13/20\n",
            "859/859 [==============================] - 18s 20ms/step - loss: 1.0707 - accuracy: 0.6695 - val_loss: 1.4411 - val_accuracy: 0.5824\n",
            "Epoch 14/20\n",
            "859/859 [==============================] - 18s 21ms/step - loss: 1.0375 - accuracy: 0.6789 - val_loss: 1.4519 - val_accuracy: 0.5863\n",
            "Epoch 15/20\n",
            "859/859 [==============================] - 17s 20ms/step - loss: 1.0107 - accuracy: 0.6864 - val_loss: 1.4597 - val_accuracy: 0.5881\n",
            "Epoch 16/20\n",
            "859/859 [==============================] - 18s 21ms/step - loss: 0.9814 - accuracy: 0.6951 - val_loss: 1.4777 - val_accuracy: 0.5842\n",
            "Epoch 17/20\n",
            "859/859 [==============================] - 18s 20ms/step - loss: 0.9526 - accuracy: 0.7031 - val_loss: 1.4910 - val_accuracy: 0.5832\n",
            "Epoch 18/20\n",
            "859/859 [==============================] - 17s 20ms/step - loss: 0.9294 - accuracy: 0.7086 - val_loss: 1.4991 - val_accuracy: 0.5843\n",
            "Epoch 19/20\n",
            "859/859 [==============================] - 18s 21ms/step - loss: 0.9075 - accuracy: 0.7170 - val_loss: 1.5163 - val_accuracy: 0.5838\n",
            "Epoch 20/20\n",
            "859/859 [==============================] - 17s 20ms/step - loss: 0.8849 - accuracy: 0.7222 - val_loss: 1.5401 - val_accuracy: 0.5791\n"
          ],
          "name": "stdout"
        },
        {
          "output_type": "execute_result",
          "data": {
            "text/plain": [
              "<tensorflow.python.keras.callbacks.History at 0x7f24d2daf828>"
            ]
          },
          "metadata": {
            "tags": []
          },
          "execution_count": 29
        }
      ]
    },
    {
      "cell_type": "code",
      "metadata": {
        "id": "ekXYhzeUrGaq",
        "outputId": "ca7b376c-a5a2-4c3b-a6c2-7a278521fefe",
        "colab": {
          "base_uri": "https://localhost:8080/"
        }
      },
      "source": [
        "#implement mapping of integer to character\n",
        "int_to_char = dict((i, c) for i, c in enumerate(chars))\n",
        "print(int_to_char)"
      ],
      "execution_count": null,
      "outputs": [
        {
          "output_type": "stream",
          "text": [
            "{0: '\\n', 1: ' ', 2: ',', 3: '.', 4: 'A', 5: 'B', 6: 'C', 7: 'D', 8: 'E', 9: 'F', 10: 'G', 11: 'H', 12: 'I', 13: 'J', 14: 'K', 15: 'L', 16: 'M', 17: 'N', 18: 'O', 19: 'P', 20: 'Q', 21: 'R', 22: 'S', 23: 'T', 24: 'U', 25: 'V', 26: 'W', 27: 'X', 28: 'Y', 29: 'Z', 30: 'a', 31: 'b', 32: 'c', 33: 'd', 34: 'e', 35: 'f', 36: 'g', 37: 'h', 38: 'i', 39: 'j', 40: 'k', 41: 'l', 42: 'm', 43: 'n', 44: 'o', 45: 'p', 46: 'q', 47: 'r', 48: 's', 49: 't', 50: 'u', 51: 'v', 52: 'w', 53: 'x', 54: 'y', 55: 'z', 56: 'ù'}\n"
          ],
          "name": "stdout"
        }
      ]
    },
    {
      "cell_type": "code",
      "metadata": {
        "id": "OixPrw6vq15j"
      },
      "source": [
        "'''\n",
        "Complete code below to get the generated string using the model.\n",
        "'''\n",
        "def predict_next_100_chars(pattern,x):\n",
        "\tfinal_pattern = [value for value in pattern]\n",
        "\tfor i in range(x):\n",
        "\n",
        "\t\tchar_tokens = np.reshape(pattern, (1, len(pattern), 1))\n",
        "\t\tprediction = model2.predict(char_tokens, verbose=0)\n",
        "\t\t\n",
        "\t\tpred = fix_p(prediction[0])\n",
        "\t\tindex = np.argmax(np.random.multinomial(1, pred))\n",
        "\n",
        "\t\tpattern.pop(0)\n",
        "\t\tpattern.append(index)\n",
        "\t\tfinal_pattern.append(index)\n",
        "\n",
        "\treturn ''.join([int_to_char[value] for value in final_pattern])"
      ],
      "execution_count": null,
      "outputs": []
    },
    {
      "cell_type": "code",
      "metadata": {
        "id": "vHH_I5QiUxnY",
        "outputId": "24d858d1-11e3-4f08-faac-7a7003b0bb95",
        "colab": {
          "base_uri": "https://localhost:8080/"
        }
      },
      "source": [
        "# pick a random seed\n",
        "start = numpy.random.randint(0, len(dataX)-1)\n",
        "pattern = dataX[start]\n",
        "input_str = ''.join([int_to_char[value] for value in pattern])\n",
        "\n",
        "print(f'The original string:\\n {input_str}')\n",
        "print(f'The predicted string:\\n {predict_next_100_chars(pattern,100)}')"
      ],
      "execution_count": null,
      "outputs": [
        {
          "output_type": "stream",
          "text": [
            "The original string:\n",
            " to usurpation and conquest.\n",
            "Edwin and Morcar, the earls of Mercia and Northumbria Ugh said the Lory,\n",
            "The predicted string:\n",
            " to usurpation and conquest.\n",
            "Edwin and Morcar, the earls of Mercia and Northumbria Ugh said the Lory, remaimed other of muchness deep that it was a large little double in far of this sort of the garden\n"
          ],
          "name": "stdout"
        }
      ]
    },
    {
      "cell_type": "code",
      "metadata": {
        "id": "iutpuJAgrgU8",
        "outputId": "5b0f40e4-36a5-400a-fa16-9ed89f56395e",
        "colab": {
          "base_uri": "https://localhost:8080/"
        }
      },
      "source": [
        "input_str = \"The boy laughed at the fright he had caused. This time, the villagers left angrily. The third day, as the boy went up\\\n",
        " the small hill, he suddenly saw a wolf attacking his sheep. He cried as hard as he could, “Wolf! Wolf! Wolf!”, but not \\\n",
        " a single villager came to help him. The villagers thought that he was trying to fool them again and did not come to rescue \\\n",
        " him or his sheep.\"\n",
        "\n",
        "# Use first 100 characeters from given input_str as input and generate next 200 characters.\n",
        "pattern = []\n",
        "for char in input_str:\n",
        "  pattern.append(char_to_int[char])\n",
        "  if len(pattern) == 100:\n",
        "    break\n",
        "\n",
        "print(''.join([int_to_char[value] for value in pattern]))\n",
        "print(predict_next_100_chars(pattern,200))"
      ],
      "execution_count": null,
      "outputs": [
        {
          "output_type": "stream",
          "text": [
            "The boy laughed at the fright he had caused. This time, the villagers left angrily. The third day, a\n",
            "The boy laughed at the fright he had caused. This time, the villagers left angrily. The third day, and the Hatter and the Queen jumped augh on for down, she fellow, the Mock Turtle recade, to herself that the cooks of the way better, I think she said to the chimney.\n",
            "Were the chimney ons stop in the \n"
          ],
          "name": "stdout"
        }
      ]
    },
    {
      "cell_type": "markdown",
      "metadata": {
        "id": "n8shbcukr0tJ"
      },
      "source": [
        "## Character based LSTM Model 2\n"
      ]
    },
    {
      "cell_type": "code",
      "metadata": {
        "id": "BWBPCrTdr46U"
      },
      "source": [
        "model1 = Sequential()\n",
        "model1.add(Embedding(n_vocab, embedding_dim, input_length=max_length))\n",
        "model1.add(LSTM(256, input_shape=(X.shape[1], embedding_dim),return_sequences=True))\n",
        "model1.add(Dropout(0.2))\n",
        "model1.add(LSTM(256))\n",
        "model1.add(Dropout(0.2))\n",
        "model1.add(Dense(y.shape[1], activation='softmax'))\n",
        "model1.compile(loss='categorical_crossentropy', optimizer='adam', metrics=['accuracy'])\n",
        "\n",
        "\n",
        "# saving the best model based on validation loss\n",
        "checkpoint_filepath = 'char2-lstm.hdf5'\n",
        "mcp_save = ModelCheckpoint(checkpoint_filepath, save_best_only=True, monitor='val_loss', mode='min')"
      ],
      "execution_count": null,
      "outputs": []
    },
    {
      "cell_type": "code",
      "metadata": {
        "id": "7ZxrtjFIr63L",
        "outputId": "4ea91b73-7ad1-4c45-f291-f4b53fbf95d3",
        "colab": {
          "base_uri": "https://localhost:8080/"
        }
      },
      "source": [
        "model1.fit(X, y, epochs=20, batch_size=64, validation_split=0.2, callbacks=mcp_save, validation_freq=1)\n",
        "# model1.load_weights(checkpoint_filepath)"
      ],
      "execution_count": null,
      "outputs": [
        {
          "output_type": "stream",
          "text": [
            "Epoch 1/20\n",
            "1717/1717 [==============================] - 44s 26ms/step - loss: 2.2518 - accuracy: 0.3670 - val_loss: 1.8467 - val_accuracy: 0.4680\n",
            "Epoch 2/20\n",
            "1717/1717 [==============================] - 43s 25ms/step - loss: 1.6933 - accuracy: 0.5063 - val_loss: 1.6041 - val_accuracy: 0.5335\n",
            "Epoch 3/20\n",
            "1717/1717 [==============================] - 43s 25ms/step - loss: 1.5054 - accuracy: 0.5514 - val_loss: 1.5065 - val_accuracy: 0.5557\n",
            "Epoch 4/20\n",
            "1717/1717 [==============================] - 43s 25ms/step - loss: 1.3925 - accuracy: 0.5808 - val_loss: 1.4510 - val_accuracy: 0.5744\n",
            "Epoch 5/20\n",
            "1717/1717 [==============================] - 43s 25ms/step - loss: 1.3154 - accuracy: 0.6016 - val_loss: 1.4200 - val_accuracy: 0.5840\n",
            "Epoch 6/20\n",
            "1717/1717 [==============================] - 43s 25ms/step - loss: 1.2545 - accuracy: 0.6163 - val_loss: 1.4132 - val_accuracy: 0.5836\n",
            "Epoch 7/20\n",
            "1717/1717 [==============================] - 43s 25ms/step - loss: 1.2021 - accuracy: 0.6310 - val_loss: 1.3943 - val_accuracy: 0.5942\n",
            "Epoch 8/20\n",
            "1717/1717 [==============================] - 43s 25ms/step - loss: 1.1595 - accuracy: 0.6419 - val_loss: 1.3961 - val_accuracy: 0.5957\n",
            "Epoch 9/20\n",
            "1717/1717 [==============================] - 43s 25ms/step - loss: 1.1241 - accuracy: 0.6522 - val_loss: 1.4047 - val_accuracy: 0.5952\n",
            "Epoch 10/20\n",
            "1717/1717 [==============================] - 43s 25ms/step - loss: 1.0901 - accuracy: 0.6613 - val_loss: 1.4130 - val_accuracy: 0.5945\n",
            "Epoch 11/20\n",
            "1717/1717 [==============================] - 43s 25ms/step - loss: 1.0590 - accuracy: 0.6691 - val_loss: 1.4113 - val_accuracy: 0.5991\n",
            "Epoch 12/20\n",
            "1717/1717 [==============================] - 43s 25ms/step - loss: 1.0309 - accuracy: 0.6755 - val_loss: 1.4355 - val_accuracy: 0.5986\n",
            "Epoch 13/20\n",
            "1717/1717 [==============================] - 43s 25ms/step - loss: 1.0048 - accuracy: 0.6840 - val_loss: 1.4454 - val_accuracy: 0.5916\n",
            "Epoch 14/20\n",
            "1717/1717 [==============================] - 43s 25ms/step - loss: 0.9808 - accuracy: 0.6902 - val_loss: 1.4559 - val_accuracy: 0.5932\n",
            "Epoch 15/20\n",
            "1717/1717 [==============================] - 43s 25ms/step - loss: 0.9626 - accuracy: 0.6959 - val_loss: 1.4759 - val_accuracy: 0.5943\n",
            "Epoch 16/20\n",
            "1717/1717 [==============================] - 43s 25ms/step - loss: 0.9415 - accuracy: 0.6997 - val_loss: 1.4832 - val_accuracy: 0.5936\n",
            "Epoch 17/20\n",
            "1717/1717 [==============================] - 43s 25ms/step - loss: 0.9241 - accuracy: 0.7056 - val_loss: 1.5062 - val_accuracy: 0.5897\n",
            "Epoch 18/20\n",
            "1717/1717 [==============================] - 43s 25ms/step - loss: 0.9060 - accuracy: 0.7103 - val_loss: 1.5075 - val_accuracy: 0.5910\n",
            "Epoch 19/20\n",
            "1717/1717 [==============================] - 43s 25ms/step - loss: 0.8931 - accuracy: 0.7133 - val_loss: 1.5402 - val_accuracy: 0.5870\n",
            "Epoch 20/20\n",
            "1717/1717 [==============================] - 43s 25ms/step - loss: 0.8814 - accuracy: 0.7168 - val_loss: 1.5383 - val_accuracy: 0.5927\n"
          ],
          "name": "stdout"
        },
        {
          "output_type": "execute_result",
          "data": {
            "text/plain": [
              "<tensorflow.python.keras.callbacks.History at 0x7f246e48ada0>"
            ]
          },
          "metadata": {
            "tags": []
          },
          "execution_count": 36
        }
      ]
    },
    {
      "cell_type": "code",
      "metadata": {
        "id": "L6RTfHN6r8wh"
      },
      "source": [
        "# Generate the sequence similar to above methods\n",
        "'''\n",
        "Complete code below to get the generated string using the model.\n",
        "'''\n",
        "def predict_next_100_chars(pattern,x):\n",
        "\tfinal_pattern = [value for value in pattern]\n",
        "\tfor i in range(x):\n",
        "\t\tchar_tokens = np.reshape(pattern, (1, len(pattern), 1))\n",
        "\t\tprediction = model1.predict(char_tokens, verbose=0)\n",
        "\t\t\n",
        "\t\tpred = fix_p(prediction[0])\n",
        "\t\tindex = np.argmax(np.random.multinomial(1, pred))\n",
        "\n",
        "\t\tpattern.pop(0)\n",
        "\t\tpattern.append(index)\n",
        "\t\tfinal_pattern.append(index)\n",
        "\n",
        "\treturn ''.join([int_to_char[value] for value in final_pattern])"
      ],
      "execution_count": null,
      "outputs": []
    },
    {
      "cell_type": "code",
      "metadata": {
        "id": "5CKJXZ4tYmL0",
        "outputId": "771dd07b-9abf-453e-cc9a-cff83dee2e3e",
        "colab": {
          "base_uri": "https://localhost:8080/"
        }
      },
      "source": [
        "# pick a random seed\n",
        "start = numpy.random.randint(0, len(dataX)-1)\n",
        "pattern = dataX[start]\n",
        "input_str = ''.join([int_to_char[value] for value in pattern])\n",
        "\n",
        "print(input_str)\n",
        "print(predict_next_100_chars(pattern,200))"
      ],
      "execution_count": null,
      "outputs": [
        {
          "output_type": "stream",
          "text": [
            "o on for some time without interrupting it.\n",
            "They were learning to draw, the Dormouse went on, yawnin\n",
            "o on for some time without interrupting it.\n",
            "They were learning to draw, the Dormouse went on, yawning near the way in a minute, and no which such a sudden lear, but it is a bright idea came there was exactly and the amfrassand. Alice went been with \n",
            "ne we cas, and he could be cats but Alice could no\n"
          ],
          "name": "stdout"
        }
      ]
    },
    {
      "cell_type": "code",
      "metadata": {
        "id": "YyRCfLe5YmL7",
        "outputId": "b0193f08-ff27-4eee-b5ff-760d8fba67e9",
        "colab": {
          "base_uri": "https://localhost:8080/"
        }
      },
      "source": [
        "input_str = \"The boy laughed at the fright he had caused. This time, the villagers left angrily. The third day, as the boy went up\\\n",
        " the small hill, he suddenly saw a wolf attacking his sheep. He cried as hard as he could, “Wolf! Wolf! Wolf!”, but not \\\n",
        " a single villager came to help him. The villagers thought that he was trying to fool them again and did not come to rescue \\\n",
        " him or his sheep.\"\n",
        "\n",
        "# Use first 100 characeters from given input_str as input and generate next 200 characters.\n",
        "pattern = []\n",
        "for char in input_str:\n",
        "  pattern.append(char_to_int[char])\n",
        "  if len(pattern) == 100:\n",
        "    break\n",
        "\n",
        "print(predict_next_100_chars(pattern,200))"
      ],
      "execution_count": null,
      "outputs": [
        {
          "output_type": "stream",
          "text": [
            "The boy laughed at the fright he had caused. This time, the villagers left angrily. The third day, and felt quite roline and with her both bring about in her last began and quite anxiously in a pressance was nothing out enough back again, cried Alice, a sippica was very much was.\n",
            "As it must be a Mar\n"
          ],
          "name": "stdout"
        }
      ]
    },
    {
      "cell_type": "markdown",
      "metadata": {
        "id": "XPrjxjoNsaQC"
      },
      "source": [
        "# Questions"
      ]
    },
    {
      "cell_type": "markdown",
      "metadata": {
        "id": "kW5_IlBeZAPq"
      },
      "source": [
        "**Question:** What are your observations based on the model(all) outputs on train data(in domain) vs unseen data(out of domain) ?"
      ]
    },
    {
      "cell_type": "markdown",
      "metadata": {
        "id": "YryzP1upZv5h"
      },
      "source": [
        "**Answer:**\n",
        "The words/characters generated by these models try to mimic the training data and is sometimes succesful in doing so. Thus better sentences were generated in case of training data in some instances when compared to test data. But even in training data, due to exposure bias they fail sometimes to generate grammatically correct sentences.  \n",
        "\n"
      ]
    },
    {
      "cell_type": "markdown",
      "metadata": {
        "id": "aBzCD0I0Z3uP"
      },
      "source": [
        "**Question:** What did you observe in the outputs of char LSTM model1 vs char LSTM model2 ?"
      ]
    },
    {
      "cell_type": "markdown",
      "metadata": {
        "id": "PUHxHmXZaNdn"
      },
      "source": [
        "**Answer:** The sequence of characters generated by the second model seem to be better than first model in general. The reasons for this seem to be the larger model size. For example: Model 1 generates the word: 'remaimed' which is not part of training data but words generated by Model 2 are all valid. Apart from this both of them generate sequence of words which don't follow grammar.\n",
        "\n",
        "\n",
        "\n"
      ]
    },
    {
      "cell_type": "markdown",
      "metadata": {
        "id": "rShXR9sYsc4D"
      },
      "source": [
        "# Bonus (Not to be graded)"
      ]
    },
    {
      "cell_type": "markdown",
      "metadata": {
        "id": "j2N-l6VSshhC"
      },
      "source": [
        "## Transformer based language model (Bert)\n",
        "You can run the below cells to predict the next word using pretrained BERT model. "
      ]
    },
    {
      "cell_type": "code",
      "metadata": {
        "id": "67c13Yx9sgiW"
      },
      "source": [
        "!pip install transformers"
      ],
      "execution_count": null,
      "outputs": []
    },
    {
      "cell_type": "code",
      "metadata": {
        "id": "5gF2nncdsqcx"
      },
      "source": [
        "import os\n",
        "import torch\n",
        "import string\n",
        "from transformers import BertTokenizer, BertForMaskedLM"
      ],
      "execution_count": null,
      "outputs": []
    },
    {
      "cell_type": "code",
      "metadata": {
        "id": "_tppcQN298Qs"
      },
      "source": [
        "def load_model(model_name):\n",
        "  try:\n",
        "    if model_name.lower() == \"bert\":\n",
        "      bert_tokenizer = BertTokenizer.from_pretrained('bert-base-uncased')\n",
        "      bert_model = BertForMaskedLM.from_pretrained('bert-base-uncased').eval()\n",
        "      return bert_tokenizer,bert_model\n",
        "  except Exception as e:\n",
        "    pass"
      ],
      "execution_count": null,
      "outputs": []
    },
    {
      "cell_type": "code",
      "metadata": {
        "id": "pOcQKOGG-H8F"
      },
      "source": [
        "def decode(tokenizer, pred_idx, top_clean):\n",
        "  ignore_tokens = string.punctuation + '[PAD]'\n",
        "  tokens = []\n",
        "  for w in pred_idx:\n",
        "    token = ''.join(tokenizer.decode(w).split())\n",
        "    if token not in ignore_tokens:\n",
        "      tokens.append(token.replace('##', ''))\n",
        "  return '\\n'.join(tokens[:top_clean])"
      ],
      "execution_count": null,
      "outputs": []
    },
    {
      "cell_type": "code",
      "metadata": {
        "id": "CQkjSmGv-TxO"
      },
      "source": [
        "def encode(tokenizer, text_sentence, add_special_tokens=True):\n",
        "  text_sentence = text_sentence.replace('<mask>', tokenizer.mask_token)\n",
        "  # if <mask> is the last token, append a \".\" so that models dont predict punctuation.\n",
        "  if tokenizer.mask_token == text_sentence.split()[-1]:\n",
        "    text_sentence += ' .'\n",
        "  input_ids = torch.tensor([tokenizer.encode(text_sentence, add_special_tokens=add_special_tokens)])\n",
        "  mask_idx = torch.where(input_ids == tokenizer.mask_token_id)[1].tolist()[0]\n",
        "  return input_ids, mask_idx"
      ],
      "execution_count": null,
      "outputs": []
    },
    {
      "cell_type": "code",
      "metadata": {
        "id": "fFWOHB5n-ZQh"
      },
      "source": [
        "def get_all_predictions(text_sentence, top_clean=5):\n",
        "  input_ids, mask_idx = encode(bert_tokenizer, text_sentence)\n",
        "  with torch.no_grad():\n",
        "    predict = bert_model(input_ids)[0]\n",
        "    print(predict.shape)\n",
        "    \n",
        "    bert = decode(bert_tokenizer, predict[0, mask_idx, :].topk(top_k).indices.tolist(), top_clean)\n",
        "  return {'bert': bert}"
      ],
      "execution_count": null,
      "outputs": []
    },
    {
      "cell_type": "code",
      "metadata": {
        "id": "4lQHVc0l-igk"
      },
      "source": [
        "def get_prediction_eos(input_text):\n",
        "  try:\n",
        "    input_text += ' <mask>'\n",
        "    res = get_all_predictions(input_text, top_clean=int(top_k))\n",
        "    return res\n",
        "  except Exception as error:\n",
        "    pass"
      ],
      "execution_count": null,
      "outputs": []
    },
    {
      "cell_type": "code",
      "metadata": {
        "id": "XQZ-swMD9lyU"
      },
      "source": [
        "# Below code predicts the next top_k words. You can modify this to get next n words using top_k=1 and greedy decoding it. \n",
        "top_k= 3\n",
        "print('Predict next ', top_k, ' words')\n",
        "model_name = 'BERT'\n",
        "bert_tokenizer, bert_model  = load_model(model_name) \n",
        "input_text = \"\" ### GIVE YOUR INPUT STRING HERE\n",
        "res = get_prediction_eos(input_text)\n",
        "answer = []\n",
        "print(res['bert'].split(\"\\n\"))\n",
        "for i in res['bert'].split(\"\\n\"):\n",
        "  answer.append(i)\n",
        "  answer_as_string = \"    \".join(answer)\n",
        "\n",
        "print(answer_as_string)"
      ],
      "execution_count": null,
      "outputs": []
    }
  ]
}