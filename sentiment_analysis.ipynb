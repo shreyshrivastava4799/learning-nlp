{
  "nbformat": 4,
  "nbformat_minor": 0,
  "metadata": {
    "colab": {
      "name": "Shrey_Shrivastava_17CS30034_Assignment_3.ipynb",
      "provenance": [],
      "collapsed_sections": []
    },
    "kernelspec": {
      "name": "python3",
      "display_name": "Python 3"
    }
  },
  "cells": [
    {
      "cell_type": "markdown",
      "metadata": {
        "id": "zyJ25uz0kSaw"
      },
      "source": [
        "# Assignment 3 on Natural Language Processing\n",
        "\n",
        "## Date : 30th Sept, 2020\n",
        "\n",
        "### Instructor : Prof. Sudeshna Sarkar\n",
        "\n",
        "### Teaching Assistants : Alapan Kuila, Aniruddha Roy, Anusha Potnuru, Uppada Vishnu"
      ]
    },
    {
      "cell_type": "markdown",
      "metadata": {
        "id": "Ao1nhg9RknmF"
      },
      "source": [
        "The central idea of this assignment is to use Naive Bayes classifier and LSTM based classifier and compare the models by accuracy on IMDB dataset.\n",
        "\n"
      ]
    },
    {
      "cell_type": "markdown",
      "metadata": {
        "id": "ONM5Q4SCe9Mr"
      },
      "source": [
        "Please submit with outputs. "
      ]
    },
    {
      "cell_type": "code",
      "metadata": {
        "id": "ElRkQElWUMjG"
      },
      "source": [
        "import re\n",
        "import pandas as pd\n",
        "import numpy as np\n",
        "from sklearn.preprocessing import LabelEncoder\n",
        "from sklearn.model_selection import train_test_split\n",
        "from keras.preprocessing.text import Tokenizer\n",
        "from keras.preprocessing.sequence import pad_sequences\n",
        "import keras\n",
        "from sklearn.metrics import classification_report"
      ],
      "execution_count": 83,
      "outputs": []
    },
    {
      "cell_type": "code",
      "metadata": {
        "id": "fhHRim2AUm4z",
        "outputId": "24458615-fbe8-4816-b069-be62cd290489",
        "colab": {
          "base_uri": "https://localhost:8080/",
          "height": 116
        }
      },
      "source": [
        "#Load the IMDB dataset. You can load it using pandas as dataframe\n",
        "data = pd.read_csv(\"IMDB Dataset.csv\")\n",
        "print(data.head())"
      ],
      "execution_count": 85,
      "outputs": [
        {
          "output_type": "stream",
          "text": [
            "                                              review sentiment\n",
            "0  One of the other reviewers has mentioned that ...  positive\n",
            "1  A wonderful little production. <br /><br />The...  positive\n",
            "2  I thought this was a wonderful way to spend ti...  positive\n",
            "3  Basically there's a family where a little boy ...  negative\n",
            "4  Petter Mattei's \"Love in the Time of Money\" is...  positive\n"
          ],
          "name": "stdout"
        }
      ]
    },
    {
      "cell_type": "markdown",
      "metadata": {
        "id": "lK_Hn2f6VMP7"
      },
      "source": [
        "# Preprocessing\n",
        "PrePrecessing that needs to be done on lower cased corpus\n",
        "\n",
        "1. Remove html tags\n",
        "2. Remove URLS\n",
        "3. Remove non alphanumeric character\n",
        "4. Remove Stopwords\n",
        "5. Perform stemming and lemmatization\n",
        "\n",
        "You can use regex from re. "
      ]
    },
    {
      "cell_type": "code",
      "metadata": {
        "id": "5B5lHZPsVOXv",
        "outputId": "3de48d46-19b8-4701-e3bf-420a76594c8a",
        "colab": {
          "base_uri": "https://localhost:8080/",
          "height": 116
        }
      },
      "source": [
        "#stopwords = code for downloading stop words through nltk\n",
        "import nltk\n",
        "\n",
        "nltk.download('punkt')\n",
        "from nltk.tokenize import word_tokenize, sent_tokenize\n",
        "\n",
        "nltk.download('stopwords')\n",
        "from nltk.corpus import stopwords \n",
        "stopword = stopwords.words('english')\n",
        "\n",
        "from nltk.stem import PorterStemmer\n",
        "porter_stemmer = PorterStemmer()\n",
        "\n",
        "from nltk.stem import WordNetLemmatizer\n",
        "nltk.download('wordnet') \n",
        "lemmatizer = WordNetLemmatizer()\n",
        "\n",
        "from bs4 import BeautifulSoup \n",
        "\n",
        "for i, row in data.iterrows():\n",
        "\n",
        "    sentence = row['review']\n",
        "    \n",
        "    # remove html tags\n",
        "    sentence = BeautifulSoup(sentence, 'lxml').text\n",
        "\n",
        "    # remove urls\n",
        "    sentence = re.sub('https\\S+', '', sentence)\n",
        "    \n",
        "    # removing punctuations : how? -> how \n",
        "    sentence = re.sub(r'[^\\w\\s]', ' ', sentence)\n",
        "\n",
        "    tokens = word_tokenize(sentence, language='english')\n",
        "    # convert to lower case and remove non alphanumeric words\n",
        "    tokens = [token.lower() for token in tokens if token.isalnum() and token not in stopword] \n",
        "\n",
        "    # perform stemming and lemmatization\n",
        "    tokens = [porter_stemmer.stem(lemmatizer.lemmatize(token)) for token in tokens]\n",
        "\n",
        "    data.at[i, 'review'] = \" \".join(tokens)\n"
      ],
      "execution_count": 86,
      "outputs": [
        {
          "output_type": "stream",
          "text": [
            "[nltk_data] Downloading package punkt to /root/nltk_data...\n",
            "[nltk_data]   Package punkt is already up-to-date!\n",
            "[nltk_data] Downloading package stopwords to /root/nltk_data...\n",
            "[nltk_data]   Package stopwords is already up-to-date!\n",
            "[nltk_data] Downloading package wordnet to /root/nltk_data...\n",
            "[nltk_data]   Package wordnet is already up-to-date!\n"
          ],
          "name": "stdout"
        }
      ]
    },
    {
      "cell_type": "code",
      "metadata": {
        "id": "DyaSkfcvYGXk",
        "outputId": "a2013d4b-5bee-4106-9681-6ef058c3c8e5",
        "colab": {
          "base_uri": "https://localhost:8080/",
          "height": 66
        }
      },
      "source": [
        "# Statistics of data like avg length of sentence ,\n",
        "word_count = 0\n",
        "sent_count = 0\n",
        "for sentence in data['review']:\n",
        "  words = sentence.split()\n",
        "  word_count = word_count + len(words)\n",
        "  sent_count = sent_count + 1\n",
        "print(f'The average length of sentence is : {word_count/sent_count}')\n",
        "\n",
        "\n",
        "# Proposition of data w.r.t class labels\n",
        "for clas in data['sentiment'].value_counts().keys():\n",
        "  freq = data['sentiment'].value_counts()[clas]\n",
        "  print(f'Class {clas} composes {freq} samples out of {len(data)} in dataset.')\n"
      ],
      "execution_count": 127,
      "outputs": [
        {
          "output_type": "stream",
          "text": [
            "The average length of sentence is : 131.11266\n",
            "Class negative composes 25000 samples out of 50000 in dataset.\n",
            "Class positive composes 25000 samples out of 50000 in dataset.\n"
          ],
          "name": "stdout"
        }
      ]
    },
    {
      "cell_type": "markdown",
      "metadata": {
        "id": "_FkJ-e2pUwun"
      },
      "source": [
        "# Naive Bayes classifier"
      ]
    },
    {
      "cell_type": "code",
      "metadata": {
        "id": "eVq-mN28U_J4"
      },
      "source": [
        "# get reviews column from df\n",
        "reviews = data['review']\n",
        "\n",
        "# get labels column from df\n",
        "labels = data['sentiment']"
      ],
      "execution_count": 128,
      "outputs": []
    },
    {
      "cell_type": "code",
      "metadata": {
        "id": "Ljo5NquhXTXr"
      },
      "source": [
        "# Use label encoder to encode labels. Convert to 0/1\n",
        "encoder = LabelEncoder()\n",
        "encoded_labels = encoder.fit_transform(labels)\n",
        "\n",
        "# print(encoded_labels)"
      ],
      "execution_count": 129,
      "outputs": []
    },
    {
      "cell_type": "code",
      "metadata": {
        "id": "wzG-C_EVWWET"
      },
      "source": [
        "# Split the data into train and test (80% - 20%). \n",
        "# Use stratify in train_test_split so that both train and test have similar ratio of positive and negative samples.\n",
        "from sklearn.model_selection import StratifiedShuffleSplit\n",
        "for train_index, test_index in StratifiedShuffleSplit(n_splits=1, test_size=0.2, random_state=0).split(reviews, encoded_labels):\n",
        "  train_sentences, test_sentences, train_labels, test_labels = reviews[train_index], reviews[test_index], encoded_labels[train_index], encoded_labels[test_index]"
      ],
      "execution_count": 130,
      "outputs": []
    },
    {
      "cell_type": "markdown",
      "metadata": {
        "id": "Bz1YdsSkiWCX"
      },
      "source": [
        "Here there are two approaches possible for building vocabulary for the naive Bayes.\n",
        "1. Take the whole data (train + test) to build the vocab. In this way while testing there is no word which will be out of vocabulary.\n",
        "2. Take the train data to build vocab. In this case, some words from the test set may not be in vocab and hence one needs to perform smoothing so that one the probability term is not zero.\n",
        " \n",
        "You are supposed to go by the 2nd approach.\n",
        " \n",
        "Also building vocab by taking all words in the train set is memory intensive, hence you are required to build vocab by choosing the top 2000 - 3000 frequent words in the training corpus.\n",
        "\n",
        "> $ P(x_i | w_j) = \\frac{ N_{x_i,w_j}\\, +\\, \\alpha }{ N_{w_j}\\, +\\, \\alpha*d} $\n",
        "\n",
        "\n",
        "$N_{x_i,w_j}$ : Number of times feature $x_i$ appears in samples of class $w_j$\n",
        "\n",
        "$N_{w_j}$ : Total count of features in class $w_j$\n",
        "\n",
        "$\\alpha$ : Parameter for additive smoothing. Here consider $\\alpha$ = 1\n",
        "\n",
        "$d$ : Dimentionality of the feature vector  $x = [x_1,x_2,...,x_d]$. In our case its the vocab size.\n",
        "\n",
        "\n",
        "\n",
        "\n"
      ]
    },
    {
      "cell_type": "code",
      "metadata": {
        "id": "1cllNfGmUr77"
      },
      "source": [
        "# Use Count vectorizer to get frequency of the words\n",
        "from sklearn.feature_extraction.text import CountVectorizer\n",
        "\n",
        "\n",
        "# max_features parameter : If not None, build a vocabulary that only consider the top max_features ordered by term frequency across the corpus.\n",
        "vec_train_pos = CountVectorizer(max_features = 3000)\n",
        "X_train_pos = vec_train_pos.fit_transform(train_sentences[train_labels == 1].tolist())\n",
        "\n",
        "vec_train_neg = CountVectorizer(max_features = 3000)\n",
        "X_train_neg = vec_train_neg.fit_transform(train_sentences[train_labels == 0].tolist())"
      ],
      "execution_count": 131,
      "outputs": []
    },
    {
      "cell_type": "code",
      "metadata": {
        "id": "qzRvPjWaWUnm"
      },
      "source": [
        "# Use laplace smoothing for words in test set not present in vocab of train set\n",
        "train_word_list_pos = vec_train_pos.get_feature_names()\n",
        "train_count_list_pos = X_train_pos.toarray().sum(axis=0).tolist()\n",
        "\n",
        "train_word_list_neg = vec_train_neg.get_feature_names()\n",
        "train_count_list_neg = X_train_neg.toarray().sum(axis=0).tolist()\n",
        "\n",
        "pos_word_prob = dict(zip(train_word_list_pos, train_count_list_pos))\n",
        "neg_word_prob = dict(zip(train_word_list_neg, train_count_list_neg))"
      ],
      "execution_count": 132,
      "outputs": []
    },
    {
      "cell_type": "code",
      "metadata": {
        "id": "iE7pxWIYW1z0"
      },
      "source": [
        "import math\n",
        "# Build the model. Don't use the model from sklearn\n",
        "def modelNB(sentence):\n",
        "  pos_prob = 0\n",
        "  neg_prob = 0\n",
        "  sum_pos_word = sum(list(pos_word_prob.values()))\n",
        "  sum_neg_word = sum(list(neg_word_prob.values()))\n",
        "\n",
        "  # print(type(sentence))\n",
        "  for word in sentence.split():\n",
        "    # print(word)\n",
        "    if word in pos_word_prob.keys():\n",
        "      pos_prob += math.log((pos_word_prob[word]+1)/(sum_pos_word+len(pos_word_prob)))\n",
        "    else : \n",
        "      pos_prob += math.log(1/(sum_pos_word+len(pos_word_prob)))\n",
        "    \n",
        "    if word in neg_word_prob.keys():\n",
        "      neg_prob += math.log((neg_word_prob[word]+1)/(sum_neg_word+len(neg_word_prob)))\n",
        "    else : \n",
        "      neg_prob += math.log(1/(sum_neg_word+len(neg_word_prob)))\n",
        "\n",
        "\n",
        "  if pos_prob > neg_prob:\n",
        "    return 1\n",
        "  else:\n",
        "    return 0 "
      ],
      "execution_count": 141,
      "outputs": []
    },
    {
      "cell_type": "code",
      "metadata": {
        "id": "AtQSl1zvW4DD",
        "outputId": "20559e19-08b7-4fc8-db37-1db4df93cf90",
        "colab": {
          "base_uri": "https://localhost:8080/",
          "height": 33
        }
      },
      "source": [
        "# Test the model on test set and report Accuracy\n",
        "correct = 0\n",
        "total = 0\n",
        "for i, sentence in enumerate(test_sentences):\n",
        "\n",
        "  if test_labels[i] == modelNB(sentence):\n",
        "    correct += 1\n",
        "  total += 1\n",
        "\n",
        "print(f'Accuracy : {(correct/total)*100}')"
      ],
      "execution_count": 142,
      "outputs": [
        {
          "output_type": "stream",
          "text": [
            "Accuracy : 81.01\n"
          ],
          "name": "stdout"
        }
      ]
    },
    {
      "cell_type": "markdown",
      "metadata": {
        "id": "WlNql0acU7sa"
      },
      "source": [
        "# *LSTM* based Classifier\n",
        "\n",
        "Use the above train and test splits."
      ]
    },
    {
      "cell_type": "code",
      "metadata": {
        "id": "SkqnvbUOXoN0"
      },
      "source": [
        "# Hyperparameters of the model\n",
        "vocab_size = 3000\n",
        "oov_tok = '<OOK>'\n",
        "embedding_dim = 100\n",
        "max_length = 131 # based on avg sentence length\n",
        "padding_type='post'\n",
        "trunc_type='post'"
      ],
      "execution_count": 160,
      "outputs": []
    },
    {
      "cell_type": "code",
      "metadata": {
        "id": "UeycEg9nZAOF"
      },
      "source": [
        "# tokenize sentences\n",
        "tokenizer = Tokenizer(num_words = vocab_size, oov_token=oov_tok)\n",
        "tokenizer.fit_on_texts(train_sentences)\n",
        "word_index = tokenizer.word_index\n",
        "\n",
        "# convert train dataset to sequence and pad sequences\n",
        "train_sequences = tokenizer.texts_to_sequences(train_sentences)\n",
        "train_padded = pad_sequences(train_sequences, padding='post', maxlen=max_length)\n",
        "\n",
        "# convert Test dataset to sequence and pad sequences\n",
        "test_sequences = tokenizer.texts_to_sequences(test_sentences)\n",
        "test_padded = pad_sequences(test_sequences, padding='post', maxlen=max_length)"
      ],
      "execution_count": 161,
      "outputs": []
    },
    {
      "cell_type": "code",
      "metadata": {
        "id": "Mtw3w895ZP39",
        "outputId": "462d7f37-5de3-418d-d370-d2acfb96ad81",
        "colab": {
          "base_uri": "https://localhost:8080/",
          "height": 283
        }
      },
      "source": [
        "# model initialization\n",
        "model = keras.Sequential([\n",
        "    keras.layers.Embedding(vocab_size, embedding_dim, input_length=max_length),\n",
        "    keras.layers.Bidirectional(keras.layers.LSTM(64)),\n",
        "    keras.layers.Dense(24, activation='relu'),\n",
        "    keras.layers.Dense(1, activation='sigmoid')\n",
        "])\n",
        "\n",
        "# compile model\n",
        "model.compile(loss='binary_crossentropy',\n",
        "              optimizer='adam',\n",
        "              metrics=['accuracy'])\n",
        "\n",
        "# model summary\n",
        "model.summary()"
      ],
      "execution_count": 162,
      "outputs": [
        {
          "output_type": "stream",
          "text": [
            "Model: \"sequential_3\"\n",
            "_________________________________________________________________\n",
            "Layer (type)                 Output Shape              Param #   \n",
            "=================================================================\n",
            "embedding_3 (Embedding)      (None, 131, 100)          300000    \n",
            "_________________________________________________________________\n",
            "bidirectional_3 (Bidirection (None, 128)               84480     \n",
            "_________________________________________________________________\n",
            "dense_6 (Dense)              (None, 24)                3096      \n",
            "_________________________________________________________________\n",
            "dense_7 (Dense)              (None, 1)                 25        \n",
            "=================================================================\n",
            "Total params: 387,601\n",
            "Trainable params: 387,601\n",
            "Non-trainable params: 0\n",
            "_________________________________________________________________\n"
          ],
          "name": "stdout"
        }
      ]
    },
    {
      "cell_type": "code",
      "metadata": {
        "id": "skmaDJMnZTzc",
        "outputId": "2aacf391-240d-4b45-aa75-bca3addf87f6",
        "colab": {
          "base_uri": "https://localhost:8080/",
          "height": 183
        }
      },
      "source": [
        "num_epochs = 5\n",
        "history = model.fit(train_padded, train_labels, \n",
        "                    epochs=num_epochs, verbose=1, \n",
        "                    validation_split=0.1)"
      ],
      "execution_count": 163,
      "outputs": [
        {
          "output_type": "stream",
          "text": [
            "Epoch 1/5\n",
            "1125/1125 [==============================] - 127s 113ms/step - loss: 0.3695 - accuracy: 0.8342 - val_loss: 0.3051 - val_accuracy: 0.8735\n",
            "Epoch 2/5\n",
            "1125/1125 [==============================] - 125s 111ms/step - loss: 0.2648 - accuracy: 0.8924 - val_loss: 0.3143 - val_accuracy: 0.8687\n",
            "Epoch 3/5\n",
            "1125/1125 [==============================] - 128s 113ms/step - loss: 0.2253 - accuracy: 0.9108 - val_loss: 0.3173 - val_accuracy: 0.8802\n",
            "Epoch 4/5\n",
            "1125/1125 [==============================] - 126s 112ms/step - loss: 0.1919 - accuracy: 0.9262 - val_loss: 0.3352 - val_accuracy: 0.8690\n",
            "Epoch 5/5\n",
            "1125/1125 [==============================] - 127s 113ms/step - loss: 0.1567 - accuracy: 0.9407 - val_loss: 0.3584 - val_accuracy: 0.8715\n"
          ],
          "name": "stdout"
        }
      ]
    },
    {
      "cell_type": "code",
      "metadata": {
        "id": "TjEhWEr5Zq7M",
        "outputId": "59b5d16f-c8dc-47b0-8c4f-c7bbc10f2803",
        "colab": {
          "base_uri": "https://localhost:8080/",
          "height": 166
        }
      },
      "source": [
        "# Calculate accuracy on Test data\n",
        "# Get probabilities\n",
        "prediction = model.predict(test_padded)\n",
        "\n",
        "# Get labels based on probability 1 if p>= 0.5 else 0\n",
        "pred_labels = (prediction>=0.5).astype(int)\n",
        "\n",
        "# Accuracy : one can use classification_report from sklearn\n",
        "from sklearn.metrics import classification_report\n",
        "target_names = ['positive', 'negative']\n",
        "print(classification_report(test_labels, pred_labels, target_names=target_names))"
      ],
      "execution_count": 164,
      "outputs": [
        {
          "output_type": "stream",
          "text": [
            "              precision    recall  f1-score   support\n",
            "\n",
            "    positive       0.87      0.87      0.87      5000\n",
            "    negative       0.87      0.87      0.87      5000\n",
            "\n",
            "    accuracy                           0.87     10000\n",
            "   macro avg       0.87      0.87      0.87     10000\n",
            "weighted avg       0.87      0.87      0.87     10000\n",
            "\n"
          ],
          "name": "stdout"
        }
      ]
    },
    {
      "cell_type": "markdown",
      "metadata": {
        "id": "TIICV-ySOYL0"
      },
      "source": [
        "## Get predictions for random examples"
      ]
    },
    {
      "cell_type": "code",
      "metadata": {
        "id": "m2RmfNL3OYL0",
        "outputId": "c7c61fc9-7fa6-402a-c340-cbf4077f7f48",
        "colab": {
          "base_uri": "https://localhost:8080/",
          "height": 116
        }
      },
      "source": [
        "# reviews on which we need to predict\n",
        "sentence = [\"The movie was very touching and heart whelming\", \n",
        "            \"I have never seen a terrible movie like this\", \n",
        "            \"the movie plot is terrible but it had good acting\"]\n",
        "\n",
        "# convert to a sequence\n",
        "sequences = tokenizer.texts_to_sequences(sentence)\n",
        "\n",
        "# pad the sequence\n",
        "padded = pad_sequences(sequences, padding='post', maxlen=max_length)\n",
        "\n",
        "# Get probabilities\n",
        "pred = model.predict(padded)\n",
        "print(pred)\n",
        "\n",
        "# Get labels based on probability 1 if p>= 0.5 else 0\n",
        "pred_labels = (pred>=0.5).astype(int)\n",
        "\n",
        "# 0 means negative\n",
        "print(f'Predicted classes of sentences are : {pred_labels}')"
      ],
      "execution_count": 168,
      "outputs": [
        {
          "output_type": "stream",
          "text": [
            "[[0.49367458]\n",
            " [0.4395563 ]\n",
            " [0.24092066]]\n",
            "Predicted classes of sentences are : [[0]\n",
            " [0]\n",
            " [0]]\n"
          ],
          "name": "stdout"
        }
      ]
    },
    {
      "cell_type": "code",
      "metadata": {
        "id": "Do6H961jWeqN"
      },
      "source": [
        ""
      ],
      "execution_count": null,
      "outputs": []
    }
  ]
}